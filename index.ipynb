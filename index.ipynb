{
 "cells": [
  {
   "cell_type": "markdown",
   "metadata": {},
   "source": [
    "<a href=\"https://pandas.pydata.org/\"><img src=https://pandas.pydata.org/static/img/pandas.svg width=\"200\" alt=\"pandas logo\"></a>\n",
    "\n",
    "# Lernmodul zum Datenimport und zur Datenvorbereitung mit pandas\n",
    "\n",
    "Bei Pandas handelt es sich um eine der beliebtesten Python Library zur Datenanalyse. Diese stellt verschiedene Funktionalitäten zum Datenimport, zur Datenanalyse und zur Datenmanipulation zur Verfügung. Mithilfe dieses Lernmoduls soll der Umgang mit Pandas erlernt und geübt werden. Dabei wird der Fokus auf den Datenimport und die Datenvorbereitung gelegt, indem die dafür zur Verfügung stehenden grundlegenden Funktionalitäten erläutert werden. Es wird empfohlen die Aufgaben zwischen den einzelnen Inhalten zu bearbeiten, nachdem die Erläuterungen gelesen wurden. Am Ende des Lernmoduls kann das gesammelte Wissen in einem kleinen Projekt nochmal vertieft werden.\n",
    "\n",
    "**Übersicht über die Lerninhalte:**\n",
    "\n",
    "- Grundlagen zu Pandas\n",
    "- Daten importieren und extrahieren\n",
    "- Daten analysieren\n",
    "- Daten bereinigen\n",
    "- Daten transformieren\n",
    "\n",
    "**Lernziele:**\n",
    "\n",
    "Die Teilnehmer erwerben Grundkenntnisse im Umgang mit der Library Pandas. Sie kennen die grundlegenden Datenstrukturen in Pandas und können Daten aus diversen Quellen (z. B. Datenbank, csv-Datei) importieren. Zudem sind sie in der Lage die Daten zu untersuchen und für die weitere Verarbeitung in z. B. ML Modellen vorzubereiten. Dafür beherrschen sie diverse Methoden zur Bereinigung und zur Transformation der Daten, die von Pandas zur Verfügung gestellt werden.\n",
    "\n",
    "**Voraussetzungen:**\n",
    "- Grundlegende Python Kenntnisse\n",
    "- Umgang mit Jupyter Notebooks\n"
   ]
  },
  {
   "cell_type": "markdown",
   "metadata": {},
   "source": [
    "SETUP"
   ]
  },
  {
   "cell_type": "code",
   "execution_count": 8,
   "metadata": {},
   "outputs": [],
   "source": [
    "from taskreview.learningModule import LearningModule\n",
    "\n",
    "# Lernmodul-Instanz erstellen\n",
    "pandas_lm = LearningModule('data/lernmodul_pandas.db')"
   ]
  },
  {
   "cell_type": "markdown",
   "metadata": {},
   "source": [
    "<div style=\"background-color: #150458 ; padding: 5px; \"></div>\n",
    "\n",
    "## **1** Grundlagen zu Pandas"
   ]
  },
  {
   "cell_type": "markdown",
   "metadata": {},
   "source": [
    "### Pandas installieren"
   ]
  },
  {
   "cell_type": "markdown",
   "metadata": {},
   "source": [
    "Pandas kann entweder mit Anaconda oder Miniconda installiert werden oder mithilfe von pip:\n",
    "\n",
    "- Anaconda/ Miniconda: conda install Pandas\n",
    "\n",
    "- pip: pip install pandas\n"
   ]
  },
  {
   "cell_type": "markdown",
   "metadata": {},
   "source": [
    "### **1.1** Pandas importieren"
   ]
  },
  {
   "cell_type": "markdown",
   "metadata": {},
   "source": [
    "Nachdem pandas installiert wurde, kann es in einer Datei importiert werden. Der Import findet mithilfe folgender Codezeile statt:"
   ]
  },
  {
   "cell_type": "code",
   "execution_count": 11,
   "metadata": {},
   "outputs": [],
   "source": [
    "import pandas as pd"
   ]
  },
  {
   "cell_type": "markdown",
   "metadata": {},
   "source": [
    "### **1.2** Erläuterungen der Datenstrukturen"
   ]
  },
  {
   "cell_type": "markdown",
   "metadata": {},
   "source": [
    "Es gibt zwei grundlegende Datenobjekte in pandas: den DataFrame und die Series. Im Folgenden werden diese beiden kurz vorgestellt."
   ]
  },
  {
   "cell_type": "markdown",
   "metadata": {},
   "source": [
    "**DataFrame**"
   ]
  },
  {
   "cell_type": "markdown",
   "metadata": {},
   "source": [
    "Bei einem DataFrame handelt es sich um eine Tabelle mit verschiedenen Einträgen. Ein DataFrame besteht aus drei Bestandteilen: Daten, Spalten und Zeilen. Die Daten können von einem beliebigen Datentyp sein (zum Beispiel Integer, String, Date, Float, Boolean, usw.) und werden mithilfe der Spalten und Zeilen gegliedert. \n",
    "\n",
    "In der Praxis werden DataFrames erzeugt, indem Daten aus externen Speichern eingelesen werden, zu diesen Speichermedien gehören: Datenbanken, csv Dateien und Excel Dateien (siehe Abschnitt *2 Datenimport und -export*). DataFrames können allerdings auch aus zum Beispiel Listen oder Dictonaries erzeugt werden. Dafür wird der Konstruktur `pd.DataFrame()` genutzt. Beispielhaft wird dies im Folgenden mithilfe eines Dictonary von Listen gezeigt. Dabei bilden die Keys des Dictionary die Spaltennamen und die Values beinhalten eine Liste mit Einträgen."
   ]
  },
  {
   "cell_type": "code",
   "execution_count": 12,
   "metadata": {},
   "outputs": [
    {
     "data": {
      "text/html": [
       "<div>\n",
       "<style scoped>\n",
       "    .dataframe tbody tr th:only-of-type {\n",
       "        vertical-align: middle;\n",
       "    }\n",
       "\n",
       "    .dataframe tbody tr th {\n",
       "        vertical-align: top;\n",
       "    }\n",
       "\n",
       "    .dataframe thead th {\n",
       "        text-align: right;\n",
       "    }\n",
       "</style>\n",
       "<table border=\"1\" class=\"dataframe\">\n",
       "  <thead>\n",
       "    <tr style=\"text-align: right;\">\n",
       "      <th></th>\n",
       "      <th>Vorname</th>\n",
       "      <th>Nachname</th>\n",
       "      <th>Alter</th>\n",
       "      <th>Lieblingsfilm</th>\n",
       "    </tr>\n",
       "  </thead>\n",
       "  <tbody>\n",
       "    <tr>\n",
       "      <th>0</th>\n",
       "      <td>Max</td>\n",
       "      <td>Mustermann</td>\n",
       "      <td>20</td>\n",
       "      <td>Star Wars</td>\n",
       "    </tr>\n",
       "    <tr>\n",
       "      <th>1</th>\n",
       "      <td>Lisa</td>\n",
       "      <td>Musterfrau</td>\n",
       "      <td>23</td>\n",
       "      <td>Titanic</td>\n",
       "    </tr>\n",
       "  </tbody>\n",
       "</table>\n",
       "</div>"
      ],
      "text/plain": [
       "  Vorname    Nachname  Alter Lieblingsfilm\n",
       "0     Max  Mustermann     20     Star Wars\n",
       "1    Lisa  Musterfrau     23       Titanic"
      ]
     },
     "execution_count": 12,
     "metadata": {},
     "output_type": "execute_result"
    }
   ],
   "source": [
    "data = {'Vorname': ['Max', 'Lisa'], 'Nachname': ['Mustermann', 'Musterfrau'], 'Alter': [20, 23], 'Lieblingsfilm': ['Star Wars', 'Titanic']}\n",
    " \n",
    "# Erzeugen eines DataFrames mithilfe des Konstruktors\n",
    "df = pd.DataFrame(data)\n",
    "df"
   ]
  },
  {
   "cell_type": "markdown",
   "metadata": {},
   "source": [
    "In manchen Fällen ist es gewünscht anstatt einer aufsteigenden Nummer als Zeilenbeschriftungen eigene Beschriftungen festzulegen. Die Liste der Zeilenbeschriftungen wird Index genannt. Mithilfe des `index` Parameters des Konstruktors können eigene Beschriftungen übergeben werden."
   ]
  },
  {
   "cell_type": "code",
   "execution_count": 13,
   "metadata": {},
   "outputs": [
    {
     "data": {
      "text/html": [
       "<div>\n",
       "<style scoped>\n",
       "    .dataframe tbody tr th:only-of-type {\n",
       "        vertical-align: middle;\n",
       "    }\n",
       "\n",
       "    .dataframe tbody tr th {\n",
       "        vertical-align: top;\n",
       "    }\n",
       "\n",
       "    .dataframe thead th {\n",
       "        text-align: right;\n",
       "    }\n",
       "</style>\n",
       "<table border=\"1\" class=\"dataframe\">\n",
       "  <thead>\n",
       "    <tr style=\"text-align: right;\">\n",
       "      <th></th>\n",
       "      <th>Vorname</th>\n",
       "      <th>Nachname</th>\n",
       "      <th>Alter</th>\n",
       "      <th>Lieblingsfilm</th>\n",
       "    </tr>\n",
       "  </thead>\n",
       "  <tbody>\n",
       "    <tr>\n",
       "      <th>Person 1</th>\n",
       "      <td>Max</td>\n",
       "      <td>Mustermann</td>\n",
       "      <td>20</td>\n",
       "      <td>Star Wars</td>\n",
       "    </tr>\n",
       "    <tr>\n",
       "      <th>Person 2</th>\n",
       "      <td>Lisa</td>\n",
       "      <td>Musterfrau</td>\n",
       "      <td>23</td>\n",
       "      <td>Titanic</td>\n",
       "    </tr>\n",
       "  </tbody>\n",
       "</table>\n",
       "</div>"
      ],
      "text/plain": [
       "         Vorname    Nachname  Alter Lieblingsfilm\n",
       "Person 1     Max  Mustermann     20     Star Wars\n",
       "Person 2    Lisa  Musterfrau     23       Titanic"
      ]
     },
     "execution_count": 13,
     "metadata": {},
     "output_type": "execute_result"
    }
   ],
   "source": [
    "df = pd.DataFrame(data, index=['Person 1', 'Person 2'])\n",
    "df"
   ]
  },
  {
   "cell_type": "markdown",
   "metadata": {},
   "source": [
    "**Series**"
   ]
  },
  {
   "cell_type": "markdown",
   "metadata": {},
   "source": [
    "Eine Series ist ein eindimensionaler gelabelter Array, das jegliche Datentypen beinhalten kann. Sie kann als eine einzelnen Spalte einer Tabelle angesehen werden. Auch hier können Zeilenbeschriftungen mithilfe des index Parameters hinzugefügt werden. Eine Series hat allerdings keinen Spaltennamen, sondern einen Gesamtnamen. Dieser kann über den Parameter `name` festgelegt werden. Zur Erzeugung einer Series kannn zum Beispiel eine Liste oder ein Dictonary genutzt werden. Im Folgenden wird dies beispielhaft mit einer Liste demonstriert."
   ]
  },
  {
   "cell_type": "code",
   "execution_count": 14,
   "metadata": {},
   "outputs": [
    {
     "name": "stdout",
     "output_type": "stream",
     "text": [
      "Person 1       Max\n",
      "Person 2      Lisa\n",
      "Person 3    Sandra\n",
      "Person 4    Daniel\n",
      "Name: Vorname, dtype: object\n"
     ]
    }
   ],
   "source": [
    "# Liste mit Daten\n",
    "list = ['Max', 'Lisa', 'Sandra', 'Daniel']\n",
    "# Zeilenbeschriftungen\n",
    "index = ['Person 1', 'Person 2', 'Person 3', 'Person 4']\n",
    "  \n",
    "# Series aus einer Liste erzeugen\n",
    "ser = pd.Series(list, index, name='Vorname')\n",
    "print(ser)"
   ]
  },
  {
   "cell_type": "markdown",
   "metadata": {},
   "source": [
    "<div style=\"background-color: #150458 ; padding: 5px; \"></div>\n",
    "\n",
    "## **2** Datenimport und -export"
   ]
  },
  {
   "cell_type": "markdown",
   "metadata": {},
   "source": [
    "In den meisten Fällen werden Daten nicht händisch erzeugt, wie im vorherigen Abschnitt. Die meisten Zeit werden Daten genutzt, die bereits existieren. Diese Daten müssen dafür allerdings zunächst importiert werden. Im folgenden Abschnitt wird der Datenimport aus einer Datenbank oder einer csv Datei näher betrachtet. Aus den importierten Daten soll ein DataFrame erzeugt werden, um die Daten mit pandas für weitere Schritte vorbereiten zu können. Nachdem diese Vorbereitung stattgefunden hat sollen die Daten zwischengespeichert werden. Dafür wird der Datenexport genauer unter die Lupe genommen."
   ]
  },
  {
   "cell_type": "markdown",
   "metadata": {},
   "source": [
    "### **2.1** Importieren von Daten aus einer Datenbank"
   ]
  },
  {
   "cell_type": "markdown",
   "metadata": {},
   "source": [
    "Zum Herstellung einer Datenbankverbindung muss ein entsprechendes Package passend zu der Datenbank installiert und importiert werden.\n",
    "Im Folgenden wird dies am Beispiel einer SQLite Datenbank gezeigt. Um die Verbindung herzustellen, muss der `connect` Methode des importierten sqlite3 Package der Pfad zu der Datenbank übergeben werden. Mithilfe der Methode `read_sql_query` können dann diverse SQL Abfragen ausgeführt werden. Der Methode werden dafür die SQL Abfrage und die Datenbankverbindung übergeben. Die abgefragten Daten werden automatisch in einen DataFrame gespeichert. Nach Beendigung der Abfragen sollte die Datenbankverbindung wieder geschlossen werden."
   ]
  },
  {
   "cell_type": "code",
   "execution_count": 15,
   "metadata": {},
   "outputs": [],
   "source": [
    "import sqlite3\n",
    "\n",
    "# Herstellen der Datenbankverbindung\n",
    "con = sqlite3.connect('data/lernmodul_pandas.db')\n",
    "# Auslesen der Daten aus der Datenbank und Speicherung der Daten in einem DataFrame\n",
    "netflix_titles_df = pd.read_sql_query('SELECT * from netflix_titles', con)\n",
    "\n",
    "# Schließen der Datenbankverbindung\n",
    "con.close()"
   ]
  },
  {
   "cell_type": "markdown",
   "metadata": {},
   "source": [
    "Zum Verifizieren, dass die Daten importiert und in dem DataFrame gespeichert wurden, kann zum Beispiel die Anzahl der Tabellenzeilen abgefragt werden. Dafür kann die Python Funktion `len()` genutzt werden.\n",
    "\n",
    "**2.1.1 Nutze die Funktion len(), um zu verifizieren, dass Daten importiert wurden. Wie viele Zeilen sind in dem importieren Daten enthalten?**"
   ]
  },
  {
   "cell_type": "code",
   "execution_count": 16,
   "metadata": {},
   "outputs": [
    {
     "data": {
      "text/plain": [
       "6234"
      ]
     },
     "execution_count": 16,
     "metadata": {},
     "output_type": "execute_result"
    }
   ],
   "source": [
    "# Platz für Code\n",
    "len(netflix_titles_df)"
   ]
  },
  {
   "cell_type": "code",
   "execution_count": 20,
   "metadata": {},
   "outputs": [
    {
     "data": {
      "application/vnd.jupyter.widget-view+json": {
       "model_id": "0b6bb84b01a948b0a29f8f5f9bf4af14",
       "version_major": 2,
       "version_minor": 0
      },
      "text/plain": [
       "Output()"
      ]
     },
     "metadata": {},
     "output_type": "display_data"
    },
    {
     "data": {
      "application/vnd.jupyter.widget-view+json": {
       "model_id": "c2a657729d774e1484d6761360fce8f1",
       "version_major": 2,
       "version_minor": 0
      },
      "text/plain": [
       "Output()"
      ]
     },
     "metadata": {},
     "output_type": "display_data"
    },
    {
     "data": {
      "application/vnd.jupyter.widget-view+json": {
       "model_id": "164157caa0c24ceea56f9b17429847db",
       "version_major": 2,
       "version_minor": 0
      },
      "text/plain": [
       "Output()"
      ]
     },
     "metadata": {},
     "output_type": "display_data"
    }
   ],
   "source": [
    "# TODO Single Choice\n",
    "pandas_lm.show_task(211)"
   ]
  },
  {
   "cell_type": "markdown",
   "metadata": {},
   "source": [
    "### **2.2** Importieren von Daten aus einer csv Datei"
   ]
  },
  {
   "cell_type": "markdown",
   "metadata": {},
   "source": [
    "Mithilfe der pandas Methode `read_csv` können Daten aus einer csv Datei als pandas DataFrame importiert werden. "
   ]
  },
  {
   "cell_type": "code",
   "execution_count": 21,
   "metadata": {},
   "outputs": [],
   "source": [
    "netflix_titles_df = pd.read_csv('data/netflix_titles.csv')"
   ]
  },
  {
   "cell_type": "markdown",
   "metadata": {},
   "source": [
    "Durch die Methode `head` eines DataFrames werden die ersten 5 Zeilen des DataFrames angezeigt. Dies kann auch zur Verifizierung genutzt werden, ob der Import der Daten geklappt hat.\n",
    "\n",
    "**2.2.2 Nutze die Methode `head`, um den Datenimport zu verifizieren. Welchen Titel trägt der Film in der zweiten Zeile?**"
   ]
  },
  {
   "cell_type": "code",
   "execution_count": 29,
   "metadata": {},
   "outputs": [],
   "source": [
    "# Platz für Code\n",
    "df_head = netflix_titles_df.head()"
   ]
  },
  {
   "cell_type": "code",
   "execution_count": 30,
   "metadata": {},
   "outputs": [
    {
     "data": {
      "text/html": [
       "<div>\n",
       "<style scoped>\n",
       "    .dataframe tbody tr th:only-of-type {\n",
       "        vertical-align: middle;\n",
       "    }\n",
       "\n",
       "    .dataframe tbody tr th {\n",
       "        vertical-align: top;\n",
       "    }\n",
       "\n",
       "    .dataframe thead th {\n",
       "        text-align: right;\n",
       "    }\n",
       "</style>\n",
       "<table border=\"1\" class=\"dataframe\">\n",
       "  <thead>\n",
       "    <tr style=\"text-align: right;\">\n",
       "      <th></th>\n",
       "      <th>show_id</th>\n",
       "      <th>type</th>\n",
       "      <th>title</th>\n",
       "      <th>director</th>\n",
       "      <th>cast</th>\n",
       "      <th>country</th>\n",
       "      <th>date_added</th>\n",
       "      <th>release_year</th>\n",
       "      <th>rating</th>\n",
       "      <th>duration</th>\n",
       "      <th>listed_in</th>\n",
       "      <th>description</th>\n",
       "    </tr>\n",
       "  </thead>\n",
       "  <tbody>\n",
       "    <tr>\n",
       "      <th>0</th>\n",
       "      <td>247747</td>\n",
       "      <td>Movie</td>\n",
       "      <td>Amar Akbar Anthony</td>\n",
       "      <td>Manmohan Desai</td>\n",
       "      <td>Vinod Khanna, Rishi Kapoor, Amitabh Bachchan, ...</td>\n",
       "      <td>India</td>\n",
       "      <td>December 31, 2019</td>\n",
       "      <td>1977</td>\n",
       "      <td>TV-14</td>\n",
       "      <td>172 min</td>\n",
       "      <td>Action &amp; Adventure, Classic Movies, Comedies</td>\n",
       "      <td>Abandoned in a park by their father, Amar, Akb...</td>\n",
       "    </tr>\n",
       "    <tr>\n",
       "      <th>1</th>\n",
       "      <td>269880</td>\n",
       "      <td>Movie</td>\n",
       "      <td>Bad Boys</td>\n",
       "      <td>Michael Bay</td>\n",
       "      <td>Will Smith, Martin Lawrence, Téa Leoni, Tchéky...</td>\n",
       "      <td>United States</td>\n",
       "      <td>October 1, 2019</td>\n",
       "      <td>1995</td>\n",
       "      <td>R</td>\n",
       "      <td>119 min</td>\n",
       "      <td>Action &amp; Adventure, Comedies</td>\n",
       "      <td>In this fast-paced actioner, two Miami narcoti...</td>\n",
       "    </tr>\n",
       "    <tr>\n",
       "      <th>2</th>\n",
       "      <td>281550</td>\n",
       "      <td>Movie</td>\n",
       "      <td>La Bamba</td>\n",
       "      <td>Luis Valdez</td>\n",
       "      <td>Lou Diamond Phillips, Esai Morales, Rosanna De...</td>\n",
       "      <td>United States</td>\n",
       "      <td>January 1, 2020</td>\n",
       "      <td>1987</td>\n",
       "      <td>PG-13</td>\n",
       "      <td>109 min</td>\n",
       "      <td>Classic Movies, Dramas, Music &amp; Musicals</td>\n",
       "      <td>The plane crash that killed Buddy Holly also t...</td>\n",
       "    </tr>\n",
       "    <tr>\n",
       "      <th>3</th>\n",
       "      <td>284890</td>\n",
       "      <td>Movie</td>\n",
       "      <td>Barsaat</td>\n",
       "      <td>Rajkumar Santoshi</td>\n",
       "      <td>Twinkle Khanna, Bobby Deol, Danny Denzongpa, R...</td>\n",
       "      <td>India</td>\n",
       "      <td>April 1, 2018</td>\n",
       "      <td>1995</td>\n",
       "      <td>TV-PG</td>\n",
       "      <td>166 min</td>\n",
       "      <td>Action &amp; Adventure, International Movies, Musi...</td>\n",
       "      <td>A naïve young man and a rich city girl fall in...</td>\n",
       "    </tr>\n",
       "    <tr>\n",
       "      <th>4</th>\n",
       "      <td>292118</td>\n",
       "      <td>Movie</td>\n",
       "      <td>Beavis and Butt-head Do America</td>\n",
       "      <td>Mike Judge</td>\n",
       "      <td>Mike Judge, Bruce Willis, Demi Moore, Cloris L...</td>\n",
       "      <td>United States</td>\n",
       "      <td>November 20, 2019</td>\n",
       "      <td>1996</td>\n",
       "      <td>PG-13</td>\n",
       "      <td>81 min</td>\n",
       "      <td>Comedies, Cult Movies</td>\n",
       "      <td>After realizing that their boob tube is gone, ...</td>\n",
       "    </tr>\n",
       "  </tbody>\n",
       "</table>\n",
       "</div>"
      ],
      "text/plain": [
       "   show_id   type                            title           director  \\\n",
       "0   247747  Movie               Amar Akbar Anthony     Manmohan Desai   \n",
       "1   269880  Movie                         Bad Boys        Michael Bay   \n",
       "2   281550  Movie                         La Bamba        Luis Valdez   \n",
       "3   284890  Movie                          Barsaat  Rajkumar Santoshi   \n",
       "4   292118  Movie  Beavis and Butt-head Do America         Mike Judge   \n",
       "\n",
       "                                                cast        country  \\\n",
       "0  Vinod Khanna, Rishi Kapoor, Amitabh Bachchan, ...          India   \n",
       "1  Will Smith, Martin Lawrence, Téa Leoni, Tchéky...  United States   \n",
       "2  Lou Diamond Phillips, Esai Morales, Rosanna De...  United States   \n",
       "3  Twinkle Khanna, Bobby Deol, Danny Denzongpa, R...          India   \n",
       "4  Mike Judge, Bruce Willis, Demi Moore, Cloris L...  United States   \n",
       "\n",
       "          date_added  release_year rating duration  \\\n",
       "0  December 31, 2019          1977  TV-14  172 min   \n",
       "1    October 1, 2019          1995      R  119 min   \n",
       "2    January 1, 2020          1987  PG-13  109 min   \n",
       "3      April 1, 2018          1995  TV-PG  166 min   \n",
       "4  November 20, 2019          1996  PG-13   81 min   \n",
       "\n",
       "                                           listed_in  \\\n",
       "0       Action & Adventure, Classic Movies, Comedies   \n",
       "1                       Action & Adventure, Comedies   \n",
       "2           Classic Movies, Dramas, Music & Musicals   \n",
       "3  Action & Adventure, International Movies, Musi...   \n",
       "4                              Comedies, Cult Movies   \n",
       "\n",
       "                                         description  \n",
       "0  Abandoned in a park by their father, Amar, Akb...  \n",
       "1  In this fast-paced actioner, two Miami narcoti...  \n",
       "2  The plane crash that killed Buddy Holly also t...  \n",
       "3  A naïve young man and a rich city girl fall in...  \n",
       "4  After realizing that their boob tube is gone, ...  "
      ]
     },
     "metadata": {},
     "output_type": "display_data"
    },
    {
     "data": {
      "application/vnd.jupyter.widget-view+json": {
       "model_id": "268f823a01f44223a684afa76f8d0d21",
       "version_major": 2,
       "version_minor": 0
      },
      "text/plain": [
       "Output()"
      ]
     },
     "metadata": {},
     "output_type": "display_data"
    },
    {
     "data": {
      "application/vnd.jupyter.widget-view+json": {
       "model_id": "b48f3281f71342529c203e0115b050e0",
       "version_major": 2,
       "version_minor": 0
      },
      "text/plain": [
       "Output()"
      ]
     },
     "metadata": {},
     "output_type": "display_data"
    }
   ],
   "source": [
    "#TODO Single Choice\n",
    "pandas_lm.show_task(212, df_head)"
   ]
  },
  {
   "cell_type": "markdown",
   "metadata": {},
   "source": [
    "### **2.3** Zusammenführen von Daten"
   ]
  },
  {
   "cell_type": "markdown",
   "metadata": {},
   "source": [
    "Manchmal sind nicht alle Daten in einer einzigen Datenquelle vorhanden, um denoch alle relevanten Informationen in einem DataFrame vorliegen zu haben, müssen die einzelnen DataFrames mithilfe der `merge` Methode eines DataFrames zusammengeführt werden. \n",
    "\n",
    "In dem DataFrame `liebingsshow_df` ist jeweils die Lieblingsshow von unterschiedlichen Personen eingetragen. Leider ist aus der ID der Show nicht direkt ersichtlich, um welche es sich genau handelt. Um diese Information zu erhalten muss in dem vorherigen erstellten DataFrame `netflix_titles_df` nachgesehen werden. In diesem Fall macht es Sinn die beiden DataFrames zu mergen. Damit zwei DataFrames miteinander gemerged werden können ist es wichtig, dass ein eindeutiger Identifier vorliegt, über den die beiden DataFrames verbunden werden können. In dem Beispiel wäre das die Spalte `show_id`.\n"
   ]
  },
  {
   "cell_type": "code",
   "execution_count": 49,
   "metadata": {},
   "outputs": [],
   "source": [
    "lieblingsshows = {'ID': [1, 2, 3, 4], 'Name': ['Lisa', 'Dirk', 'Jan', 'Verena'], 'show_id': [80057969, 80117902, 70234439, 70196145]}\n",
    "lieblingsshows_df = pd.DataFrame.from_dict(lieblingsshows)\n",
    "\n",
    "# on - Spaltennamen durch die die beiden DataFrames gemerged werden sollen\n",
    "# how - auf welche Art und Weise die DataFrames gemerged werden sollen (left, right, outer, inner)\n",
    "merged_df = lieblingsshows_df.merge(netflix_titles_df, how= 'left', on='show_id')"
   ]
  },
  {
   "cell_type": "code",
   "execution_count": 50,
   "metadata": {},
   "outputs": [
    {
     "data": {
      "text/html": [
       "<div>\n",
       "<style scoped>\n",
       "    .dataframe tbody tr th:only-of-type {\n",
       "        vertical-align: middle;\n",
       "    }\n",
       "\n",
       "    .dataframe tbody tr th {\n",
       "        vertical-align: top;\n",
       "    }\n",
       "\n",
       "    .dataframe thead th {\n",
       "        text-align: right;\n",
       "    }\n",
       "</style>\n",
       "<table border=\"1\" class=\"dataframe\">\n",
       "  <thead>\n",
       "    <tr style=\"text-align: right;\">\n",
       "      <th></th>\n",
       "      <th>ID</th>\n",
       "      <th>Name</th>\n",
       "      <th>show_id</th>\n",
       "      <th>type</th>\n",
       "      <th>title</th>\n",
       "      <th>director</th>\n",
       "      <th>cast</th>\n",
       "      <th>country</th>\n",
       "      <th>date_added</th>\n",
       "      <th>release_year</th>\n",
       "      <th>rating</th>\n",
       "      <th>duration</th>\n",
       "      <th>listed_in</th>\n",
       "      <th>description</th>\n",
       "    </tr>\n",
       "  </thead>\n",
       "  <tbody>\n",
       "    <tr>\n",
       "      <th>0</th>\n",
       "      <td>1</td>\n",
       "      <td>Lisa</td>\n",
       "      <td>80057969</td>\n",
       "      <td>Movie</td>\n",
       "      <td>Love</td>\n",
       "      <td>Gaspar Noé</td>\n",
       "      <td>Karl Glusman, Klara Kristin, Aomi Muyock, Ugo ...</td>\n",
       "      <td>France, Belgium</td>\n",
       "      <td>September 8, 2017</td>\n",
       "      <td>2015</td>\n",
       "      <td>NR</td>\n",
       "      <td>135 min</td>\n",
       "      <td>Cult Movies, Dramas, Independent Movies</td>\n",
       "      <td>A man in an unsatisfying marriage recalls the ...</td>\n",
       "    </tr>\n",
       "    <tr>\n",
       "      <th>1</th>\n",
       "      <td>2</td>\n",
       "      <td>Dirk</td>\n",
       "      <td>80117902</td>\n",
       "      <td>TV Show</td>\n",
       "      <td>Fire Chasers</td>\n",
       "      <td>None</td>\n",
       "      <td>None</td>\n",
       "      <td>United States</td>\n",
       "      <td>September 8, 2017</td>\n",
       "      <td>2017</td>\n",
       "      <td>TV-MA</td>\n",
       "      <td>1 Season</td>\n",
       "      <td>Docuseries, Science &amp; Nature TV</td>\n",
       "      <td>As California's 2016 fire season rages, brave ...</td>\n",
       "    </tr>\n",
       "    <tr>\n",
       "      <th>2</th>\n",
       "      <td>3</td>\n",
       "      <td>Jan</td>\n",
       "      <td>70234439</td>\n",
       "      <td>TV Show</td>\n",
       "      <td>Transformers Prime</td>\n",
       "      <td>None</td>\n",
       "      <td>Peter Cullen, Sumalee Montano, Frank Welker, J...</td>\n",
       "      <td>United States</td>\n",
       "      <td>September 8, 2018</td>\n",
       "      <td>2013</td>\n",
       "      <td>TV-Y7-FV</td>\n",
       "      <td>1 Season</td>\n",
       "      <td>Kids' TV</td>\n",
       "      <td>With the help of three human allies, the Autob...</td>\n",
       "    </tr>\n",
       "    <tr>\n",
       "      <th>3</th>\n",
       "      <td>4</td>\n",
       "      <td>Verena</td>\n",
       "      <td>70196145</td>\n",
       "      <td>TV Show</td>\n",
       "      <td>New Girl</td>\n",
       "      <td>None</td>\n",
       "      <td>Zooey Deschanel, Jake Johnson, Max Greenfield,...</td>\n",
       "      <td>United States</td>\n",
       "      <td>April 11, 2019</td>\n",
       "      <td>2017</td>\n",
       "      <td>TV-14</td>\n",
       "      <td>7 Seasons</td>\n",
       "      <td>Romantic TV Shows, TV Comedies</td>\n",
       "      <td>Still rebounding from a breakup, Jessica Day m...</td>\n",
       "    </tr>\n",
       "  </tbody>\n",
       "</table>\n",
       "</div>"
      ],
      "text/plain": [
       "   ID    Name   show_id     type               title    director  \\\n",
       "0   1    Lisa  80057969    Movie                Love  Gaspar Noé   \n",
       "1   2    Dirk  80117902  TV Show        Fire Chasers        None   \n",
       "2   3     Jan  70234439  TV Show  Transformers Prime        None   \n",
       "3   4  Verena  70196145  TV Show            New Girl        None   \n",
       "\n",
       "                                                cast          country  \\\n",
       "0  Karl Glusman, Klara Kristin, Aomi Muyock, Ugo ...  France, Belgium   \n",
       "1                                               None    United States   \n",
       "2  Peter Cullen, Sumalee Montano, Frank Welker, J...    United States   \n",
       "3  Zooey Deschanel, Jake Johnson, Max Greenfield,...    United States   \n",
       "\n",
       "          date_added  release_year    rating   duration  \\\n",
       "0  September 8, 2017          2015        NR    135 min   \n",
       "1  September 8, 2017          2017     TV-MA   1 Season   \n",
       "2  September 8, 2018          2013  TV-Y7-FV   1 Season   \n",
       "3     April 11, 2019          2017     TV-14  7 Seasons   \n",
       "\n",
       "                                 listed_in  \\\n",
       "0  Cult Movies, Dramas, Independent Movies   \n",
       "1          Docuseries, Science & Nature TV   \n",
       "2                                 Kids' TV   \n",
       "3           Romantic TV Shows, TV Comedies   \n",
       "\n",
       "                                         description  \n",
       "0  A man in an unsatisfying marriage recalls the ...  \n",
       "1  As California's 2016 fire season rages, brave ...  \n",
       "2  With the help of three human allies, the Autob...  \n",
       "3  Still rebounding from a breakup, Jessica Day m...  "
      ]
     },
     "execution_count": 50,
     "metadata": {},
     "output_type": "execute_result"
    }
   ],
   "source": [
    "merged_df"
   ]
  },
  {
   "cell_type": "markdown",
   "metadata": {},
   "source": [
    "### **2.4** Export von Daten in eine Datenbank"
   ]
  },
  {
   "cell_type": "markdown",
   "metadata": {},
   "source": [
    "Im Folgenden wird gezeigt, wie ein DataFrame wieder als Datenbanktabelle exportiert werden kann. Dafür wird erneut die SQLite Datenbank genutzt. Nachdem wie Verbindung zu der Datenbank hergestellt wurde, kann mithilfe der DataFrame Methode `to_sql` der jeweilige DataFrame als Datenbanktabelle exportiert werden. Dafür müssen als Parameter der Name der zu erstellenden Datenbanktabelle sowie die Datenbankverbindung übergeben werden. Optional kann zum Beispiel verhindert werden, dass der Index mit exportiert wird. Ein DataFrame kann defaultmäßig nur einmal in dieselbe Datenbanktabelle exportiert werden, d. h. bei der zweiten Ausführung würde eine Exception geworfen werden, weil die Datenbanktabelle bereits existiert. In diesem Fall kann mithilfe des Parameters `if_exist` festgelegt werden, dass die existierende Tabelle überschrieben werden soll."
   ]
  },
  {
   "cell_type": "code",
   "execution_count": 40,
   "metadata": {},
   "outputs": [
    {
     "data": {
      "text/html": [
       "<div>\n",
       "<style scoped>\n",
       "    .dataframe tbody tr th:only-of-type {\n",
       "        vertical-align: middle;\n",
       "    }\n",
       "\n",
       "    .dataframe tbody tr th {\n",
       "        vertical-align: top;\n",
       "    }\n",
       "\n",
       "    .dataframe thead th {\n",
       "        text-align: right;\n",
       "    }\n",
       "</style>\n",
       "<table border=\"1\" class=\"dataframe\">\n",
       "  <thead>\n",
       "    <tr style=\"text-align: right;\">\n",
       "      <th></th>\n",
       "      <th>ID</th>\n",
       "      <th>Name</th>\n",
       "      <th>show_id</th>\n",
       "      <th>type</th>\n",
       "      <th>title</th>\n",
       "      <th>director</th>\n",
       "      <th>cast</th>\n",
       "      <th>country</th>\n",
       "      <th>date_added</th>\n",
       "      <th>release_year</th>\n",
       "      <th>rating</th>\n",
       "      <th>duration</th>\n",
       "      <th>listed_in</th>\n",
       "      <th>description</th>\n",
       "    </tr>\n",
       "  </thead>\n",
       "  <tbody>\n",
       "    <tr>\n",
       "      <th>0</th>\n",
       "      <td>1</td>\n",
       "      <td>Lisa</td>\n",
       "      <td>80057969</td>\n",
       "      <td>Movie</td>\n",
       "      <td>Love</td>\n",
       "      <td>Gaspar Noé</td>\n",
       "      <td>Karl Glusman, Klara Kristin, Aomi Muyock, Ugo ...</td>\n",
       "      <td>France, Belgium</td>\n",
       "      <td>September 8, 2017</td>\n",
       "      <td>2015</td>\n",
       "      <td>NR</td>\n",
       "      <td>135 min</td>\n",
       "      <td>Cult Movies, Dramas, Independent Movies</td>\n",
       "      <td>A man in an unsatisfying marriage recalls the ...</td>\n",
       "    </tr>\n",
       "    <tr>\n",
       "      <th>1</th>\n",
       "      <td>2</td>\n",
       "      <td>Dirk</td>\n",
       "      <td>80117902</td>\n",
       "      <td>TV Show</td>\n",
       "      <td>Fire Chasers</td>\n",
       "      <td>None</td>\n",
       "      <td>None</td>\n",
       "      <td>United States</td>\n",
       "      <td>September 8, 2017</td>\n",
       "      <td>2017</td>\n",
       "      <td>TV-MA</td>\n",
       "      <td>1 Season</td>\n",
       "      <td>Docuseries, Science &amp; Nature TV</td>\n",
       "      <td>As California's 2016 fire season rages, brave ...</td>\n",
       "    </tr>\n",
       "    <tr>\n",
       "      <th>2</th>\n",
       "      <td>3</td>\n",
       "      <td>Jan</td>\n",
       "      <td>70234439</td>\n",
       "      <td>TV Show</td>\n",
       "      <td>Transformers Prime</td>\n",
       "      <td>None</td>\n",
       "      <td>Peter Cullen, Sumalee Montano, Frank Welker, J...</td>\n",
       "      <td>United States</td>\n",
       "      <td>September 8, 2018</td>\n",
       "      <td>2013</td>\n",
       "      <td>TV-Y7-FV</td>\n",
       "      <td>1 Season</td>\n",
       "      <td>Kids' TV</td>\n",
       "      <td>With the help of three human allies, the Autob...</td>\n",
       "    </tr>\n",
       "    <tr>\n",
       "      <th>3</th>\n",
       "      <td>4</td>\n",
       "      <td>Verena</td>\n",
       "      <td>70196145</td>\n",
       "      <td>TV Show</td>\n",
       "      <td>New Girl</td>\n",
       "      <td>None</td>\n",
       "      <td>Zooey Deschanel, Jake Johnson, Max Greenfield,...</td>\n",
       "      <td>United States</td>\n",
       "      <td>April 11, 2019</td>\n",
       "      <td>2017</td>\n",
       "      <td>TV-14</td>\n",
       "      <td>7 Seasons</td>\n",
       "      <td>Romantic TV Shows, TV Comedies</td>\n",
       "      <td>Still rebounding from a breakup, Jessica Day m...</td>\n",
       "    </tr>\n",
       "  </tbody>\n",
       "</table>\n",
       "</div>"
      ],
      "text/plain": [
       "   ID    Name   show_id     type               title    director  \\\n",
       "0   1    Lisa  80057969    Movie                Love  Gaspar Noé   \n",
       "1   2    Dirk  80117902  TV Show        Fire Chasers        None   \n",
       "2   3     Jan  70234439  TV Show  Transformers Prime        None   \n",
       "3   4  Verena  70196145  TV Show            New Girl        None   \n",
       "\n",
       "                                                cast          country  \\\n",
       "0  Karl Glusman, Klara Kristin, Aomi Muyock, Ugo ...  France, Belgium   \n",
       "1                                               None    United States   \n",
       "2  Peter Cullen, Sumalee Montano, Frank Welker, J...    United States   \n",
       "3  Zooey Deschanel, Jake Johnson, Max Greenfield,...    United States   \n",
       "\n",
       "          date_added  release_year    rating   duration  \\\n",
       "0  September 8, 2017          2015        NR    135 min   \n",
       "1  September 8, 2017          2017     TV-MA   1 Season   \n",
       "2  September 8, 2018          2013  TV-Y7-FV   1 Season   \n",
       "3     April 11, 2019          2017     TV-14  7 Seasons   \n",
       "\n",
       "                                 listed_in  \\\n",
       "0  Cult Movies, Dramas, Independent Movies   \n",
       "1          Docuseries, Science & Nature TV   \n",
       "2                                 Kids' TV   \n",
       "3           Romantic TV Shows, TV Comedies   \n",
       "\n",
       "                                         description  \n",
       "0  A man in an unsatisfying marriage recalls the ...  \n",
       "1  As California's 2016 fire season rages, brave ...  \n",
       "2  With the help of three human allies, the Autob...  \n",
       "3  Still rebounding from a breakup, Jessica Day m...  "
      ]
     },
     "execution_count": 40,
     "metadata": {},
     "output_type": "execute_result"
    }
   ],
   "source": [
    "# Herstellen der Datenbankverbindung\n",
    "con = sqlite3.connect('data/lernmodul_pandas.db')\n",
    "\n",
    "# Erzeugen einer Datenbanktabelle auf der Basis eines DataFrames\n",
    "merged_df.to_sql('lieblingsshows', con, index = False, if_exists=\"replace\")\n",
    "\n",
    "# Auslesen der Daten aus der Datenbank zur Überprüfung, ob die Tabelle erstellt wurde\n",
    "db_export_df = pd.read_sql_query('SELECT * from lieblingsshows', con)\n",
    "\n",
    "# Schließen der Datenbankverbindung\n",
    "con.close()\n",
    "\n",
    "db_export_df"
   ]
  },
  {
   "cell_type": "markdown",
   "metadata": {},
   "source": [
    "### **2.5** Export von Daten in eine csv Datei"
   ]
  },
  {
   "cell_type": "markdown",
   "metadata": {},
   "source": [
    "Alternativ zur Datenbanktabelle können die Daten auch als csv Datei exportiert werden. Hierfür wird die DataFrame Methode `to_csv` benötigt. Der Methode wird dann der Dateiname der zu erstellenden csv-Datei übergeben. Optional kann auch ein Dateipfad angegeben werden, wenn die Datei nicht in dem aktuellen Verzeichnis erstellt werden soll. Mithilfe des Parameters `index` kann festgelegt werden, ob der Index des DataFrames auch exportiert werden soll."
   ]
  },
  {
   "cell_type": "code",
   "execution_count": 48,
   "metadata": {},
   "outputs": [
    {
     "data": {
      "text/html": [
       "<div>\n",
       "<style scoped>\n",
       "    .dataframe tbody tr th:only-of-type {\n",
       "        vertical-align: middle;\n",
       "    }\n",
       "\n",
       "    .dataframe tbody tr th {\n",
       "        vertical-align: top;\n",
       "    }\n",
       "\n",
       "    .dataframe thead th {\n",
       "        text-align: right;\n",
       "    }\n",
       "</style>\n",
       "<table border=\"1\" class=\"dataframe\">\n",
       "  <thead>\n",
       "    <tr style=\"text-align: right;\">\n",
       "      <th></th>\n",
       "      <th>ID</th>\n",
       "      <th>Name</th>\n",
       "      <th>show_id</th>\n",
       "      <th>type</th>\n",
       "      <th>title</th>\n",
       "      <th>director</th>\n",
       "      <th>cast</th>\n",
       "      <th>country</th>\n",
       "      <th>date_added</th>\n",
       "      <th>release_year</th>\n",
       "      <th>rating</th>\n",
       "      <th>duration</th>\n",
       "      <th>listed_in</th>\n",
       "      <th>description</th>\n",
       "    </tr>\n",
       "  </thead>\n",
       "  <tbody>\n",
       "    <tr>\n",
       "      <th>0</th>\n",
       "      <td>1</td>\n",
       "      <td>Lisa</td>\n",
       "      <td>80057969</td>\n",
       "      <td>Movie</td>\n",
       "      <td>Love</td>\n",
       "      <td>Gaspar Noé</td>\n",
       "      <td>Karl Glusman, Klara Kristin, Aomi Muyock, Ugo ...</td>\n",
       "      <td>France, Belgium</td>\n",
       "      <td>September 8, 2017</td>\n",
       "      <td>2015</td>\n",
       "      <td>NR</td>\n",
       "      <td>135 min</td>\n",
       "      <td>Cult Movies, Dramas, Independent Movies</td>\n",
       "      <td>A man in an unsatisfying marriage recalls the ...</td>\n",
       "    </tr>\n",
       "    <tr>\n",
       "      <th>1</th>\n",
       "      <td>2</td>\n",
       "      <td>Dirk</td>\n",
       "      <td>80117902</td>\n",
       "      <td>TV Show</td>\n",
       "      <td>Fire Chasers</td>\n",
       "      <td>NaN</td>\n",
       "      <td>NaN</td>\n",
       "      <td>United States</td>\n",
       "      <td>September 8, 2017</td>\n",
       "      <td>2017</td>\n",
       "      <td>TV-MA</td>\n",
       "      <td>1 Season</td>\n",
       "      <td>Docuseries, Science &amp; Nature TV</td>\n",
       "      <td>As California's 2016 fire season rages, brave ...</td>\n",
       "    </tr>\n",
       "    <tr>\n",
       "      <th>2</th>\n",
       "      <td>3</td>\n",
       "      <td>Jan</td>\n",
       "      <td>70234439</td>\n",
       "      <td>TV Show</td>\n",
       "      <td>Transformers Prime</td>\n",
       "      <td>NaN</td>\n",
       "      <td>Peter Cullen, Sumalee Montano, Frank Welker, J...</td>\n",
       "      <td>United States</td>\n",
       "      <td>September 8, 2018</td>\n",
       "      <td>2013</td>\n",
       "      <td>TV-Y7-FV</td>\n",
       "      <td>1 Season</td>\n",
       "      <td>Kids' TV</td>\n",
       "      <td>With the help of three human allies, the Autob...</td>\n",
       "    </tr>\n",
       "    <tr>\n",
       "      <th>3</th>\n",
       "      <td>4</td>\n",
       "      <td>Verena</td>\n",
       "      <td>70196145</td>\n",
       "      <td>TV Show</td>\n",
       "      <td>New Girl</td>\n",
       "      <td>NaN</td>\n",
       "      <td>Zooey Deschanel, Jake Johnson, Max Greenfield,...</td>\n",
       "      <td>United States</td>\n",
       "      <td>April 11, 2019</td>\n",
       "      <td>2017</td>\n",
       "      <td>TV-14</td>\n",
       "      <td>7 Seasons</td>\n",
       "      <td>Romantic TV Shows, TV Comedies</td>\n",
       "      <td>Still rebounding from a breakup, Jessica Day m...</td>\n",
       "    </tr>\n",
       "  </tbody>\n",
       "</table>\n",
       "</div>"
      ],
      "text/plain": [
       "   ID    Name   show_id     type               title    director  \\\n",
       "0   1    Lisa  80057969    Movie                Love  Gaspar Noé   \n",
       "1   2    Dirk  80117902  TV Show        Fire Chasers         NaN   \n",
       "2   3     Jan  70234439  TV Show  Transformers Prime         NaN   \n",
       "3   4  Verena  70196145  TV Show            New Girl         NaN   \n",
       "\n",
       "                                                cast          country  \\\n",
       "0  Karl Glusman, Klara Kristin, Aomi Muyock, Ugo ...  France, Belgium   \n",
       "1                                                NaN    United States   \n",
       "2  Peter Cullen, Sumalee Montano, Frank Welker, J...    United States   \n",
       "3  Zooey Deschanel, Jake Johnson, Max Greenfield,...    United States   \n",
       "\n",
       "          date_added  release_year    rating   duration  \\\n",
       "0  September 8, 2017          2015        NR    135 min   \n",
       "1  September 8, 2017          2017     TV-MA   1 Season   \n",
       "2  September 8, 2018          2013  TV-Y7-FV   1 Season   \n",
       "3     April 11, 2019          2017     TV-14  7 Seasons   \n",
       "\n",
       "                                 listed_in  \\\n",
       "0  Cult Movies, Dramas, Independent Movies   \n",
       "1          Docuseries, Science & Nature TV   \n",
       "2                                 Kids' TV   \n",
       "3           Romantic TV Shows, TV Comedies   \n",
       "\n",
       "                                         description  \n",
       "0  A man in an unsatisfying marriage recalls the ...  \n",
       "1  As California's 2016 fire season rages, brave ...  \n",
       "2  With the help of three human allies, the Autob...  \n",
       "3  Still rebounding from a breakup, Jessica Day m...  "
      ]
     },
     "execution_count": 48,
     "metadata": {},
     "output_type": "execute_result"
    }
   ],
   "source": [
    "# Export des DataFrames als csv-Datei\n",
    "merged_df.to_csv('data/export_test.csv', index=False)\n",
    "\n",
    "# Import der csv-Datei, um die Erstellung der Datei zu verifizieren\n",
    "csv_export_df = pd.read_csv('data/export_test.csv')\n",
    "\n",
    "csv_export_df"
   ]
  },
  {
   "cell_type": "markdown",
   "metadata": {},
   "source": [
    "<div style=\"background-color: #FFCA00 ; padding: 5px; \"></div>\n",
    "\n",
    "### **2.6** Übungsteil"
   ]
  },
  {
   "cell_type": "markdown",
   "metadata": {},
   "source": [
    "**2.6.1 Importiere die Spalten xxx aus der Datenbanktabelle \"netflix_titles\" (Pfad zur Datenbank: data/lernmodul_pandas.db) in einen DataFrame.**"
   ]
  },
  {
   "cell_type": "code",
   "execution_count": null,
   "metadata": {},
   "outputs": [],
   "source": [
    "#TODO"
   ]
  },
  {
   "cell_type": "markdown",
   "metadata": {},
   "source": [
    "**2.6.2 Importiere zusätzlich die Spalten xxx aus der Datenbanktabelle \"netflix_titles\" in einen DataFrame. Mergen Sie den DataFrame mit dem in Aufgabe 1 entstandenen DataFrame.**"
   ]
  },
  {
   "cell_type": "code",
   "execution_count": null,
   "metadata": {},
   "outputs": [],
   "source": [
    "#TODO\n",
    "# Absicherung, dass nicht einfach die jeweiligen Spalten ausgelesen werden!"
   ]
  },
  {
   "cell_type": "markdown",
   "metadata": {},
   "source": [
    "**2.6.3 Exportiere den in Aufgabe 1 und 2 entstandenen DataFrame in die Datanbanktabelle \"netflix_titles_2\" der Datenbank lernmodul_pandas.db.**"
   ]
  },
  {
   "cell_type": "code",
   "execution_count": null,
   "metadata": {},
   "outputs": [],
   "source": [
    "#TODO"
   ]
  },
  {
   "cell_type": "markdown",
   "metadata": {},
   "source": [
    "<div style=\"background-color: #150458 ; padding: 5px; \"></div>\n",
    "\n",
    "## **3** Datenanalyse"
   ]
  },
  {
   "cell_type": "markdown",
   "metadata": {},
   "source": [
    "### **3.1** Anzeigen der Daten"
   ]
  },
  {
   "cell_type": "markdown",
   "metadata": {},
   "source": [
    "In einem Jupyter Notebook kann ein DataFrame einfach angezeigt werden, indem der Name des DataFrames in eine Zelle geschrieben und diese ausgeführt wird."
   ]
  },
  {
   "cell_type": "code",
   "execution_count": 51,
   "metadata": {},
   "outputs": [
    {
     "data": {
      "text/html": [
       "<div>\n",
       "<style scoped>\n",
       "    .dataframe tbody tr th:only-of-type {\n",
       "        vertical-align: middle;\n",
       "    }\n",
       "\n",
       "    .dataframe tbody tr th {\n",
       "        vertical-align: top;\n",
       "    }\n",
       "\n",
       "    .dataframe thead th {\n",
       "        text-align: right;\n",
       "    }\n",
       "</style>\n",
       "<table border=\"1\" class=\"dataframe\">\n",
       "  <thead>\n",
       "    <tr style=\"text-align: right;\">\n",
       "      <th></th>\n",
       "      <th>show_id</th>\n",
       "      <th>type</th>\n",
       "      <th>title</th>\n",
       "      <th>director</th>\n",
       "      <th>cast</th>\n",
       "      <th>country</th>\n",
       "      <th>date_added</th>\n",
       "      <th>release_year</th>\n",
       "      <th>rating</th>\n",
       "      <th>duration</th>\n",
       "      <th>listed_in</th>\n",
       "      <th>description</th>\n",
       "    </tr>\n",
       "  </thead>\n",
       "  <tbody>\n",
       "    <tr>\n",
       "      <th>0</th>\n",
       "      <td>247747</td>\n",
       "      <td>Movie</td>\n",
       "      <td>Amar Akbar Anthony</td>\n",
       "      <td>Manmohan Desai</td>\n",
       "      <td>Vinod Khanna, Rishi Kapoor, Amitabh Bachchan, ...</td>\n",
       "      <td>India</td>\n",
       "      <td>December 31, 2019</td>\n",
       "      <td>1977</td>\n",
       "      <td>TV-14</td>\n",
       "      <td>172 min</td>\n",
       "      <td>Action &amp; Adventure, Classic Movies, Comedies</td>\n",
       "      <td>Abandoned in a park by their father, Amar, Akb...</td>\n",
       "    </tr>\n",
       "    <tr>\n",
       "      <th>1</th>\n",
       "      <td>269880</td>\n",
       "      <td>Movie</td>\n",
       "      <td>Bad Boys</td>\n",
       "      <td>Michael Bay</td>\n",
       "      <td>Will Smith, Martin Lawrence, Téa Leoni, Tchéky...</td>\n",
       "      <td>United States</td>\n",
       "      <td>October 1, 2019</td>\n",
       "      <td>1995</td>\n",
       "      <td>R</td>\n",
       "      <td>119 min</td>\n",
       "      <td>Action &amp; Adventure, Comedies</td>\n",
       "      <td>In this fast-paced actioner, two Miami narcoti...</td>\n",
       "    </tr>\n",
       "    <tr>\n",
       "      <th>2</th>\n",
       "      <td>281550</td>\n",
       "      <td>Movie</td>\n",
       "      <td>La Bamba</td>\n",
       "      <td>Luis Valdez</td>\n",
       "      <td>Lou Diamond Phillips, Esai Morales, Rosanna De...</td>\n",
       "      <td>United States</td>\n",
       "      <td>January 1, 2020</td>\n",
       "      <td>1987</td>\n",
       "      <td>PG-13</td>\n",
       "      <td>109 min</td>\n",
       "      <td>Classic Movies, Dramas, Music &amp; Musicals</td>\n",
       "      <td>The plane crash that killed Buddy Holly also t...</td>\n",
       "    </tr>\n",
       "    <tr>\n",
       "      <th>3</th>\n",
       "      <td>284890</td>\n",
       "      <td>Movie</td>\n",
       "      <td>Barsaat</td>\n",
       "      <td>Rajkumar Santoshi</td>\n",
       "      <td>Twinkle Khanna, Bobby Deol, Danny Denzongpa, R...</td>\n",
       "      <td>India</td>\n",
       "      <td>April 1, 2018</td>\n",
       "      <td>1995</td>\n",
       "      <td>TV-PG</td>\n",
       "      <td>166 min</td>\n",
       "      <td>Action &amp; Adventure, International Movies, Musi...</td>\n",
       "      <td>A naïve young man and a rich city girl fall in...</td>\n",
       "    </tr>\n",
       "    <tr>\n",
       "      <th>4</th>\n",
       "      <td>292118</td>\n",
       "      <td>Movie</td>\n",
       "      <td>Beavis and Butt-head Do America</td>\n",
       "      <td>Mike Judge</td>\n",
       "      <td>Mike Judge, Bruce Willis, Demi Moore, Cloris L...</td>\n",
       "      <td>United States</td>\n",
       "      <td>November 20, 2019</td>\n",
       "      <td>1996</td>\n",
       "      <td>PG-13</td>\n",
       "      <td>81 min</td>\n",
       "      <td>Comedies, Cult Movies</td>\n",
       "      <td>After realizing that their boob tube is gone, ...</td>\n",
       "    </tr>\n",
       "    <tr>\n",
       "      <th>...</th>\n",
       "      <td>...</td>\n",
       "      <td>...</td>\n",
       "      <td>...</td>\n",
       "      <td>...</td>\n",
       "      <td>...</td>\n",
       "      <td>...</td>\n",
       "      <td>...</td>\n",
       "      <td>...</td>\n",
       "      <td>...</td>\n",
       "      <td>...</td>\n",
       "      <td>...</td>\n",
       "      <td>...</td>\n",
       "    </tr>\n",
       "    <tr>\n",
       "      <th>6229</th>\n",
       "      <td>81224868</td>\n",
       "      <td>TV Show</td>\n",
       "      <td>Robot Trains</td>\n",
       "      <td>None</td>\n",
       "      <td>Bill Rogers, Carrie Savage, Ken Spassione, Ang...</td>\n",
       "      <td>South Korea</td>\n",
       "      <td>December 31, 2019</td>\n",
       "      <td>2018</td>\n",
       "      <td>TV-Y7</td>\n",
       "      <td>2 Seasons</td>\n",
       "      <td>Kids' TV, Korean TV Shows</td>\n",
       "      <td>Keeping peace and safety in Train World is no ...</td>\n",
       "    </tr>\n",
       "    <tr>\n",
       "      <th>6230</th>\n",
       "      <td>81227195</td>\n",
       "      <td>Movie</td>\n",
       "      <td>Kalushi: The Story of Solomon Mahlangu</td>\n",
       "      <td>Mandla Dube</td>\n",
       "      <td>Thabo Rametsi, Thabo Malema, Welile Nzuza, Jaf...</td>\n",
       "      <td>South Africa</td>\n",
       "      <td>November 29, 2019</td>\n",
       "      <td>2016</td>\n",
       "      <td>TV-MA</td>\n",
       "      <td>107 min</td>\n",
       "      <td>Dramas, International Movies</td>\n",
       "      <td>The life and times of iconic South African lib...</td>\n",
       "    </tr>\n",
       "    <tr>\n",
       "      <th>6231</th>\n",
       "      <td>81228864</td>\n",
       "      <td>Movie</td>\n",
       "      <td>Blitz Patrollie</td>\n",
       "      <td>Andrew Wessels</td>\n",
       "      <td>Joey Rasdien, David Kau, David Kibuuka, Chris ...</td>\n",
       "      <td>South Africa</td>\n",
       "      <td>December 27, 2019</td>\n",
       "      <td>2013</td>\n",
       "      <td>TV-MA</td>\n",
       "      <td>102 min</td>\n",
       "      <td>Action &amp; Adventure, Comedies, International Mo...</td>\n",
       "      <td>Caught between family pressures and small-time...</td>\n",
       "    </tr>\n",
       "    <tr>\n",
       "      <th>6232</th>\n",
       "      <td>81235603</td>\n",
       "      <td>TV Show</td>\n",
       "      <td>Sym-Bionic Titan</td>\n",
       "      <td>None</td>\n",
       "      <td>Tara Strong, Kevin Thoms, Brian Posehn, John D...</td>\n",
       "      <td>United States</td>\n",
       "      <td>December 15, 2019</td>\n",
       "      <td>2010</td>\n",
       "      <td>TV-PG</td>\n",
       "      <td>1 Season</td>\n",
       "      <td>Kids' TV</td>\n",
       "      <td>Aliens fleeing their planet land on Earth, pos...</td>\n",
       "    </tr>\n",
       "    <tr>\n",
       "      <th>6233</th>\n",
       "      <td>81235729</td>\n",
       "      <td>Movie</td>\n",
       "      <td>Jezebel</td>\n",
       "      <td>Numa Perrier</td>\n",
       "      <td>Tiffany Tenille, Numa Perrier, Stephen Barring...</td>\n",
       "      <td>United States</td>\n",
       "      <td>January 16, 2020</td>\n",
       "      <td>2019</td>\n",
       "      <td>TV-MA</td>\n",
       "      <td>86 min</td>\n",
       "      <td>Dramas, Independent Movies</td>\n",
       "      <td>During the internet's infancy, a vulnerable wo...</td>\n",
       "    </tr>\n",
       "  </tbody>\n",
       "</table>\n",
       "<p>6234 rows × 12 columns</p>\n",
       "</div>"
      ],
      "text/plain": [
       "       show_id     type                                   title  \\\n",
       "0       247747    Movie                      Amar Akbar Anthony   \n",
       "1       269880    Movie                                Bad Boys   \n",
       "2       281550    Movie                                La Bamba   \n",
       "3       284890    Movie                                 Barsaat   \n",
       "4       292118    Movie         Beavis and Butt-head Do America   \n",
       "...        ...      ...                                     ...   \n",
       "6229  81224868  TV Show                            Robot Trains   \n",
       "6230  81227195    Movie  Kalushi: The Story of Solomon Mahlangu   \n",
       "6231  81228864    Movie                         Blitz Patrollie   \n",
       "6232  81235603  TV Show                        Sym-Bionic Titan   \n",
       "6233  81235729    Movie                                 Jezebel   \n",
       "\n",
       "               director                                               cast  \\\n",
       "0        Manmohan Desai  Vinod Khanna, Rishi Kapoor, Amitabh Bachchan, ...   \n",
       "1           Michael Bay  Will Smith, Martin Lawrence, Téa Leoni, Tchéky...   \n",
       "2           Luis Valdez  Lou Diamond Phillips, Esai Morales, Rosanna De...   \n",
       "3     Rajkumar Santoshi  Twinkle Khanna, Bobby Deol, Danny Denzongpa, R...   \n",
       "4            Mike Judge  Mike Judge, Bruce Willis, Demi Moore, Cloris L...   \n",
       "...                 ...                                                ...   \n",
       "6229               None  Bill Rogers, Carrie Savage, Ken Spassione, Ang...   \n",
       "6230        Mandla Dube  Thabo Rametsi, Thabo Malema, Welile Nzuza, Jaf...   \n",
       "6231     Andrew Wessels  Joey Rasdien, David Kau, David Kibuuka, Chris ...   \n",
       "6232               None  Tara Strong, Kevin Thoms, Brian Posehn, John D...   \n",
       "6233       Numa Perrier  Tiffany Tenille, Numa Perrier, Stephen Barring...   \n",
       "\n",
       "            country         date_added  release_year rating   duration  \\\n",
       "0             India  December 31, 2019          1977  TV-14    172 min   \n",
       "1     United States    October 1, 2019          1995      R    119 min   \n",
       "2     United States    January 1, 2020          1987  PG-13    109 min   \n",
       "3             India      April 1, 2018          1995  TV-PG    166 min   \n",
       "4     United States  November 20, 2019          1996  PG-13     81 min   \n",
       "...             ...                ...           ...    ...        ...   \n",
       "6229    South Korea  December 31, 2019          2018  TV-Y7  2 Seasons   \n",
       "6230   South Africa  November 29, 2019          2016  TV-MA    107 min   \n",
       "6231   South Africa  December 27, 2019          2013  TV-MA    102 min   \n",
       "6232  United States  December 15, 2019          2010  TV-PG   1 Season   \n",
       "6233  United States   January 16, 2020          2019  TV-MA     86 min   \n",
       "\n",
       "                                              listed_in  \\\n",
       "0          Action & Adventure, Classic Movies, Comedies   \n",
       "1                          Action & Adventure, Comedies   \n",
       "2              Classic Movies, Dramas, Music & Musicals   \n",
       "3     Action & Adventure, International Movies, Musi...   \n",
       "4                                 Comedies, Cult Movies   \n",
       "...                                                 ...   \n",
       "6229                          Kids' TV, Korean TV Shows   \n",
       "6230                       Dramas, International Movies   \n",
       "6231  Action & Adventure, Comedies, International Mo...   \n",
       "6232                                           Kids' TV   \n",
       "6233                         Dramas, Independent Movies   \n",
       "\n",
       "                                            description  \n",
       "0     Abandoned in a park by their father, Amar, Akb...  \n",
       "1     In this fast-paced actioner, two Miami narcoti...  \n",
       "2     The plane crash that killed Buddy Holly also t...  \n",
       "3     A naïve young man and a rich city girl fall in...  \n",
       "4     After realizing that their boob tube is gone, ...  \n",
       "...                                                 ...  \n",
       "6229  Keeping peace and safety in Train World is no ...  \n",
       "6230  The life and times of iconic South African lib...  \n",
       "6231  Caught between family pressures and small-time...  \n",
       "6232  Aliens fleeing their planet land on Earth, pos...  \n",
       "6233  During the internet's infancy, a vulnerable wo...  \n",
       "\n",
       "[6234 rows x 12 columns]"
      ]
     },
     "execution_count": 51,
     "metadata": {},
     "output_type": "execute_result"
    }
   ],
   "source": [
    "netflix_titles_df"
   ]
  },
  {
   "cell_type": "markdown",
   "metadata": {},
   "source": [
    "Mit den Methoden `head` und `tail` können jeweils die ersten oder letzten Datenreihen eines Dataframes angezeigt werden. Defaultmäßig werden 5 Datenreihen zurückgegeben. Sollen mehr Datenreihen angezeigt werden kann die Anzahl der gewünschten Reihen der Methode als Parameter übergeben werden."
   ]
  },
  {
   "cell_type": "code",
   "execution_count": 52,
   "metadata": {},
   "outputs": [
    {
     "data": {
      "text/html": [
       "<div>\n",
       "<style scoped>\n",
       "    .dataframe tbody tr th:only-of-type {\n",
       "        vertical-align: middle;\n",
       "    }\n",
       "\n",
       "    .dataframe tbody tr th {\n",
       "        vertical-align: top;\n",
       "    }\n",
       "\n",
       "    .dataframe thead th {\n",
       "        text-align: right;\n",
       "    }\n",
       "</style>\n",
       "<table border=\"1\" class=\"dataframe\">\n",
       "  <thead>\n",
       "    <tr style=\"text-align: right;\">\n",
       "      <th></th>\n",
       "      <th>show_id</th>\n",
       "      <th>type</th>\n",
       "      <th>title</th>\n",
       "      <th>director</th>\n",
       "      <th>cast</th>\n",
       "      <th>country</th>\n",
       "      <th>date_added</th>\n",
       "      <th>release_year</th>\n",
       "      <th>rating</th>\n",
       "      <th>duration</th>\n",
       "      <th>listed_in</th>\n",
       "      <th>description</th>\n",
       "    </tr>\n",
       "  </thead>\n",
       "  <tbody>\n",
       "    <tr>\n",
       "      <th>0</th>\n",
       "      <td>247747</td>\n",
       "      <td>Movie</td>\n",
       "      <td>Amar Akbar Anthony</td>\n",
       "      <td>Manmohan Desai</td>\n",
       "      <td>Vinod Khanna, Rishi Kapoor, Amitabh Bachchan, ...</td>\n",
       "      <td>India</td>\n",
       "      <td>December 31, 2019</td>\n",
       "      <td>1977</td>\n",
       "      <td>TV-14</td>\n",
       "      <td>172 min</td>\n",
       "      <td>Action &amp; Adventure, Classic Movies, Comedies</td>\n",
       "      <td>Abandoned in a park by their father, Amar, Akb...</td>\n",
       "    </tr>\n",
       "    <tr>\n",
       "      <th>1</th>\n",
       "      <td>269880</td>\n",
       "      <td>Movie</td>\n",
       "      <td>Bad Boys</td>\n",
       "      <td>Michael Bay</td>\n",
       "      <td>Will Smith, Martin Lawrence, Téa Leoni, Tchéky...</td>\n",
       "      <td>United States</td>\n",
       "      <td>October 1, 2019</td>\n",
       "      <td>1995</td>\n",
       "      <td>R</td>\n",
       "      <td>119 min</td>\n",
       "      <td>Action &amp; Adventure, Comedies</td>\n",
       "      <td>In this fast-paced actioner, two Miami narcoti...</td>\n",
       "    </tr>\n",
       "    <tr>\n",
       "      <th>2</th>\n",
       "      <td>281550</td>\n",
       "      <td>Movie</td>\n",
       "      <td>La Bamba</td>\n",
       "      <td>Luis Valdez</td>\n",
       "      <td>Lou Diamond Phillips, Esai Morales, Rosanna De...</td>\n",
       "      <td>United States</td>\n",
       "      <td>January 1, 2020</td>\n",
       "      <td>1987</td>\n",
       "      <td>PG-13</td>\n",
       "      <td>109 min</td>\n",
       "      <td>Classic Movies, Dramas, Music &amp; Musicals</td>\n",
       "      <td>The plane crash that killed Buddy Holly also t...</td>\n",
       "    </tr>\n",
       "    <tr>\n",
       "      <th>3</th>\n",
       "      <td>284890</td>\n",
       "      <td>Movie</td>\n",
       "      <td>Barsaat</td>\n",
       "      <td>Rajkumar Santoshi</td>\n",
       "      <td>Twinkle Khanna, Bobby Deol, Danny Denzongpa, R...</td>\n",
       "      <td>India</td>\n",
       "      <td>April 1, 2018</td>\n",
       "      <td>1995</td>\n",
       "      <td>TV-PG</td>\n",
       "      <td>166 min</td>\n",
       "      <td>Action &amp; Adventure, International Movies, Musi...</td>\n",
       "      <td>A naïve young man and a rich city girl fall in...</td>\n",
       "    </tr>\n",
       "    <tr>\n",
       "      <th>4</th>\n",
       "      <td>292118</td>\n",
       "      <td>Movie</td>\n",
       "      <td>Beavis and Butt-head Do America</td>\n",
       "      <td>Mike Judge</td>\n",
       "      <td>Mike Judge, Bruce Willis, Demi Moore, Cloris L...</td>\n",
       "      <td>United States</td>\n",
       "      <td>November 20, 2019</td>\n",
       "      <td>1996</td>\n",
       "      <td>PG-13</td>\n",
       "      <td>81 min</td>\n",
       "      <td>Comedies, Cult Movies</td>\n",
       "      <td>After realizing that their boob tube is gone, ...</td>\n",
       "    </tr>\n",
       "  </tbody>\n",
       "</table>\n",
       "</div>"
      ],
      "text/plain": [
       "   show_id   type                            title           director  \\\n",
       "0   247747  Movie               Amar Akbar Anthony     Manmohan Desai   \n",
       "1   269880  Movie                         Bad Boys        Michael Bay   \n",
       "2   281550  Movie                         La Bamba        Luis Valdez   \n",
       "3   284890  Movie                          Barsaat  Rajkumar Santoshi   \n",
       "4   292118  Movie  Beavis and Butt-head Do America         Mike Judge   \n",
       "\n",
       "                                                cast        country  \\\n",
       "0  Vinod Khanna, Rishi Kapoor, Amitabh Bachchan, ...          India   \n",
       "1  Will Smith, Martin Lawrence, Téa Leoni, Tchéky...  United States   \n",
       "2  Lou Diamond Phillips, Esai Morales, Rosanna De...  United States   \n",
       "3  Twinkle Khanna, Bobby Deol, Danny Denzongpa, R...          India   \n",
       "4  Mike Judge, Bruce Willis, Demi Moore, Cloris L...  United States   \n",
       "\n",
       "          date_added  release_year rating duration  \\\n",
       "0  December 31, 2019          1977  TV-14  172 min   \n",
       "1    October 1, 2019          1995      R  119 min   \n",
       "2    January 1, 2020          1987  PG-13  109 min   \n",
       "3      April 1, 2018          1995  TV-PG  166 min   \n",
       "4  November 20, 2019          1996  PG-13   81 min   \n",
       "\n",
       "                                           listed_in  \\\n",
       "0       Action & Adventure, Classic Movies, Comedies   \n",
       "1                       Action & Adventure, Comedies   \n",
       "2           Classic Movies, Dramas, Music & Musicals   \n",
       "3  Action & Adventure, International Movies, Musi...   \n",
       "4                              Comedies, Cult Movies   \n",
       "\n",
       "                                         description  \n",
       "0  Abandoned in a park by their father, Amar, Akb...  \n",
       "1  In this fast-paced actioner, two Miami narcoti...  \n",
       "2  The plane crash that killed Buddy Holly also t...  \n",
       "3  A naïve young man and a rich city girl fall in...  \n",
       "4  After realizing that their boob tube is gone, ...  "
      ]
     },
     "execution_count": 52,
     "metadata": {},
     "output_type": "execute_result"
    }
   ],
   "source": [
    "netflix_titles_df.head()"
   ]
  },
  {
   "cell_type": "code",
   "execution_count": 53,
   "metadata": {},
   "outputs": [
    {
     "data": {
      "text/html": [
       "<div>\n",
       "<style scoped>\n",
       "    .dataframe tbody tr th:only-of-type {\n",
       "        vertical-align: middle;\n",
       "    }\n",
       "\n",
       "    .dataframe tbody tr th {\n",
       "        vertical-align: top;\n",
       "    }\n",
       "\n",
       "    .dataframe thead th {\n",
       "        text-align: right;\n",
       "    }\n",
       "</style>\n",
       "<table border=\"1\" class=\"dataframe\">\n",
       "  <thead>\n",
       "    <tr style=\"text-align: right;\">\n",
       "      <th></th>\n",
       "      <th>show_id</th>\n",
       "      <th>type</th>\n",
       "      <th>title</th>\n",
       "      <th>director</th>\n",
       "      <th>cast</th>\n",
       "      <th>country</th>\n",
       "      <th>date_added</th>\n",
       "      <th>release_year</th>\n",
       "      <th>rating</th>\n",
       "      <th>duration</th>\n",
       "      <th>listed_in</th>\n",
       "      <th>description</th>\n",
       "    </tr>\n",
       "  </thead>\n",
       "  <tbody>\n",
       "    <tr>\n",
       "      <th>6226</th>\n",
       "      <td>81224128</td>\n",
       "      <td>TV Show</td>\n",
       "      <td>The Repair Shop</td>\n",
       "      <td>None</td>\n",
       "      <td>None</td>\n",
       "      <td>United Kingdom</td>\n",
       "      <td>December 1, 2019</td>\n",
       "      <td>2018</td>\n",
       "      <td>PG</td>\n",
       "      <td>2 Seasons</td>\n",
       "      <td>British TV Shows, Reality TV</td>\n",
       "      <td>Expert artisans restore timeworn family heirlo...</td>\n",
       "    </tr>\n",
       "    <tr>\n",
       "      <th>6227</th>\n",
       "      <td>81224811</td>\n",
       "      <td>TV Show</td>\n",
       "      <td>Pucca: Love Recipe</td>\n",
       "      <td>None</td>\n",
       "      <td>Jeonghwa Yang, Yongwoo Shin, Doug Erholtz, Mel...</td>\n",
       "      <td>None</td>\n",
       "      <td>December 31, 2019</td>\n",
       "      <td>2018</td>\n",
       "      <td>TV-Y7</td>\n",
       "      <td>1 Season</td>\n",
       "      <td>Kids' TV, Korean TV Shows</td>\n",
       "      <td>Faced with a threat to the survival of her fam...</td>\n",
       "    </tr>\n",
       "    <tr>\n",
       "      <th>6228</th>\n",
       "      <td>81224839</td>\n",
       "      <td>TV Show</td>\n",
       "      <td>Rainbow Ruby</td>\n",
       "      <td>None</td>\n",
       "      <td>Alyssya Swales, Shannon Chan-Kent, Brian Drumm...</td>\n",
       "      <td>South Korea, Canada, United States, China</td>\n",
       "      <td>December 31, 2019</td>\n",
       "      <td>2016</td>\n",
       "      <td>TV-Y</td>\n",
       "      <td>1 Season</td>\n",
       "      <td>Kids' TV</td>\n",
       "      <td>Ruby makes magical journeys with her teddy bea...</td>\n",
       "    </tr>\n",
       "    <tr>\n",
       "      <th>6229</th>\n",
       "      <td>81224868</td>\n",
       "      <td>TV Show</td>\n",
       "      <td>Robot Trains</td>\n",
       "      <td>None</td>\n",
       "      <td>Bill Rogers, Carrie Savage, Ken Spassione, Ang...</td>\n",
       "      <td>South Korea</td>\n",
       "      <td>December 31, 2019</td>\n",
       "      <td>2018</td>\n",
       "      <td>TV-Y7</td>\n",
       "      <td>2 Seasons</td>\n",
       "      <td>Kids' TV, Korean TV Shows</td>\n",
       "      <td>Keeping peace and safety in Train World is no ...</td>\n",
       "    </tr>\n",
       "    <tr>\n",
       "      <th>6230</th>\n",
       "      <td>81227195</td>\n",
       "      <td>Movie</td>\n",
       "      <td>Kalushi: The Story of Solomon Mahlangu</td>\n",
       "      <td>Mandla Dube</td>\n",
       "      <td>Thabo Rametsi, Thabo Malema, Welile Nzuza, Jaf...</td>\n",
       "      <td>South Africa</td>\n",
       "      <td>November 29, 2019</td>\n",
       "      <td>2016</td>\n",
       "      <td>TV-MA</td>\n",
       "      <td>107 min</td>\n",
       "      <td>Dramas, International Movies</td>\n",
       "      <td>The life and times of iconic South African lib...</td>\n",
       "    </tr>\n",
       "    <tr>\n",
       "      <th>6231</th>\n",
       "      <td>81228864</td>\n",
       "      <td>Movie</td>\n",
       "      <td>Blitz Patrollie</td>\n",
       "      <td>Andrew Wessels</td>\n",
       "      <td>Joey Rasdien, David Kau, David Kibuuka, Chris ...</td>\n",
       "      <td>South Africa</td>\n",
       "      <td>December 27, 2019</td>\n",
       "      <td>2013</td>\n",
       "      <td>TV-MA</td>\n",
       "      <td>102 min</td>\n",
       "      <td>Action &amp; Adventure, Comedies, International Mo...</td>\n",
       "      <td>Caught between family pressures and small-time...</td>\n",
       "    </tr>\n",
       "    <tr>\n",
       "      <th>6232</th>\n",
       "      <td>81235603</td>\n",
       "      <td>TV Show</td>\n",
       "      <td>Sym-Bionic Titan</td>\n",
       "      <td>None</td>\n",
       "      <td>Tara Strong, Kevin Thoms, Brian Posehn, John D...</td>\n",
       "      <td>United States</td>\n",
       "      <td>December 15, 2019</td>\n",
       "      <td>2010</td>\n",
       "      <td>TV-PG</td>\n",
       "      <td>1 Season</td>\n",
       "      <td>Kids' TV</td>\n",
       "      <td>Aliens fleeing their planet land on Earth, pos...</td>\n",
       "    </tr>\n",
       "    <tr>\n",
       "      <th>6233</th>\n",
       "      <td>81235729</td>\n",
       "      <td>Movie</td>\n",
       "      <td>Jezebel</td>\n",
       "      <td>Numa Perrier</td>\n",
       "      <td>Tiffany Tenille, Numa Perrier, Stephen Barring...</td>\n",
       "      <td>United States</td>\n",
       "      <td>January 16, 2020</td>\n",
       "      <td>2019</td>\n",
       "      <td>TV-MA</td>\n",
       "      <td>86 min</td>\n",
       "      <td>Dramas, Independent Movies</td>\n",
       "      <td>During the internet's infancy, a vulnerable wo...</td>\n",
       "    </tr>\n",
       "  </tbody>\n",
       "</table>\n",
       "</div>"
      ],
      "text/plain": [
       "       show_id     type                                   title  \\\n",
       "6226  81224128  TV Show                         The Repair Shop   \n",
       "6227  81224811  TV Show                      Pucca: Love Recipe   \n",
       "6228  81224839  TV Show                            Rainbow Ruby   \n",
       "6229  81224868  TV Show                            Robot Trains   \n",
       "6230  81227195    Movie  Kalushi: The Story of Solomon Mahlangu   \n",
       "6231  81228864    Movie                         Blitz Patrollie   \n",
       "6232  81235603  TV Show                        Sym-Bionic Titan   \n",
       "6233  81235729    Movie                                 Jezebel   \n",
       "\n",
       "            director                                               cast  \\\n",
       "6226            None                                               None   \n",
       "6227            None  Jeonghwa Yang, Yongwoo Shin, Doug Erholtz, Mel...   \n",
       "6228            None  Alyssya Swales, Shannon Chan-Kent, Brian Drumm...   \n",
       "6229            None  Bill Rogers, Carrie Savage, Ken Spassione, Ang...   \n",
       "6230     Mandla Dube  Thabo Rametsi, Thabo Malema, Welile Nzuza, Jaf...   \n",
       "6231  Andrew Wessels  Joey Rasdien, David Kau, David Kibuuka, Chris ...   \n",
       "6232            None  Tara Strong, Kevin Thoms, Brian Posehn, John D...   \n",
       "6233    Numa Perrier  Tiffany Tenille, Numa Perrier, Stephen Barring...   \n",
       "\n",
       "                                        country         date_added  \\\n",
       "6226                             United Kingdom   December 1, 2019   \n",
       "6227                                       None  December 31, 2019   \n",
       "6228  South Korea, Canada, United States, China  December 31, 2019   \n",
       "6229                                South Korea  December 31, 2019   \n",
       "6230                               South Africa  November 29, 2019   \n",
       "6231                               South Africa  December 27, 2019   \n",
       "6232                              United States  December 15, 2019   \n",
       "6233                              United States   January 16, 2020   \n",
       "\n",
       "      release_year rating   duration  \\\n",
       "6226          2018     PG  2 Seasons   \n",
       "6227          2018  TV-Y7   1 Season   \n",
       "6228          2016   TV-Y   1 Season   \n",
       "6229          2018  TV-Y7  2 Seasons   \n",
       "6230          2016  TV-MA    107 min   \n",
       "6231          2013  TV-MA    102 min   \n",
       "6232          2010  TV-PG   1 Season   \n",
       "6233          2019  TV-MA     86 min   \n",
       "\n",
       "                                              listed_in  \\\n",
       "6226                       British TV Shows, Reality TV   \n",
       "6227                          Kids' TV, Korean TV Shows   \n",
       "6228                                           Kids' TV   \n",
       "6229                          Kids' TV, Korean TV Shows   \n",
       "6230                       Dramas, International Movies   \n",
       "6231  Action & Adventure, Comedies, International Mo...   \n",
       "6232                                           Kids' TV   \n",
       "6233                         Dramas, Independent Movies   \n",
       "\n",
       "                                            description  \n",
       "6226  Expert artisans restore timeworn family heirlo...  \n",
       "6227  Faced with a threat to the survival of her fam...  \n",
       "6228  Ruby makes magical journeys with her teddy bea...  \n",
       "6229  Keeping peace and safety in Train World is no ...  \n",
       "6230  The life and times of iconic South African lib...  \n",
       "6231  Caught between family pressures and small-time...  \n",
       "6232  Aliens fleeing their planet land on Earth, pos...  \n",
       "6233  During the internet's infancy, a vulnerable wo...  "
      ]
     },
     "execution_count": 53,
     "metadata": {},
     "output_type": "execute_result"
    }
   ],
   "source": [
    "netflix_titles_df.tail(8)"
   ]
  },
  {
   "cell_type": "markdown",
   "metadata": {},
   "source": [
    "### **3.2** Erstellen einer Kopie der Daten"
   ]
  },
  {
   "cell_type": "markdown",
   "metadata": {},
   "source": [
    "An manchen Stellen kann es sinnvoll sein, eine Kopie des DataFrames zu erstellen, um zum Beispiel die originalen Daten noch in einem DataFrame zu behalten. Dafür gibt es die DataFrame Methode `copy`. Wird eine Kopie eines DataFrames berarbeitet werden ausschließlich die Daten der Kopie verändert."
   ]
  },
  {
   "cell_type": "code",
   "execution_count": 54,
   "metadata": {},
   "outputs": [],
   "source": [
    "netflix_titles_copy = netflix_titles_df.copy()"
   ]
  },
  {
   "cell_type": "markdown",
   "metadata": {},
   "source": [
    "### **3.3** Umbenennen von Spaltennamen"
   ]
  },
  {
   "cell_type": "code",
   "execution_count": null,
   "metadata": {},
   "outputs": [],
   "source": []
  },
  {
   "cell_type": "markdown",
   "metadata": {},
   "source": [
    "### **3.4** Beschreiben der Daten"
   ]
  },
  {
   "cell_type": "code",
   "execution_count": null,
   "metadata": {},
   "outputs": [],
   "source": []
  },
  {
   "cell_type": "code",
   "execution_count": 62,
   "metadata": {},
   "outputs": [],
   "source": [
    "# netflix_titles_df.shape"
   ]
  },
  {
   "cell_type": "markdown",
   "metadata": {},
   "source": [
    "### **3.5** Datentypen der Spalten"
   ]
  },
  {
   "cell_type": "code",
   "execution_count": null,
   "metadata": {},
   "outputs": [],
   "source": []
  },
  {
   "cell_type": "markdown",
   "metadata": {},
   "source": [
    "### **3.6** Zugriff auf Datenwerte"
   ]
  },
  {
   "cell_type": "code",
   "execution_count": null,
   "metadata": {},
   "outputs": [],
   "source": []
  },
  {
   "cell_type": "markdown",
   "metadata": {},
   "source": [
    "### **3.7** Untersuchen der Daten"
   ]
  },
  {
   "cell_type": "code",
   "execution_count": null,
   "metadata": {},
   "outputs": [],
   "source": []
  },
  {
   "cell_type": "code",
   "execution_count": null,
   "metadata": {},
   "outputs": [],
   "source": []
  },
  {
   "cell_type": "markdown",
   "metadata": {},
   "source": [
    "<div style=\"background-color: #FFCA00 ; padding: 5px; \"></div>\n",
    "\n",
    "### **3.8** Übungsteil"
   ]
  },
  {
   "cell_type": "code",
   "execution_count": null,
   "metadata": {},
   "outputs": [],
   "source": []
  },
  {
   "cell_type": "markdown",
   "metadata": {},
   "source": [
    "<div style=\"background-color: #150458 ; padding: 5px; \"></div>\n",
    "\n",
    "## **4** Datenbereinigung"
   ]
  },
  {
   "cell_type": "code",
   "execution_count": null,
   "metadata": {},
   "outputs": [],
   "source": []
  },
  {
   "cell_type": "code",
   "execution_count": null,
   "metadata": {},
   "outputs": [],
   "source": []
  },
  {
   "cell_type": "code",
   "execution_count": null,
   "metadata": {},
   "outputs": [],
   "source": []
  },
  {
   "cell_type": "markdown",
   "metadata": {},
   "source": [
    "<div style=\"background-color: #FFCA00 ; padding: 5px; \"></div>\n",
    "\n",
    "### Übungsteil"
   ]
  },
  {
   "cell_type": "code",
   "execution_count": null,
   "metadata": {},
   "outputs": [],
   "source": []
  },
  {
   "cell_type": "markdown",
   "metadata": {},
   "source": [
    "<div style=\"background-color: #150458 ; padding: 5px; \"></div>\n",
    "\n",
    "## **5** Datenmanipulation"
   ]
  },
  {
   "cell_type": "code",
   "execution_count": null,
   "metadata": {},
   "outputs": [],
   "source": []
  },
  {
   "cell_type": "code",
   "execution_count": null,
   "metadata": {},
   "outputs": [],
   "source": []
  },
  {
   "cell_type": "code",
   "execution_count": null,
   "metadata": {},
   "outputs": [],
   "source": []
  },
  {
   "cell_type": "markdown",
   "metadata": {},
   "source": [
    "<div style=\"background-color: #FFCA00 ; padding: 5px; \"></div>\n",
    "\n",
    "### Übungsteil"
   ]
  },
  {
   "cell_type": "code",
   "execution_count": null,
   "metadata": {},
   "outputs": [],
   "source": []
  },
  {
   "cell_type": "markdown",
   "metadata": {},
   "source": [
    "<div style=\"background-color: #E70488 ; padding: 5px; \"></div>\n",
    "\n",
    "## **6** Abschlussaufgabe"
   ]
  },
  {
   "cell_type": "code",
   "execution_count": null,
   "metadata": {},
   "outputs": [],
   "source": []
  },
  {
   "cell_type": "code",
   "execution_count": null,
   "metadata": {},
   "outputs": [],
   "source": []
  },
  {
   "cell_type": "code",
   "execution_count": null,
   "metadata": {},
   "outputs": [],
   "source": []
  },
  {
   "cell_type": "code",
   "execution_count": null,
   "metadata": {},
   "outputs": [],
   "source": []
  },
  {
   "cell_type": "markdown",
   "metadata": {},
   "source": []
  }
 ],
 "metadata": {
  "kernelspec": {
   "display_name": "Python 3",
   "language": "python",
   "name": "python3"
  },
  "language_info": {
   "codemirror_mode": {
    "name": "ipython",
    "version": 3
   },
   "file_extension": ".py",
   "mimetype": "text/x-python",
   "name": "python",
   "nbconvert_exporter": "python",
   "pygments_lexer": "ipython3",
   "version": "3.8.5"
  }
 },
 "nbformat": 4,
 "nbformat_minor": 4
}
