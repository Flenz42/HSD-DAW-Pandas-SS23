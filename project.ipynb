{
 "cells": [
  {
   "cell_type": "code",
   "execution_count": 21,
   "outputs": [],
   "source": [
    "import pandas as pd\n",
    "import parse_functions as pf"
   ],
   "metadata": {
    "collapsed": false,
    "ExecuteTime": {
     "end_time": "2023-05-30T07:06:42.696861400Z",
     "start_time": "2023-05-30T07:06:42.643847200Z"
    }
   }
  },
  {
   "cell_type": "markdown",
   "source": [],
   "metadata": {
    "collapsed": false
   }
  },
  {
   "cell_type": "code",
   "execution_count": 22,
   "outputs": [
    {
     "name": "stdout",
     "output_type": "stream",
     "text": [
      "20\n"
     ]
    },
    {
     "data": {
      "text/plain": "              ip                      time  \\\n0   54.36.149.41 2019-01-22 03:56:14+03:30   \n1    31.56.96.51 2019-01-22 03:56:16+03:30   \n2    31.56.96.51 2019-01-22 03:56:16+03:30   \n3  40.77.167.129 2019-01-22 03:56:17+03:30   \n4    91.99.72.15 2019-01-22 03:56:17+03:30   \n\n                                             request  status   size  \\\n0  GET /filter/27|13%20%D9%85%DA%AF%D8%A7%D9%BE%D...     200  30577   \n1     GET /image/60844/productModel/200x200 HTTP/1.1     200   5667   \n2     GET /image/61474/productModel/200x200 HTTP/1.1     200   5379   \n3     GET /image/14925/productModel/100x100 HTTP/1.1     200   1696   \n4  GET /product/31893/62100/%D8%B3%D8%B4%D9%88%D8...     200  41483   \n\n                               referer  \\\n0                                  NaN   \n1  https://www.zanbil.ir/m/filter/b113   \n2  https://www.zanbil.ir/m/filter/b113   \n3                                  NaN   \n4                                  NaN   \n\n                                          user_agent  \n0  Mozilla/5.0 (compatible; AhrefsBot/6.1; +http:...  \n1  Mozilla/5.0 (Linux; Android 6.0; ALE-L21 Build...  \n2  Mozilla/5.0 (Linux; Android 6.0; ALE-L21 Build...  \n3  Mozilla/5.0 (compatible; bingbot/2.0; +http://...  \n4  Mozilla/5.0 (Windows NT 6.2; Win64; x64; rv:16...  ",
      "text/html": "<div>\n<style scoped>\n    .dataframe tbody tr th:only-of-type {\n        vertical-align: middle;\n    }\n\n    .dataframe tbody tr th {\n        vertical-align: top;\n    }\n\n    .dataframe thead th {\n        text-align: right;\n    }\n</style>\n<table border=\"1\" class=\"dataframe\">\n  <thead>\n    <tr style=\"text-align: right;\">\n      <th></th>\n      <th>ip</th>\n      <th>time</th>\n      <th>request</th>\n      <th>status</th>\n      <th>size</th>\n      <th>referer</th>\n      <th>user_agent</th>\n    </tr>\n  </thead>\n  <tbody>\n    <tr>\n      <th>0</th>\n      <td>54.36.149.41</td>\n      <td>2019-01-22 03:56:14+03:30</td>\n      <td>GET /filter/27|13%20%D9%85%DA%AF%D8%A7%D9%BE%D...</td>\n      <td>200</td>\n      <td>30577</td>\n      <td>NaN</td>\n      <td>Mozilla/5.0 (compatible; AhrefsBot/6.1; +http:...</td>\n    </tr>\n    <tr>\n      <th>1</th>\n      <td>31.56.96.51</td>\n      <td>2019-01-22 03:56:16+03:30</td>\n      <td>GET /image/60844/productModel/200x200 HTTP/1.1</td>\n      <td>200</td>\n      <td>5667</td>\n      <td>https://www.zanbil.ir/m/filter/b113</td>\n      <td>Mozilla/5.0 (Linux; Android 6.0; ALE-L21 Build...</td>\n    </tr>\n    <tr>\n      <th>2</th>\n      <td>31.56.96.51</td>\n      <td>2019-01-22 03:56:16+03:30</td>\n      <td>GET /image/61474/productModel/200x200 HTTP/1.1</td>\n      <td>200</td>\n      <td>5379</td>\n      <td>https://www.zanbil.ir/m/filter/b113</td>\n      <td>Mozilla/5.0 (Linux; Android 6.0; ALE-L21 Build...</td>\n    </tr>\n    <tr>\n      <th>3</th>\n      <td>40.77.167.129</td>\n      <td>2019-01-22 03:56:17+03:30</td>\n      <td>GET /image/14925/productModel/100x100 HTTP/1.1</td>\n      <td>200</td>\n      <td>1696</td>\n      <td>NaN</td>\n      <td>Mozilla/5.0 (compatible; bingbot/2.0; +http://...</td>\n    </tr>\n    <tr>\n      <th>4</th>\n      <td>91.99.72.15</td>\n      <td>2019-01-22 03:56:17+03:30</td>\n      <td>GET /product/31893/62100/%D8%B3%D8%B4%D9%88%D8...</td>\n      <td>200</td>\n      <td>41483</td>\n      <td>NaN</td>\n      <td>Mozilla/5.0 (Windows NT 6.2; Win64; x64; rv:16...</td>\n    </tr>\n  </tbody>\n</table>\n</div>"
     },
     "execution_count": 22,
     "metadata": {},
     "output_type": "execute_result"
    }
   ],
   "source": [
    "# Source: https://mmas.github.io/read-apache-access-log-pandas\n",
    "access_log = pd.read_csv(\n",
    "    'data/access_short.log',\n",
    "    sep=r'\\s(?=(?:[^\"]*\"[^\"]*\")*[^\"]*$)(?![^\\[]*\\])',\n",
    "    engine='python',\n",
    "    na_values='-',\n",
    "    header=None,\n",
    "    usecols=[0, 3, 4, 5, 6, 7, 8],\n",
    "    names=['ip', 'time', 'request', 'status', 'size', 'referer', 'user_agent'],\n",
    "    converters={'time': pf.parse_datetime,\n",
    "                'request': pf.parse_str,\n",
    "                'status': int,\n",
    "                'size': int,\n",
    "                'referer': pf.parse_str,\n",
    "                'user_agent': pf.parse_str})\n",
    "\n",
    "access_log.head()\n"
   ],
   "metadata": {
    "collapsed": false,
    "ExecuteTime": {
     "end_time": "2023-05-30T07:06:44.211348800Z",
     "start_time": "2023-05-30T07:06:42.729378100Z"
    }
   }
  },
  {
   "cell_type": "code",
   "execution_count": 22,
   "outputs": [],
   "source": [],
   "metadata": {
    "collapsed": false,
    "ExecuteTime": {
     "end_time": "2023-05-30T07:06:44.325347600Z",
     "start_time": "2023-05-30T07:06:44.290348700Z"
    }
   }
  }
 ],
 "metadata": {
  "kernelspec": {
   "display_name": "Python 3",
   "language": "python",
   "name": "python3"
  },
  "language_info": {
   "codemirror_mode": {
    "name": "ipython",
    "version": 2
   },
   "file_extension": ".py",
   "mimetype": "text/x-python",
   "name": "python",
   "nbconvert_exporter": "python",
   "pygments_lexer": "ipython2",
   "version": "2.7.6"
  }
 },
 "nbformat": 4,
 "nbformat_minor": 0
}
