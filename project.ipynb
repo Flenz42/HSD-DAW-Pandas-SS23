{
 "cells": [
  {
   "cell_type": "code",
   "execution_count": 1,
   "metadata": {
    "ExecuteTime": {
     "end_time": "2023-05-30T07:15:05.957968200Z",
     "start_time": "2023-05-30T07:15:05.027470800Z"
    },
    "collapsed": false
   },
   "outputs": [],
   "source": [
    "import pandas as pd\n",
    "import ipcalc\n",
    "import parse_functions as pf\n",
    "import matplotlib.pyplot as plt\n",
    "import seaborn as sns\n",
    "import numpy as np\n",
    "import re\n",
    "import user_agents as ua\n",
    "from helpers import filter_other, autopct_format\n",
    "import calendar"
   ]
  },
  {
   "attachments": {},
   "cell_type": "markdown",
   "metadata": {},
   "source": [
    "# Vorbereitung: Einlesen der Daten\n",
    "- Für die Analsyse müssen die Daten des acces.log Datei eingelesen werden!\n",
    "\n",
    "### Schwierigkeit\n",
    "- Größe des Datensatzes: 10.365.152 Log Einträge (über 10 Milionen)\n",
    "- keine eindeutiges Trennzeichen in den Daten vorhanden\n",
    "- kein von Pandas vorgefertigter Import für Log Dateien\n",
    "\n",
    "**So sehen die Anfragen aus:**\n",
    "```\n",
    "31.56.96.51 - - [22/Jan/2019:03:56:16 +0330] \"GET /image/60844/productModel/200x200 HTTP/1.1\" 200 5667 \"https://www.zanbil.ir/m/filter/b113\" \"Mozilla/5.0 (Linux; Android 6.0; ALE-L21 Build/HuaweiALE-L21) AppleWebKit/537.36 (KHTML, like Gecko) Chrome/66.0.3359.158 Mobile Safari/537.36\" \"-\"\n",
    "\n",
    "31.56.96.51 - - [22/Jan/2019:03:56:16 +0330] \"GET /image/61474/productModel/200x200 HTTP/1.1\" 200 5379 \"https://www.zanbil.ir/m/filter/b113\" \"Mozilla/5.0 (Linux; Android 6.0; ALE-L21 Build/HuaweiALE-L21) AppleWebKit/537.36 (KHTML, like Gecko) Chrome/66.0.3359.158 Mobile Safari/537.36\" \"-\"\n",
    "```\n",
    "\n",
    "### Lösung\n",
    "- Nutzung des Read_CSV Befehls angewandt auf die acces.log-Datei\n",
    "- Anwendung möglich durch die Angabe des Seperators mitthilfe einer Regular Expression ```sep=r'\\s(?=(?:[^\"]*\"[^\"]*\")*[^\"]*$)(?![^\\[]*\\]\\s)'```\n",
    "- Nach eindeutiger zuordnung des Trennzeichens können Daten eingelesen werden!\n",
    "\n",
    "**Nachteil:** Die Ladezeit ist aufgrund der Größe des Datensatzes relativ lang (ca. 10-15 Minuten)"
   ]
  },
  {
   "cell_type": "code",
   "execution_count": null,
   "metadata": {
    "ExecuteTime": {
     "start_time": "2023-05-30T07:15:05.394469100Z"
    },
    "collapsed": false,
    "is_executing": true
   },
   "outputs": [],
   "source": [
    "# Source: https://mmas.github.io/read-apache-access-log-pandas\n",
    "access_log = pd.read_csv(\n",
    "    'data/access.log',\n",
    "    sep=r'\\s(?=(?:[^\"]*\"[^\"]*\")*[^\"]*$)(?![^\\[]*\\]\\s)',\n",
    "    engine='python',\n",
    "    na_values='-',\n",
    "    header=None,\n",
    "    usecols=[0, 3, 4, 5, 6, 7, 8],\n",
    "    names=['ip', 'time', 'request', 'status', 'size', 'referer', 'user_agent'],\n",
    "    converters={'time': pf.parse_datetime,\n",
    "                'request': pf.parse_str,\n",
    "                'status': int,\n",
    "                'size': int,\n",
    "                'referer': pf.parse_str,\n",
    "                'user_agent': pf.parse_str},\n",
    "    on_bad_lines='warn')\n",
    "\n",
    "access_log.head()\n"
   ]
  },
  {
   "attachments": {},
   "cell_type": "markdown",
   "metadata": {},
   "source": [
    "# Umwandlung in CSV Datei\n",
    "- Nachdem Daten eingelesen wurden diese direkt als CSV-Datei \"zwischenspeichern\"\n",
    "\n",
    "**Vorteil:** Verkürzt die Ladezeit auf ca. 3-4 Minuten\n",
    "- CSV Datei kann genutzt werden um die Daten erneut einzulesen <br>\n",
    "- Das Einladen über die strukturierte CSV Datei geht deutlich schneller als laden der Daten aus der acces.log Datei"
   ]
  },
  {
   "cell_type": "code",
   "execution_count": null,
   "metadata": {},
   "outputs": [],
   "source": [
    "# Daten in einer CSV Datei speichern\n",
    "filename = \"data/acces_log.csv\"\n",
    "access_log.to_csv(filename)"
   ]
  },
  {
   "attachments": {},
   "cell_type": "markdown",
   "metadata": {},
   "source": [
    "# Daten aus CSV laden\n",
    "- Die Daten aus der zuvor genrierten CSV Datei laden. \n",
    "\n",
    "**Wichtig:** Es muss zuvor die CSV Datei generiert werden, indem mindestens einmal die Daten aus der acces.log Datei eingelesen wurden!\n",
    "- dieser Schritt wird also erst bei der mehrfachen Ausführung des Notebooks sinnvoll! "
   ]
  },
  {
   "cell_type": "code",
   "execution_count": 2,
   "metadata": {},
   "outputs": [],
   "source": [
    "# Daten aus CSV laden\n",
    "filename = \"data/acces_log.csv\"\n",
    "access_log = pd.read_csv(filename)"
   ]
  },
  {
   "cell_type": "code",
   "execution_count": 3,
   "metadata": {},
   "outputs": [
    {
     "data": {
      "text/plain": [
       "10365152"
      ]
     },
     "execution_count": 3,
     "metadata": {},
     "output_type": "execute_result"
    }
   ],
   "source": [
    "# Erzeuge eine Kopie der Daten als \"Backup\" \n",
    "access_log_backup = access_log.copy()\n",
    "len(access_log_backup)"
   ]
  },
  {
   "attachments": {},
   "cell_type": "markdown",
   "metadata": {},
   "source": [
    "## Daten konvertieren & normalisieren\n",
    "Die in der CSV hinterlegten Daten in die benötigten Datentypen überführen\n",
    "\n",
    "- time: soll als Datum im Pandas Dataframe hinterlegt und entsprechend Normalisiert werden!"
   ]
  },
  {
   "cell_type": "code",
   "execution_count": 4,
   "metadata": {},
   "outputs": [],
   "source": [
    "# Typen konvertieren\n",
    "access_log['time'] = pd.to_datetime(access_log['time'])\n",
    "\n",
    "# Daten normalisieren\n",
    "access_log['time'] = access_log['time'].dt.tz_convert('UTC')"
   ]
  },
  {
   "attachments": {},
   "cell_type": "markdown",
   "metadata": {},
   "source": [
    "# Aufgabe 1: Beliebtestes Produkt\n",
    "\n",
    "> Analysieren Sie welche Produkte beliebt sind. Entwickeln Sie dazu eine Definition eines beliebten Produktes. Stellen Sie die Ergebnisse anschaulich da.\n",
    "\n",
    "## Definition\n",
    "\n",
    "> Das Produkt mit dein meisten Aufrufen auf dem Webserver\n",
    "\n",
    "## Ergebnis\n",
    "\n",
    "> Das Product mit der ProductID 33968 wurde am häufigsten aufgerufen! Hierbei handelt es sich um das: Galaxy-J6-Plus-Dual-32GB\n"
   ]
  },
  {
   "cell_type": "code",
   "execution_count": 5,
   "metadata": {},
   "outputs": [
    {
     "data": {
      "text/html": [
       "<div>\n",
       "<style scoped>\n",
       "    .dataframe tbody tr th:only-of-type {\n",
       "        vertical-align: middle;\n",
       "    }\n",
       "\n",
       "    .dataframe tbody tr th {\n",
       "        vertical-align: top;\n",
       "    }\n",
       "\n",
       "    .dataframe thead th {\n",
       "        text-align: right;\n",
       "    }\n",
       "</style>\n",
       "<table border=\"1\" class=\"dataframe\">\n",
       "  <thead>\n",
       "    <tr style=\"text-align: right;\">\n",
       "      <th></th>\n",
       "      <th>Unnamed: 0</th>\n",
       "      <th>ip</th>\n",
       "      <th>time</th>\n",
       "      <th>request</th>\n",
       "      <th>status</th>\n",
       "      <th>size</th>\n",
       "      <th>referer</th>\n",
       "      <th>user_agent</th>\n",
       "      <th>product_id</th>\n",
       "    </tr>\n",
       "  </thead>\n",
       "  <tbody>\n",
       "    <tr>\n",
       "      <th>0</th>\n",
       "      <td>0</td>\n",
       "      <td>54.36.149.41</td>\n",
       "      <td>2019-01-22 00:26:14+00:00</td>\n",
       "      <td>GET /filter/27|13%20%D9%85%DA%AF%D8%A7%D9%BE%D...</td>\n",
       "      <td>200</td>\n",
       "      <td>30577</td>\n",
       "      <td>NaN</td>\n",
       "      <td>Mozilla/5.0 (compatible; AhrefsBot/6.1; +http:...</td>\n",
       "      <td>None</td>\n",
       "    </tr>\n",
       "    <tr>\n",
       "      <th>1</th>\n",
       "      <td>1</td>\n",
       "      <td>31.56.96.51</td>\n",
       "      <td>2019-01-22 00:26:16+00:00</td>\n",
       "      <td>GET /image/60844/productModel/200x200 HTTP/1.1</td>\n",
       "      <td>200</td>\n",
       "      <td>5667</td>\n",
       "      <td>https://www.zanbil.ir/m/filter/b113</td>\n",
       "      <td>Mozilla/5.0 (Linux; Android 6.0; ALE-L21 Build...</td>\n",
       "      <td>None</td>\n",
       "    </tr>\n",
       "    <tr>\n",
       "      <th>2</th>\n",
       "      <td>2</td>\n",
       "      <td>31.56.96.51</td>\n",
       "      <td>2019-01-22 00:26:16+00:00</td>\n",
       "      <td>GET /image/61474/productModel/200x200 HTTP/1.1</td>\n",
       "      <td>200</td>\n",
       "      <td>5379</td>\n",
       "      <td>https://www.zanbil.ir/m/filter/b113</td>\n",
       "      <td>Mozilla/5.0 (Linux; Android 6.0; ALE-L21 Build...</td>\n",
       "      <td>None</td>\n",
       "    </tr>\n",
       "    <tr>\n",
       "      <th>3</th>\n",
       "      <td>3</td>\n",
       "      <td>40.77.167.129</td>\n",
       "      <td>2019-01-22 00:26:17+00:00</td>\n",
       "      <td>GET /image/14925/productModel/100x100 HTTP/1.1</td>\n",
       "      <td>200</td>\n",
       "      <td>1696</td>\n",
       "      <td>NaN</td>\n",
       "      <td>Mozilla/5.0 (compatible; bingbot/2.0; +http://...</td>\n",
       "      <td>None</td>\n",
       "    </tr>\n",
       "    <tr>\n",
       "      <th>4</th>\n",
       "      <td>4</td>\n",
       "      <td>91.99.72.15</td>\n",
       "      <td>2019-01-22 00:26:17+00:00</td>\n",
       "      <td>GET /product/31893/62100/%D8%B3%D8%B4%D9%88%D8...</td>\n",
       "      <td>200</td>\n",
       "      <td>41483</td>\n",
       "      <td>NaN</td>\n",
       "      <td>Mozilla/5.0 (Windows NT 6.2; Win64; x64; rv:16...</td>\n",
       "      <td>31893</td>\n",
       "    </tr>\n",
       "  </tbody>\n",
       "</table>\n",
       "</div>"
      ],
      "text/plain": [
       "   Unnamed: 0             ip                      time  \\\n",
       "0           0   54.36.149.41 2019-01-22 00:26:14+00:00   \n",
       "1           1    31.56.96.51 2019-01-22 00:26:16+00:00   \n",
       "2           2    31.56.96.51 2019-01-22 00:26:16+00:00   \n",
       "3           3  40.77.167.129 2019-01-22 00:26:17+00:00   \n",
       "4           4    91.99.72.15 2019-01-22 00:26:17+00:00   \n",
       "\n",
       "                                             request  status   size  \\\n",
       "0  GET /filter/27|13%20%D9%85%DA%AF%D8%A7%D9%BE%D...     200  30577   \n",
       "1     GET /image/60844/productModel/200x200 HTTP/1.1     200   5667   \n",
       "2     GET /image/61474/productModel/200x200 HTTP/1.1     200   5379   \n",
       "3     GET /image/14925/productModel/100x100 HTTP/1.1     200   1696   \n",
       "4  GET /product/31893/62100/%D8%B3%D8%B4%D9%88%D8...     200  41483   \n",
       "\n",
       "                               referer  \\\n",
       "0                                  NaN   \n",
       "1  https://www.zanbil.ir/m/filter/b113   \n",
       "2  https://www.zanbil.ir/m/filter/b113   \n",
       "3                                  NaN   \n",
       "4                                  NaN   \n",
       "\n",
       "                                          user_agent product_id  \n",
       "0  Mozilla/5.0 (compatible; AhrefsBot/6.1; +http:...       None  \n",
       "1  Mozilla/5.0 (Linux; Android 6.0; ALE-L21 Build...       None  \n",
       "2  Mozilla/5.0 (Linux; Android 6.0; ALE-L21 Build...       None  \n",
       "3  Mozilla/5.0 (compatible; bingbot/2.0; +http://...       None  \n",
       "4  Mozilla/5.0 (Windows NT 6.2; Win64; x64; rv:16...      31893  "
      ]
     },
     "execution_count": 5,
     "metadata": {},
     "output_type": "execute_result"
    }
   ],
   "source": [
    "def extract_product_id(request):\n",
    "  m = re.search(r\"\\s\\/product\\/(\\d+)\\/\", str(request))\n",
    "  if m:\n",
    "    return m.group(1)\n",
    "  return None\n",
    "\n",
    "access_log['product_id'] = access_log['request'].map(extract_product_id)\n",
    "access_log.head()"
   ]
  },
  {
   "cell_type": "code",
   "execution_count": 6,
   "metadata": {},
   "outputs": [
    {
     "name": "stdout",
     "output_type": "stream",
     "text": [
      "764 x ID: 33953\n"
     ]
    },
    {
     "data": {
      "image/png": "[encoded data removed]",
      "text/plain": [
       "<Figure size 640x480 with 1 Axes>"
      ]
     },
     "metadata": {},
     "output_type": "display_data"
    }
   ],
   "source": [
    "most_viewed_products = access_log.loc[access_log['product_id'] != None].value_counts(access_log['product_id'])\n",
    "most_viewed_products = most_viewed_products[0:10]\n",
    "most_viewed_products.plot(kind='barh')\n",
    "most_viewed_product_id = most_viewed_products.keys()[0]\n",
    "print(most_viewed_products[0], 'x', 'ID:', most_viewed_product_id)\n",
    "\n",
    "# TODO: Display Product for Id"
   ]
  },
  {
   "attachments": {},
   "cell_type": "markdown",
   "metadata": {},
   "source": [
    "# Aufgabe 2\n",
    "\n",
    "> Untersuchen Sie den Datensatz auf weitere Auffälligkeiten.\n"
   ]
  },
  {
   "attachments": {},
   "cell_type": "markdown",
   "metadata": {},
   "source": [
    "## Basisinformationen durch Pandas-Befehle\n",
    "- Pandas bietet bereits vordefinierte Befehle um einfache Informationen über die Daten zu ermitteln\n",
    "- Mit den Befehlen zu beginnen, hilft dabei die Daten ein erstes mal zu erkunden!\n",
    "- Speziell bei numerrischen Daten erhält man bereits eine Reihe an spannenden statistischen Informationen\n",
    "- Auch für Daten wie die des Logs, lohnt es sich kurz beide Befehle anzugucken!\n",
    "\n",
    "### Befehl `.info()`\n",
    "- Übersicht über die Spalten\n",
    "- Angabe zu den Datentypen der Spalten"
   ]
  },
  {
   "cell_type": "code",
   "execution_count": 7,
   "metadata": {
    "collapsed": false,
    "is_executing": true
   },
   "outputs": [
    {
     "name": "stdout",
     "output_type": "stream",
     "text": [
      "<class 'pandas.core.frame.DataFrame'>\n",
      "RangeIndex: 10365152 entries, 0 to 10365151\n",
      "Data columns (total 9 columns):\n",
      " #   Column      Dtype              \n",
      "---  ------      -----              \n",
      " 0   Unnamed: 0  int64              \n",
      " 1   ip          object             \n",
      " 2   time        datetime64[ns, UTC]\n",
      " 3   request     object             \n",
      " 4   status      int64              \n",
      " 5   size        int64              \n",
      " 6   referer     object             \n",
      " 7   user_agent  object             \n",
      " 8   product_id  object             \n",
      "dtypes: datetime64[ns, UTC](1), int64(3), object(5)\n",
      "memory usage: 711.7+ MB\n"
     ]
    }
   ],
   "source": [
    "access_log.info()"
   ]
  },
  {
   "attachments": {},
   "cell_type": "markdown",
   "metadata": {},
   "source": [
    "### Befehl `.describe()`\n",
    "- Anzahl der Einträge\n",
    "- wie viele einzigartige Einträge\n",
    "- höchste Zahl\n",
    "- Durchschintt\n",
    "- weitere statistische Angaben!\n",
    "\n",
    "--> Statistische Basisinformationen <br>\n",
    "--> Parameter `include = 'all'` notwendig, dass auch nicht numerische Daten in die Übersicht mit übernommen werden\n",
    "\n"
   ]
  },
  {
   "cell_type": "code",
   "execution_count": 8,
   "metadata": {},
   "outputs": [
    {
     "data": {
      "text/html": [
       "<div>\n",
       "<style scoped>\n",
       "    .dataframe tbody tr th:only-of-type {\n",
       "        vertical-align: middle;\n",
       "    }\n",
       "\n",
       "    .dataframe tbody tr th {\n",
       "        vertical-align: top;\n",
       "    }\n",
       "\n",
       "    .dataframe thead th {\n",
       "        text-align: right;\n",
       "    }\n",
       "</style>\n",
       "<table border=\"1\" class=\"dataframe\">\n",
       "  <thead>\n",
       "    <tr style=\"text-align: right;\">\n",
       "      <th></th>\n",
       "      <th>Unnamed: 0</th>\n",
       "      <th>ip</th>\n",
       "      <th>time</th>\n",
       "      <th>request</th>\n",
       "      <th>status</th>\n",
       "      <th>size</th>\n",
       "      <th>referer</th>\n",
       "      <th>user_agent</th>\n",
       "      <th>product_id</th>\n",
       "    </tr>\n",
       "  </thead>\n",
       "  <tbody>\n",
       "    <tr>\n",
       "      <th>count</th>\n",
       "      <td>1.036515e+07</td>\n",
       "      <td>10365152</td>\n",
       "      <td>10365152</td>\n",
       "      <td>10365146</td>\n",
       "      <td>1.036515e+07</td>\n",
       "      <td>1.036515e+07</td>\n",
       "      <td>8718773</td>\n",
       "      <td>10350668</td>\n",
       "      <td>178110</td>\n",
       "    </tr>\n",
       "    <tr>\n",
       "      <th>unique</th>\n",
       "      <td>NaN</td>\n",
       "      <td>258606</td>\n",
       "      <td>NaN</td>\n",
       "      <td>894210</td>\n",
       "      <td>NaN</td>\n",
       "      <td>NaN</td>\n",
       "      <td>103236</td>\n",
       "      <td>28342</td>\n",
       "      <td>9652</td>\n",
       "    </tr>\n",
       "    <tr>\n",
       "      <th>top</th>\n",
       "      <td>NaN</td>\n",
       "      <td>66.249.66.194</td>\n",
       "      <td>NaN</td>\n",
       "      <td>GET /settings/logo HTTP/1.1</td>\n",
       "      <td>NaN</td>\n",
       "      <td>NaN</td>\n",
       "      <td>https://www.zanbil.ir/</td>\n",
       "      <td>Mozilla/5.0 (Windows NT 10.0; Win64; x64) Appl...</td>\n",
       "      <td>33953</td>\n",
       "    </tr>\n",
       "    <tr>\n",
       "      <th>freq</th>\n",
       "      <td>NaN</td>\n",
       "      <td>353483</td>\n",
       "      <td>NaN</td>\n",
       "      <td>352037</td>\n",
       "      <td>NaN</td>\n",
       "      <td>NaN</td>\n",
       "      <td>494757</td>\n",
       "      <td>746572</td>\n",
       "      <td>764</td>\n",
       "    </tr>\n",
       "    <tr>\n",
       "      <th>mean</th>\n",
       "      <td>5.182576e+06</td>\n",
       "      <td>NaN</td>\n",
       "      <td>2019-01-24 09:32:56.248167680+00:00</td>\n",
       "      <td>NaN</td>\n",
       "      <td>2.101419e+02</td>\n",
       "      <td>1.243311e+04</td>\n",
       "      <td>NaN</td>\n",
       "      <td>NaN</td>\n",
       "      <td>NaN</td>\n",
       "    </tr>\n",
       "    <tr>\n",
       "      <th>min</th>\n",
       "      <td>0.000000e+00</td>\n",
       "      <td>NaN</td>\n",
       "      <td>2019-01-22 00:26:14+00:00</td>\n",
       "      <td>NaN</td>\n",
       "      <td>2.000000e+02</td>\n",
       "      <td>0.000000e+00</td>\n",
       "      <td>NaN</td>\n",
       "      <td>NaN</td>\n",
       "      <td>NaN</td>\n",
       "    </tr>\n",
       "    <tr>\n",
       "      <th>25%</th>\n",
       "      <td>2.591288e+06</td>\n",
       "      <td>NaN</td>\n",
       "      <td>2019-01-23 06:02:56+00:00</td>\n",
       "      <td>NaN</td>\n",
       "      <td>2.000000e+02</td>\n",
       "      <td>2.027000e+03</td>\n",
       "      <td>NaN</td>\n",
       "      <td>NaN</td>\n",
       "      <td>NaN</td>\n",
       "    </tr>\n",
       "    <tr>\n",
       "      <th>50%</th>\n",
       "      <td>5.182576e+06</td>\n",
       "      <td>NaN</td>\n",
       "      <td>2019-01-24 08:39:06+00:00</td>\n",
       "      <td>NaN</td>\n",
       "      <td>2.000000e+02</td>\n",
       "      <td>4.120000e+03</td>\n",
       "      <td>NaN</td>\n",
       "      <td>NaN</td>\n",
       "      <td>NaN</td>\n",
       "    </tr>\n",
       "    <tr>\n",
       "      <th>75%</th>\n",
       "      <td>7.773863e+06</td>\n",
       "      <td>NaN</td>\n",
       "      <td>2019-01-25 16:52:33+00:00</td>\n",
       "      <td>NaN</td>\n",
       "      <td>2.000000e+02</td>\n",
       "      <td>1.155100e+04</td>\n",
       "      <td>NaN</td>\n",
       "      <td>NaN</td>\n",
       "      <td>NaN</td>\n",
       "    </tr>\n",
       "    <tr>\n",
       "      <th>max</th>\n",
       "      <td>1.036515e+07</td>\n",
       "      <td>NaN</td>\n",
       "      <td>2019-01-26 16:59:13+00:00</td>\n",
       "      <td>NaN</td>\n",
       "      <td>5.040000e+02</td>\n",
       "      <td>1.249490e+06</td>\n",
       "      <td>NaN</td>\n",
       "      <td>NaN</td>\n",
       "      <td>NaN</td>\n",
       "    </tr>\n",
       "    <tr>\n",
       "      <th>std</th>\n",
       "      <td>2.992162e+06</td>\n",
       "      <td>NaN</td>\n",
       "      <td>NaN</td>\n",
       "      <td>NaN</td>\n",
       "      <td>3.921424e+01</td>\n",
       "      <td>2.812654e+04</td>\n",
       "      <td>NaN</td>\n",
       "      <td>NaN</td>\n",
       "      <td>NaN</td>\n",
       "    </tr>\n",
       "  </tbody>\n",
       "</table>\n",
       "</div>"
      ],
      "text/plain": [
       "          Unnamed: 0             ip                                 time  \\\n",
       "count   1.036515e+07       10365152                             10365152   \n",
       "unique           NaN         258606                                  NaN   \n",
       "top              NaN  66.249.66.194                                  NaN   \n",
       "freq             NaN         353483                                  NaN   \n",
       "mean    5.182576e+06            NaN  2019-01-24 09:32:56.248167680+00:00   \n",
       "min     0.000000e+00            NaN            2019-01-22 00:26:14+00:00   \n",
       "25%     2.591288e+06            NaN            2019-01-23 06:02:56+00:00   \n",
       "50%     5.182576e+06            NaN            2019-01-24 08:39:06+00:00   \n",
       "75%     7.773863e+06            NaN            2019-01-25 16:52:33+00:00   \n",
       "max     1.036515e+07            NaN            2019-01-26 16:59:13+00:00   \n",
       "std     2.992162e+06            NaN                                  NaN   \n",
       "\n",
       "                            request        status          size  \\\n",
       "count                      10365146  1.036515e+07  1.036515e+07   \n",
       "unique                       894210           NaN           NaN   \n",
       "top     GET /settings/logo HTTP/1.1           NaN           NaN   \n",
       "freq                         352037           NaN           NaN   \n",
       "mean                            NaN  2.101419e+02  1.243311e+04   \n",
       "min                             NaN  2.000000e+02  0.000000e+00   \n",
       "25%                             NaN  2.000000e+02  2.027000e+03   \n",
       "50%                             NaN  2.000000e+02  4.120000e+03   \n",
       "75%                             NaN  2.000000e+02  1.155100e+04   \n",
       "max                             NaN  5.040000e+02  1.249490e+06   \n",
       "std                             NaN  3.921424e+01  2.812654e+04   \n",
       "\n",
       "                       referer  \\\n",
       "count                  8718773   \n",
       "unique                  103236   \n",
       "top     https://www.zanbil.ir/   \n",
       "freq                    494757   \n",
       "mean                       NaN   \n",
       "min                        NaN   \n",
       "25%                        NaN   \n",
       "50%                        NaN   \n",
       "75%                        NaN   \n",
       "max                        NaN   \n",
       "std                        NaN   \n",
       "\n",
       "                                               user_agent product_id  \n",
       "count                                            10350668     178110  \n",
       "unique                                              28342       9652  \n",
       "top     Mozilla/5.0 (Windows NT 10.0; Win64; x64) Appl...      33953  \n",
       "freq                                               746572        764  \n",
       "mean                                                  NaN        NaN  \n",
       "min                                                   NaN        NaN  \n",
       "25%                                                   NaN        NaN  \n",
       "50%                                                   NaN        NaN  \n",
       "75%                                                   NaN        NaN  \n",
       "max                                                   NaN        NaN  \n",
       "std                                                   NaN        NaN  "
      ]
     },
     "execution_count": 8,
     "metadata": {},
     "output_type": "execute_result"
    }
   ],
   "source": [
    "access_log.describe(include = 'all')"
   ]
  },
  {
   "attachments": {},
   "cell_type": "markdown",
   "metadata": {},
   "source": [
    "# Daten Anzeigen\n",
    "- Zum Anzeigen der Daten können unterschiedliche Methoden genutzt werden\n",
    "- Anzeigen durch Methoden: ``` .head(x) | .tail(x) ``` gibt die ersten / letzten x Zeilen aus\n",
    "- indizierter Zugriff wie aus Python bekannt ```acces_log[10000:10200]```"
   ]
  },
  {
   "cell_type": "code",
   "execution_count": 9,
   "metadata": {},
   "outputs": [
    {
     "data": {
      "text/html": [
       "<div>\n",
       "<style scoped>\n",
       "    .dataframe tbody tr th:only-of-type {\n",
       "        vertical-align: middle;\n",
       "    }\n",
       "\n",
       "    .dataframe tbody tr th {\n",
       "        vertical-align: top;\n",
       "    }\n",
       "\n",
       "    .dataframe thead th {\n",
       "        text-align: right;\n",
       "    }\n",
       "</style>\n",
       "<table border=\"1\" class=\"dataframe\">\n",
       "  <thead>\n",
       "    <tr style=\"text-align: right;\">\n",
       "      <th></th>\n",
       "      <th>Unnamed: 0</th>\n",
       "      <th>ip</th>\n",
       "      <th>time</th>\n",
       "      <th>request</th>\n",
       "      <th>status</th>\n",
       "      <th>size</th>\n",
       "      <th>referer</th>\n",
       "      <th>user_agent</th>\n",
       "      <th>product_id</th>\n",
       "    </tr>\n",
       "  </thead>\n",
       "  <tbody>\n",
       "    <tr>\n",
       "      <th>0</th>\n",
       "      <td>0</td>\n",
       "      <td>54.36.149.41</td>\n",
       "      <td>2019-01-22 00:26:14+00:00</td>\n",
       "      <td>GET /filter/27|13%20%D9%85%DA%AF%D8%A7%D9%BE%D...</td>\n",
       "      <td>200</td>\n",
       "      <td>30577</td>\n",
       "      <td>NaN</td>\n",
       "      <td>Mozilla/5.0 (compatible; AhrefsBot/6.1; +http:...</td>\n",
       "      <td>None</td>\n",
       "    </tr>\n",
       "    <tr>\n",
       "      <th>1</th>\n",
       "      <td>1</td>\n",
       "      <td>31.56.96.51</td>\n",
       "      <td>2019-01-22 00:26:16+00:00</td>\n",
       "      <td>GET /image/60844/productModel/200x200 HTTP/1.1</td>\n",
       "      <td>200</td>\n",
       "      <td>5667</td>\n",
       "      <td>https://www.zanbil.ir/m/filter/b113</td>\n",
       "      <td>Mozilla/5.0 (Linux; Android 6.0; ALE-L21 Build...</td>\n",
       "      <td>None</td>\n",
       "    </tr>\n",
       "    <tr>\n",
       "      <th>2</th>\n",
       "      <td>2</td>\n",
       "      <td>31.56.96.51</td>\n",
       "      <td>2019-01-22 00:26:16+00:00</td>\n",
       "      <td>GET /image/61474/productModel/200x200 HTTP/1.1</td>\n",
       "      <td>200</td>\n",
       "      <td>5379</td>\n",
       "      <td>https://www.zanbil.ir/m/filter/b113</td>\n",
       "      <td>Mozilla/5.0 (Linux; Android 6.0; ALE-L21 Build...</td>\n",
       "      <td>None</td>\n",
       "    </tr>\n",
       "    <tr>\n",
       "      <th>3</th>\n",
       "      <td>3</td>\n",
       "      <td>40.77.167.129</td>\n",
       "      <td>2019-01-22 00:26:17+00:00</td>\n",
       "      <td>GET /image/14925/productModel/100x100 HTTP/1.1</td>\n",
       "      <td>200</td>\n",
       "      <td>1696</td>\n",
       "      <td>NaN</td>\n",
       "      <td>Mozilla/5.0 (compatible; bingbot/2.0; +http://...</td>\n",
       "      <td>None</td>\n",
       "    </tr>\n",
       "    <tr>\n",
       "      <th>4</th>\n",
       "      <td>4</td>\n",
       "      <td>91.99.72.15</td>\n",
       "      <td>2019-01-22 00:26:17+00:00</td>\n",
       "      <td>GET /product/31893/62100/%D8%B3%D8%B4%D9%88%D8...</td>\n",
       "      <td>200</td>\n",
       "      <td>41483</td>\n",
       "      <td>NaN</td>\n",
       "      <td>Mozilla/5.0 (Windows NT 6.2; Win64; x64; rv:16...</td>\n",
       "      <td>31893</td>\n",
       "    </tr>\n",
       "  </tbody>\n",
       "</table>\n",
       "</div>"
      ],
      "text/plain": [
       "   Unnamed: 0             ip                      time  \\\n",
       "0           0   54.36.149.41 2019-01-22 00:26:14+00:00   \n",
       "1           1    31.56.96.51 2019-01-22 00:26:16+00:00   \n",
       "2           2    31.56.96.51 2019-01-22 00:26:16+00:00   \n",
       "3           3  40.77.167.129 2019-01-22 00:26:17+00:00   \n",
       "4           4    91.99.72.15 2019-01-22 00:26:17+00:00   \n",
       "\n",
       "                                             request  status   size  \\\n",
       "0  GET /filter/27|13%20%D9%85%DA%AF%D8%A7%D9%BE%D...     200  30577   \n",
       "1     GET /image/60844/productModel/200x200 HTTP/1.1     200   5667   \n",
       "2     GET /image/61474/productModel/200x200 HTTP/1.1     200   5379   \n",
       "3     GET /image/14925/productModel/100x100 HTTP/1.1     200   1696   \n",
       "4  GET /product/31893/62100/%D8%B3%D8%B4%D9%88%D8...     200  41483   \n",
       "\n",
       "                               referer  \\\n",
       "0                                  NaN   \n",
       "1  https://www.zanbil.ir/m/filter/b113   \n",
       "2  https://www.zanbil.ir/m/filter/b113   \n",
       "3                                  NaN   \n",
       "4                                  NaN   \n",
       "\n",
       "                                          user_agent product_id  \n",
       "0  Mozilla/5.0 (compatible; AhrefsBot/6.1; +http:...       None  \n",
       "1  Mozilla/5.0 (Linux; Android 6.0; ALE-L21 Build...       None  \n",
       "2  Mozilla/5.0 (Linux; Android 6.0; ALE-L21 Build...       None  \n",
       "3  Mozilla/5.0 (compatible; bingbot/2.0; +http://...       None  \n",
       "4  Mozilla/5.0 (Windows NT 6.2; Win64; x64; rv:16...      31893  "
      ]
     },
     "execution_count": 9,
     "metadata": {},
     "output_type": "execute_result"
    }
   ],
   "source": [
    "access_log.head(5)"
   ]
  },
  {
   "cell_type": "code",
   "execution_count": 10,
   "metadata": {},
   "outputs": [
    {
     "data": {
      "text/html": [
       "<div>\n",
       "<style scoped>\n",
       "    .dataframe tbody tr th:only-of-type {\n",
       "        vertical-align: middle;\n",
       "    }\n",
       "\n",
       "    .dataframe tbody tr th {\n",
       "        vertical-align: top;\n",
       "    }\n",
       "\n",
       "    .dataframe thead th {\n",
       "        text-align: right;\n",
       "    }\n",
       "</style>\n",
       "<table border=\"1\" class=\"dataframe\">\n",
       "  <thead>\n",
       "    <tr style=\"text-align: right;\">\n",
       "      <th></th>\n",
       "      <th>Unnamed: 0</th>\n",
       "      <th>ip</th>\n",
       "      <th>time</th>\n",
       "      <th>request</th>\n",
       "      <th>status</th>\n",
       "      <th>size</th>\n",
       "      <th>referer</th>\n",
       "      <th>user_agent</th>\n",
       "      <th>product_id</th>\n",
       "    </tr>\n",
       "  </thead>\n",
       "  <tbody>\n",
       "    <tr>\n",
       "      <th>10000</th>\n",
       "      <td>10000</td>\n",
       "      <td>37.129.232.66</td>\n",
       "      <td>2019-01-22 01:06:57+00:00</td>\n",
       "      <td>GET /static/images/guarantees/support.png HTTP...</td>\n",
       "      <td>200</td>\n",
       "      <td>6454</td>\n",
       "      <td>https://www.zanbil.ir/m/filter/b785</td>\n",
       "      <td>Mozilla/5.0 (Linux; Android 7.0; RNE-L21 Build...</td>\n",
       "      <td>None</td>\n",
       "    </tr>\n",
       "    <tr>\n",
       "      <th>10001</th>\n",
       "      <td>10001</td>\n",
       "      <td>37.129.232.66</td>\n",
       "      <td>2019-01-22 01:06:57+00:00</td>\n",
       "      <td>GET /static/images/guarantees/fastDelivery.png...</td>\n",
       "      <td>200</td>\n",
       "      <td>7713</td>\n",
       "      <td>https://www.zanbil.ir/m/filter/b785</td>\n",
       "      <td>Mozilla/5.0 (Linux; Android 7.0; RNE-L21 Build...</td>\n",
       "      <td>None</td>\n",
       "    </tr>\n",
       "    <tr>\n",
       "      <th>10002</th>\n",
       "      <td>10002</td>\n",
       "      <td>37.129.232.66</td>\n",
       "      <td>2019-01-22 01:06:57+00:00</td>\n",
       "      <td>GET /static/css/font/wyekan/font.woff HTTP/1.1</td>\n",
       "      <td>200</td>\n",
       "      <td>28536</td>\n",
       "      <td>https://www.zanbil.ir/m/filter/b785</td>\n",
       "      <td>Mozilla/5.0 (Linux; Android 7.0; RNE-L21 Build...</td>\n",
       "      <td>None</td>\n",
       "    </tr>\n",
       "    <tr>\n",
       "      <th>10003</th>\n",
       "      <td>10003</td>\n",
       "      <td>66.249.66.194</td>\n",
       "      <td>2019-01-22 01:06:57+00:00</td>\n",
       "      <td>GET /m/filter/p11905%2Cb573%2Cb546%2Cb609%2Cst...</td>\n",
       "      <td>302</td>\n",
       "      <td>0</td>\n",
       "      <td>NaN</td>\n",
       "      <td>Mozilla/5.0 (compatible; Googlebot/2.1; +http:...</td>\n",
       "      <td>None</td>\n",
       "    </tr>\n",
       "    <tr>\n",
       "      <th>10004</th>\n",
       "      <td>10004</td>\n",
       "      <td>93.110.220.181</td>\n",
       "      <td>2019-01-22 01:06:57+00:00</td>\n",
       "      <td>GET /product/28204/56978/%D9%87%D9%88%D8%AF-%D...</td>\n",
       "      <td>200</td>\n",
       "      <td>43481</td>\n",
       "      <td>https://www.zanbil.ir/filter/p2597,rf1660000,r...</td>\n",
       "      <td>Mozilla/5.0 (Windows NT 6.3; WOW64) AppleWebKi...</td>\n",
       "      <td>28204</td>\n",
       "    </tr>\n",
       "    <tr>\n",
       "      <th>...</th>\n",
       "      <td>...</td>\n",
       "      <td>...</td>\n",
       "      <td>...</td>\n",
       "      <td>...</td>\n",
       "      <td>...</td>\n",
       "      <td>...</td>\n",
       "      <td>...</td>\n",
       "      <td>...</td>\n",
       "      <td>...</td>\n",
       "    </tr>\n",
       "    <tr>\n",
       "      <th>10195</th>\n",
       "      <td>10195</td>\n",
       "      <td>85.239.198.13</td>\n",
       "      <td>2019-01-22 01:07:40+00:00</td>\n",
       "      <td>GET /image/33888?name=model-b2048u-1-.jpg&amp;wh=2...</td>\n",
       "      <td>200</td>\n",
       "      <td>3975</td>\n",
       "      <td>NaN</td>\n",
       "      <td>Dalvik/1.6.0 (Linux; U; Android 4.2.2; MediaPa...</td>\n",
       "      <td>None</td>\n",
       "    </tr>\n",
       "    <tr>\n",
       "      <th>10196</th>\n",
       "      <td>10196</td>\n",
       "      <td>157.55.39.245</td>\n",
       "      <td>2019-01-22 01:07:41+00:00</td>\n",
       "      <td>GET /product/17516?model=33959 HTTP/1.1</td>\n",
       "      <td>200</td>\n",
       "      <td>41064</td>\n",
       "      <td>NaN</td>\n",
       "      <td>Mozilla/5.0 (compatible; bingbot/2.0; +http://...</td>\n",
       "      <td>None</td>\n",
       "    </tr>\n",
       "    <tr>\n",
       "      <th>10197</th>\n",
       "      <td>10197</td>\n",
       "      <td>91.99.72.15</td>\n",
       "      <td>2019-01-22 01:07:41+00:00</td>\n",
       "      <td>GET /product/8248/10330/%DB%8C%D8%AE%DA%86%D8%...</td>\n",
       "      <td>200</td>\n",
       "      <td>41823</td>\n",
       "      <td>NaN</td>\n",
       "      <td>Mozilla/5.0 (Windows NT 6.1; WOW64) AppleWebKi...</td>\n",
       "      <td>8248</td>\n",
       "    </tr>\n",
       "    <tr>\n",
       "      <th>10198</th>\n",
       "      <td>10198</td>\n",
       "      <td>23.101.169.3</td>\n",
       "      <td>2019-01-22 01:07:41+00:00</td>\n",
       "      <td>GET /static/images/icons/btn-search.png HTTP/1.1</td>\n",
       "      <td>200</td>\n",
       "      <td>393</td>\n",
       "      <td>https://www.zanbil.ir/product/31011/%DA%AF%D9%...</td>\n",
       "      <td>Mozilla/5.0 (compatible; MSIE 9.0; Windows NT ...</td>\n",
       "      <td>None</td>\n",
       "    </tr>\n",
       "    <tr>\n",
       "      <th>10199</th>\n",
       "      <td>10199</td>\n",
       "      <td>23.101.169.3</td>\n",
       "      <td>2019-01-22 01:07:41+00:00</td>\n",
       "      <td>GET /static/images/search-category-arrow.png H...</td>\n",
       "      <td>200</td>\n",
       "      <td>217</td>\n",
       "      <td>https://www.zanbil.ir/product/31011/%DA%AF%D9%...</td>\n",
       "      <td>Mozilla/5.0 (compatible; MSIE 9.0; Windows NT ...</td>\n",
       "      <td>None</td>\n",
       "    </tr>\n",
       "  </tbody>\n",
       "</table>\n",
       "<p>200 rows × 9 columns</p>\n",
       "</div>"
      ],
      "text/plain": [
       "       Unnamed: 0              ip                      time  \\\n",
       "10000       10000   37.129.232.66 2019-01-22 01:06:57+00:00   \n",
       "10001       10001   37.129.232.66 2019-01-22 01:06:57+00:00   \n",
       "10002       10002   37.129.232.66 2019-01-22 01:06:57+00:00   \n",
       "10003       10003   66.249.66.194 2019-01-22 01:06:57+00:00   \n",
       "10004       10004  93.110.220.181 2019-01-22 01:06:57+00:00   \n",
       "...           ...             ...                       ...   \n",
       "10195       10195   85.239.198.13 2019-01-22 01:07:40+00:00   \n",
       "10196       10196   157.55.39.245 2019-01-22 01:07:41+00:00   \n",
       "10197       10197     91.99.72.15 2019-01-22 01:07:41+00:00   \n",
       "10198       10198    23.101.169.3 2019-01-22 01:07:41+00:00   \n",
       "10199       10199    23.101.169.3 2019-01-22 01:07:41+00:00   \n",
       "\n",
       "                                                 request  status   size  \\\n",
       "10000  GET /static/images/guarantees/support.png HTTP...     200   6454   \n",
       "10001  GET /static/images/guarantees/fastDelivery.png...     200   7713   \n",
       "10002     GET /static/css/font/wyekan/font.woff HTTP/1.1     200  28536   \n",
       "10003  GET /m/filter/p11905%2Cb573%2Cb546%2Cb609%2Cst...     302      0   \n",
       "10004  GET /product/28204/56978/%D9%87%D9%88%D8%AF-%D...     200  43481   \n",
       "...                                                  ...     ...    ...   \n",
       "10195  GET /image/33888?name=model-b2048u-1-.jpg&wh=2...     200   3975   \n",
       "10196            GET /product/17516?model=33959 HTTP/1.1     200  41064   \n",
       "10197  GET /product/8248/10330/%DB%8C%D8%AE%DA%86%D8%...     200  41823   \n",
       "10198   GET /static/images/icons/btn-search.png HTTP/1.1     200    393   \n",
       "10199  GET /static/images/search-category-arrow.png H...     200    217   \n",
       "\n",
       "                                                 referer  \\\n",
       "10000                https://www.zanbil.ir/m/filter/b785   \n",
       "10001                https://www.zanbil.ir/m/filter/b785   \n",
       "10002                https://www.zanbil.ir/m/filter/b785   \n",
       "10003                                                NaN   \n",
       "10004  https://www.zanbil.ir/filter/p2597,rf1660000,r...   \n",
       "...                                                  ...   \n",
       "10195                                                NaN   \n",
       "10196                                                NaN   \n",
       "10197                                                NaN   \n",
       "10198  https://www.zanbil.ir/product/31011/%DA%AF%D9%...   \n",
       "10199  https://www.zanbil.ir/product/31011/%DA%AF%D9%...   \n",
       "\n",
       "                                              user_agent product_id  \n",
       "10000  Mozilla/5.0 (Linux; Android 7.0; RNE-L21 Build...       None  \n",
       "10001  Mozilla/5.0 (Linux; Android 7.0; RNE-L21 Build...       None  \n",
       "10002  Mozilla/5.0 (Linux; Android 7.0; RNE-L21 Build...       None  \n",
       "10003  Mozilla/5.0 (compatible; Googlebot/2.1; +http:...       None  \n",
       "10004  Mozilla/5.0 (Windows NT 6.3; WOW64) AppleWebKi...      28204  \n",
       "...                                                  ...        ...  \n",
       "10195  Dalvik/1.6.0 (Linux; U; Android 4.2.2; MediaPa...       None  \n",
       "10196  Mozilla/5.0 (compatible; bingbot/2.0; +http://...       None  \n",
       "10197  Mozilla/5.0 (Windows NT 6.1; WOW64) AppleWebKi...       8248  \n",
       "10198  Mozilla/5.0 (compatible; MSIE 9.0; Windows NT ...       None  \n",
       "10199  Mozilla/5.0 (compatible; MSIE 9.0; Windows NT ...       None  \n",
       "\n",
       "[200 rows x 9 columns]"
      ]
     },
     "execution_count": 10,
     "metadata": {},
     "output_type": "execute_result"
    }
   ],
   "source": [
    "access_log[10000:10200]"
   ]
  },
  {
   "attachments": {},
   "cell_type": "markdown",
   "metadata": {},
   "source": [
    "# Einfache Analyse der Anzahl einzelner Features:\n",
    "- Zählen der Features durch ```.value_counts(\"feature\")``` <br>\n",
    "--> ermitteln welche IP Adresse die meisten Anfragen stellt <br>\n",
    "--> Welches Produkt wurde am meisten angefragt (Aufgabe 1)"
   ]
  },
  {
   "cell_type": "code",
   "execution_count": 11,
   "metadata": {},
   "outputs": [
    {
     "data": {
      "text/plain": [
       "ip\n",
       "66.249.66.194      353483\n",
       "66.249.66.91       314522\n",
       "151.239.241.163     92475\n",
       "66.249.66.92        88332\n",
       "91.99.30.32         45979\n",
       "Name: count, dtype: int64"
      ]
     },
     "execution_count": 11,
     "metadata": {},
     "output_type": "execute_result"
    }
   ],
   "source": [
    "# IP-Adressen mit den meisten Aufrufen \n",
    "access_log.value_counts(\"ip\").head()"
   ]
  },
  {
   "attachments": {},
   "cell_type": "markdown",
   "metadata": {},
   "source": [
    "# Datenergänzung / Datenaufbereitung zur Analyse\n",
    "\n",
    "### Timestamps\n",
    "\n",
    "- Zur Analyse des Timestamps werden einzelne Spalten für Wochentag (numerisch), Stunde und Datum erstellt\n",
    "- Die neu erstellten Features können für Untersuchungen zu den Aufrufe nach Tageszeit / Tagen verwendet werden"
   ]
  },
  {
   "cell_type": "code",
   "execution_count": 12,
   "metadata": {},
   "outputs": [
    {
     "data": {
      "text/html": [
       "<div>\n",
       "<style scoped>\n",
       "    .dataframe tbody tr th:only-of-type {\n",
       "        vertical-align: middle;\n",
       "    }\n",
       "\n",
       "    .dataframe tbody tr th {\n",
       "        vertical-align: top;\n",
       "    }\n",
       "\n",
       "    .dataframe thead th {\n",
       "        text-align: right;\n",
       "    }\n",
       "</style>\n",
       "<table border=\"1\" class=\"dataframe\">\n",
       "  <thead>\n",
       "    <tr style=\"text-align: right;\">\n",
       "      <th></th>\n",
       "      <th>Unnamed: 0</th>\n",
       "      <th>ip</th>\n",
       "      <th>time</th>\n",
       "      <th>request</th>\n",
       "      <th>status</th>\n",
       "      <th>size</th>\n",
       "      <th>referer</th>\n",
       "      <th>user_agent</th>\n",
       "      <th>product_id</th>\n",
       "      <th>date</th>\n",
       "      <th>weekday_n</th>\n",
       "      <th>weekday</th>\n",
       "      <th>hour</th>\n",
       "    </tr>\n",
       "  </thead>\n",
       "  <tbody>\n",
       "    <tr>\n",
       "      <th>0</th>\n",
       "      <td>0</td>\n",
       "      <td>54.36.149.41</td>\n",
       "      <td>2019-01-22 00:26:14+00:00</td>\n",
       "      <td>GET /filter/27|13%20%D9%85%DA%AF%D8%A7%D9%BE%D...</td>\n",
       "      <td>200</td>\n",
       "      <td>30577</td>\n",
       "      <td>NaN</td>\n",
       "      <td>Mozilla/5.0 (compatible; AhrefsBot/6.1; +http:...</td>\n",
       "      <td>None</td>\n",
       "      <td>2019-01-22</td>\n",
       "      <td>1</td>\n",
       "      <td>Tuesday</td>\n",
       "      <td>0</td>\n",
       "    </tr>\n",
       "    <tr>\n",
       "      <th>1</th>\n",
       "      <td>1</td>\n",
       "      <td>31.56.96.51</td>\n",
       "      <td>2019-01-22 00:26:16+00:00</td>\n",
       "      <td>GET /image/60844/productModel/200x200 HTTP/1.1</td>\n",
       "      <td>200</td>\n",
       "      <td>5667</td>\n",
       "      <td>https://www.zanbil.ir/m/filter/b113</td>\n",
       "      <td>Mozilla/5.0 (Linux; Android 6.0; ALE-L21 Build...</td>\n",
       "      <td>None</td>\n",
       "      <td>2019-01-22</td>\n",
       "      <td>1</td>\n",
       "      <td>Tuesday</td>\n",
       "      <td>0</td>\n",
       "    </tr>\n",
       "    <tr>\n",
       "      <th>2</th>\n",
       "      <td>2</td>\n",
       "      <td>31.56.96.51</td>\n",
       "      <td>2019-01-22 00:26:16+00:00</td>\n",
       "      <td>GET /image/61474/productModel/200x200 HTTP/1.1</td>\n",
       "      <td>200</td>\n",
       "      <td>5379</td>\n",
       "      <td>https://www.zanbil.ir/m/filter/b113</td>\n",
       "      <td>Mozilla/5.0 (Linux; Android 6.0; ALE-L21 Build...</td>\n",
       "      <td>None</td>\n",
       "      <td>2019-01-22</td>\n",
       "      <td>1</td>\n",
       "      <td>Tuesday</td>\n",
       "      <td>0</td>\n",
       "    </tr>\n",
       "    <tr>\n",
       "      <th>3</th>\n",
       "      <td>3</td>\n",
       "      <td>40.77.167.129</td>\n",
       "      <td>2019-01-22 00:26:17+00:00</td>\n",
       "      <td>GET /image/14925/productModel/100x100 HTTP/1.1</td>\n",
       "      <td>200</td>\n",
       "      <td>1696</td>\n",
       "      <td>NaN</td>\n",
       "      <td>Mozilla/5.0 (compatible; bingbot/2.0; +http://...</td>\n",
       "      <td>None</td>\n",
       "      <td>2019-01-22</td>\n",
       "      <td>1</td>\n",
       "      <td>Tuesday</td>\n",
       "      <td>0</td>\n",
       "    </tr>\n",
       "    <tr>\n",
       "      <th>4</th>\n",
       "      <td>4</td>\n",
       "      <td>91.99.72.15</td>\n",
       "      <td>2019-01-22 00:26:17+00:00</td>\n",
       "      <td>GET /product/31893/62100/%D8%B3%D8%B4%D9%88%D8...</td>\n",
       "      <td>200</td>\n",
       "      <td>41483</td>\n",
       "      <td>NaN</td>\n",
       "      <td>Mozilla/5.0 (Windows NT 6.2; Win64; x64; rv:16...</td>\n",
       "      <td>31893</td>\n",
       "      <td>2019-01-22</td>\n",
       "      <td>1</td>\n",
       "      <td>Tuesday</td>\n",
       "      <td>0</td>\n",
       "    </tr>\n",
       "  </tbody>\n",
       "</table>\n",
       "</div>"
      ],
      "text/plain": [
       "   Unnamed: 0             ip                      time  \\\n",
       "0           0   54.36.149.41 2019-01-22 00:26:14+00:00   \n",
       "1           1    31.56.96.51 2019-01-22 00:26:16+00:00   \n",
       "2           2    31.56.96.51 2019-01-22 00:26:16+00:00   \n",
       "3           3  40.77.167.129 2019-01-22 00:26:17+00:00   \n",
       "4           4    91.99.72.15 2019-01-22 00:26:17+00:00   \n",
       "\n",
       "                                             request  status   size  \\\n",
       "0  GET /filter/27|13%20%D9%85%DA%AF%D8%A7%D9%BE%D...     200  30577   \n",
       "1     GET /image/60844/productModel/200x200 HTTP/1.1     200   5667   \n",
       "2     GET /image/61474/productModel/200x200 HTTP/1.1     200   5379   \n",
       "3     GET /image/14925/productModel/100x100 HTTP/1.1     200   1696   \n",
       "4  GET /product/31893/62100/%D8%B3%D8%B4%D9%88%D8...     200  41483   \n",
       "\n",
       "                               referer  \\\n",
       "0                                  NaN   \n",
       "1  https://www.zanbil.ir/m/filter/b113   \n",
       "2  https://www.zanbil.ir/m/filter/b113   \n",
       "3                                  NaN   \n",
       "4                                  NaN   \n",
       "\n",
       "                                          user_agent product_id        date  \\\n",
       "0  Mozilla/5.0 (compatible; AhrefsBot/6.1; +http:...       None  2019-01-22   \n",
       "1  Mozilla/5.0 (Linux; Android 6.0; ALE-L21 Build...       None  2019-01-22   \n",
       "2  Mozilla/5.0 (Linux; Android 6.0; ALE-L21 Build...       None  2019-01-22   \n",
       "3  Mozilla/5.0 (compatible; bingbot/2.0; +http://...       None  2019-01-22   \n",
       "4  Mozilla/5.0 (Windows NT 6.2; Win64; x64; rv:16...      31893  2019-01-22   \n",
       "\n",
       "   weekday_n  weekday  hour  \n",
       "0          1  Tuesday     0  \n",
       "1          1  Tuesday     0  \n",
       "2          1  Tuesday     0  \n",
       "3          1  Tuesday     0  \n",
       "4          1  Tuesday     0  "
      ]
     },
     "execution_count": 12,
     "metadata": {},
     "output_type": "execute_result"
    }
   ],
   "source": [
    "access_log['date'] = access_log['time'].dt.date\n",
    "access_log['weekday_n'] = access_log['time'].dt.weekday\n",
    "access_log['weekday'] = access_log['weekday_n'].map(lambda wd: calendar.day_name[wd])\n",
    "access_log['hour'] = access_log['time'].dt.hour\n",
    "\n",
    "access_log.head()"
   ]
  },
  {
   "attachments": {},
   "cell_type": "markdown",
   "metadata": {},
   "source": [
    "# Analyse der herausgearbeiteten Timestamp Eigenschaften \n",
    "- Analyse der Aufrufe je Tag\n",
    "- Analyse der Aufrufe je Stunden\n",
    "\n",
    "Darstellung beider Daten als Balkendiagramm"
   ]
  },
  {
   "cell_type": "code",
   "execution_count": 13,
   "metadata": {},
   "outputs": [
    {
     "name": "stdout",
     "output_type": "stream",
     "text": [
      "date\n",
      "2019-01-22    2333977\n",
      "2019-01-23    2326694\n",
      "2019-01-26    1986456\n",
      "2019-01-24    1896255\n",
      "2019-01-25    1821770\n",
      "Name: count, dtype: int64\n"
     ]
    },
    {
     "data": {
      "text/plain": [
       "<Axes: xlabel='date'>"
      ]
     },
     "execution_count": 13,
     "metadata": {},
     "output_type": "execute_result"
    },
    {
     "data": {
      "image/png": "[encoded data removed]",
      "text/plain": [
       "<Figure size 640x480 with 1 Axes>"
      ]
     },
     "metadata": {},
     "output_type": "display_data"
    }
   ],
   "source": [
    "# Analyse der Tage (Zugriffstage)\n",
    "days_count = access_log.value_counts('date')\n",
    "print(days_count)\n",
    "days_count.sort_index().plot(kind='bar')"
   ]
  },
  {
   "attachments": {},
   "cell_type": "markdown",
   "metadata": {},
   "source": [
    "# Ausertung Tagesanzahl\n",
    "- Die Log-Datei enthält Informationen zu 5 Tagen\n",
    "- Die ersten beiden Tage haben eine leicht höhere Anzahl an Anfragen, ansonsten aber eine relativ gleiche Verteilung der Last über alle Tage"
   ]
  },
  {
   "cell_type": "code",
   "execution_count": 14,
   "metadata": {},
   "outputs": [
    {
     "name": "stdout",
     "output_type": "stream",
     "text": [
      "hour\n",
      "8     729525\n",
      "9     728079\n",
      "10    714435\n",
      "7     707433\n",
      "11    671300\n",
      "Name: count, dtype: int64\n"
     ]
    },
    {
     "data": {
      "text/plain": [
       "<Axes: xlabel='hour'>"
      ]
     },
     "execution_count": 14,
     "metadata": {},
     "output_type": "execute_result"
    },
    {
     "data": {
      "image/png": "[encoded data removed]",
      "text/plain": [
       "<Figure size 640x480 with 1 Axes>"
      ]
     },
     "metadata": {},
     "output_type": "display_data"
    }
   ],
   "source": [
    "# Analyse der Stunden (Zugriffszeiten)\n",
    "hours_count = access_log.value_counts('hour')\n",
    "print(hours_count.head())\n",
    "hours_count.sort_index().plot(kind='bar')"
   ]
  },
  {
   "attachments": {},
   "cell_type": "markdown",
   "metadata": {},
   "source": [
    "# Auswertung Stundenanalyse (Zugriffszeiten)\n",
    "- Klares Tief in der Nacht zu erkennen\n",
    "- Morgens ab 5 Uhr steigt die Anzahl an Aufrufen rapide\n",
    "- Hochpunkt ist zwischen 8:00 und 9;00 Uhr morgens\n",
    "- Über den Nachmittag zum Abend hin sinken die Aufrufe wieder deutlich"
   ]
  },
  {
   "attachments": {},
   "cell_type": "markdown",
   "metadata": {},
   "source": [
    "## Heatmap Tageszeit\n",
    "- Alternative visualisierung der Tageszeiten"
   ]
  },
  {
   "cell_type": "code",
   "execution_count": 15,
   "metadata": {},
   "outputs": [
    {
     "data": {
      "text/plain": [
       "Text(0.5, 3.722222222222216, 'Uhrzeit')"
      ]
     },
     "execution_count": 15,
     "metadata": {},
     "output_type": "execute_result"
    },
    {
     "data": {
      "image/png": "[encoded data removed]",
      "text/plain": [
       "<Figure size 500x300 with 2 Axes>"
      ]
     },
     "metadata": {},
     "output_type": "display_data"
    }
   ],
   "source": [
    "daytime_access = access_log.groupby(['hour']).size().to_frame(name = 'count').reset_index()\n",
    "\n",
    "fig, ax = plt.subplots(1, 1, figsize = (5, 3))\n",
    "df_wide = daytime_access.pivot_table(columns='hour', values='count', aggfunc=lambda x:x)\n",
    "heatmap = sns.heatmap(df_wide, linewidths=1.0,ax=ax)\n",
    "\n",
    "ax.set_xlim(0, 23)\n",
    "ax.set_ylim(0, 1)\n",
    "\n",
    "heatmap.set_title('Aufrufe nach Tageszeit')\n",
    "heatmap.set_xlabel('Uhrzeit')\n"
   ]
  },
  {
   "cell_type": "code",
   "execution_count": 16,
   "metadata": {},
   "outputs": [
    {
     "data": {
      "text/plain": [
       "Text(33.22222222222222, 0.5, 'Wochentag')"
      ]
     },
     "execution_count": 16,
     "metadata": {},
     "output_type": "execute_result"
    },
    {
     "data": {
      "image/png": "[encoded data removed]",
      "text/plain": [
       "<Figure size 500x300 with 2 Axes>"
      ]
     },
     "metadata": {},
     "output_type": "display_data"
    }
   ],
   "source": [
    "daytime_access = access_log.groupby(['weekday_n', 'hour']).size().to_frame(name = 'count').reset_index()\n",
    "\n",
    "fig, ax = plt.subplots(1, 1, figsize = (5, 3))\n",
    "df_wide = daytime_access.pivot_table(index='weekday_n',columns='hour',values='count', aggfunc=lambda x:x)\n",
    "heatmap = sns.heatmap(df_wide, linewidths=1.0,ax=ax)\n",
    "\n",
    "ax.set_xlim(0, 23)\n",
    "ax.set_ylim(0, 6)\n",
    "# ax.set_yticks(range(0, 7), ['Mo', 'Di', 'Mi', 'Do', 'Fr', 'Sa', 'So'])\n",
    "\n",
    "heatmap.set_title('Aufrufe nach Tag/Uhrzeit')\n",
    "heatmap.set_xlabel('Uhrzeit')\n",
    "heatmap.set_ylabel('Wochentag')\n",
    "\n",
    "# 1 => Dienstag\n"
   ]
  },
  {
   "attachments": {},
   "cell_type": "markdown",
   "metadata": {},
   "source": [
    "## Request Methods\n",
    "Herausarbeiten welche unterschiedlichen Requests an den Server gestellt wurden\n",
    "\n",
    "Die folgenden Request Methoden gibt es:  \n",
    "`GET`, `HEAD`, `POST`, `PUT`, `DELETE`, `CONNECT`, `OPTIONS`, `TRACE` und `PATCH`\n",
    "\n",
    "Hierzu wird auf alle `Method` Einträge eine von uns definierte Extraktionsmethode `extract_method()` ausgeführt <br>\n",
    "--> Wähle Strings die mit Großbuchstaben beginnen und alle zugehörigen Großbuchstaben. ToDo: prüfen!"
   ]
  },
  {
   "cell_type": "code",
   "execution_count": 17,
   "metadata": {},
   "outputs": [
    {
     "data": {
      "text/html": [
       "<div>\n",
       "<style scoped>\n",
       "    .dataframe tbody tr th:only-of-type {\n",
       "        vertical-align: middle;\n",
       "    }\n",
       "\n",
       "    .dataframe tbody tr th {\n",
       "        vertical-align: top;\n",
       "    }\n",
       "\n",
       "    .dataframe thead th {\n",
       "        text-align: right;\n",
       "    }\n",
       "</style>\n",
       "<table border=\"1\" class=\"dataframe\">\n",
       "  <thead>\n",
       "    <tr style=\"text-align: right;\">\n",
       "      <th></th>\n",
       "      <th>Unnamed: 0</th>\n",
       "      <th>ip</th>\n",
       "      <th>time</th>\n",
       "      <th>request</th>\n",
       "      <th>status</th>\n",
       "      <th>size</th>\n",
       "      <th>referer</th>\n",
       "      <th>user_agent</th>\n",
       "      <th>product_id</th>\n",
       "      <th>date</th>\n",
       "      <th>weekday_n</th>\n",
       "      <th>weekday</th>\n",
       "      <th>hour</th>\n",
       "      <th>method</th>\n",
       "    </tr>\n",
       "  </thead>\n",
       "  <tbody>\n",
       "    <tr>\n",
       "      <th>0</th>\n",
       "      <td>0</td>\n",
       "      <td>54.36.149.41</td>\n",
       "      <td>2019-01-22 00:26:14+00:00</td>\n",
       "      <td>GET /filter/27|13%20%D9%85%DA%AF%D8%A7%D9%BE%D...</td>\n",
       "      <td>200</td>\n",
       "      <td>30577</td>\n",
       "      <td>NaN</td>\n",
       "      <td>Mozilla/5.0 (compatible; AhrefsBot/6.1; +http:...</td>\n",
       "      <td>None</td>\n",
       "      <td>2019-01-22</td>\n",
       "      <td>1</td>\n",
       "      <td>Tuesday</td>\n",
       "      <td>0</td>\n",
       "      <td>GET</td>\n",
       "    </tr>\n",
       "    <tr>\n",
       "      <th>1</th>\n",
       "      <td>1</td>\n",
       "      <td>31.56.96.51</td>\n",
       "      <td>2019-01-22 00:26:16+00:00</td>\n",
       "      <td>GET /image/60844/productModel/200x200 HTTP/1.1</td>\n",
       "      <td>200</td>\n",
       "      <td>5667</td>\n",
       "      <td>https://www.zanbil.ir/m/filter/b113</td>\n",
       "      <td>Mozilla/5.0 (Linux; Android 6.0; ALE-L21 Build...</td>\n",
       "      <td>None</td>\n",
       "      <td>2019-01-22</td>\n",
       "      <td>1</td>\n",
       "      <td>Tuesday</td>\n",
       "      <td>0</td>\n",
       "      <td>GET</td>\n",
       "    </tr>\n",
       "    <tr>\n",
       "      <th>2</th>\n",
       "      <td>2</td>\n",
       "      <td>31.56.96.51</td>\n",
       "      <td>2019-01-22 00:26:16+00:00</td>\n",
       "      <td>GET /image/61474/productModel/200x200 HTTP/1.1</td>\n",
       "      <td>200</td>\n",
       "      <td>5379</td>\n",
       "      <td>https://www.zanbil.ir/m/filter/b113</td>\n",
       "      <td>Mozilla/5.0 (Linux; Android 6.0; ALE-L21 Build...</td>\n",
       "      <td>None</td>\n",
       "      <td>2019-01-22</td>\n",
       "      <td>1</td>\n",
       "      <td>Tuesday</td>\n",
       "      <td>0</td>\n",
       "      <td>GET</td>\n",
       "    </tr>\n",
       "    <tr>\n",
       "      <th>3</th>\n",
       "      <td>3</td>\n",
       "      <td>40.77.167.129</td>\n",
       "      <td>2019-01-22 00:26:17+00:00</td>\n",
       "      <td>GET /image/14925/productModel/100x100 HTTP/1.1</td>\n",
       "      <td>200</td>\n",
       "      <td>1696</td>\n",
       "      <td>NaN</td>\n",
       "      <td>Mozilla/5.0 (compatible; bingbot/2.0; +http://...</td>\n",
       "      <td>None</td>\n",
       "      <td>2019-01-22</td>\n",
       "      <td>1</td>\n",
       "      <td>Tuesday</td>\n",
       "      <td>0</td>\n",
       "      <td>GET</td>\n",
       "    </tr>\n",
       "    <tr>\n",
       "      <th>4</th>\n",
       "      <td>4</td>\n",
       "      <td>91.99.72.15</td>\n",
       "      <td>2019-01-22 00:26:17+00:00</td>\n",
       "      <td>GET /product/31893/62100/%D8%B3%D8%B4%D9%88%D8...</td>\n",
       "      <td>200</td>\n",
       "      <td>41483</td>\n",
       "      <td>NaN</td>\n",
       "      <td>Mozilla/5.0 (Windows NT 6.2; Win64; x64; rv:16...</td>\n",
       "      <td>31893</td>\n",
       "      <td>2019-01-22</td>\n",
       "      <td>1</td>\n",
       "      <td>Tuesday</td>\n",
       "      <td>0</td>\n",
       "      <td>GET</td>\n",
       "    </tr>\n",
       "  </tbody>\n",
       "</table>\n",
       "</div>"
      ],
      "text/plain": [
       "   Unnamed: 0             ip                      time  \\\n",
       "0           0   54.36.149.41 2019-01-22 00:26:14+00:00   \n",
       "1           1    31.56.96.51 2019-01-22 00:26:16+00:00   \n",
       "2           2    31.56.96.51 2019-01-22 00:26:16+00:00   \n",
       "3           3  40.77.167.129 2019-01-22 00:26:17+00:00   \n",
       "4           4    91.99.72.15 2019-01-22 00:26:17+00:00   \n",
       "\n",
       "                                             request  status   size  \\\n",
       "0  GET /filter/27|13%20%D9%85%DA%AF%D8%A7%D9%BE%D...     200  30577   \n",
       "1     GET /image/60844/productModel/200x200 HTTP/1.1     200   5667   \n",
       "2     GET /image/61474/productModel/200x200 HTTP/1.1     200   5379   \n",
       "3     GET /image/14925/productModel/100x100 HTTP/1.1     200   1696   \n",
       "4  GET /product/31893/62100/%D8%B3%D8%B4%D9%88%D8...     200  41483   \n",
       "\n",
       "                               referer  \\\n",
       "0                                  NaN   \n",
       "1  https://www.zanbil.ir/m/filter/b113   \n",
       "2  https://www.zanbil.ir/m/filter/b113   \n",
       "3                                  NaN   \n",
       "4                                  NaN   \n",
       "\n",
       "                                          user_agent product_id        date  \\\n",
       "0  Mozilla/5.0 (compatible; AhrefsBot/6.1; +http:...       None  2019-01-22   \n",
       "1  Mozilla/5.0 (Linux; Android 6.0; ALE-L21 Build...       None  2019-01-22   \n",
       "2  Mozilla/5.0 (Linux; Android 6.0; ALE-L21 Build...       None  2019-01-22   \n",
       "3  Mozilla/5.0 (compatible; bingbot/2.0; +http://...       None  2019-01-22   \n",
       "4  Mozilla/5.0 (Windows NT 6.2; Win64; x64; rv:16...      31893  2019-01-22   \n",
       "\n",
       "   weekday_n  weekday  hour method  \n",
       "0          1  Tuesday     0    GET  \n",
       "1          1  Tuesday     0    GET  \n",
       "2          1  Tuesday     0    GET  \n",
       "3          1  Tuesday     0    GET  \n",
       "4          1  Tuesday     0    GET  "
      ]
     },
     "execution_count": 17,
     "metadata": {},
     "output_type": "execute_result"
    }
   ],
   "source": [
    "def extract_method(request):\n",
    "  \"Method to extract the HTTP-Method for a Request\"\n",
    "  m = re.match(r'^[A-Z]+', str(request))\n",
    "  if m:\n",
    "    return m.group()\n",
    "  return None\n",
    "\n",
    "access_log['method'] = access_log['request'].map(extract_method)\n",
    "access_log.head()"
   ]
  },
  {
   "cell_type": "code",
   "execution_count": 18,
   "metadata": {},
   "outputs": [
    {
     "name": "stdout",
     "output_type": "stream",
     "text": [
      "method\n",
      "GET         10190005\n",
      "POST          139155\n",
      "HEAD           34501\n",
      "OPTIONS         1424\n",
      "CONNECT           10\n",
      "G                  6\n",
      "E                  4\n",
      "PROPFIND           3\n",
      "Name: count, dtype: int64\n",
      "10365108\n"
     ]
    },
    {
     "data": {
      "text/plain": [
       "<Axes: title={'center': 'Request Methods'}, ylabel='Method'>"
      ]
     },
     "execution_count": 18,
     "metadata": {},
     "output_type": "execute_result"
    },
    {
     "data": {
      "image/png": "[encoded data removed]",
      "text/plain": [
       "<Figure size 640x480 with 1 Axes>"
      ]
     },
     "metadata": {},
     "output_type": "display_data"
    }
   ],
   "source": [
    "method_counts = access_log.loc[access_log['method'] != None]['method'].value_counts()\n",
    "\n",
    "# Ausgabe der Methods\n",
    "print(method_counts)\n",
    "\n",
    "# Plot\n",
    "method_counts_other = filter_other(method_counts, 0.005)\n",
    "method_counts_other.plot(kind='pie', title='Request Methods', ylabel='Method', autopct=autopct_format(method_counts_other))"
   ]
  },
  {
   "cell_type": "code",
   "execution_count": 19,
   "metadata": {},
   "outputs": [
    {
     "data": {
      "text/plain": [
       "<Axes: title={'center': 'Request Methods'}, xlabel='method', ylabel='Method'>"
      ]
     },
     "execution_count": 19,
     "metadata": {},
     "output_type": "execute_result"
    },
    {
     "data": {
      "image/png": "[encoded data removed]",
      "text/plain": [
       "<Figure size 640x480 with 1 Axes>"
      ]
     },
     "metadata": {},
     "output_type": "display_data"
    }
   ],
   "source": [
    "# ToDo: prüfen / absprechen --> ggf. auch noch Grafik in der die Get Requests raus sind -> zeigt anderes Besser -> (F) bringt nicht viel neues\n",
    "method_counts_without_get = method_counts.drop(labels = 'GET')\n",
    "method_counts_without_get.plot(kind='bar', title='Request Methods', ylabel='Method')"
   ]
  },
  {
   "attachments": {},
   "cell_type": "markdown",
   "metadata": {},
   "source": [
    "# Auswertung Request Methoden\n",
    "\n",
    "- Sehr hohe Anzahl von Get Requests 98.3%\n",
    "- Es existieren aber auch andere Reqeust\n",
    "- 1.3% Post Requests\n",
    "- Weitere Requests: HEAD; OPTIONS; CONNECT; G; E; PROPFIND\n",
    "\n",
    "**ToDo:** Herausfinden was diese Reqeusts tun?"
   ]
  },
  {
   "cell_type": "code",
   "execution_count": 20,
   "metadata": {},
   "outputs": [
    {
     "data": {
      "text/html": [
       "<div>\n",
       "<style scoped>\n",
       "    .dataframe tbody tr th:only-of-type {\n",
       "        vertical-align: middle;\n",
       "    }\n",
       "\n",
       "    .dataframe tbody tr th {\n",
       "        vertical-align: top;\n",
       "    }\n",
       "\n",
       "    .dataframe thead th {\n",
       "        text-align: right;\n",
       "    }\n",
       "</style>\n",
       "<table border=\"1\" class=\"dataframe\">\n",
       "  <thead>\n",
       "    <tr style=\"text-align: right;\">\n",
       "      <th></th>\n",
       "      <th>Unnamed: 0</th>\n",
       "      <th>ip</th>\n",
       "      <th>time</th>\n",
       "      <th>request</th>\n",
       "      <th>status</th>\n",
       "      <th>size</th>\n",
       "      <th>referer</th>\n",
       "      <th>user_agent</th>\n",
       "      <th>product_id</th>\n",
       "      <th>date</th>\n",
       "      <th>weekday_n</th>\n",
       "      <th>weekday</th>\n",
       "      <th>hour</th>\n",
       "      <th>method</th>\n",
       "    </tr>\n",
       "  </thead>\n",
       "  <tbody>\n",
       "    <tr>\n",
       "      <th>51</th>\n",
       "      <td>51</td>\n",
       "      <td>5.78.198.52</td>\n",
       "      <td>2019-01-22 00:26:26+00:00</td>\n",
       "      <td>POST /m/updateVariation?__amp_source_origin=ht...</td>\n",
       "      <td>200</td>\n",
       "      <td>171</td>\n",
       "      <td>https://www.zanbil.ir/m/product/33978/64784/%D...</td>\n",
       "      <td>Mozilla/5.0 (Linux; Android 8.0.0; SAMSUNG SM-...</td>\n",
       "      <td>None</td>\n",
       "      <td>2019-01-22</td>\n",
       "      <td>1</td>\n",
       "      <td>Tuesday</td>\n",
       "      <td>0</td>\n",
       "      <td>POST</td>\n",
       "    </tr>\n",
       "    <tr>\n",
       "      <th>55</th>\n",
       "      <td>55</td>\n",
       "      <td>5.78.198.52</td>\n",
       "      <td>2019-01-22 00:26:27+00:00</td>\n",
       "      <td>POST /m/updateVariation?__amp_source_origin=ht...</td>\n",
       "      <td>200</td>\n",
       "      <td>171</td>\n",
       "      <td>https://www.zanbil.ir/m/product/33978/64784/%D...</td>\n",
       "      <td>Mozilla/5.0 (Linux; Android 8.0.0; SAMSUNG SM-...</td>\n",
       "      <td>None</td>\n",
       "      <td>2019-01-22</td>\n",
       "      <td>1</td>\n",
       "      <td>Tuesday</td>\n",
       "      <td>0</td>\n",
       "      <td>POST</td>\n",
       "    </tr>\n",
       "    <tr>\n",
       "      <th>59</th>\n",
       "      <td>59</td>\n",
       "      <td>5.78.198.52</td>\n",
       "      <td>2019-01-22 00:26:28+00:00</td>\n",
       "      <td>POST /m/updateVariation?__amp_source_origin=ht...</td>\n",
       "      <td>200</td>\n",
       "      <td>171</td>\n",
       "      <td>https://www.zanbil.ir/m/product/33978/64784/%D...</td>\n",
       "      <td>Mozilla/5.0 (Linux; Android 8.0.0; SAMSUNG SM-...</td>\n",
       "      <td>None</td>\n",
       "      <td>2019-01-22</td>\n",
       "      <td>1</td>\n",
       "      <td>Tuesday</td>\n",
       "      <td>0</td>\n",
       "      <td>POST</td>\n",
       "    </tr>\n",
       "    <tr>\n",
       "      <th>62</th>\n",
       "      <td>62</td>\n",
       "      <td>5.78.198.52</td>\n",
       "      <td>2019-01-22 00:26:29+00:00</td>\n",
       "      <td>POST /m/updateVariation?__amp_source_origin=ht...</td>\n",
       "      <td>200</td>\n",
       "      <td>171</td>\n",
       "      <td>https://www.zanbil.ir/m/product/33978/64784/%D...</td>\n",
       "      <td>Mozilla/5.0 (Linux; Android 8.0.0; SAMSUNG SM-...</td>\n",
       "      <td>None</td>\n",
       "      <td>2019-01-22</td>\n",
       "      <td>1</td>\n",
       "      <td>Tuesday</td>\n",
       "      <td>0</td>\n",
       "      <td>POST</td>\n",
       "    </tr>\n",
       "    <tr>\n",
       "      <th>77</th>\n",
       "      <td>77</td>\n",
       "      <td>5.78.198.52</td>\n",
       "      <td>2019-01-22 00:26:30+00:00</td>\n",
       "      <td>POST /m/updateVariation?__amp_source_origin=ht...</td>\n",
       "      <td>200</td>\n",
       "      <td>394</td>\n",
       "      <td>https://www.zanbil.ir/m/product/33978/64784/%D...</td>\n",
       "      <td>Mozilla/5.0 (Linux; Android 8.0.0; SAMSUNG SM-...</td>\n",
       "      <td>None</td>\n",
       "      <td>2019-01-22</td>\n",
       "      <td>1</td>\n",
       "      <td>Tuesday</td>\n",
       "      <td>0</td>\n",
       "      <td>POST</td>\n",
       "    </tr>\n",
       "  </tbody>\n",
       "</table>\n",
       "</div>"
      ],
      "text/plain": [
       "    Unnamed: 0           ip                      time  \\\n",
       "51          51  5.78.198.52 2019-01-22 00:26:26+00:00   \n",
       "55          55  5.78.198.52 2019-01-22 00:26:27+00:00   \n",
       "59          59  5.78.198.52 2019-01-22 00:26:28+00:00   \n",
       "62          62  5.78.198.52 2019-01-22 00:26:29+00:00   \n",
       "77          77  5.78.198.52 2019-01-22 00:26:30+00:00   \n",
       "\n",
       "                                              request  status  size  \\\n",
       "51  POST /m/updateVariation?__amp_source_origin=ht...     200   171   \n",
       "55  POST /m/updateVariation?__amp_source_origin=ht...     200   171   \n",
       "59  POST /m/updateVariation?__amp_source_origin=ht...     200   171   \n",
       "62  POST /m/updateVariation?__amp_source_origin=ht...     200   171   \n",
       "77  POST /m/updateVariation?__amp_source_origin=ht...     200   394   \n",
       "\n",
       "                                              referer  \\\n",
       "51  https://www.zanbil.ir/m/product/33978/64784/%D...   \n",
       "55  https://www.zanbil.ir/m/product/33978/64784/%D...   \n",
       "59  https://www.zanbil.ir/m/product/33978/64784/%D...   \n",
       "62  https://www.zanbil.ir/m/product/33978/64784/%D...   \n",
       "77  https://www.zanbil.ir/m/product/33978/64784/%D...   \n",
       "\n",
       "                                           user_agent product_id        date  \\\n",
       "51  Mozilla/5.0 (Linux; Android 8.0.0; SAMSUNG SM-...       None  2019-01-22   \n",
       "55  Mozilla/5.0 (Linux; Android 8.0.0; SAMSUNG SM-...       None  2019-01-22   \n",
       "59  Mozilla/5.0 (Linux; Android 8.0.0; SAMSUNG SM-...       None  2019-01-22   \n",
       "62  Mozilla/5.0 (Linux; Android 8.0.0; SAMSUNG SM-...       None  2019-01-22   \n",
       "77  Mozilla/5.0 (Linux; Android 8.0.0; SAMSUNG SM-...       None  2019-01-22   \n",
       "\n",
       "    weekday_n  weekday  hour method  \n",
       "51          1  Tuesday     0   POST  \n",
       "55          1  Tuesday     0   POST  \n",
       "59          1  Tuesday     0   POST  \n",
       "62          1  Tuesday     0   POST  \n",
       "77          1  Tuesday     0   POST  "
      ]
     },
     "execution_count": 20,
     "metadata": {},
     "output_type": "execute_result"
    }
   ],
   "source": [
    "access_log.loc[access_log['method'] == 'POST'].head()"
   ]
  },
  {
   "attachments": {},
   "cell_type": "markdown",
   "metadata": {},
   "source": [
    "## User Agents, Browser & OS"
   ]
  },
  {
   "cell_type": "code",
   "execution_count": 21,
   "metadata": {},
   "outputs": [],
   "source": [
    "agents = access_log['user_agent'].map(lambda agent: ua.parse(str(agent)))\n",
    "access_log['browser_family'] = agents.map(lambda agent: agent.browser.family)\n",
    "access_log['os_family'] = agents.map(lambda agent: agent.os.family)\n",
    "access_log['device_family'] = agents.map(lambda agent: agent.device.family)\n",
    "access_log['device_brand'] = agents.map(lambda agent: agent.device.brand)\n",
    "access_log['device_model'] = agents.map(lambda agent: agent.device.model)\n",
    "access_log['is_mobile'] = agents.map(lambda agent: agent.is_mobile)\n",
    "access_log['is_pc'] = agents.map(lambda agent: agent.is_pc)\n",
    "access_log['is_bot'] = agents.map(lambda agent: agent.is_bot)\n",
    "\n",
    "access_log.head()"
   ]
  },
  {
   "cell_type": "code",
   "execution_count": null,
   "metadata": {},
   "outputs": [],
   "source": [
    "browser_family_counts = access_log['browser_family'].value_counts()\n",
    "\n",
    "browser_family_counts = filter_other(browser_family_counts)\n",
    "\n",
    "browser_family_counts.plot(kind='pie', title='Browsers', ylabel='Browser', autopct=autopct_format(browser_family_counts))"
   ]
  },
  {
   "cell_type": "code",
   "execution_count": null,
   "metadata": {},
   "outputs": [],
   "source": [
    "os_family_counts = access_log['os_family'].value_counts()\n",
    "\n",
    "os_family_counts = filter_other(os_family_counts)\n",
    "\n",
    "os_family_counts.plot(kind='pie', title='OS', ylabel='OS', autopct=autopct_format(os_family_counts))"
   ]
  },
  {
   "cell_type": "code",
   "execution_count": null,
   "metadata": {},
   "outputs": [],
   "source": [
    "bot_counts = access_log['is_bot'].value_counts()\n",
    "\n",
    "bot_counts.plot(kind='pie', title='Bots', ylabel='Bots', autopct=autopct_format(bot_counts))"
   ]
  },
  {
   "attachments": {},
   "cell_type": "markdown",
   "metadata": {},
   "source": [
    "### Reevaluation von Aufgabe 1\n",
    "\n",
    "Ändert sich das Ergebnis, wenn wir Bots ausschließen?"
   ]
  },
  {
   "cell_type": "code",
   "execution_count": null,
   "metadata": {},
   "outputs": [],
   "source": [
    "# Ergebnis von vorher\n",
    "print('Ergebnis von vorher')\n",
    "print(most_viewed_products[0], most_viewed_products.keys()[0])\n",
    "\n",
    "print()\n",
    "\n",
    "# Neues Ergebnis\n",
    "print('Neues Ergebnis')\n",
    "most_viewed_products2 = access_log.loc[access_log['is_bot'] != True].loc[access_log['request'].str.contains(r'^GET /product/\\d+', na=False)].value_counts(access_log['request'])\n",
    "print(most_viewed_products2[0], most_viewed_products2.keys()[0])\n",
    "\n",
    "print()\n",
    "\n",
    "# Evaluate\n",
    "if most_viewed_products.keys()[0] == most_viewed_products2.keys()[0]:\n",
    "    print('Gleiches Ergebnis')\n",
    "else:\n",
    "    print('Ergebnis verändert')\n",
    "print('Differenz:', most_viewed_products[0] - most_viewed_products2[0], 'Bot-Aufrufe')"
   ]
  },
  {
   "attachments": {},
   "cell_type": "markdown",
   "metadata": {},
   "source": [
    "## Fehler"
   ]
  },
  {
   "cell_type": "code",
   "execution_count": null,
   "metadata": {},
   "outputs": [],
   "source": [
    "status_counts = access_log['status'].value_counts()\n",
    "\n",
    "status_counts = filter_other(status_counts, 0.01)\n",
    "\n",
    "status_counts.plot(kind='pie', title='Status', ylabel='Status Code', autopct=autopct_format(status_counts))"
   ]
  },
  {
   "cell_type": "code",
   "execution_count": null,
   "metadata": {},
   "outputs": [],
   "source": [
    "error_counts = access_log['status'].map(lambda status: status >= 400).value_counts()\n",
    "\n",
    "error_counts.plot(kind='pie', title='Failed requests', ylabel='Error?', autopct=autopct_format(error_counts))"
   ]
  },
  {
   "cell_type": "code",
   "execution_count": null,
   "metadata": {},
   "outputs": [],
   "source": [
    "error_logs = access_log.loc[access_log['status'] >= 400]\n",
    "\n",
    "error_code_counts = error_logs['status'].value_counts()\n",
    "\n",
    "error_code_counts = filter_other(error_code_counts, 0.01)\n",
    "\n",
    "error_code_counts.plot(kind='pie', title='Error', ylabel='Error Code', autopct=autopct_format(error_code_counts))"
   ]
  },
  {
   "cell_type": "code",
   "execution_count": null,
   "metadata": {},
   "outputs": [],
   "source": [
    "error_logs = access_log.loc[access_log['status'] != 200]\n",
    "error_logs.head()"
   ]
  },
  {
   "attachments": {},
   "cell_type": "markdown",
   "metadata": {},
   "source": [
    "# Korrelationsanalyse der Daten\n",
    "Im folgenden wird eine Korrelationsanalyse auf den Daten ausgeführt um zu prüfen, ob einzelne Features miteinander korrelieren.\n",
    "\n",
    "- **Anmerkung:** Aktuell liegen kaum Numerische Daten vor! -> Korrelation jedoch für numerische Daten zu berechnen\n",
    "- **Vorgehen:** Die nicht numerischen Daten die mit untersucht werden sollen in numerische Daten umwandeln.\n",
    "\n",
    "### Begründung Korrelationsanalyse\n",
    "\n",
    "- Untersuchung auf weitere Datenzusammenhänge die vorliegen, aber noch nicht bekannt sind.\n",
    "- **Beispiel:** Gibt es einen Zusammenhang zwischen der Tageszeit und Post Reqeusts?"
   ]
  },
  {
   "cell_type": "code",
   "execution_count": null,
   "metadata": {},
   "outputs": [],
   "source": [
    "# Korrelationen auf den Daten ohne Ergänzung\n",
    "fig, ax = plt.subplots(figsize=(5,4))\n",
    "sns.heatmap(access_log.corr(numeric_only=True), annot=True, cmap=\"PuOr\", fmt=\".1f\", vmin=-1, vmax=1)"
   ]
  },
  {
   "attachments": {},
   "cell_type": "markdown",
   "metadata": {},
   "source": [
    "# Ergänzung um weitere Features (Nummerische Umwandlung)\n",
    "- Damit andere Features integriert werden können müssen sie entsprechend umgewandelt werden können\n",
    "\n",
    "### Vorgehen:\n",
    "\n",
    "- ```pd.get_dummies()``` Methode um aus einem Feature entsprechend mehrere Numerische Spalten zu erzeugen\n",
    "- Jeder Eintrag des Features erhällt eine eigene Spalte, in der das entsprechende Feature mit ```true``` und ```false``` gekennzeichnet ist."
   ]
  },
  {
   "cell_type": "code",
   "execution_count": null,
   "metadata": {},
   "outputs": [],
   "source": [
    "# Ergänzen um die Dummies Einträge für Method\n",
    "methods_numeric = pd.get_dummies(access_log['method'])\n",
    "methods_numeric"
   ]
  },
  {
   "cell_type": "code",
   "execution_count": null,
   "metadata": {},
   "outputs": [],
   "source": [
    "# Anwendung der Dummie Einträge auf unseren Datensatz \n",
    "methods_numeric = methods_numeric.drop(['CONNECT','E','G','OPTIONS','PROPFIND'], axis=1)\n",
    "\n",
    "access_log = access_log.join(methods_numeric)\n",
    "access_log.head()"
   ]
  },
  {
   "cell_type": "code",
   "execution_count": null,
   "metadata": {},
   "outputs": [],
   "source": [
    "# Erneute Korrelationsanalyse\n",
    "sns.heatmap(access_log.corr(numeric_only=True), annot=True, cmap=\"PuOr\", fmt=\".1f\", vmin=-1, vmax=1)"
   ]
  },
  {
   "cell_type": "code",
   "execution_count": null,
   "metadata": {},
   "outputs": [],
   "source": [
    "# Analyse der Korrelationen mit Product ID | TODo: wenn das gewünscht ist müssen wir die Product ID als Integer speichern!\n",
    "access_log_copy = access_log.copy()\n",
    "\n",
    "mask = access_log_copy[\"product_id\"] != None # ToDo: warum erkennt er das none nicht?\n",
    "mask.value_counts()\n",
    "access_log_copy = access_log_copy[mask]\n",
    "access_log_copy"
   ]
  },
  {
   "cell_type": "code",
   "execution_count": null,
   "metadata": {},
   "outputs": [],
   "source": [
    "type(access_log[\"product_id\"][4])"
   ]
  },
  {
   "attachments": {},
   "cell_type": "markdown",
   "metadata": {},
   "source": [
    "## Open Ideas\n",
    "\n",
    "- [x] Nutzung im Tagesverlauf (UTC) (Flo)\n",
    "  * Wochentage analysieren\n",
    "- [ ] IP auf Locations mappen\n",
    "- [ ] Nutzung nach Tageszeit (korrigiert nach Location / Timezone based on IP)\n",
    "- [x] Requests außer `GET`? (Flo)\n",
    "- [x] Aufrufe mit Status `!= 200` => Fehler\n",
    "- [ ] Referers analysieren\n",
    "- [ ] Nach Nutzer und Pfaden gruppieren und zählen => Entscheidungsfreudigkeit der Nutzer\n",
    "- [x] Korrelation untersuchen (Tom)\n",
    "- [ ] Sessions von Nutzern zählen / schätzen\n",
    "- [x] Browser analysieren (Flo)"
   ]
  }
 ],
 "metadata": {
  "kernelspec": {
   "display_name": "Python 3",
   "language": "python",
   "name": "python3"
  },
  "language_info": {
   "codemirror_mode": {
    "name": "ipython",
    "version": 3
   },
   "file_extension": ".py",
   "mimetype": "text/x-python",
   "name": "python",
   "nbconvert_exporter": "python",
   "pygments_lexer": "ipython3",
   "version": "3.11.3"
  },
  "vscode": {
   "interpreter": {
    "hash": "369f2c481f4da34e4445cda3fffd2e751bd1c4d706f27375911949ba6bb62e1c"
   }
  }
 },
 "nbformat": 4,
 "nbformat_minor": 0
}
