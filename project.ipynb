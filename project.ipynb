{
 "cells": [
  {
   "cell_type": "code",
   "execution_count": 2,
   "metadata": {
    "ExecuteTime": {
     "end_time": "2023-05-30T07:15:05.957968200Z",
     "start_time": "2023-05-30T07:15:05.027470800Z"
    },
    "collapsed": false
   },
   "outputs": [],
   "source": [
    "import pandas as pd\n",
    "import parse_functions as pf"
   ]
  },
  {
   "attachments": {},
   "cell_type": "markdown",
   "metadata": {},
   "source": [
    "# Vorbereitung: Einlesen der Daten\n",
    "- Schwierigkeit: Größe des Datensatzes: 10.365.152 Daten (über 10 Milionen)\n",
    "- keine eindeutiges Trennzeichen in den Daten vorhanden\n",
    "- kein von Pandas vorgefertigter Import für Log Dateien"
   ]
  },
  {
   "cell_type": "code",
   "execution_count": 3,
   "metadata": {
    "ExecuteTime": {
     "start_time": "2023-05-30T07:15:05.394469100Z"
    },
    "collapsed": false,
    "is_executing": true
   },
   "outputs": [
    {
     "data": {
      "text/html": [
       "<div>\n",
       "<style scoped>\n",
       "    .dataframe tbody tr th:only-of-type {\n",
       "        vertical-align: middle;\n",
       "    }\n",
       "\n",
       "    .dataframe tbody tr th {\n",
       "        vertical-align: top;\n",
       "    }\n",
       "\n",
       "    .dataframe thead th {\n",
       "        text-align: right;\n",
       "    }\n",
       "</style>\n",
       "<table border=\"1\" class=\"dataframe\">\n",
       "  <thead>\n",
       "    <tr style=\"text-align: right;\">\n",
       "      <th></th>\n",
       "      <th>ip</th>\n",
       "      <th>time</th>\n",
       "      <th>request</th>\n",
       "      <th>status</th>\n",
       "      <th>size</th>\n",
       "      <th>referer</th>\n",
       "      <th>user_agent</th>\n",
       "    </tr>\n",
       "  </thead>\n",
       "  <tbody>\n",
       "    <tr>\n",
       "      <th>0</th>\n",
       "      <td>54.36.149.41</td>\n",
       "      <td>2019-01-22 03:56:14+03:30</td>\n",
       "      <td>GET /filter/27|13%20%D9%85%DA%AF%D8%A7%D9%BE%D...</td>\n",
       "      <td>200</td>\n",
       "      <td>30577</td>\n",
       "      <td>NaN</td>\n",
       "      <td>Mozilla/5.0 (compatible; AhrefsBot/6.1; +http:...</td>\n",
       "    </tr>\n",
       "    <tr>\n",
       "      <th>1</th>\n",
       "      <td>31.56.96.51</td>\n",
       "      <td>2019-01-22 03:56:16+03:30</td>\n",
       "      <td>GET /image/60844/productModel/200x200 HTTP/1.1</td>\n",
       "      <td>200</td>\n",
       "      <td>5667</td>\n",
       "      <td>https://www.zanbil.ir/m/filter/b113</td>\n",
       "      <td>Mozilla/5.0 (Linux; Android 6.0; ALE-L21 Build...</td>\n",
       "    </tr>\n",
       "    <tr>\n",
       "      <th>2</th>\n",
       "      <td>31.56.96.51</td>\n",
       "      <td>2019-01-22 03:56:16+03:30</td>\n",
       "      <td>GET /image/61474/productModel/200x200 HTTP/1.1</td>\n",
       "      <td>200</td>\n",
       "      <td>5379</td>\n",
       "      <td>https://www.zanbil.ir/m/filter/b113</td>\n",
       "      <td>Mozilla/5.0 (Linux; Android 6.0; ALE-L21 Build...</td>\n",
       "    </tr>\n",
       "    <tr>\n",
       "      <th>3</th>\n",
       "      <td>40.77.167.129</td>\n",
       "      <td>2019-01-22 03:56:17+03:30</td>\n",
       "      <td>GET /image/14925/productModel/100x100 HTTP/1.1</td>\n",
       "      <td>200</td>\n",
       "      <td>1696</td>\n",
       "      <td>NaN</td>\n",
       "      <td>Mozilla/5.0 (compatible; bingbot/2.0; +http://...</td>\n",
       "    </tr>\n",
       "    <tr>\n",
       "      <th>4</th>\n",
       "      <td>91.99.72.15</td>\n",
       "      <td>2019-01-22 03:56:17+03:30</td>\n",
       "      <td>GET /product/31893/62100/%D8%B3%D8%B4%D9%88%D8...</td>\n",
       "      <td>200</td>\n",
       "      <td>41483</td>\n",
       "      <td>NaN</td>\n",
       "      <td>Mozilla/5.0 (Windows NT 6.2; Win64; x64; rv:16...</td>\n",
       "    </tr>\n",
       "  </tbody>\n",
       "</table>\n",
       "</div>"
      ],
      "text/plain": [
       "              ip                      time  \\\n",
       "0   54.36.149.41 2019-01-22 03:56:14+03:30   \n",
       "1    31.56.96.51 2019-01-22 03:56:16+03:30   \n",
       "2    31.56.96.51 2019-01-22 03:56:16+03:30   \n",
       "3  40.77.167.129 2019-01-22 03:56:17+03:30   \n",
       "4    91.99.72.15 2019-01-22 03:56:17+03:30   \n",
       "\n",
       "                                             request  status   size  \\\n",
       "0  GET /filter/27|13%20%D9%85%DA%AF%D8%A7%D9%BE%D...     200  30577   \n",
       "1     GET /image/60844/productModel/200x200 HTTP/1.1     200   5667   \n",
       "2     GET /image/61474/productModel/200x200 HTTP/1.1     200   5379   \n",
       "3     GET /image/14925/productModel/100x100 HTTP/1.1     200   1696   \n",
       "4  GET /product/31893/62100/%D8%B3%D8%B4%D9%88%D8...     200  41483   \n",
       "\n",
       "                               referer  \\\n",
       "0                                  NaN   \n",
       "1  https://www.zanbil.ir/m/filter/b113   \n",
       "2  https://www.zanbil.ir/m/filter/b113   \n",
       "3                                  NaN   \n",
       "4                                  NaN   \n",
       "\n",
       "                                          user_agent  \n",
       "0  Mozilla/5.0 (compatible; AhrefsBot/6.1; +http:...  \n",
       "1  Mozilla/5.0 (Linux; Android 6.0; ALE-L21 Build...  \n",
       "2  Mozilla/5.0 (Linux; Android 6.0; ALE-L21 Build...  \n",
       "3  Mozilla/5.0 (compatible; bingbot/2.0; +http://...  \n",
       "4  Mozilla/5.0 (Windows NT 6.2; Win64; x64; rv:16...  "
      ]
     },
     "execution_count": 3,
     "metadata": {},
     "output_type": "execute_result"
    }
   ],
   "source": [
    "# Source: https://mmas.github.io/read-apache-access-log-pandas\n",
    "access_log = pd.read_csv(\n",
    "    'data/access.log',\n",
    "    sep=r'\\s(?=(?:[^\"]*\"[^\"]*\")*[^\"]*$)(?![^\\[]*\\]\\s)',\n",
    "    engine='python',\n",
    "    na_values='-',\n",
    "    header=None,\n",
    "    usecols=[0, 3, 4, 5, 6, 7, 8],\n",
    "    names=['ip', 'time', 'request', 'status', 'size', 'referer', 'user_agent'],\n",
    "    converters={'time': pf.parse_datetime,\n",
    "                'request': pf.parse_str,\n",
    "                'status': int,\n",
    "                'size': int,\n",
    "                'referer': pf.parse_str,\n",
    "                'user_agent': pf.parse_str},\n",
    "    on_bad_lines='warn')\n",
    "\n",
    "access_log.head()\n"
   ]
  },
  {
   "attachments": {},
   "cell_type": "markdown",
   "metadata": {},
   "source": [
    "## Umwandlung in CSV Datei\n",
    "- Damit nicht jedes Mal Daten neu über das Log eingelesen werden müssen!\n",
    "- CSV Datei erstellen und für erneutes einlesen nutzbar (geht schneller)"
   ]
  },
  {
   "cell_type": "code",
   "execution_count": 4,
   "metadata": {},
   "outputs": [],
   "source": [
    "#Daten in einer CSV Datei speicher\n",
    "filename = \"data/acces_log.csv\"\n",
    "access_log.to_csv(filename)"
   ]
  },
  {
   "cell_type": "code",
   "execution_count": 5,
   "metadata": {},
   "outputs": [
    {
     "data": {
      "text/plain": [
       "10365152"
      ]
     },
     "execution_count": 5,
     "metadata": {},
     "output_type": "execute_result"
    }
   ],
   "source": [
    "# Daten aus einer CSV Date einladen\n",
    "filename = \"data/acces_log.csv\"\n",
    "access_log_csv = pd.read_csv(filename)\n",
    "len(access_log_csv)"
   ]
  },
  {
   "cell_type": "code",
   "execution_count": 6,
   "metadata": {},
   "outputs": [
    {
     "data": {
      "text/plain": [
       "10365152"
      ]
     },
     "execution_count": 6,
     "metadata": {},
     "output_type": "execute_result"
    }
   ],
   "source": [
    "#Erzeuge eine Kopie der Daten als \"Backup\"\n",
    "access_log_backup = access_log.copy()\n",
    "len(access_log_backup)"
   ]
  },
  {
   "attachments": {},
   "cell_type": "markdown",
   "metadata": {},
   "source": [
    "# Aufgabe 1: Beliebtestes Produkt\n",
    "\n",
    "> Analysieren Sie welche Produkte beliebt sind. Entwickeln Sie dazu eine Definition eines beliebten Produktes. Stellen Sie die Ergebnisse anschaulich da.\n",
    "\n",
    "## Definition\n",
    "\n",
    "> **Unsere Definition:**  \n",
    "  Das Produkt mit dein meisten Aufrufen auf dem Webserver\n",
    "\n",
    "## Ergebnis\n"
   ]
  },
  {
   "cell_type": "code",
   "execution_count": 8,
   "metadata": {},
   "outputs": [
    {
     "name": "stdout",
     "output_type": "stream",
     "text": [
      "453 GET /product/33968/64756/%DA%AF%D9%88%D8%B4%DB%8C-%D9%85%D9%88%D8%A8%D8%A7%DB%8C%D9%84-%D8%B3%D8%A7%D9%85%D8%B3%D9%88%D9%86%DA%AF-%D9%85%D8%AF%D9%84-Galaxy-J6-Plus-%282018%29-Dual-32GB-%28J610F-DS%29 HTTP/1.1\n"
     ]
    }
   ],
   "source": [
    "most_viewed_products = access_log.loc[access_log['request'].str.contains(r'^GET /product/\\d+', na=False)].value_counts(access_log['request'])\n",
    "print(most_viewed_products[0], most_viewed_products.keys()[0])"
   ]
  },
  {
   "attachments": {},
   "cell_type": "markdown",
   "metadata": {},
   "source": [
    "# Aufgabe 2\n",
    "\n",
    "> Untersuchen Sie den Datensatz auf weitere Auffälligkeiten.\n"
   ]
  },
  {
   "attachments": {},
   "cell_type": "markdown",
   "metadata": {},
   "source": [
    "## Basisinformationen durch Panda Befehle\n",
    "\n",
    "### Befehl .info()\n"
   ]
  },
  {
   "cell_type": "code",
   "execution_count": 11,
   "metadata": {
    "collapsed": false,
    "is_executing": true
   },
   "outputs": [
    {
     "name": "stdout",
     "output_type": "stream",
     "text": [
      "<class 'pandas.core.frame.DataFrame'>\n",
      "RangeIndex: 10365152 entries, 0 to 10365151\n",
      "Data columns (total 7 columns):\n",
      " #   Column      Dtype                                \n",
      "---  ------      -----                                \n",
      " 0   ip          object                               \n",
      " 1   time        datetime64[ns, pytz.FixedOffset(210)]\n",
      " 2   request     object                               \n",
      " 3   status      int64                                \n",
      " 4   size        int64                                \n",
      " 5   referer     object                               \n",
      " 6   user_agent  object                               \n",
      "dtypes: datetime64[ns, pytz.FixedOffset(210)](1), int64(2), object(4)\n",
      "memory usage: 553.6+ MB\n"
     ]
    }
   ],
   "source": [
    "access_log.info()"
   ]
  },
  {
   "attachments": {},
   "cell_type": "markdown",
   "metadata": {},
   "source": [
    "### Befehl .describe()\n",
    "- Anzahl der Einträge\n",
    "- wie viele einzigartige Einträge\n",
    "- höchste Zahl\n",
    "- ...\n",
    "\n",
    "--> Statistische Basisinformationen"
   ]
  },
  {
   "cell_type": "code",
   "execution_count": 10,
   "metadata": {},
   "outputs": [
    {
     "data": {
      "text/html": [
       "<div>\n",
       "<style scoped>\n",
       "    .dataframe tbody tr th:only-of-type {\n",
       "        vertical-align: middle;\n",
       "    }\n",
       "\n",
       "    .dataframe tbody tr th {\n",
       "        vertical-align: top;\n",
       "    }\n",
       "\n",
       "    .dataframe thead th {\n",
       "        text-align: right;\n",
       "    }\n",
       "</style>\n",
       "<table border=\"1\" class=\"dataframe\">\n",
       "  <thead>\n",
       "    <tr style=\"text-align: right;\">\n",
       "      <th></th>\n",
       "      <th>ip</th>\n",
       "      <th>time</th>\n",
       "      <th>request</th>\n",
       "      <th>status</th>\n",
       "      <th>size</th>\n",
       "      <th>referer</th>\n",
       "      <th>user_agent</th>\n",
       "    </tr>\n",
       "  </thead>\n",
       "  <tbody>\n",
       "    <tr>\n",
       "      <th>count</th>\n",
       "      <td>10365152</td>\n",
       "      <td>10365152</td>\n",
       "      <td>10365146</td>\n",
       "      <td>1.036515e+07</td>\n",
       "      <td>1.036515e+07</td>\n",
       "      <td>8718773</td>\n",
       "      <td>10350668</td>\n",
       "    </tr>\n",
       "    <tr>\n",
       "      <th>unique</th>\n",
       "      <td>258606</td>\n",
       "      <td>NaN</td>\n",
       "      <td>894210</td>\n",
       "      <td>NaN</td>\n",
       "      <td>NaN</td>\n",
       "      <td>103236</td>\n",
       "      <td>28342</td>\n",
       "    </tr>\n",
       "    <tr>\n",
       "      <th>top</th>\n",
       "      <td>66.249.66.194</td>\n",
       "      <td>NaN</td>\n",
       "      <td>GET /settings/logo HTTP/1.1</td>\n",
       "      <td>NaN</td>\n",
       "      <td>NaN</td>\n",
       "      <td>https://www.zanbil.ir/</td>\n",
       "      <td>Mozilla/5.0 (Windows NT 10.0; Win64; x64) Appl...</td>\n",
       "    </tr>\n",
       "    <tr>\n",
       "      <th>freq</th>\n",
       "      <td>353483</td>\n",
       "      <td>NaN</td>\n",
       "      <td>352037</td>\n",
       "      <td>NaN</td>\n",
       "      <td>NaN</td>\n",
       "      <td>494757</td>\n",
       "      <td>746572</td>\n",
       "    </tr>\n",
       "    <tr>\n",
       "      <th>mean</th>\n",
       "      <td>NaN</td>\n",
       "      <td>2019-01-24 13:02:56.248167680+03:30</td>\n",
       "      <td>NaN</td>\n",
       "      <td>2.101419e+02</td>\n",
       "      <td>1.243311e+04</td>\n",
       "      <td>NaN</td>\n",
       "      <td>NaN</td>\n",
       "    </tr>\n",
       "    <tr>\n",
       "      <th>min</th>\n",
       "      <td>NaN</td>\n",
       "      <td>2019-01-22 03:56:14+03:30</td>\n",
       "      <td>NaN</td>\n",
       "      <td>2.000000e+02</td>\n",
       "      <td>0.000000e+00</td>\n",
       "      <td>NaN</td>\n",
       "      <td>NaN</td>\n",
       "    </tr>\n",
       "    <tr>\n",
       "      <th>25%</th>\n",
       "      <td>NaN</td>\n",
       "      <td>2019-01-23 09:32:56+03:30</td>\n",
       "      <td>NaN</td>\n",
       "      <td>2.000000e+02</td>\n",
       "      <td>2.027000e+03</td>\n",
       "      <td>NaN</td>\n",
       "      <td>NaN</td>\n",
       "    </tr>\n",
       "    <tr>\n",
       "      <th>50%</th>\n",
       "      <td>NaN</td>\n",
       "      <td>2019-01-24 12:09:06+03:30</td>\n",
       "      <td>NaN</td>\n",
       "      <td>2.000000e+02</td>\n",
       "      <td>4.120000e+03</td>\n",
       "      <td>NaN</td>\n",
       "      <td>NaN</td>\n",
       "    </tr>\n",
       "    <tr>\n",
       "      <th>75%</th>\n",
       "      <td>NaN</td>\n",
       "      <td>2019-01-25 20:22:33+03:30</td>\n",
       "      <td>NaN</td>\n",
       "      <td>2.000000e+02</td>\n",
       "      <td>1.155100e+04</td>\n",
       "      <td>NaN</td>\n",
       "      <td>NaN</td>\n",
       "    </tr>\n",
       "    <tr>\n",
       "      <th>max</th>\n",
       "      <td>NaN</td>\n",
       "      <td>2019-01-26 20:29:13+03:30</td>\n",
       "      <td>NaN</td>\n",
       "      <td>5.040000e+02</td>\n",
       "      <td>1.249490e+06</td>\n",
       "      <td>NaN</td>\n",
       "      <td>NaN</td>\n",
       "    </tr>\n",
       "    <tr>\n",
       "      <th>std</th>\n",
       "      <td>NaN</td>\n",
       "      <td>NaN</td>\n",
       "      <td>NaN</td>\n",
       "      <td>3.921424e+01</td>\n",
       "      <td>2.812654e+04</td>\n",
       "      <td>NaN</td>\n",
       "      <td>NaN</td>\n",
       "    </tr>\n",
       "  </tbody>\n",
       "</table>\n",
       "</div>"
      ],
      "text/plain": [
       "                   ip                                 time  \\\n",
       "count        10365152                             10365152   \n",
       "unique         258606                                  NaN   \n",
       "top     66.249.66.194                                  NaN   \n",
       "freq           353483                                  NaN   \n",
       "mean              NaN  2019-01-24 13:02:56.248167680+03:30   \n",
       "min               NaN            2019-01-22 03:56:14+03:30   \n",
       "25%               NaN            2019-01-23 09:32:56+03:30   \n",
       "50%               NaN            2019-01-24 12:09:06+03:30   \n",
       "75%               NaN            2019-01-25 20:22:33+03:30   \n",
       "max               NaN            2019-01-26 20:29:13+03:30   \n",
       "std               NaN                                  NaN   \n",
       "\n",
       "                            request        status          size  \\\n",
       "count                      10365146  1.036515e+07  1.036515e+07   \n",
       "unique                       894210           NaN           NaN   \n",
       "top     GET /settings/logo HTTP/1.1           NaN           NaN   \n",
       "freq                         352037           NaN           NaN   \n",
       "mean                            NaN  2.101419e+02  1.243311e+04   \n",
       "min                             NaN  2.000000e+02  0.000000e+00   \n",
       "25%                             NaN  2.000000e+02  2.027000e+03   \n",
       "50%                             NaN  2.000000e+02  4.120000e+03   \n",
       "75%                             NaN  2.000000e+02  1.155100e+04   \n",
       "max                             NaN  5.040000e+02  1.249490e+06   \n",
       "std                             NaN  3.921424e+01  2.812654e+04   \n",
       "\n",
       "                       referer  \\\n",
       "count                  8718773   \n",
       "unique                  103236   \n",
       "top     https://www.zanbil.ir/   \n",
       "freq                    494757   \n",
       "mean                       NaN   \n",
       "min                        NaN   \n",
       "25%                        NaN   \n",
       "50%                        NaN   \n",
       "75%                        NaN   \n",
       "max                        NaN   \n",
       "std                        NaN   \n",
       "\n",
       "                                               user_agent  \n",
       "count                                            10350668  \n",
       "unique                                              28342  \n",
       "top     Mozilla/5.0 (Windows NT 10.0; Win64; x64) Appl...  \n",
       "freq                                               746572  \n",
       "mean                                                  NaN  \n",
       "min                                                   NaN  \n",
       "25%                                                   NaN  \n",
       "50%                                                   NaN  \n",
       "75%                                                   NaN  \n",
       "max                                                   NaN  \n",
       "std                                                   NaN  "
      ]
     },
     "execution_count": 10,
     "metadata": {},
     "output_type": "execute_result"
    }
   ],
   "source": [
    "access_log.describe(include = 'all')"
   ]
  },
  {
   "cell_type": "code",
   "execution_count": 9,
   "metadata": {},
   "outputs": [
    {
     "data": {
      "text/plain": [
       "ip\n",
       "66.249.66.194      353483\n",
       "66.249.66.91       314522\n",
       "151.239.241.163     92475\n",
       "66.249.66.92        88332\n",
       "91.99.30.32         45979\n",
       "                    ...  \n",
       "5.217.114.109           1\n",
       "2.185.112.228           1\n",
       "37.44.58.168            1\n",
       "5.119.191.23            1\n",
       "5.52.183.148            1\n",
       "Name: count, Length: 258606, dtype: int64"
      ]
     },
     "execution_count": 9,
     "metadata": {},
     "output_type": "execute_result"
    }
   ],
   "source": [
    "# IP-Adressen mit den meisten Aufrufen \n",
    "access_log.value_counts(\"ip\")"
   ]
  },
  {
   "cell_type": "code",
   "execution_count": null,
   "metadata": {},
   "outputs": [],
   "source": [
    "access_log['time']"
   ]
  }
 ],
 "metadata": {
  "kernelspec": {
   "display_name": "Python 3",
   "language": "python",
   "name": "python3"
  },
  "language_info": {
   "codemirror_mode": {
    "name": "ipython",
    "version": 3
   },
   "file_extension": ".py",
   "mimetype": "text/x-python",
   "name": "python",
   "nbconvert_exporter": "python",
   "pygments_lexer": "ipython3",
   "version": "3.11.3"
  },
  "vscode": {
   "interpreter": {
    "hash": "369f2c481f4da34e4445cda3fffd2e751bd1c4d706f27375911949ba6bb62e1c"
   }
  }
 },
 "nbformat": 4,
 "nbformat_minor": 0
}
