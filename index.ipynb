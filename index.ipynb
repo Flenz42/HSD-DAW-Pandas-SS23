{
 "cells": [
  {
   "cell_type": "markdown",
   "metadata": {},
   "source": [
    "<a href=\"https://pandas.pydata.org/\"><img src=https://pandas.pydata.org/static/img/pandas.svg width=\"200\" alt=\"pandas logo\"></a>\n",
    "\n",
    "# Lernmodul zum Datenimport und zur Datenvorbereitung mit pandas\n",
    "\n",
    "Bei Pandas handelt es sich um eine der beliebtesten Python Library zur Datenanalyse. Diese stellt verschiedene Funktionalitäten zum Datenimport, zur Datenanalyse und zur Datenmanipulation zur Verfügung. Mithilfe dieses Lernmoduls soll der Umgang mit Pandas erlernt und geübt werden. Dabei wird der Fokus auf den Datenimport und die Datenvorbereitung gelegt, indem die dafür zur Verfügung stehenden grundlegenden Funktionalitäten erläutert werden. Es wird empfohlen die Aufgaben zwischen den einzelnen Inhalten zu bearbeiten, nachdem die Erläuterungen gelesen wurden. Am Ende des Lernmoduls kann das gesammelte Wissen in einem kleinen Projekt nochmal vertieft werden.\n",
    "\n",
    "**Übersicht über die Lerninhalte:**\n",
    "\n",
    "- Grundlagen zu Pandas\n",
    "- Daten importieren und extrahieren\n",
    "- Daten analysieren\n",
    "- Daten bereinigen\n",
    "- Daten transformieren\n",
    "\n",
    "**Lernziele:**\n",
    "\n",
    "Die Teilnehmer erwerben Grundkenntnisse im Umgang mit der Library Pandas. Sie kennen die grundlegenden Datenstrukturen in Pandas und können Daten aus diversen Quellen (z. B. Datenbank, csv-Datei) importieren. Zudem sind sie in der Lage die Daten zu untersuchen und für die weitere Verarbeitung in z. B. ML Modellen vorzubereiten. Dafür beherrschen sie diverse Methoden zur Bereinigung und zur Transformation der Daten, die von Pandas zur Verfügung gestellt werden.\n",
    "\n",
    "**Voraussetzungen:**\n",
    "- Grundlegende Python Kenntnisse\n",
    "- Umgang mit Jupyter Notebooks\n",
    "\n",
    "\n",
    "**Hinweise:**\n",
    "\n",
    "Mithilfe des 📄 Symbols kann direkt zu der entsprechenden Stelle an der pandas Dokumentation gesprungen werden.\n"
   ]
  },
  {
   "cell_type": "markdown",
   "metadata": {},
   "source": [
    "<div style=\"background-color: #150458 ; padding: 5px; \"></div>\n",
    "\n",
    "## 1) Grundlagen zu Pandas"
   ]
  },
  {
   "cell_type": "markdown",
   "metadata": {},
   "source": [
    "### Pandas installieren"
   ]
  },
  {
   "cell_type": "markdown",
   "metadata": {},
   "source": [
    "Pandas kann entweder mit Anaconda oder Miniconda installiert werden oder mithilfe von pip:\n",
    "\n",
    "- Anaconda/ Miniconda: conda install Pandas\n",
    "\n",
    "- pip: pip install pandas\n"
   ]
  },
  {
   "cell_type": "markdown",
   "metadata": {},
   "source": [
    "### Pandas importieren"
   ]
  },
  {
   "cell_type": "markdown",
   "metadata": {},
   "source": [
    "Nachdem pandas installiert wurde, kann es in einer Datei importiert werden. Der Import findet mithilfe folgender Codezeile statt:"
   ]
  },
  {
   "cell_type": "code",
   "execution_count": 1,
   "metadata": {},
   "outputs": [],
   "source": [
    "import pandas as pd"
   ]
  },
  {
   "cell_type": "markdown",
   "metadata": {},
   "source": [
    "### Erläuterungen der Datenstrukturen"
   ]
  },
  {
   "cell_type": "markdown",
   "metadata": {},
   "source": [
    "Es gibt zwei grundlegende Datenobjekte in pandas: den DataFrame und die Series. Im Folgenden werden diese beiden kurz vorgestellt."
   ]
  },
  {
   "cell_type": "markdown",
   "metadata": {},
   "source": [
    "**DataFrame** <a href=\"https://pandas.pydata.org/pandas-docs/stable/reference/api/pandas.DataFrame.html\">📄</a>"
   ]
  },
  {
   "cell_type": "markdown",
   "metadata": {},
   "source": [
    "Bei einem DataFrame handelt es sich um eine Tabelle mit diversen Einträgen. Diese Einträge werden mithilfe von Spalten und Zeilen gegliedert und können von einem beliebigen Datentyp sein (zum Beispiel Integer, String, Date, Float, Boolean, usw.).\n"
   ]
  },
  {
   "cell_type": "markdown",
   "metadata": {},
   "source": []
  },
  {
   "cell_type": "code",
   "execution_count": null,
   "metadata": {},
   "outputs": [],
   "source": []
  },
  {
   "cell_type": "markdown",
   "metadata": {},
   "source": [
    "**Series** <a href=\"https://pandas.pydata.org/pandas-docs/stable/reference/api/pandas.Series.html\">📄</a> "
   ]
  },
  {
   "cell_type": "code",
   "execution_count": null,
   "metadata": {},
   "outputs": [],
   "source": []
  },
  {
   "cell_type": "markdown",
   "metadata": {},
   "source": [
    "<div style=\"background-color: #150458 ; padding: 5px; \"></div>\n",
    "\n",
    "## 2) Datenimport "
   ]
  },
  {
   "cell_type": "code",
   "execution_count": 4,
   "metadata": {},
   "outputs": [
    {
     "output_type": "stream",
     "name": "stdout",
     "text": [
      "   show_id   type                            title           director  \\\n0   247747  Movie               Amar Akbar Anthony     Manmohan Desai   \n1   269880  Movie                         Bad Boys        Michael Bay   \n2   281550  Movie                         La Bamba        Luis Valdez   \n3   284890  Movie                          Barsaat  Rajkumar Santoshi   \n4   292118  Movie  Beavis and Butt-head Do America         Mike Judge   \n\n                                                cast        country  \\\n0  Vinod Khanna, Rishi Kapoor, Amitabh Bachchan, ...          India   \n1  Will Smith, Martin Lawrence, Téa Leoni, Tchéky...  United States   \n2  Lou Diamond Phillips, Esai Morales, Rosanna De...  United States   \n3  Twinkle Khanna, Bobby Deol, Danny Denzongpa, R...          India   \n4  Mike Judge, Bruce Willis, Demi Moore, Cloris L...  United States   \n\n          date_added  release_year rating duration  \\\n0  December 31, 2019          1977  TV-14  172 min   \n1    October 1, 2019          1995      R  119 min   \n2    January 1, 2020          1987  PG-13  109 min   \n3      April 1, 2018          1995  TV-PG  166 min   \n4  November 20, 2019          1996  PG-13   81 min   \n\n                                           listed_in  \\\n0       Action & Adventure, Classic Movies, Comedies   \n1                       Action & Adventure, Comedies   \n2           Classic Movies, Dramas, Music & Musicals   \n3  Action & Adventure, International Movies, Musi...   \n4                              Comedies, Cult Movies   \n\n                                         description  \n0  Abandoned in a park by their father, Amar, Akb...  \n1  In this fast-paced actioner, two Miami narcoti...  \n2  The plane crash that killed Buddy Holly also t...  \n3  A naïve young man and a rich city girl fall in...  \n4  After realizing that their boob tube is gone, ...  \n6234\n"
     ]
    }
   ],
   "source": [
    "import sqlite3\n",
    "\n",
    "# Read sqlite query results into a pandas DataFrame\n",
    "con = sqlite3.connect(\"data/lernmodul_pandas.db\")\n",
    "df = pd.read_sql_query(\"SELECT * from netflix_titles\", con)\n",
    "\n",
    "# Verify that result of SQL query is stored in the dataframe\n",
    "print(len(df))\n",
    "\n",
    "con.close()"
   ]
  },
  {
   "cell_type": "code",
   "execution_count": null,
   "metadata": {},
   "outputs": [],
   "source": []
  },
  {
   "cell_type": "markdown",
   "metadata": {},
   "source": [
    "<div style=\"background-color: #FFCA00 ; padding: 5px; \"></div>\n",
    "\n",
    "### Übungsteil"
   ]
  },
  {
   "cell_type": "code",
   "execution_count": null,
   "metadata": {},
   "outputs": [],
   "source": []
  },
  {
   "cell_type": "code",
   "execution_count": null,
   "metadata": {},
   "outputs": [],
   "source": []
  },
  {
   "cell_type": "code",
   "execution_count": null,
   "metadata": {},
   "outputs": [],
   "source": []
  },
  {
   "cell_type": "markdown",
   "metadata": {},
   "source": [
    "<div style=\"background-color: #150458 ; padding: 5px; \"></div>\n",
    "\n",
    "## 3) Datenanalyse"
   ]
  },
  {
   "cell_type": "code",
   "execution_count": null,
   "metadata": {},
   "outputs": [],
   "source": []
  },
  {
   "cell_type": "code",
   "execution_count": null,
   "metadata": {},
   "outputs": [],
   "source": []
  },
  {
   "cell_type": "code",
   "execution_count": null,
   "metadata": {},
   "outputs": [],
   "source": []
  },
  {
   "cell_type": "markdown",
   "metadata": {},
   "source": [
    "<div style=\"background-color: #FFCA00 ; padding: 5px; \"></div>\n",
    "\n",
    "### Übungsteil"
   ]
  },
  {
   "cell_type": "code",
   "execution_count": null,
   "metadata": {},
   "outputs": [],
   "source": []
  },
  {
   "cell_type": "markdown",
   "metadata": {},
   "source": [
    "<div style=\"background-color: #150458 ; padding: 5px; \"></div>\n",
    "\n",
    "## 4) Datenbereinigung"
   ]
  },
  {
   "cell_type": "code",
   "execution_count": null,
   "metadata": {},
   "outputs": [],
   "source": []
  },
  {
   "cell_type": "code",
   "execution_count": null,
   "metadata": {},
   "outputs": [],
   "source": []
  },
  {
   "cell_type": "code",
   "execution_count": null,
   "metadata": {},
   "outputs": [],
   "source": []
  },
  {
   "cell_type": "markdown",
   "metadata": {},
   "source": [
    "<div style=\"background-color: #FFCA00 ; padding: 5px; \"></div>\n",
    "\n",
    "### Übungsteil"
   ]
  },
  {
   "cell_type": "code",
   "execution_count": null,
   "metadata": {},
   "outputs": [],
   "source": []
  },
  {
   "cell_type": "markdown",
   "metadata": {},
   "source": [
    "<div style=\"background-color: #150458 ; padding: 5px; \"></div>\n",
    "\n",
    "## 5) Datenmanipulation"
   ]
  },
  {
   "cell_type": "code",
   "execution_count": null,
   "metadata": {},
   "outputs": [],
   "source": []
  },
  {
   "cell_type": "code",
   "execution_count": null,
   "metadata": {},
   "outputs": [],
   "source": []
  },
  {
   "cell_type": "code",
   "execution_count": null,
   "metadata": {},
   "outputs": [],
   "source": []
  },
  {
   "cell_type": "markdown",
   "metadata": {},
   "source": [
    "<div style=\"background-color: #FFCA00 ; padding: 5px; \"></div>\n",
    "\n",
    "### Übungsteil"
   ]
  },
  {
   "cell_type": "code",
   "execution_count": null,
   "metadata": {},
   "outputs": [],
   "source": []
  },
  {
   "cell_type": "markdown",
   "metadata": {},
   "source": [
    "<div style=\"background-color: #E70488 ; padding: 5px; \"></div>\n",
    "\n",
    "## 6) Abschlussaufgabe"
   ]
  },
  {
   "cell_type": "code",
   "execution_count": null,
   "metadata": {},
   "outputs": [],
   "source": []
  },
  {
   "cell_type": "code",
   "execution_count": null,
   "metadata": {},
   "outputs": [],
   "source": []
  },
  {
   "cell_type": "code",
   "execution_count": null,
   "metadata": {},
   "outputs": [],
   "source": []
  },
  {
   "cell_type": "code",
   "execution_count": null,
   "metadata": {},
   "outputs": [],
   "source": []
  },
  {
   "cell_type": "markdown",
   "metadata": {},
   "source": []
  }
 ],
 "metadata": {
  "kernelspec": {
   "display_name": "Python 3",
   "language": "python",
   "name": "python3"
  },
  "language_info": {
   "codemirror_mode": {
    "name": "ipython",
    "version": 3
   },
   "file_extension": ".py",
   "mimetype": "text/x-python",
   "name": "python",
   "nbconvert_exporter": "python",
   "pygments_lexer": "ipython3",
   "version": "3.7.6-final"
  }
 },
 "nbformat": 4,
 "nbformat_minor": 4
}