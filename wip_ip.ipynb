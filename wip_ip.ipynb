{
 "cells": [
  {
   "cell_type": "code",
   "execution_count": null,
   "metadata": {},
   "outputs": [],
   "source": [
    "import pandas as pd\n",
    "import ipcalc\n",
    "import parse_functions as pf\n",
    "import matplotlib.pyplot as plt\n",
    "import seaborn as sns\n",
    "import numpy as np\n",
    "import re\n",
    "import user_agents as ua\n",
    "from helpers import filter_other, autopct_format\n",
    "import calendar"
   ]
  },
  {
   "cell_type": "code",
   "execution_count": null,
   "metadata": {},
   "outputs": [],
   "source": [
    "# Daten aus CSV laden\n",
    "filename = \"data/acces_log.csv\"\n",
    "access_log = pd.read_csv(filename)"
   ]
  },
  {
   "cell_type": "code",
   "execution_count": null,
   "metadata": {},
   "outputs": [],
   "source": [
    "city_ip4 = pd.read_csv('data/geo-city/GeoLite2-City-Blocks-IPv4.csv')\n",
    "city_ip4.head()\n",
    "locations = pd.read_csv('data/geo-city/GeoLite2-City-Locations-de.csv')\n",
    "locations.head()"
   ]
  },
  {
   "cell_type": "code",
   "execution_count": null,
   "metadata": {},
   "outputs": [],
   "source": [
    "copy = access_log.copy()\n",
    "copy['ip_n'] = pf.ip_to_int(copy['ip'])\n",
    "copy.head()"
   ]
  },
  {
   "cell_type": "code",
   "execution_count": null,
   "metadata": {},
   "outputs": [],
   "source": [
    "#print(city_ip4['network'].map(lambda network: ipcalc.Network(network)))\n",
    "\n",
    "def get_network_borders(network):\n",
    "    ip_network = ipcalc.Network(network)\n",
    "    if len(ip_network) > 0:\n",
    "        return [int(ip_network[0]), int(ip_network[-1])]\n",
    "    return [0, 0]\n",
    "\n",
    "# print(get_network_borders('1.0.8.0/21'))\n",
    "\n",
    "# print(city_ip4['network'][0:5].map(lambda network: get_network_borders(network)))\n",
    "\n",
    "city_ip4['ip_range'] = city_ip4['network'].map(lambda network: ipcalc.Network(network))\n",
    "city_ip4['ip_first'] = city_ip4['ip_range'].map(lambda ip: int(ip[0])).astype('int32')\n",
    "city_ip4['ip_last'] = city_ip4['ip_range'].map(lambda ip: int(ip[-1])).astype('int32')\n",
    "\n",
    "# city_ip4['ip_first'] = pf.ip_to_int(city_ip4['network'].map(lambda network: ipcalc.Network(network)[0]))\n",
    "# city_ip4['ip_last'] = pf.ip_to_int(city_ip4['network'].map(lambda network: ipcalc.Network(network)[-1]))\n",
    "\n",
    "city_ip4.head()"
   ]
  },
  {
   "cell_type": "code",
   "execution_count": null,
   "metadata": {},
   "outputs": [],
   "source": [
    "# ip = 16778240\n",
    "# filtered = city_ip4.loc[city_ip4['ip_first'].le(ip)].loc[city_ip4['ip_last'].ge(ip)]\n",
    "# # filtered = filtered.loc[filtered['ip_last'].ge(ip)]\n",
    "# filtered.head()\n",
    "\n",
    "# copy['ip_n'][0:5].map(lambda ip: city_ip4.loc[city_ip4['ip_first'].le(ip)].loc[city_ip4['ip_last'].ge(ip)]['network'])\n",
    "\n",
    "\n",
    "# pd.concat([\n",
    "#     copy.loc[i, :].reset_index(drop=True),\n",
    "#     city_ip4.loc[j, :].reset_index(drop=True)\n",
    "# ], axis=1).append(\n",
    "#     copy[~np.in1d(np.arange(len(copy)), np.unique(i))],\n",
    "#     ignore_index=True, sort=False\n",
    "# )\n",
    "\n",
    "# copy.conditional_join(city_ip4, ('ip_n', 'ip_first', '>='), ('ip_n', 'ip_last', '<='))\n",
    "\n",
    "ips = copy['ip_n'].unique()\n",
    "ip_map = pd.DataFrame(ips, columns=['ip_n'])\n",
    "ip_map.conditional_join(city_ip4, ('ip_n', 'ip_first', '>='), ('ip_n', 'ip_last', '<='))\n",
    "\n",
    "\n",
    "\n",
    "# copy['network'] = copy['ip_n'].map(lambda ip: city_ip4.loc[city_ip4['ip_first'].le(ip)].loc[city_ip4['ip_last'].ge(ip)]['network'])\n",
    "# copy.head()"
   ]
  },
  {
   "cell_type": "code",
   "execution_count": null,
   "metadata": {},
   "outputs": [],
   "source": [
    "# ip = 16778240\n",
    "# filtered = city_ip4.loc[city_ip4['ip_first'].le(ip)].loc[city_ip4['ip_last'].ge(ip)]\n",
    "# # filtered = filtered.loc[filtered['ip_last'].ge(ip)]\n",
    "# filtered.head()\n",
    "\n",
    "# copy['ip_n'][0:5].map(lambda ip: city_ip4.loc[city_ip4['ip_first'].le(ip)].loc[city_ip4['ip_last'].ge(ip)]['network'])\n",
    "\n",
    "\n",
    "# pd.concat([\n",
    "#     copy.loc[i, :].reset_index(drop=True),\n",
    "#     city_ip4.loc[j, :].reset_index(drop=True)\n",
    "# ], axis=1).append(\n",
    "#     copy[~np.in1d(np.arange(len(copy)), np.unique(i))],\n",
    "#     ignore_index=True, sort=False\n",
    "# )\n",
    "\n",
    "# copy.conditional_join(city_ip4, ('ip_n', 'ip_first', '>='), ('ip_n', 'ip_last', '<='))\n",
    "\n",
    "ips = copy['ip_n'].unique()\n",
    "ip_map = pd.DataFrame(ips, columns=['ip_n'])\n",
    "ip_map.conditional_join(city_ip4, ('ip_n', 'ip_first', '>='), ('ip_n', 'ip_last', '<='))\n",
    "\n",
    "# def find_network(ip):\n",
    "#     m = city_ip4[(city_ip4['ip_first'] <= ip) & (city_ip4['ip_last'] >= ip)]\n",
    "#     if len(m) > 0:\n",
    "#         n = m.iloc[0]['network']\n",
    "#         return n\n",
    "#     return None\n",
    "\n",
    "# print(find_network(1400386853))\n",
    "\n",
    "\n",
    "# ip_map['network'] = ip_map['ip_n'][0:1000].map(find_network)\n",
    "\n",
    "ip_map.head()\n",
    "\n",
    "\n",
    "\n",
    "# copy['network'] = copy['ip_n'].map(lambda ip: city_ip4.loc[city_ip4['ip_first'].le(ip)].loc[city_ip4['ip_last'].ge(ip)]['network'])\n",
    "# copy.head()"
   ]
  }
 ],
 "metadata": {
  "kernelspec": {
   "display_name": ".venv",
   "language": "python",
   "name": "python3"
  },
  "language_info": {
   "codemirror_mode": {
    "name": "ipython",
    "version": 3
   },
   "file_extension": ".py",
   "mimetype": "text/x-python",
   "name": "python",
   "nbconvert_exporter": "python",
   "pygments_lexer": "ipython3",
   "version": "3.11.3"
  },
  "orig_nbformat": 4
 },
 "nbformat": 4,
 "nbformat_minor": 2
}
