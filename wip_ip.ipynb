{
 "cells": [
  {
   "attachments": {},
   "cell_type": "markdown",
   "metadata": {},
   "source": [
    "# IP Mapping"
   ]
  },
  {
   "cell_type": "code",
   "execution_count": null,
   "metadata": {},
   "outputs": [],
   "source": [
    "#####################\n",
    "# Google Colab ONLY #\n",
    "#####################\n",
    "\n",
    "# Install Packages\n",
    "!pip install -r https://raw.githubusercontent.com/Flenz42/HSD-DAW-Pandas-SS23/master/requirements.txt\n",
    "# Download custom scripts\n",
    "!wget !wget https://eu2.contabostorage.com/327e15c0c21f41889d32882e7beb3e92:hsd-daw-ss23-share/parse_functions.py\n",
    "!wget !wget https://eu2.contabostorage.com/327e15c0c21f41889d32882e7beb3e92:hsd-daw-ss23-share/helpers.py\n",
    "# Get Testdata\n",
    "!wget https://eu2.contabostorage.com/327e15c0c21f41889d32882e7beb3e92:hsd-daw-ss23-share/data/acces_log.csv -P data\n",
    "!wget https://eu2.contabostorage.com/327e15c0c21f41889d32882e7beb3e92:hsd-daw-ss23-share/data/ip_mapping.csv -P data\n",
    "!wget https://eu2.contabostorage.com/327e15c0c21f41889d32882e7beb3e92:hsd-daw-ss23-share/geo-city/GeoLite2-City-Blocks-IPv4.csv -P data/geo-city\n",
    "!wget https://eu2.contabostorage.com/327e15c0c21f41889d32882e7beb3e92:hsd-daw-ss23-share/geo-city/GeoLite2-City-Locations-de.csv -P data/geo-city"
   ]
  },
  {
   "cell_type": "code",
   "execution_count": null,
   "metadata": {},
   "outputs": [],
   "source": [
    "import pandas as pd\n",
    "import ipcalc\n",
    "import parse_functions as pf\n",
    "import matplotlib.pyplot as plt\n",
    "import seaborn as sns\n",
    "import numpy as np\n",
    "import re\n",
    "import user_agents as ua\n",
    "from helpers import filter_other, autopct_format\n",
    "import calendar\n",
    "import janitor\n",
    "import pytz"
   ]
  },
  {
   "attachments": {},
   "cell_type": "markdown",
   "metadata": {},
   "source": [
    "## Daten\n",
    "\n",
    "### 1. Access Log"
   ]
  },
  {
   "cell_type": "code",
   "execution_count": null,
   "metadata": {},
   "outputs": [],
   "source": [
    "# Daten aus CSV laden\n",
    "filename = \"data/acces_log.csv\"\n",
    "access_log = pd.read_csv(filename)"
   ]
  },
  {
   "attachments": {},
   "cell_type": "markdown",
   "metadata": {},
   "source": [
    "### 2. IP-Listen und Ortsinformationen"
   ]
  },
  {
   "cell_type": "code",
   "execution_count": null,
   "metadata": {},
   "outputs": [],
   "source": [
    "city_ip4 = pd.read_csv('data/geo-city/GeoLite2-City-Blocks-IPv4.csv')\n",
    "city_ip4.head()\n",
    "locations = pd.read_csv('data/geo-city/GeoLite2-City-Locations-de.csv')\n",
    "locations.head()"
   ]
  },
  {
   "attachments": {},
   "cell_type": "markdown",
   "metadata": {},
   "source": [
    "## Daten vorbereiten\n",
    "\n",
    "### IP-Adressen in `int` konvertieren"
   ]
  },
  {
   "cell_type": "code",
   "execution_count": null,
   "metadata": {},
   "outputs": [],
   "source": [
    "access_log['ip_n'] = pf.ip_to_int(access_log['ip'])\n",
    "access_log.head()"
   ]
  },
  {
   "attachments": {},
   "cell_type": "markdown",
   "metadata": {},
   "source": [
    "### IP-Liste aufbereiten\n",
    "\n",
    "- Netzwerke aus dem Format `1.0.0.0/24` berechnen\n",
    "- \"Rand-Adressen\" merken"
   ]
  },
  {
   "cell_type": "code",
   "execution_count": null,
   "metadata": {},
   "outputs": [],
   "source": [
    "city_ip4['ip_range'] = city_ip4['network'].map(lambda network: ipcalc.Network(network))\n",
    "city_ip4['ip_first'] = city_ip4['ip_range'].map(lambda ip: int(ip[0])).astype('int32')\n",
    "city_ip4['ip_last'] = city_ip4['ip_range'].map(lambda ip: int(ip[-1])).astype('int32')\n",
    "\n",
    "city_ip4.head()"
   ]
  },
  {
   "attachments": {},
   "cell_type": "markdown",
   "metadata": {},
   "source": [
    "## IP-Mapping\n",
    "\n",
    "- Liste der IP-Adressen im Log auslesen\n",
    "- Jede IP-Adresse mit einem `Network` joinen"
   ]
  },
  {
   "cell_type": "code",
   "execution_count": null,
   "metadata": {},
   "outputs": [],
   "source": [
    "# Achtung: Das dauert ca. 8 Minuten\n",
    "ips = access_log['ip_n'].unique()\n",
    "ip_map = pd.DataFrame(ips, columns=['ip_n'])\n",
    "ip_map = ip_map.conditional_join(city_ip4, ('ip_n', 'ip_first', '>='), ('ip_n', 'ip_last', '<='))"
   ]
  },
  {
   "attachments": {},
   "cell_type": "markdown",
   "metadata": {},
   "source": [
    "## Zeit sparen"
   ]
  },
  {
   "cell_type": "code",
   "execution_count": null,
   "metadata": {},
   "outputs": [],
   "source": [
    "# Zwischenstand Als CSV speichern\n",
    "filename = \"data/ip_mapping.csv\"\n",
    "ip_map.to_csv(filename, index=False)"
   ]
  },
  {
   "cell_type": "code",
   "execution_count": null,
   "metadata": {},
   "outputs": [],
   "source": [
    "# Laden aus CSV (dauert keine 6 Minuten)\n",
    "filename = \"data/ip_mapping.csv\"\n",
    "ip_map = pd.read_csv(filename)\n",
    "ip_map.head()"
   ]
  },
  {
   "attachments": {},
   "cell_type": "markdown",
   "metadata": {},
   "source": [
    "## IP-Netze auf Geo-Daten mappen"
   ]
  },
  {
   "cell_type": "code",
   "execution_count": null,
   "metadata": {},
   "outputs": [],
   "source": [
    "ip_map['geoname_id'] = ip_map['geoname_id'].astype('Int64')\n",
    "locations['geoname_id'] = locations['geoname_id'].astype('Int64')\n",
    "ip_locations = ip_map.merge(locations, how='left', on='geoname_id', suffixes=(None, '_i'))\n",
    "ip_locations.head()"
   ]
  },
  {
   "attachments": {},
   "cell_type": "markdown",
   "metadata": {},
   "source": [
    "## Logs und IP-Daten verbinden"
   ]
  },
  {
   "cell_type": "code",
   "execution_count": null,
   "metadata": {},
   "outputs": [],
   "source": [
    "access_log['ip_n'] = access_log['ip_n'].astype('int32')\n",
    "ip_locations['ip_n'] = ip_locations['ip_n'].astype('int32')\n",
    "log_with_locations = access_log.merge(ip_locations, how='left', on='ip_n', suffixes=(None, '_i'))\n",
    "log_with_locations.head()"
   ]
  },
  {
   "attachments": {},
   "cell_type": "markdown",
   "metadata": {},
   "source": [
    "## Analyse: Länder"
   ]
  },
  {
   "cell_type": "code",
   "execution_count": null,
   "metadata": {},
   "outputs": [],
   "source": [
    "country_counts = log_with_locations['country_name'].value_counts()\n",
    "\n",
    "country_counts_filtered = filter_other(country_counts, 0.01)\n",
    "\n",
    "country_counts_filtered.plot(kind='pie', title='Countries', ylabel='Country', autopct=autopct_format(country_counts_filtered))"
   ]
  }
 ],
 "metadata": {
  "kernelspec": {
   "display_name": ".venv",
   "language": "python",
   "name": "python3"
  },
  "language_info": {
   "codemirror_mode": {
    "name": "ipython",
    "version": 3
   },
   "file_extension": ".py",
   "mimetype": "text/x-python",
   "name": "python",
   "nbconvert_exporter": "python",
   "pygments_lexer": "ipython3",
   "version": "3.11.3"
  },
  "orig_nbformat": 4
 },
 "nbformat": 4,
 "nbformat_minor": 2
}
