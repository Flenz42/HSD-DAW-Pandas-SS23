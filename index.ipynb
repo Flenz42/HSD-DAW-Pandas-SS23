{
 "cells": [
  {
   "cell_type": "markdown",
   "metadata": {},
   "source": [
    "<a href=\"https://pandas.pydata.org/\"><img src=https://pandas.pydata.org/static/img/pandas.svg width=300px alt=\"pandas logo\"></a>\n",
    "\n",
    "# Lernmodul zum Datenimport und zur Datenvorbereitung mit pandas\n",
    "\n",
    "Bei pandas handelt es sich um eine der beliebtesten Python Bibliothek zur Datenanalyse. Diese wird dazu benötigt mit Daten in Form von Tabellen arbeiten zu können. Sie stellt verschiedene Funktionalitäten zum Datenimport, zur Datenanalyse und zur Datenmanipulation zur Verfügung. Mithilfe dieses Lernmoduls soll der grundlegende Umgang mit pandas erlernt und geübt werden. Dabei wird der Fokus auf den Datenimport und die Datenvorbereitung gelegt, indem die dafür zur Verfügung stehenden wichtigsten Funktionalitäten erläutert werden. Häufig sind Erkenntnisse aus den Daten erst nach der Visualisierung der vorbereiteten Daten ersichtlich. Zur Veranschaulichung der erarbeiteten Ergebnisse sind an entsprechenden Stellen Visualisierungen eingefügt. Wie diese erstellten werden ist nicht Teil dieses Lernmoduls. Auch findet keine weitere Analyse der Visualisierung zur Gewinnung von Erkenntnissen statt, da der Fokus dieses Lernmoduls auf dem Umgang mit pandas liegt.\n",
    "\n",
    "**Was ist pandas?**\n",
    "\n",
    "pandas ist eine frei zur Verfügung stehende Bibliothek für die Programmiersprache Python. Der Name pandas leitet sich von dem englischen Begriff panel data (Paneldaten) ab. Dabei handel es sich um Datensätze, die bei der Untersuchung derselben Einheit (z. B. Personen) in mehreren Zeitperioden erhoben werden. Insbesondere zur Datenanalyse und Datenmanipulation bietet es Datenstrukturen und Operationen zur sinnvollen Ergänzung von Python. Dabei sind viele Funktionalitäten vorhanden, die denen von Microsoft Excel oder SQL ähneln. Auch für den Import und Export von Daten bietet pandas die benötigten Funktionalitäten. \n",
    "\n",
    "pandas basiert auf der Bibliothek NumPy. NumPy ist eine Abkürzung für numerisches Pyhton und bietet ein Basispaket für wissenschaftliches Rechnen mit Python. Genau wie pandas steht es frei zur Verfügung. pandas erweitert NumPy dabei um weitere Funktionen zur Verarbeitung von Tabellendaten. Die Datenanalyse und -vorbereitung mithilfe von pandas kann zudem durch weitere Bibliotheken sinnvoll ergänzt werden. So können die Ergebnisse der Analyse zum Beispiel durch die Bibliotheken matplotlib oder seaborn anschaulich präsentiert und veranschaulicht werden. Oder mithilfe von scikit-learn oder TensorFlow ein Maschine Learning Modell anhand der aufbereiteten Daten trainiert werden. \n",
    "\n",
    "GitHub: https://github.com/pandas-dev/pandas\n",
    "\n",
    "**Lernziele:**\n",
    "\n",
    "In dieserm Lernmodul werden Grundkenntnisse im Umgang mit der Bibliothek pandas erworben. Die grundlegenden Datenstrukturen in pandas sind bekannt und Daten aus diversen Quellen (z. B. Datenbank, csv-Datei) können importieren und auch wieder exportiert werden. Zudem können Daten untersucht werden und für die weitere Verarbeitung in zum Beispiel Maschine Learning Modellen vorbereitet werden. Dafür werden diverse Methoden zur Bereinigung und zur Transformation der Daten beherrscht, die von pandas zur Verfügung gestellt werden.\n",
    "\n",
    "**Verwendeter Datensatz:**\n",
    "\n",
    "Bei dem Datensatz, der in diesem Lernmodul verwendet wird, handelt es sich um TV Shows und Filme die auf Netflix zur Verfügung stehen. Dabei stammen die zuletzt hinzugefügte Titel der Daten aus Januar 2020. Im Laufe des Lernmoduls wird unter anderem herausgefunden, welche die meist vertrensten Kategorien auf Netflix sind und in welchen Monaten die meisten Titel hnzugefügt werden.\n",
    "\n",
    "Quelle: https://www.kaggle.com/shivamb/netflix-shows\n",
    "\n",
    "**Hinweis:**\n",
    "\n",
    "Die einzelnen Aufgaben und Lernabschnitte bauen aufeinander auf. Aus diesem Grund ist es wichtig diese nacheinander in der richtigen Reihenfolge zu bearbeiten. Anderseits werden die Aufgaben als falsch markiert, da die Lösung auf der Lösung der vorherigen Aufgaben aufbaut.\n",
    "\n",
    "**Voraussetzungen:**\n",
    "- Grundlegende Python Kenntnisse\n",
    "- SQL Kenntnisse\n",
    "\n",
    "\n",
    "## Übersicht über die Lerninhalte:\n",
    "\n",
    "1. [Grundlagen zu pandas](#1-Grundlagen-zu-pandas)  \n",
    "    1.1 [pandas importieren](#1.1-pandas-importieren)  \n",
    "    1.2 [Erläuterungen der Datenstrukturen](#1.2-Erläuterungen-der-Datenstrukturen)    \n",
    "2. [Daten importieren und extrahieren](#2-Datenimport-und--export)  \n",
    "    2.1 [Importieren von Daten aus einer Datenbank](#2.1-Importieren-von-Daten-aus-einer-Datenbank)  \n",
    "    2.2 [Importieren von Daten aus einer csv Datei](#2.2-Importieren-von-Daten-aus-einer-csv-Datei)  \n",
    "    2.3 [Zusammenführen von Daten](#2.3-Zusammenführen-von-Daten)  \n",
    "    2.4 [Export von Daten in eine Datenbank](#2.4-Export-von-Daten-in-eine-Datenbank)  \n",
    "    2.5 [Export von Daten in eine csv Datei](#2.5-Export-von-Daten-in-eine-csv-Datei)  \n",
    "    2.6 [Zusammenfassung Datenimport und -export](#2.6-Zusammenfassung-Datenimport-und--export)  \n",
    "    2.7 [Übungsteil](#2.7-Übungsteil)  \n",
    "3. [Daten analysieren](#3-Datenanalyse)  \n",
    "    3.1 [Anzeigen der Daten](#3.1-Anzeigen-der-Daten)  \n",
    "    3.2 [Erstellen einer Kopie der Daten](#3.2-Erstellen-einer-Kopie-der-Daten)  \n",
    "    3.3 [Beschreiben der Daten](#3.3-Beschreiben-der-Daten)  \n",
    "    3.4 [Zugriff auf Datenwerte](#3.4-Zugriff-auf-Datenwerte)  \n",
    "    3.5 [Bedingte Auswahl von Daten](#3.5-Bedingte-Auswahl-von-Daten)  \n",
    "    3.6 [Umbenennen von Spaltennamen](#3.6-Umbenennen-von-Spaltennamen)  \n",
    "    3.7 [Datentypen der Spalten](#3.7-Datentypen-der-Spalten)  \n",
    "    3.8 [Sortieren der Daten](#3.8-Sortieren-der-Daten)  \n",
    "    3.9 [Zusammenfassung Datenanalyse](#3.9-Zusammenfassung-Datenanalyse)  \n",
    "    3.10 [Übungsteil](#3.10-Übungsteil)  \n",
    "4. [Daten bereinigen](#4-Datenbereinigung)   \n",
    "    4.1 [Umgang mit fehlenden Werten](#4.1-Umgang-mit-fehlenden-Werten)  \n",
    "    4.2 [Umgang mit Duplikaten](#4.2-Umgang-mit-Duplikaten)  \n",
    "    4.3 [Zusammenfassung Datenbereinigung](#4.3-Zusammenfassung-Datenbereinigung)  \n",
    "    4.4 [Übungsteil](#4.4-Übungsteil)\n",
    "5. [Daten manipulieren](#5-Datenmanipulation)  \n",
    "    5.1 [Manipulation der Datenstruktur](#5.1-Manipulation-der-Datenstruktur)  \n",
    "    5.2 [Manipulation von Daten](#5.2-Manipulation-von-Daten)  \n",
    "    5.3 [Datenwerte mappen](#5.3-Datenwerte-mappen)  \n",
    "    5.4 [Gruppieren von Daten](#5.4-Gruppieren-von-Daten)  \n",
    "    5.5 [Binning von Daten](#5.5-Binning-von-Daten)  \n",
    "    5.6 [One-hot Encoding](#5.6-One-hot-Encoding)  \n",
    "    5.7 [Zusammenfassung Datenmanipulation](#5.7-Zusammenfassung-Datenmanipulation)  \n",
    "    5.8 [Übungsteil](#5.8-Übungsteil)\n",
    "6. [Zusammenfassung](#6-Zusammenfassung)\n",
    "7. [Referenzen](#7-Referenzen)"
   ]
  },
  {
   "cell_type": "code",
   "execution_count": null,
   "metadata": {},
   "outputs": [],
   "source": [
    "#hideInput\n",
    "#from taskreview import LearningModule\n",
    "from taskreview.learning_module import LearningModule\n",
    "\n",
    "# Lernmodul-Instanz erstellen\n",
    "lm = LearningModule('data/lernmodul_pandas.db')\n",
    "\n",
    "import vis_functions as vf"
   ]
  },
  {
   "cell_type": "markdown",
   "metadata": {},
   "source": [
    "<div style=\"background-color: #150458 ; padding: 5px; \"></div>\n",
    "\n",
    "## 1 Grundlagen zu pandas"
   ]
  },
  {
   "cell_type": "markdown",
   "metadata": {},
   "source": [
    "### pandas installieren"
   ]
  },
  {
   "cell_type": "markdown",
   "metadata": {},
   "source": [
    "pandas kann entweder mit Anaconda/ Miniconda installiert werden oder mithilfe von pip:\n",
    "\n",
    "- Anaconda/ Miniconda: conda install pandas\n",
    "\n",
    "- pip: pip install pandas\n"
   ]
  },
  {
   "cell_type": "markdown",
   "metadata": {},
   "source": [
    "### 1.1 pandas importieren"
   ]
  },
  {
   "cell_type": "markdown",
   "metadata": {},
   "source": [
    "Nachdem pandas installiert wurde, kann es mit folgender Codezeile importiert werden:"
   ]
  },
  {
   "cell_type": "code",
   "execution_count": 8,
   "metadata": {},
   "outputs": [],
   "source": [
    "import pandas as pd"
   ]
  },
  {
   "cell_type": "markdown",
   "metadata": {},
   "source": [
    "### 1.2 Erläuterungen der Datenstrukturen"
   ]
  },
  {
   "cell_type": "markdown",
   "metadata": {},
   "source": [
    "Da pandas nun erfolgreich importiert wurde sehen wir uns nun einmal die Datenstrukturen an mit denen in pandas gearbeitet wird. Dabei gibt es zwei grundlegende Datenobjekte: den DataFrame und die Series. Im Folgenden werden diese beiden kurz vorgestellt."
   ]
  },
  {
   "cell_type": "markdown",
   "metadata": {},
   "source": [
    "**DataFrame**"
   ]
  },
  {
   "cell_type": "markdown",
   "metadata": {},
   "source": [
    "Bei einem DataFrame handelt es sich um eine Art von Tabelle. Dabei besteht ein DataFrame aus drei Bestandteilen: Daten, Spalten und Zeilen. Die Daten können von einem beliebigen Datentyp sein (zum Beispiel Integer, String, Date, Float, Boolean, usw.) und werden mithilfe von Spalten und Zeilen gegliedert. Jede Spalte hat einen Spaltennamen und jede Zeile einen Integerwert als Index.\n",
    "\n",
    "In der Praxis werden DataFrames erzeugt, indem Daten aus externen Speichern eingelesen werden. Zu diesen Speichermedien gehören: Datenbanken, csv Dateien und Excel Dateien (siehe Abschnitt [2. Daten importieren und extrahieren](#2-Datenimport-und--export)). DataFrames können allerdings auch aus zum Beispiel Listen oder Dictonaries erzeugt werden. Dafür wird der Konstruktur `pd.DataFrame()` genutzt. Beispielhaft wird dies im Folgenden mithilfe eines Dictonaries gezeigt. Dabei bilden die Keys des Dictionary die Spaltennamen und die Values beinhalten eine Liste mit Einträgen. Bei diesen einzelnen Einträgen handelt es sich um die entsprechenden Zellwerte innerhalb der Spalte."
   ]
  },
  {
   "cell_type": "code",
   "execution_count": 9,
   "metadata": {},
   "outputs": [
    {
     "data": {
      "text/html": [
       "<div>\n",
       "<style scoped>\n",
       "    .dataframe tbody tr th:only-of-type {\n",
       "        vertical-align: middle;\n",
       "    }\n",
       "\n",
       "    .dataframe tbody tr th {\n",
       "        vertical-align: top;\n",
       "    }\n",
       "\n",
       "    .dataframe thead th {\n",
       "        text-align: right;\n",
       "    }\n",
       "</style>\n",
       "<table border=\"1\" class=\"dataframe\">\n",
       "  <thead>\n",
       "    <tr style=\"text-align: right;\">\n",
       "      <th></th>\n",
       "      <th>Vorname</th>\n",
       "      <th>Nachname</th>\n",
       "      <th>Alter</th>\n",
       "      <th>Lieblingsfilm</th>\n",
       "    </tr>\n",
       "  </thead>\n",
       "  <tbody>\n",
       "    <tr>\n",
       "      <th>0</th>\n",
       "      <td>Max</td>\n",
       "      <td>Mustermann</td>\n",
       "      <td>20</td>\n",
       "      <td>Star Wars</td>\n",
       "    </tr>\n",
       "    <tr>\n",
       "      <th>1</th>\n",
       "      <td>Lisa</td>\n",
       "      <td>Musterfrau</td>\n",
       "      <td>23</td>\n",
       "      <td>Titanic</td>\n",
       "    </tr>\n",
       "  </tbody>\n",
       "</table>\n",
       "</div>"
      ],
      "text/plain": [
       "  Vorname    Nachname  Alter Lieblingsfilm\n",
       "0     Max  Mustermann     20     Star Wars\n",
       "1    Lisa  Musterfrau     23       Titanic"
      ]
     },
     "execution_count": 9,
     "metadata": {},
     "output_type": "execute_result"
    }
   ],
   "source": [
    "# Dictonary mit Daten\n",
    "data = {'Vorname': ['Max', 'Lisa'], 'Nachname': ['Mustermann', 'Musterfrau'], 'Alter': [20, 23], 'Lieblingsfilm': ['Star Wars', 'Titanic']}\n",
    "\n",
    "# DataFrame aus einem Dictonary erzeugen\n",
    "df = pd.DataFrame(data)\n",
    "df"
   ]
  },
  {
   "cell_type": "markdown",
   "metadata": {},
   "source": [
    "Anstatt einer aufsteigenden Nummer als Zeilenbeschriftungen soll in manchen Fällen eine eigene Beschriftungen festgelegt werden. Die Liste der Zeilenbeschriftungen wird Index genannt. Mithilfe des `index` Parameters des Konstruktors können eigene Beschriftungen übergeben werden."
   ]
  },
  {
   "cell_type": "code",
   "execution_count": 10,
   "metadata": {},
   "outputs": [
    {
     "data": {
      "text/html": [
       "<div>\n",
       "<style scoped>\n",
       "    .dataframe tbody tr th:only-of-type {\n",
       "        vertical-align: middle;\n",
       "    }\n",
       "\n",
       "    .dataframe tbody tr th {\n",
       "        vertical-align: top;\n",
       "    }\n",
       "\n",
       "    .dataframe thead th {\n",
       "        text-align: right;\n",
       "    }\n",
       "</style>\n",
       "<table border=\"1\" class=\"dataframe\">\n",
       "  <thead>\n",
       "    <tr style=\"text-align: right;\">\n",
       "      <th></th>\n",
       "      <th>Vorname</th>\n",
       "      <th>Nachname</th>\n",
       "      <th>Alter</th>\n",
       "      <th>Lieblingsfilm</th>\n",
       "    </tr>\n",
       "  </thead>\n",
       "  <tbody>\n",
       "    <tr>\n",
       "      <th>Person 1</th>\n",
       "      <td>Max</td>\n",
       "      <td>Mustermann</td>\n",
       "      <td>20</td>\n",
       "      <td>Star Wars</td>\n",
       "    </tr>\n",
       "    <tr>\n",
       "      <th>Person 2</th>\n",
       "      <td>Lisa</td>\n",
       "      <td>Musterfrau</td>\n",
       "      <td>23</td>\n",
       "      <td>Titanic</td>\n",
       "    </tr>\n",
       "  </tbody>\n",
       "</table>\n",
       "</div>"
      ],
      "text/plain": [
       "         Vorname    Nachname  Alter Lieblingsfilm\n",
       "Person 1     Max  Mustermann     20     Star Wars\n",
       "Person 2    Lisa  Musterfrau     23       Titanic"
      ]
     },
     "execution_count": 10,
     "metadata": {},
     "output_type": "execute_result"
    }
   ],
   "source": [
    "df = pd.DataFrame(data, index=['Person 1', 'Person 2'])\n",
    "df"
   ]
  },
  {
   "cell_type": "markdown",
   "metadata": {},
   "source": [
    "**Series**"
   ]
  },
  {
   "cell_type": "markdown",
   "metadata": {},
   "source": [
    "Eine Series ist ein eindimensionaler gelabelter Array, das jegliche Datentypen beinhalten kann. Sie kann als eine einzelnen Spalte einer Tabelle angesehen werden. Auch hier können Zeilenbeschriftungen mithilfe des index Parameters hinzugefügt werden. Eine Series hat allerdings keinen Spaltennamen, sondern einen Gesamtnamen. Dieser kann über den Parameter `name` festgelegt werden. Zur Erzeugung einer Series kannn zum Beispiel eine Liste oder ein Dictonary genutzt werden. Im Folgenden wird dies beispielhaft mit einer Liste demonstriert."
   ]
  },
  {
   "cell_type": "code",
   "execution_count": 11,
   "metadata": {},
   "outputs": [
    {
     "data": {
      "text/plain": [
       "Person 1       Max\n",
       "Person 2      Lisa\n",
       "Person 3    Sandra\n",
       "Person 4    Daniel\n",
       "Name: Vorname, dtype: object"
      ]
     },
     "execution_count": 11,
     "metadata": {},
     "output_type": "execute_result"
    }
   ],
   "source": [
    "# Liste mit Daten\n",
    "list = ['Max', 'Lisa', 'Sandra', 'Daniel']\n",
    "# Zeilenbeschriftungen\n",
    "index = ['Person 1', 'Person 2', 'Person 3', 'Person 4']\n",
    "  \n",
    "# Series aus einer Liste erzeugen\n",
    "ser = pd.Series(list, index, name='Vorname')\n",
    "ser"
   ]
  },
  {
   "cell_type": "markdown",
   "metadata": {},
   "source": [
    "<div style=\"background-color: #150458 ; padding: 5px; \"></div>\n",
    "\n",
    "## 2 Datenimport und -export"
   ]
  },
  {
   "cell_type": "markdown",
   "metadata": {},
   "source": [
    "In den meisten Fällen werden Daten nicht händisch erzeugt, wie im vorherigen Abschnitt, sondern es werden Daten genutzt, die bereits existieren. Diese Daten müssen dafür allerdings zunächst importiert werden. Im folgenden Abschnitt wird der Datenimport aus einer Datenbank und einer csv Datei näher betrachtet. Aus den importierten Daten soll ein DataFrame erzeugt werden, um die Daten mit pandas für weitere Schritte vorbereiten zu können. Nachdem diese Vorbereitung stattgefunden hat sollen die Daten zwischengespeichert werden. Dafür wird der Datenexport genauer betrachtet."
   ]
  },
  {
   "cell_type": "markdown",
   "metadata": {},
   "source": [
    "### 2.1 Importieren von Daten aus einer Datenbank"
   ]
  },
  {
   "cell_type": "markdown",
   "metadata": {},
   "source": [
    "Zum Herstellung einer Datenbankverbindung wird das Package SQLAlchemy installiert und dann importiert. Der Vorteil ist, dass sich dadurch diverse verschiedene Datenbanken einbinden lassen. Wie Verbindungen zu den verschiedenen Datenbanken hergestellt werden können, kann <a href=\"https://docs.sqlalchemy.org/en/14/core/engines.html\">hier</a> eingesehen werden. Im Folgenden wird eine SQLite Datenbank verwendet. Um die Verbindung herzustellen, muss der `create_engine()` Funktion des importierten sqlalchemy Package der Pfad zu der Datenbank übergeben werden. Vor dem Datenbankpfad muss `sqlite:///` hinzugefügt werden, damit SQLAlchemy weiß, um welche Datenbank es sich handelt. Um sich nun mit der jeweiligen Datenbank zu verbinden wird auf dem zurückgegebenen `engine` Objekt die Methode `connect()` aufgerufen. Mithilfe der Funktion `read_sql_query()` können nun diverse SQL Abfragen ausgeführt werden. Der Funktion werden dafür die SQL Abfrage und die Datenbankverbindung übergeben. Die abgefragten Daten werden automatisch in einen DataFrame gespeichert. Nach Beendigung der Abfragen sollte die Datenbankverbindung wieder geschlossen werden."
   ]
  },
  {
   "cell_type": "code",
   "execution_count": 12,
   "metadata": {},
   "outputs": [],
   "source": [
    "from sqlalchemy import create_engine\n",
    "\n",
    "# Herstellen der Datenbankverbindung\n",
    "engine = create_engine('sqlite:///data/lernmodul_pandas.db')\n",
    "con = engine.connect()\n",
    "\n",
    "# Auslesen der Daten aus der Datenbank und Speicherung der Daten in einem DataFrame\n",
    "titles_df = pd.read_sql_query('SELECT * from netflix_titles ORDER By show_id', con)\n",
    "\n",
    "# Schließen der Datenbankverbindung\n",
    "con.close()"
   ]
  },
  {
   "cell_type": "markdown",
   "metadata": {},
   "source": [
    "Zum Verifizieren, dass die Daten importiert und in dem DataFrame gespeichert wurden, kann zum Beispiel die Anzahl der Tabellenzeilen abgefragt werden. Dafür kann die Python Funktion `len()` genutzt werden.\n",
    "\n",
    "**Aufgabe: Nutze die Funktion `len()`, um zu verifizieren, dass Daten importiert wurden und nun in dem DataFrame `titles_df` zur Verfügung stehen. Wie viele Zeilen sind in dem importieren Daten enthalten?**"
   ]
  },
  {
   "cell_type": "code",
   "execution_count": 13,
   "metadata": {},
   "outputs": [],
   "source": [
    "# Platz für Code\n"
   ]
  },
  {
   "cell_type": "code",
   "execution_count": null,
   "metadata": {},
   "outputs": [],
   "source": [
    "#hideInput\n",
    "lm.show_task(21)"
   ]
  },
  {
   "cell_type": "markdown",
   "metadata": {},
   "source": [
    "### 2.2 Importieren von Daten aus einer csv Datei"
   ]
  },
  {
   "cell_type": "markdown",
   "metadata": {},
   "source": [
    "Mithilfe der pandas Funktion `read_csv()` können Daten aus einer csv Datei als pandas DataFrame importiert werden. Der Funktion muss dafür nur der Pfad zu der csv Datei übergeben werden."
   ]
  },
  {
   "cell_type": "code",
   "execution_count": 15,
   "metadata": {},
   "outputs": [],
   "source": [
    "titles_csv_df = pd.read_csv('data/netflix_titles.csv')"
   ]
  },
  {
   "cell_type": "markdown",
   "metadata": {},
   "source": [
    "Durch die Methode `head()` eines DataFrames werden die ersten 5 Zeilen des DataFrames angezeigt. Dies kann auch zur Verifizierung genutzt werden.\n",
    "\n",
    "**Aufgabe: Nutze die Methode `head()` eines DataFrames, um den Datenimport zu verifizieren. Die Daten sollten nun in dem DataFrame `titles_csv_df` zur Verfügung stehen. Welchen Titel trägt der Film mit dem Indexwert 2 in der 3. Zeile?**"
   ]
  },
  {
   "cell_type": "code",
   "execution_count": 16,
   "metadata": {},
   "outputs": [],
   "source": [
    "# Platz für Code\n"
   ]
  },
  {
   "cell_type": "code",
   "execution_count": null,
   "metadata": {},
   "outputs": [],
   "source": [
    "#hideInput\n",
    "lm.show_task(22)"
   ]
  },
  {
   "cell_type": "markdown",
   "metadata": {},
   "source": [
    "### 2.3 Zusammenführen von Daten"
   ]
  },
  {
   "cell_type": "markdown",
   "metadata": {},
   "source": [
    "Manchmal sind nicht alle Daten in einer einzigen Datenquelle vorhanden. Um denoch alle relevanten Informationen in einem DataFrame vorliegen zu haben, müssen die einzelnen DataFrames mithilfe der `merge()` Methode eines DataFrames zusammengeführt werden. \n",
    "\n",
    "In dem DataFrame `liebingsshow_df` ist jeweils die Lieblingsshow von unterschiedlichen Personen eingetragen. Leider ist aus der ID der Show nicht direkt ersichtlich, um welche es sich genau handelt. Um diese Information zu erhalten muss in dem vorherig erstellten DataFrame `titles_df` nachgesehen werden. In diesem Fall macht es Sinn die beiden DataFrames zu mergen. Damit zwei DataFrames miteinander gemerged werden können ist es wichtig, dass ein eindeutiger Identifier vorliegt, über den die beiden DataFrames verbunden werden können. In dem Beispiel wäre das die Spalte `show_id`.\n"
   ]
  },
  {
   "cell_type": "code",
   "execution_count": 18,
   "metadata": {},
   "outputs": [],
   "source": [
    "# Erzeugen des lieblingsshow_df\n",
    "lieblingsshows = {'ID': [1, 2, 3, 4], 'Name': ['Lena', 'Hannah', 'Sam', 'Sebastian'], 'show_id': [80057969, 80117902, 70234439, 70196145]}\n",
    "lieblingsshows_df = pd.DataFrame.from_dict(lieblingsshows)\n",
    "\n",
    "# Mergen der beiden DataFrames\n",
    "## Parameter 'on' - Spaltennamen durch die die beiden DataFrames gemerged werden sollen\n",
    "## Parameter 'how' - auf welche Art und Weise die DataFrames gemerged werden sollen (left, right, outer, inner)\n",
    "merged_df = lieblingsshows_df.merge(titles_df, how= 'left', on='show_id')"
   ]
  },
  {
   "cell_type": "code",
   "execution_count": 19,
   "metadata": {},
   "outputs": [
    {
     "data": {
      "text/html": [
       "<div>\n",
       "<style scoped>\n",
       "    .dataframe tbody tr th:only-of-type {\n",
       "        vertical-align: middle;\n",
       "    }\n",
       "\n",
       "    .dataframe tbody tr th {\n",
       "        vertical-align: top;\n",
       "    }\n",
       "\n",
       "    .dataframe thead th {\n",
       "        text-align: right;\n",
       "    }\n",
       "</style>\n",
       "<table border=\"1\" class=\"dataframe\">\n",
       "  <thead>\n",
       "    <tr style=\"text-align: right;\">\n",
       "      <th></th>\n",
       "      <th>ID</th>\n",
       "      <th>Name</th>\n",
       "      <th>show_id</th>\n",
       "      <th>type</th>\n",
       "      <th>title</th>\n",
       "      <th>director</th>\n",
       "      <th>cast</th>\n",
       "      <th>country</th>\n",
       "      <th>date_added</th>\n",
       "      <th>release_year</th>\n",
       "      <th>rating</th>\n",
       "      <th>duration</th>\n",
       "      <th>listed_in</th>\n",
       "      <th>description</th>\n",
       "    </tr>\n",
       "  </thead>\n",
       "  <tbody>\n",
       "    <tr>\n",
       "      <th>0</th>\n",
       "      <td>1</td>\n",
       "      <td>Lena</td>\n",
       "      <td>80057969</td>\n",
       "      <td>Movie</td>\n",
       "      <td>Love</td>\n",
       "      <td>Gaspar Noé</td>\n",
       "      <td>Karl Glusman, Klara Kristin, Aomi Muyock, Ugo ...</td>\n",
       "      <td>France, Belgium</td>\n",
       "      <td>September 8, 2017</td>\n",
       "      <td>2015</td>\n",
       "      <td>NR</td>\n",
       "      <td>135 min</td>\n",
       "      <td>Cult Movies, Dramas, Independent Movies</td>\n",
       "      <td>A man in an unsatisfying marriage recalls the ...</td>\n",
       "    </tr>\n",
       "    <tr>\n",
       "      <th>1</th>\n",
       "      <td>2</td>\n",
       "      <td>Hannah</td>\n",
       "      <td>80117902</td>\n",
       "      <td>TV Show</td>\n",
       "      <td>Fire Chasers</td>\n",
       "      <td>None</td>\n",
       "      <td>None</td>\n",
       "      <td>United States</td>\n",
       "      <td>September 8, 2017</td>\n",
       "      <td>2017</td>\n",
       "      <td>TV-MA</td>\n",
       "      <td>1 Season</td>\n",
       "      <td>Docuseries, Science &amp; Nature TV</td>\n",
       "      <td>As California's 2016 fire season rages, brave ...</td>\n",
       "    </tr>\n",
       "    <tr>\n",
       "      <th>2</th>\n",
       "      <td>3</td>\n",
       "      <td>Sam</td>\n",
       "      <td>70234439</td>\n",
       "      <td>TV Show</td>\n",
       "      <td>Transformers Prime</td>\n",
       "      <td>None</td>\n",
       "      <td>Peter Cullen, Sumalee Montano, Frank Welker, J...</td>\n",
       "      <td>United States</td>\n",
       "      <td>September 8, 2018</td>\n",
       "      <td>2013</td>\n",
       "      <td>TV-Y7-FV</td>\n",
       "      <td>1 Season</td>\n",
       "      <td>Kids' TV</td>\n",
       "      <td>With the help of three human allies, the Autob...</td>\n",
       "    </tr>\n",
       "    <tr>\n",
       "      <th>3</th>\n",
       "      <td>4</td>\n",
       "      <td>Sebastian</td>\n",
       "      <td>70196145</td>\n",
       "      <td>TV Show</td>\n",
       "      <td>New Girl</td>\n",
       "      <td>None</td>\n",
       "      <td>Zooey Deschanel, Jake Johnson, Max Greenfield,...</td>\n",
       "      <td>United States</td>\n",
       "      <td>April 11, 2019</td>\n",
       "      <td>2017</td>\n",
       "      <td>TV-14</td>\n",
       "      <td>7 Seasons</td>\n",
       "      <td>Romantic TV Shows, TV Comedies</td>\n",
       "      <td>Still rebounding from a breakup, Jessica Day m...</td>\n",
       "    </tr>\n",
       "  </tbody>\n",
       "</table>\n",
       "</div>"
      ],
      "text/plain": [
       "   ID       Name   show_id     type               title    director  \\\n",
       "0   1       Lena  80057969    Movie                Love  Gaspar Noé   \n",
       "1   2     Hannah  80117902  TV Show        Fire Chasers        None   \n",
       "2   3        Sam  70234439  TV Show  Transformers Prime        None   \n",
       "3   4  Sebastian  70196145  TV Show            New Girl        None   \n",
       "\n",
       "                                                cast          country  \\\n",
       "0  Karl Glusman, Klara Kristin, Aomi Muyock, Ugo ...  France, Belgium   \n",
       "1                                               None    United States   \n",
       "2  Peter Cullen, Sumalee Montano, Frank Welker, J...    United States   \n",
       "3  Zooey Deschanel, Jake Johnson, Max Greenfield,...    United States   \n",
       "\n",
       "          date_added  release_year    rating   duration  \\\n",
       "0  September 8, 2017          2015        NR    135 min   \n",
       "1  September 8, 2017          2017     TV-MA   1 Season   \n",
       "2  September 8, 2018          2013  TV-Y7-FV   1 Season   \n",
       "3     April 11, 2019          2017     TV-14  7 Seasons   \n",
       "\n",
       "                                 listed_in  \\\n",
       "0  Cult Movies, Dramas, Independent Movies   \n",
       "1          Docuseries, Science & Nature TV   \n",
       "2                                 Kids' TV   \n",
       "3           Romantic TV Shows, TV Comedies   \n",
       "\n",
       "                                         description  \n",
       "0  A man in an unsatisfying marriage recalls the ...  \n",
       "1  As California's 2016 fire season rages, brave ...  \n",
       "2  With the help of three human allies, the Autob...  \n",
       "3  Still rebounding from a breakup, Jessica Day m...  "
      ]
     },
     "execution_count": 19,
     "metadata": {},
     "output_type": "execute_result"
    }
   ],
   "source": [
    "merged_df"
   ]
  },
  {
   "cell_type": "markdown",
   "metadata": {},
   "source": [
    "### 2.4 Export von Daten in eine Datenbank"
   ]
  },
  {
   "cell_type": "markdown",
   "metadata": {},
   "source": [
    "Im Folgenden wird gezeigt, wie ein DataFrame als Datenbanktabelle exportiert werden kann. Dafür wird erneut die SQLite Datenbank genutzt. Nachdem die Verbindung zu der Datenbank hergestellt wurde, kann mithilfe der Methode `to_sql()` der jeweilige DataFrame als Datenbanktabelle exportiert werden. Dafür müssen als Parameter der Name der zu erstellenden Datenbanktabelle sowie die Datenbankverbindung übergeben werden. Optional kann zum Beispiel verhindert werden, dass der Index mit exportiert wird. Ein DataFrame kann defaultmäßig nur einmal in dieselbe Datenbanktabelle exportiert werden, d. h. bei der zweiten Ausführung würde eine Exception geworfen werden, weil die Datenbanktabelle bereits existiert. In diesem Fall kann mithilfe des Parameters `if_exist` festgelegt werden, dass die existierende Tabelle überschrieben werden soll."
   ]
  },
  {
   "cell_type": "code",
   "execution_count": 20,
   "metadata": {},
   "outputs": [
    {
     "data": {
      "text/html": [
       "<div>\n",
       "<style scoped>\n",
       "    .dataframe tbody tr th:only-of-type {\n",
       "        vertical-align: middle;\n",
       "    }\n",
       "\n",
       "    .dataframe tbody tr th {\n",
       "        vertical-align: top;\n",
       "    }\n",
       "\n",
       "    .dataframe thead th {\n",
       "        text-align: right;\n",
       "    }\n",
       "</style>\n",
       "<table border=\"1\" class=\"dataframe\">\n",
       "  <thead>\n",
       "    <tr style=\"text-align: right;\">\n",
       "      <th></th>\n",
       "      <th>ID</th>\n",
       "      <th>Name</th>\n",
       "      <th>show_id</th>\n",
       "      <th>type</th>\n",
       "      <th>title</th>\n",
       "      <th>director</th>\n",
       "      <th>cast</th>\n",
       "      <th>country</th>\n",
       "      <th>date_added</th>\n",
       "      <th>release_year</th>\n",
       "      <th>rating</th>\n",
       "      <th>duration</th>\n",
       "      <th>listed_in</th>\n",
       "      <th>description</th>\n",
       "    </tr>\n",
       "  </thead>\n",
       "  <tbody>\n",
       "    <tr>\n",
       "      <th>0</th>\n",
       "      <td>1</td>\n",
       "      <td>Lena</td>\n",
       "      <td>80057969</td>\n",
       "      <td>Movie</td>\n",
       "      <td>Love</td>\n",
       "      <td>Gaspar Noé</td>\n",
       "      <td>Karl Glusman, Klara Kristin, Aomi Muyock, Ugo ...</td>\n",
       "      <td>France, Belgium</td>\n",
       "      <td>September 8, 2017</td>\n",
       "      <td>2015</td>\n",
       "      <td>NR</td>\n",
       "      <td>135 min</td>\n",
       "      <td>Cult Movies, Dramas, Independent Movies</td>\n",
       "      <td>A man in an unsatisfying marriage recalls the ...</td>\n",
       "    </tr>\n",
       "    <tr>\n",
       "      <th>1</th>\n",
       "      <td>2</td>\n",
       "      <td>Hannah</td>\n",
       "      <td>80117902</td>\n",
       "      <td>TV Show</td>\n",
       "      <td>Fire Chasers</td>\n",
       "      <td>None</td>\n",
       "      <td>None</td>\n",
       "      <td>United States</td>\n",
       "      <td>September 8, 2017</td>\n",
       "      <td>2017</td>\n",
       "      <td>TV-MA</td>\n",
       "      <td>1 Season</td>\n",
       "      <td>Docuseries, Science &amp; Nature TV</td>\n",
       "      <td>As California's 2016 fire season rages, brave ...</td>\n",
       "    </tr>\n",
       "    <tr>\n",
       "      <th>2</th>\n",
       "      <td>3</td>\n",
       "      <td>Sam</td>\n",
       "      <td>70234439</td>\n",
       "      <td>TV Show</td>\n",
       "      <td>Transformers Prime</td>\n",
       "      <td>None</td>\n",
       "      <td>Peter Cullen, Sumalee Montano, Frank Welker, J...</td>\n",
       "      <td>United States</td>\n",
       "      <td>September 8, 2018</td>\n",
       "      <td>2013</td>\n",
       "      <td>TV-Y7-FV</td>\n",
       "      <td>1 Season</td>\n",
       "      <td>Kids' TV</td>\n",
       "      <td>With the help of three human allies, the Autob...</td>\n",
       "    </tr>\n",
       "    <tr>\n",
       "      <th>3</th>\n",
       "      <td>4</td>\n",
       "      <td>Sebastian</td>\n",
       "      <td>70196145</td>\n",
       "      <td>TV Show</td>\n",
       "      <td>New Girl</td>\n",
       "      <td>None</td>\n",
       "      <td>Zooey Deschanel, Jake Johnson, Max Greenfield,...</td>\n",
       "      <td>United States</td>\n",
       "      <td>April 11, 2019</td>\n",
       "      <td>2017</td>\n",
       "      <td>TV-14</td>\n",
       "      <td>7 Seasons</td>\n",
       "      <td>Romantic TV Shows, TV Comedies</td>\n",
       "      <td>Still rebounding from a breakup, Jessica Day m...</td>\n",
       "    </tr>\n",
       "  </tbody>\n",
       "</table>\n",
       "</div>"
      ],
      "text/plain": [
       "   ID       Name   show_id     type               title    director  \\\n",
       "0   1       Lena  80057969    Movie                Love  Gaspar Noé   \n",
       "1   2     Hannah  80117902  TV Show        Fire Chasers        None   \n",
       "2   3        Sam  70234439  TV Show  Transformers Prime        None   \n",
       "3   4  Sebastian  70196145  TV Show            New Girl        None   \n",
       "\n",
       "                                                cast          country  \\\n",
       "0  Karl Glusman, Klara Kristin, Aomi Muyock, Ugo ...  France, Belgium   \n",
       "1                                               None    United States   \n",
       "2  Peter Cullen, Sumalee Montano, Frank Welker, J...    United States   \n",
       "3  Zooey Deschanel, Jake Johnson, Max Greenfield,...    United States   \n",
       "\n",
       "          date_added  release_year    rating   duration  \\\n",
       "0  September 8, 2017          2015        NR    135 min   \n",
       "1  September 8, 2017          2017     TV-MA   1 Season   \n",
       "2  September 8, 2018          2013  TV-Y7-FV   1 Season   \n",
       "3     April 11, 2019          2017     TV-14  7 Seasons   \n",
       "\n",
       "                                 listed_in  \\\n",
       "0  Cult Movies, Dramas, Independent Movies   \n",
       "1          Docuseries, Science & Nature TV   \n",
       "2                                 Kids' TV   \n",
       "3           Romantic TV Shows, TV Comedies   \n",
       "\n",
       "                                         description  \n",
       "0  A man in an unsatisfying marriage recalls the ...  \n",
       "1  As California's 2016 fire season rages, brave ...  \n",
       "2  With the help of three human allies, the Autob...  \n",
       "3  Still rebounding from a breakup, Jessica Day m...  "
      ]
     },
     "execution_count": 20,
     "metadata": {},
     "output_type": "execute_result"
    }
   ],
   "source": [
    "# Herstellen der Datenbankverbindung\n",
    "engine = create_engine('sqlite:///data/lernmodul_pandas.db')\n",
    "con = engine.connect()\n",
    "\n",
    "# Erzeugen einer Datenbanktabelle auf der Basis eines DataFrames\n",
    "merged_df.to_sql('lieblingsshows', con, index = False, if_exists=\"replace\")\n",
    "\n",
    "# Auslesen der Daten aus der Datenbank zur Überprüfung, ob die Tabelle erstellt wurde\n",
    "db_export_df = pd.read_sql_query('SELECT * from lieblingsshows', con)\n",
    "\n",
    "# Schließen der Datenbankverbindung\n",
    "con.close()\n",
    "\n",
    "db_export_df"
   ]
  },
  {
   "cell_type": "markdown",
   "metadata": {},
   "source": [
    "### 2.5 Export von Daten in eine csv Datei"
   ]
  },
  {
   "cell_type": "markdown",
   "metadata": {},
   "source": [
    "Alternativ können die Daten auch als csv Datei exportiert werden. Hierfür wird die DataFrame Methode `to_csv()` benötigt. Der Methode wird dann der Dateiname der zu erstellenden csv-Datei übergeben. Optional kann auch ein Dateipfad angegeben werden, wenn die Datei nicht in dem aktuellen Verzeichnis erstellt werden soll. Mithilfe des Parameters `index` kann festgelegt werden, ob der Index des DataFrames mit exportiert werden soll."
   ]
  },
  {
   "cell_type": "code",
   "execution_count": 21,
   "metadata": {},
   "outputs": [
    {
     "data": {
      "text/html": [
       "<div>\n",
       "<style scoped>\n",
       "    .dataframe tbody tr th:only-of-type {\n",
       "        vertical-align: middle;\n",
       "    }\n",
       "\n",
       "    .dataframe tbody tr th {\n",
       "        vertical-align: top;\n",
       "    }\n",
       "\n",
       "    .dataframe thead th {\n",
       "        text-align: right;\n",
       "    }\n",
       "</style>\n",
       "<table border=\"1\" class=\"dataframe\">\n",
       "  <thead>\n",
       "    <tr style=\"text-align: right;\">\n",
       "      <th></th>\n",
       "      <th>ID</th>\n",
       "      <th>Name</th>\n",
       "      <th>show_id</th>\n",
       "      <th>type</th>\n",
       "      <th>title</th>\n",
       "      <th>director</th>\n",
       "      <th>cast</th>\n",
       "      <th>country</th>\n",
       "      <th>date_added</th>\n",
       "      <th>release_year</th>\n",
       "      <th>rating</th>\n",
       "      <th>duration</th>\n",
       "      <th>listed_in</th>\n",
       "      <th>description</th>\n",
       "    </tr>\n",
       "  </thead>\n",
       "  <tbody>\n",
       "    <tr>\n",
       "      <th>0</th>\n",
       "      <td>1</td>\n",
       "      <td>Lena</td>\n",
       "      <td>80057969</td>\n",
       "      <td>Movie</td>\n",
       "      <td>Love</td>\n",
       "      <td>Gaspar Noé</td>\n",
       "      <td>Karl Glusman, Klara Kristin, Aomi Muyock, Ugo ...</td>\n",
       "      <td>France, Belgium</td>\n",
       "      <td>September 8, 2017</td>\n",
       "      <td>2015</td>\n",
       "      <td>NR</td>\n",
       "      <td>135 min</td>\n",
       "      <td>Cult Movies, Dramas, Independent Movies</td>\n",
       "      <td>A man in an unsatisfying marriage recalls the ...</td>\n",
       "    </tr>\n",
       "    <tr>\n",
       "      <th>1</th>\n",
       "      <td>2</td>\n",
       "      <td>Hannah</td>\n",
       "      <td>80117902</td>\n",
       "      <td>TV Show</td>\n",
       "      <td>Fire Chasers</td>\n",
       "      <td>NaN</td>\n",
       "      <td>NaN</td>\n",
       "      <td>United States</td>\n",
       "      <td>September 8, 2017</td>\n",
       "      <td>2017</td>\n",
       "      <td>TV-MA</td>\n",
       "      <td>1 Season</td>\n",
       "      <td>Docuseries, Science &amp; Nature TV</td>\n",
       "      <td>As California's 2016 fire season rages, brave ...</td>\n",
       "    </tr>\n",
       "    <tr>\n",
       "      <th>2</th>\n",
       "      <td>3</td>\n",
       "      <td>Sam</td>\n",
       "      <td>70234439</td>\n",
       "      <td>TV Show</td>\n",
       "      <td>Transformers Prime</td>\n",
       "      <td>NaN</td>\n",
       "      <td>Peter Cullen, Sumalee Montano, Frank Welker, J...</td>\n",
       "      <td>United States</td>\n",
       "      <td>September 8, 2018</td>\n",
       "      <td>2013</td>\n",
       "      <td>TV-Y7-FV</td>\n",
       "      <td>1 Season</td>\n",
       "      <td>Kids' TV</td>\n",
       "      <td>With the help of three human allies, the Autob...</td>\n",
       "    </tr>\n",
       "    <tr>\n",
       "      <th>3</th>\n",
       "      <td>4</td>\n",
       "      <td>Sebastian</td>\n",
       "      <td>70196145</td>\n",
       "      <td>TV Show</td>\n",
       "      <td>New Girl</td>\n",
       "      <td>NaN</td>\n",
       "      <td>Zooey Deschanel, Jake Johnson, Max Greenfield,...</td>\n",
       "      <td>United States</td>\n",
       "      <td>April 11, 2019</td>\n",
       "      <td>2017</td>\n",
       "      <td>TV-14</td>\n",
       "      <td>7 Seasons</td>\n",
       "      <td>Romantic TV Shows, TV Comedies</td>\n",
       "      <td>Still rebounding from a breakup, Jessica Day m...</td>\n",
       "    </tr>\n",
       "  </tbody>\n",
       "</table>\n",
       "</div>"
      ],
      "text/plain": [
       "   ID       Name   show_id     type               title    director  \\\n",
       "0   1       Lena  80057969    Movie                Love  Gaspar Noé   \n",
       "1   2     Hannah  80117902  TV Show        Fire Chasers         NaN   \n",
       "2   3        Sam  70234439  TV Show  Transformers Prime         NaN   \n",
       "3   4  Sebastian  70196145  TV Show            New Girl         NaN   \n",
       "\n",
       "                                                cast          country  \\\n",
       "0  Karl Glusman, Klara Kristin, Aomi Muyock, Ugo ...  France, Belgium   \n",
       "1                                                NaN    United States   \n",
       "2  Peter Cullen, Sumalee Montano, Frank Welker, J...    United States   \n",
       "3  Zooey Deschanel, Jake Johnson, Max Greenfield,...    United States   \n",
       "\n",
       "          date_added  release_year    rating   duration  \\\n",
       "0  September 8, 2017          2015        NR    135 min   \n",
       "1  September 8, 2017          2017     TV-MA   1 Season   \n",
       "2  September 8, 2018          2013  TV-Y7-FV   1 Season   \n",
       "3     April 11, 2019          2017     TV-14  7 Seasons   \n",
       "\n",
       "                                 listed_in  \\\n",
       "0  Cult Movies, Dramas, Independent Movies   \n",
       "1          Docuseries, Science & Nature TV   \n",
       "2                                 Kids' TV   \n",
       "3           Romantic TV Shows, TV Comedies   \n",
       "\n",
       "                                         description  \n",
       "0  A man in an unsatisfying marriage recalls the ...  \n",
       "1  As California's 2016 fire season rages, brave ...  \n",
       "2  With the help of three human allies, the Autob...  \n",
       "3  Still rebounding from a breakup, Jessica Day m...  "
      ]
     },
     "execution_count": 21,
     "metadata": {},
     "output_type": "execute_result"
    }
   ],
   "source": [
    "# Export des DataFrames als csv Datei\n",
    "merged_df.to_csv('data/export_test.csv', index=False)\n",
    "\n",
    "# Import der csv Datei, um die Erstellung der Datei zu verifizieren\n",
    "csv_export_df = pd.read_csv('data/export_test.csv')\n",
    "\n",
    "csv_export_df"
   ]
  },
  {
   "cell_type": "markdown",
   "metadata": {},
   "source": [
    "### 2.6 Zusammenfassung Datenimport und -export"
   ]
  },
  {
   "cell_type": "markdown",
   "metadata": {},
   "source": [
    "<img src='img/export_import.jpg' alt=\"zusammenfassung datenimport und -export\">"
   ]
  },
  {
   "cell_type": "markdown",
   "metadata": {},
   "source": [
    "<div style=\"background-color: #FFCA00 ; padding: 5px; \"></div>\n",
    "\n",
    "### 2.7 Übungsteil"
   ]
  },
  {
   "cell_type": "markdown",
   "metadata": {},
   "source": [
    "**2.7.1 Importiere die Spalten `show_id` und `title` aus der Datenbanktabelle `netflix_titles` (Pfad zur Datenbank: data/lernmodul_pandas.db) in einen DataFrame. Nutze dafür die Bibliothek SQLAlchemy, die weiter oben bereits importiert wurde. Speichere den importierten DataFrame in der Variablen `show_titles_df`.**"
   ]
  },
  {
   "cell_type": "code",
   "execution_count": 22,
   "metadata": {},
   "outputs": [
    {
     "data": {
      "text/html": [
       "<div>\n",
       "<style scoped>\n",
       "    .dataframe tbody tr th:only-of-type {\n",
       "        vertical-align: middle;\n",
       "    }\n",
       "\n",
       "    .dataframe tbody tr th {\n",
       "        vertical-align: top;\n",
       "    }\n",
       "\n",
       "    .dataframe thead th {\n",
       "        text-align: right;\n",
       "    }\n",
       "</style>\n",
       "<table border=\"1\" class=\"dataframe\">\n",
       "  <thead>\n",
       "    <tr style=\"text-align: right;\">\n",
       "      <th></th>\n",
       "      <th>show_id</th>\n",
       "      <th>title</th>\n",
       "    </tr>\n",
       "  </thead>\n",
       "  <tbody>\n",
       "    <tr>\n",
       "      <th>0</th>\n",
       "      <td>247747</td>\n",
       "      <td>Amar Akbar Anthony</td>\n",
       "    </tr>\n",
       "    <tr>\n",
       "      <th>1</th>\n",
       "      <td>269880</td>\n",
       "      <td>Bad Boys</td>\n",
       "    </tr>\n",
       "    <tr>\n",
       "      <th>2</th>\n",
       "      <td>281550</td>\n",
       "      <td>La Bamba</td>\n",
       "    </tr>\n",
       "    <tr>\n",
       "      <th>3</th>\n",
       "      <td>284890</td>\n",
       "      <td>Barsaat</td>\n",
       "    </tr>\n",
       "    <tr>\n",
       "      <th>4</th>\n",
       "      <td>292118</td>\n",
       "      <td>Beavis and Butt-head Do America</td>\n",
       "    </tr>\n",
       "    <tr>\n",
       "      <th>...</th>\n",
       "      <td>...</td>\n",
       "      <td>...</td>\n",
       "    </tr>\n",
       "    <tr>\n",
       "      <th>6229</th>\n",
       "      <td>81224868</td>\n",
       "      <td>Robot Trains</td>\n",
       "    </tr>\n",
       "    <tr>\n",
       "      <th>6230</th>\n",
       "      <td>81227195</td>\n",
       "      <td>Kalushi: The Story of Solomon Mahlangu</td>\n",
       "    </tr>\n",
       "    <tr>\n",
       "      <th>6231</th>\n",
       "      <td>81228864</td>\n",
       "      <td>Blitz Patrollie</td>\n",
       "    </tr>\n",
       "    <tr>\n",
       "      <th>6232</th>\n",
       "      <td>81235603</td>\n",
       "      <td>Sym-Bionic Titan</td>\n",
       "    </tr>\n",
       "    <tr>\n",
       "      <th>6233</th>\n",
       "      <td>81235729</td>\n",
       "      <td>Jezebel</td>\n",
       "    </tr>\n",
       "  </tbody>\n",
       "</table>\n",
       "<p>6234 rows × 2 columns</p>\n",
       "</div>"
      ],
      "text/plain": [
       "       show_id                                   title\n",
       "0       247747                      Amar Akbar Anthony\n",
       "1       269880                                Bad Boys\n",
       "2       281550                                La Bamba\n",
       "3       284890                                 Barsaat\n",
       "4       292118         Beavis and Butt-head Do America\n",
       "...        ...                                     ...\n",
       "6229  81224868                            Robot Trains\n",
       "6230  81227195  Kalushi: The Story of Solomon Mahlangu\n",
       "6231  81228864                         Blitz Patrollie\n",
       "6232  81235603                        Sym-Bionic Titan\n",
       "6233  81235729                                 Jezebel\n",
       "\n",
       "[6234 rows x 2 columns]"
      ]
     },
     "metadata": {},
     "output_type": "display_data"
    },
    {
     "data": {
      "application/vnd.jupyter.widget-view+json": {
       "model_id": "ad6d5e6919fd44c282b4e5fb30fbb645",
       "version_major": 2,
       "version_minor": 0
      },
      "text/plain": [
       "Output()"
      ]
     },
     "metadata": {},
     "output_type": "display_data"
    },
    {
     "data": {
      "application/vnd.jupyter.widget-view+json": {
       "model_id": "f0d99b2e2d2b42ae90ba6d671251ec37",
       "version_major": 2,
       "version_minor": 0
      },
      "text/plain": [
       "Output()"
      ]
     },
     "metadata": {},
     "output_type": "display_data"
    }
   ],
   "source": [
    "# Herstellen der Datenbankverbindung\n",
    "engine = create_engine('sqlite:///data/lernmodul_pandas.db')\n",
    "con = engine.connect()\n",
    "# Auslesen der Daten aus der Datenbank und Speicherung der Daten in einem DataFrame\n",
    "show_titles_df = pd.read_sql_query('SELECT show_id, title from netflix_titles', con)\n",
    "\n",
    "# Schließen der Datenbankverbindung\n",
    "con.close()\n",
    "\n",
    "\n",
    "# Aufgabenauswertung\n",
    "lm.show_task(271, show_titles_df)"
   ]
  },
  {
   "attachments": {
    "385c1009-aba7-4e68-9764-21de6a420076.png": {
     "image/png": "[encoded data removed]"
    }
   },
   "cell_type": "markdown",
   "metadata": {},
   "source": [
    "**2.7.2 Lisa, Jan, Dirk und Verena veranstalten einen Filmabend. Jeder von ihnen bringt einen Film dafür mit. Diese Information steht in dem Dictonary `filmabend`. Finde heraus, wie die Filme heißen, die sie mitbringen! Erstelle einen DataFrame mit dem Namen `filmabend_title_df` in dem steht, wer welchen Filmtitle mitbringt. Der DataFrame sollte am Ende wie die folgende Tabelle aufgebaut sein.** \n",
    "\n",
    "![image.png](attachment:385c1009-aba7-4e68-9764-21de6a420076.png)"
   ]
  },
  {
   "cell_type": "code",
   "execution_count": 23,
   "metadata": {},
   "outputs": [
    {
     "data": {
      "text/html": [
       "<div>\n",
       "<style scoped>\n",
       "    .dataframe tbody tr th:only-of-type {\n",
       "        vertical-align: middle;\n",
       "    }\n",
       "\n",
       "    .dataframe tbody tr th {\n",
       "        vertical-align: top;\n",
       "    }\n",
       "\n",
       "    .dataframe thead th {\n",
       "        text-align: right;\n",
       "    }\n",
       "</style>\n",
       "<table border=\"1\" class=\"dataframe\">\n",
       "  <thead>\n",
       "    <tr style=\"text-align: right;\">\n",
       "      <th></th>\n",
       "      <th>name</th>\n",
       "      <th>show_id</th>\n",
       "      <th>title</th>\n",
       "    </tr>\n",
       "  </thead>\n",
       "  <tbody>\n",
       "    <tr>\n",
       "      <th>0</th>\n",
       "      <td>Lisa</td>\n",
       "      <td>70077542</td>\n",
       "      <td>The Bucket List</td>\n",
       "    </tr>\n",
       "    <tr>\n",
       "      <th>1</th>\n",
       "      <td>Dirk</td>\n",
       "      <td>70021648</td>\n",
       "      <td>Charlie and the Chocolate Factory</td>\n",
       "    </tr>\n",
       "    <tr>\n",
       "      <th>2</th>\n",
       "      <td>Jan</td>\n",
       "      <td>80005501</td>\n",
       "      <td>Iron Man &amp; Captain America: Heroes United</td>\n",
       "    </tr>\n",
       "    <tr>\n",
       "      <th>3</th>\n",
       "      <td>Verena</td>\n",
       "      <td>70248183</td>\n",
       "      <td>Cloud Atlas</td>\n",
       "    </tr>\n",
       "  </tbody>\n",
       "</table>\n",
       "</div>"
      ],
      "text/plain": [
       "     name   show_id                                      title\n",
       "0    Lisa  70077542                            The Bucket List\n",
       "1    Dirk  70021648          Charlie and the Chocolate Factory\n",
       "2     Jan  80005501  Iron Man & Captain America: Heroes United\n",
       "3  Verena  70248183                                Cloud Atlas"
      ]
     },
     "metadata": {},
     "output_type": "display_data"
    },
    {
     "data": {
      "application/vnd.jupyter.widget-view+json": {
       "model_id": "da1b9d60e31a4cc3a47245eea2ad99c4",
       "version_major": 2,
       "version_minor": 0
      },
      "text/plain": [
       "Output()"
      ]
     },
     "metadata": {},
     "output_type": "display_data"
    },
    {
     "data": {
      "application/vnd.jupyter.widget-view+json": {
       "model_id": "9fbbab5bb7904b8a8cf49d1921df3b52",
       "version_major": 2,
       "version_minor": 0
      },
      "text/plain": [
       "Output()"
      ]
     },
     "metadata": {},
     "output_type": "display_data"
    }
   ],
   "source": [
    "filmabend = {'name': ['Lisa', 'Dirk', 'Jan', 'Verena'], 'show_id': [70077542, 70021648, 80005501, 70248183]}\n",
    "\n",
    "\n",
    "\n",
    "\n",
    "\n",
    "filmabend_df = pd.DataFrame.from_dict(filmabend)\n",
    "\n",
    "filmabend_title_df = filmabend_df.merge(show_titles_df, how= 'left', on='show_id')\n",
    "\n",
    "\n",
    "\n",
    "# Aufgabenauswertung\n",
    "lm.show_task(272, filmabend_title_df)"
   ]
  },
  {
   "cell_type": "markdown",
   "metadata": {},
   "source": [
    "**2.7.3 Exportiere den in Aufgabe 2 entstandenen DataFrame `filmabend_title_df` in die Datanbanktabelle `movie_titles_filmabend` der Datenbank `lernmodul_pandas.db` (Pfad zur Datenbank: data/lernmodul_pandas.db). Der Index des DataFrames soll dabei nicht mit exportiert werden.**"
   ]
  },
  {
   "cell_type": "code",
   "execution_count": 24,
   "metadata": {},
   "outputs": [
    {
     "data": {
      "text/html": [
       "<div>\n",
       "<style scoped>\n",
       "    .dataframe tbody tr th:only-of-type {\n",
       "        vertical-align: middle;\n",
       "    }\n",
       "\n",
       "    .dataframe tbody tr th {\n",
       "        vertical-align: top;\n",
       "    }\n",
       "\n",
       "    .dataframe thead th {\n",
       "        text-align: right;\n",
       "    }\n",
       "</style>\n",
       "<table border=\"1\" class=\"dataframe\">\n",
       "  <thead>\n",
       "    <tr style=\"text-align: right;\">\n",
       "      <th></th>\n",
       "      <th>name</th>\n",
       "      <th>show_id</th>\n",
       "      <th>title</th>\n",
       "    </tr>\n",
       "  </thead>\n",
       "  <tbody>\n",
       "    <tr>\n",
       "      <th>0</th>\n",
       "      <td>Lisa</td>\n",
       "      <td>70077542</td>\n",
       "      <td>The Bucket List</td>\n",
       "    </tr>\n",
       "    <tr>\n",
       "      <th>1</th>\n",
       "      <td>Dirk</td>\n",
       "      <td>70021648</td>\n",
       "      <td>Charlie and the Chocolate Factory</td>\n",
       "    </tr>\n",
       "    <tr>\n",
       "      <th>2</th>\n",
       "      <td>Jan</td>\n",
       "      <td>80005501</td>\n",
       "      <td>Iron Man &amp; Captain America: Heroes United</td>\n",
       "    </tr>\n",
       "    <tr>\n",
       "      <th>3</th>\n",
       "      <td>Verena</td>\n",
       "      <td>70248183</td>\n",
       "      <td>Cloud Atlas</td>\n",
       "    </tr>\n",
       "  </tbody>\n",
       "</table>\n",
       "</div>"
      ],
      "text/plain": [
       "     name   show_id                                      title\n",
       "0    Lisa  70077542                            The Bucket List\n",
       "1    Dirk  70021648          Charlie and the Chocolate Factory\n",
       "2     Jan  80005501  Iron Man & Captain America: Heroes United\n",
       "3  Verena  70248183                                Cloud Atlas"
      ]
     },
     "metadata": {},
     "output_type": "display_data"
    },
    {
     "data": {
      "application/vnd.jupyter.widget-view+json": {
       "model_id": "09d5d5a3ffd541159ed4b1b1667f755f",
       "version_major": 2,
       "version_minor": 0
      },
      "text/plain": [
       "Output()"
      ]
     },
     "metadata": {},
     "output_type": "display_data"
    },
    {
     "data": {
      "application/vnd.jupyter.widget-view+json": {
       "model_id": "3390ddd5996745949799614d758a798b",
       "version_major": 2,
       "version_minor": 0
      },
      "text/plain": [
       "Output()"
      ]
     },
     "metadata": {},
     "output_type": "display_data"
    }
   ],
   "source": [
    "\n",
    "\n",
    "# Herstellen der Datenbankverbindung\n",
    "engine = create_engine('sqlite:///data/lernmodul_pandas.db')\n",
    "con = engine.connect()\n",
    "\n",
    "# Erzeugen einer Datenbanktabelle auf der Basis eines DataFrames\n",
    "filmabend_title_df.to_sql('movie_titles_filmabend', con, index = False, if_exists=\"replace\")\n",
    "\n",
    "# Schließen der Datenbankverbindung\n",
    "con.close()\n",
    "\n",
    "\n",
    "\n",
    "\n",
    "# Aufgabenauswertung\n",
    "lm.show_task(273, filmabend_title_df)"
   ]
  },
  {
   "cell_type": "markdown",
   "metadata": {},
   "source": [
    "<div style=\"background-color: #150458 ; padding: 5px; \"></div>\n",
    "\n",
    "## 3 Datenanalyse"
   ]
  },
  {
   "cell_type": "markdown",
   "metadata": {},
   "source": [
    "In dem folgenden Abschnitt wird erläutert, wie die Daten eines DataFrames betrachtet werden können. Zudem kann es zur Datenanalyse hilfreich sein, sich zusätzliche Informationen zu den Daten anzeigen zu lassen, zum Beispiel die Lageparameter oder die Anzahl der Spalten und Zeilen. Mithilfe von Bedingungen können bestimmte Zeilen eines DataFrames ausgewählt werden, um einen genaueren Blick auf diese zu werfen. Auch können die Daten nach bestimmten Spalten sortiert werden. Nachdem die Daten genauer betrachtet wurden, kann es hilfreich sein Spaltennamen umzubenennen. Zum Beispiel, wenn die Namen nicht aussagekräftig genug sind. Auch kann es hilfreich sein den Datentyp von Spalten zu ändern, wenn bei der Analyse festgestellt wurde, dass dieser nicht übereinstimmt. Wie all dies in pandas umgesetzt werden kann, schauen wir uns in diesem Abschnitt an. "
   ]
  },
  {
   "cell_type": "markdown",
   "metadata": {},
   "source": [
    "### 3.1 Anzeigen der Daten"
   ]
  },
  {
   "cell_type": "markdown",
   "metadata": {},
   "source": [
    "In einem Jupyter Notebook kann ein DataFrame einfach angezeigt werden, indem der Name des DataFrames in eine Zelle geschrieben und diese ausgeführt wird."
   ]
  },
  {
   "cell_type": "code",
   "execution_count": 25,
   "metadata": {},
   "outputs": [
    {
     "data": {
      "text/html": [
       "<div>\n",
       "<style scoped>\n",
       "    .dataframe tbody tr th:only-of-type {\n",
       "        vertical-align: middle;\n",
       "    }\n",
       "\n",
       "    .dataframe tbody tr th {\n",
       "        vertical-align: top;\n",
       "    }\n",
       "\n",
       "    .dataframe thead th {\n",
       "        text-align: right;\n",
       "    }\n",
       "</style>\n",
       "<table border=\"1\" class=\"dataframe\">\n",
       "  <thead>\n",
       "    <tr style=\"text-align: right;\">\n",
       "      <th></th>\n",
       "      <th>show_id</th>\n",
       "      <th>type</th>\n",
       "      <th>title</th>\n",
       "      <th>director</th>\n",
       "      <th>cast</th>\n",
       "      <th>country</th>\n",
       "      <th>date_added</th>\n",
       "      <th>release_year</th>\n",
       "      <th>rating</th>\n",
       "      <th>duration</th>\n",
       "      <th>listed_in</th>\n",
       "      <th>description</th>\n",
       "    </tr>\n",
       "  </thead>\n",
       "  <tbody>\n",
       "    <tr>\n",
       "      <th>0</th>\n",
       "      <td>247747</td>\n",
       "      <td>Movie</td>\n",
       "      <td>Amar Akbar Anthony</td>\n",
       "      <td>Manmohan Desai</td>\n",
       "      <td>Vinod Khanna, Rishi Kapoor, Amitabh Bachchan, ...</td>\n",
       "      <td>India</td>\n",
       "      <td>December 31, 2019</td>\n",
       "      <td>1977</td>\n",
       "      <td>TV-14</td>\n",
       "      <td>172 min</td>\n",
       "      <td>Action &amp; Adventure, Classic Movies, Comedies</td>\n",
       "      <td>Abandoned in a park by their father, Amar, Akb...</td>\n",
       "    </tr>\n",
       "    <tr>\n",
       "      <th>1</th>\n",
       "      <td>269880</td>\n",
       "      <td>Movie</td>\n",
       "      <td>Bad Boys</td>\n",
       "      <td>Michael Bay</td>\n",
       "      <td>Will Smith, Martin Lawrence, Téa Leoni, Tchéky...</td>\n",
       "      <td>United States</td>\n",
       "      <td>October 1, 2019</td>\n",
       "      <td>1995</td>\n",
       "      <td>R</td>\n",
       "      <td>119 min</td>\n",
       "      <td>Action &amp; Adventure, Comedies</td>\n",
       "      <td>In this fast-paced actioner, two Miami narcoti...</td>\n",
       "    </tr>\n",
       "    <tr>\n",
       "      <th>2</th>\n",
       "      <td>281550</td>\n",
       "      <td>Movie</td>\n",
       "      <td>La Bamba</td>\n",
       "      <td>Luis Valdez</td>\n",
       "      <td>Lou Diamond Phillips, Esai Morales, Rosanna De...</td>\n",
       "      <td>United States</td>\n",
       "      <td>January 1, 2020</td>\n",
       "      <td>1987</td>\n",
       "      <td>PG-13</td>\n",
       "      <td>109 min</td>\n",
       "      <td>Classic Movies, Dramas, Music &amp; Musicals</td>\n",
       "      <td>The plane crash that killed Buddy Holly also t...</td>\n",
       "    </tr>\n",
       "    <tr>\n",
       "      <th>3</th>\n",
       "      <td>284890</td>\n",
       "      <td>Movie</td>\n",
       "      <td>Barsaat</td>\n",
       "      <td>Rajkumar Santoshi</td>\n",
       "      <td>Twinkle Khanna, Bobby Deol, Danny Denzongpa, R...</td>\n",
       "      <td>India</td>\n",
       "      <td>April 1, 2018</td>\n",
       "      <td>1995</td>\n",
       "      <td>TV-PG</td>\n",
       "      <td>166 min</td>\n",
       "      <td>Action &amp; Adventure, International Movies, Musi...</td>\n",
       "      <td>A naïve young man and a rich city girl fall in...</td>\n",
       "    </tr>\n",
       "    <tr>\n",
       "      <th>4</th>\n",
       "      <td>292118</td>\n",
       "      <td>Movie</td>\n",
       "      <td>Beavis and Butt-head Do America</td>\n",
       "      <td>Mike Judge</td>\n",
       "      <td>Mike Judge, Bruce Willis, Demi Moore, Cloris L...</td>\n",
       "      <td>United States</td>\n",
       "      <td>November 20, 2019</td>\n",
       "      <td>1996</td>\n",
       "      <td>PG-13</td>\n",
       "      <td>81 min</td>\n",
       "      <td>Comedies, Cult Movies</td>\n",
       "      <td>After realizing that their boob tube is gone, ...</td>\n",
       "    </tr>\n",
       "    <tr>\n",
       "      <th>...</th>\n",
       "      <td>...</td>\n",
       "      <td>...</td>\n",
       "      <td>...</td>\n",
       "      <td>...</td>\n",
       "      <td>...</td>\n",
       "      <td>...</td>\n",
       "      <td>...</td>\n",
       "      <td>...</td>\n",
       "      <td>...</td>\n",
       "      <td>...</td>\n",
       "      <td>...</td>\n",
       "      <td>...</td>\n",
       "    </tr>\n",
       "    <tr>\n",
       "      <th>6229</th>\n",
       "      <td>81224868</td>\n",
       "      <td>TV Show</td>\n",
       "      <td>Robot Trains</td>\n",
       "      <td>None</td>\n",
       "      <td>Bill Rogers, Carrie Savage, Ken Spassione, Ang...</td>\n",
       "      <td>South Korea</td>\n",
       "      <td>December 31, 2019</td>\n",
       "      <td>2018</td>\n",
       "      <td>TV-Y7</td>\n",
       "      <td>2 Seasons</td>\n",
       "      <td>Kids' TV, Korean TV Shows</td>\n",
       "      <td>Keeping peace and safety in Train World is no ...</td>\n",
       "    </tr>\n",
       "    <tr>\n",
       "      <th>6230</th>\n",
       "      <td>81227195</td>\n",
       "      <td>Movie</td>\n",
       "      <td>Kalushi: The Story of Solomon Mahlangu</td>\n",
       "      <td>Mandla Dube</td>\n",
       "      <td>Thabo Rametsi, Thabo Malema, Welile Nzuza, Jaf...</td>\n",
       "      <td>South Africa</td>\n",
       "      <td>November 29, 2019</td>\n",
       "      <td>2016</td>\n",
       "      <td>TV-MA</td>\n",
       "      <td>107 min</td>\n",
       "      <td>Dramas, International Movies</td>\n",
       "      <td>The life and times of iconic South African lib...</td>\n",
       "    </tr>\n",
       "    <tr>\n",
       "      <th>6231</th>\n",
       "      <td>81228864</td>\n",
       "      <td>Movie</td>\n",
       "      <td>Blitz Patrollie</td>\n",
       "      <td>Andrew Wessels</td>\n",
       "      <td>Joey Rasdien, David Kau, David Kibuuka, Chris ...</td>\n",
       "      <td>South Africa</td>\n",
       "      <td>December 27, 2019</td>\n",
       "      <td>2013</td>\n",
       "      <td>TV-MA</td>\n",
       "      <td>102 min</td>\n",
       "      <td>Action &amp; Adventure, Comedies, International Mo...</td>\n",
       "      <td>Caught between family pressures and small-time...</td>\n",
       "    </tr>\n",
       "    <tr>\n",
       "      <th>6232</th>\n",
       "      <td>81235603</td>\n",
       "      <td>TV Show</td>\n",
       "      <td>Sym-Bionic Titan</td>\n",
       "      <td>None</td>\n",
       "      <td>Tara Strong, Kevin Thoms, Brian Posehn, John D...</td>\n",
       "      <td>United States</td>\n",
       "      <td>December 15, 2019</td>\n",
       "      <td>2010</td>\n",
       "      <td>TV-PG</td>\n",
       "      <td>1 Season</td>\n",
       "      <td>Kids' TV</td>\n",
       "      <td>Aliens fleeing their planet land on Earth, pos...</td>\n",
       "    </tr>\n",
       "    <tr>\n",
       "      <th>6233</th>\n",
       "      <td>81235729</td>\n",
       "      <td>Movie</td>\n",
       "      <td>Jezebel</td>\n",
       "      <td>Numa Perrier</td>\n",
       "      <td>Tiffany Tenille, Numa Perrier, Stephen Barring...</td>\n",
       "      <td>United States</td>\n",
       "      <td>January 16, 2020</td>\n",
       "      <td>2019</td>\n",
       "      <td>TV-MA</td>\n",
       "      <td>86 min</td>\n",
       "      <td>Dramas, Independent Movies</td>\n",
       "      <td>During the internet's infancy, a vulnerable wo...</td>\n",
       "    </tr>\n",
       "  </tbody>\n",
       "</table>\n",
       "<p>6234 rows × 12 columns</p>\n",
       "</div>"
      ],
      "text/plain": [
       "       show_id     type                                   title  \\\n",
       "0       247747    Movie                      Amar Akbar Anthony   \n",
       "1       269880    Movie                                Bad Boys   \n",
       "2       281550    Movie                                La Bamba   \n",
       "3       284890    Movie                                 Barsaat   \n",
       "4       292118    Movie         Beavis and Butt-head Do America   \n",
       "...        ...      ...                                     ...   \n",
       "6229  81224868  TV Show                            Robot Trains   \n",
       "6230  81227195    Movie  Kalushi: The Story of Solomon Mahlangu   \n",
       "6231  81228864    Movie                         Blitz Patrollie   \n",
       "6232  81235603  TV Show                        Sym-Bionic Titan   \n",
       "6233  81235729    Movie                                 Jezebel   \n",
       "\n",
       "               director                                               cast  \\\n",
       "0        Manmohan Desai  Vinod Khanna, Rishi Kapoor, Amitabh Bachchan, ...   \n",
       "1           Michael Bay  Will Smith, Martin Lawrence, Téa Leoni, Tchéky...   \n",
       "2           Luis Valdez  Lou Diamond Phillips, Esai Morales, Rosanna De...   \n",
       "3     Rajkumar Santoshi  Twinkle Khanna, Bobby Deol, Danny Denzongpa, R...   \n",
       "4            Mike Judge  Mike Judge, Bruce Willis, Demi Moore, Cloris L...   \n",
       "...                 ...                                                ...   \n",
       "6229               None  Bill Rogers, Carrie Savage, Ken Spassione, Ang...   \n",
       "6230        Mandla Dube  Thabo Rametsi, Thabo Malema, Welile Nzuza, Jaf...   \n",
       "6231     Andrew Wessels  Joey Rasdien, David Kau, David Kibuuka, Chris ...   \n",
       "6232               None  Tara Strong, Kevin Thoms, Brian Posehn, John D...   \n",
       "6233       Numa Perrier  Tiffany Tenille, Numa Perrier, Stephen Barring...   \n",
       "\n",
       "            country         date_added  release_year rating   duration  \\\n",
       "0             India  December 31, 2019          1977  TV-14    172 min   \n",
       "1     United States    October 1, 2019          1995      R    119 min   \n",
       "2     United States    January 1, 2020          1987  PG-13    109 min   \n",
       "3             India      April 1, 2018          1995  TV-PG    166 min   \n",
       "4     United States  November 20, 2019          1996  PG-13     81 min   \n",
       "...             ...                ...           ...    ...        ...   \n",
       "6229    South Korea  December 31, 2019          2018  TV-Y7  2 Seasons   \n",
       "6230   South Africa  November 29, 2019          2016  TV-MA    107 min   \n",
       "6231   South Africa  December 27, 2019          2013  TV-MA    102 min   \n",
       "6232  United States  December 15, 2019          2010  TV-PG   1 Season   \n",
       "6233  United States   January 16, 2020          2019  TV-MA     86 min   \n",
       "\n",
       "                                              listed_in  \\\n",
       "0          Action & Adventure, Classic Movies, Comedies   \n",
       "1                          Action & Adventure, Comedies   \n",
       "2              Classic Movies, Dramas, Music & Musicals   \n",
       "3     Action & Adventure, International Movies, Musi...   \n",
       "4                                 Comedies, Cult Movies   \n",
       "...                                                 ...   \n",
       "6229                          Kids' TV, Korean TV Shows   \n",
       "6230                       Dramas, International Movies   \n",
       "6231  Action & Adventure, Comedies, International Mo...   \n",
       "6232                                           Kids' TV   \n",
       "6233                         Dramas, Independent Movies   \n",
       "\n",
       "                                            description  \n",
       "0     Abandoned in a park by their father, Amar, Akb...  \n",
       "1     In this fast-paced actioner, two Miami narcoti...  \n",
       "2     The plane crash that killed Buddy Holly also t...  \n",
       "3     A naïve young man and a rich city girl fall in...  \n",
       "4     After realizing that their boob tube is gone, ...  \n",
       "...                                                 ...  \n",
       "6229  Keeping peace and safety in Train World is no ...  \n",
       "6230  The life and times of iconic South African lib...  \n",
       "6231  Caught between family pressures and small-time...  \n",
       "6232  Aliens fleeing their planet land on Earth, pos...  \n",
       "6233  During the internet's infancy, a vulnerable wo...  \n",
       "\n",
       "[6234 rows x 12 columns]"
      ]
     },
     "execution_count": 25,
     "metadata": {},
     "output_type": "execute_result"
    }
   ],
   "source": [
    "titles_df"
   ]
  },
  {
   "cell_type": "markdown",
   "metadata": {},
   "source": [
    "Mit den Methoden `head()` und `tail()` können jeweils die ersten oder letzten Datenreihen eines Dataframes angezeigt werden. Defaultmäßig werden 5 Zeilen zurückgegeben. Sollen mehr oder weniger Zeilen angezeigt werden kann die Anzahl der gewünschten Zeilen der Methode als Parameter übergeben werden."
   ]
  },
  {
   "cell_type": "code",
   "execution_count": 26,
   "metadata": {},
   "outputs": [
    {
     "data": {
      "text/html": [
       "<div>\n",
       "<style scoped>\n",
       "    .dataframe tbody tr th:only-of-type {\n",
       "        vertical-align: middle;\n",
       "    }\n",
       "\n",
       "    .dataframe tbody tr th {\n",
       "        vertical-align: top;\n",
       "    }\n",
       "\n",
       "    .dataframe thead th {\n",
       "        text-align: right;\n",
       "    }\n",
       "</style>\n",
       "<table border=\"1\" class=\"dataframe\">\n",
       "  <thead>\n",
       "    <tr style=\"text-align: right;\">\n",
       "      <th></th>\n",
       "      <th>show_id</th>\n",
       "      <th>type</th>\n",
       "      <th>title</th>\n",
       "      <th>director</th>\n",
       "      <th>cast</th>\n",
       "      <th>country</th>\n",
       "      <th>date_added</th>\n",
       "      <th>release_year</th>\n",
       "      <th>rating</th>\n",
       "      <th>duration</th>\n",
       "      <th>listed_in</th>\n",
       "      <th>description</th>\n",
       "    </tr>\n",
       "  </thead>\n",
       "  <tbody>\n",
       "    <tr>\n",
       "      <th>0</th>\n",
       "      <td>247747</td>\n",
       "      <td>Movie</td>\n",
       "      <td>Amar Akbar Anthony</td>\n",
       "      <td>Manmohan Desai</td>\n",
       "      <td>Vinod Khanna, Rishi Kapoor, Amitabh Bachchan, ...</td>\n",
       "      <td>India</td>\n",
       "      <td>December 31, 2019</td>\n",
       "      <td>1977</td>\n",
       "      <td>TV-14</td>\n",
       "      <td>172 min</td>\n",
       "      <td>Action &amp; Adventure, Classic Movies, Comedies</td>\n",
       "      <td>Abandoned in a park by their father, Amar, Akb...</td>\n",
       "    </tr>\n",
       "    <tr>\n",
       "      <th>1</th>\n",
       "      <td>269880</td>\n",
       "      <td>Movie</td>\n",
       "      <td>Bad Boys</td>\n",
       "      <td>Michael Bay</td>\n",
       "      <td>Will Smith, Martin Lawrence, Téa Leoni, Tchéky...</td>\n",
       "      <td>United States</td>\n",
       "      <td>October 1, 2019</td>\n",
       "      <td>1995</td>\n",
       "      <td>R</td>\n",
       "      <td>119 min</td>\n",
       "      <td>Action &amp; Adventure, Comedies</td>\n",
       "      <td>In this fast-paced actioner, two Miami narcoti...</td>\n",
       "    </tr>\n",
       "    <tr>\n",
       "      <th>2</th>\n",
       "      <td>281550</td>\n",
       "      <td>Movie</td>\n",
       "      <td>La Bamba</td>\n",
       "      <td>Luis Valdez</td>\n",
       "      <td>Lou Diamond Phillips, Esai Morales, Rosanna De...</td>\n",
       "      <td>United States</td>\n",
       "      <td>January 1, 2020</td>\n",
       "      <td>1987</td>\n",
       "      <td>PG-13</td>\n",
       "      <td>109 min</td>\n",
       "      <td>Classic Movies, Dramas, Music &amp; Musicals</td>\n",
       "      <td>The plane crash that killed Buddy Holly also t...</td>\n",
       "    </tr>\n",
       "    <tr>\n",
       "      <th>3</th>\n",
       "      <td>284890</td>\n",
       "      <td>Movie</td>\n",
       "      <td>Barsaat</td>\n",
       "      <td>Rajkumar Santoshi</td>\n",
       "      <td>Twinkle Khanna, Bobby Deol, Danny Denzongpa, R...</td>\n",
       "      <td>India</td>\n",
       "      <td>April 1, 2018</td>\n",
       "      <td>1995</td>\n",
       "      <td>TV-PG</td>\n",
       "      <td>166 min</td>\n",
       "      <td>Action &amp; Adventure, International Movies, Musi...</td>\n",
       "      <td>A naïve young man and a rich city girl fall in...</td>\n",
       "    </tr>\n",
       "    <tr>\n",
       "      <th>4</th>\n",
       "      <td>292118</td>\n",
       "      <td>Movie</td>\n",
       "      <td>Beavis and Butt-head Do America</td>\n",
       "      <td>Mike Judge</td>\n",
       "      <td>Mike Judge, Bruce Willis, Demi Moore, Cloris L...</td>\n",
       "      <td>United States</td>\n",
       "      <td>November 20, 2019</td>\n",
       "      <td>1996</td>\n",
       "      <td>PG-13</td>\n",
       "      <td>81 min</td>\n",
       "      <td>Comedies, Cult Movies</td>\n",
       "      <td>After realizing that their boob tube is gone, ...</td>\n",
       "    </tr>\n",
       "  </tbody>\n",
       "</table>\n",
       "</div>"
      ],
      "text/plain": [
       "   show_id   type                            title           director  \\\n",
       "0   247747  Movie               Amar Akbar Anthony     Manmohan Desai   \n",
       "1   269880  Movie                         Bad Boys        Michael Bay   \n",
       "2   281550  Movie                         La Bamba        Luis Valdez   \n",
       "3   284890  Movie                          Barsaat  Rajkumar Santoshi   \n",
       "4   292118  Movie  Beavis and Butt-head Do America         Mike Judge   \n",
       "\n",
       "                                                cast        country  \\\n",
       "0  Vinod Khanna, Rishi Kapoor, Amitabh Bachchan, ...          India   \n",
       "1  Will Smith, Martin Lawrence, Téa Leoni, Tchéky...  United States   \n",
       "2  Lou Diamond Phillips, Esai Morales, Rosanna De...  United States   \n",
       "3  Twinkle Khanna, Bobby Deol, Danny Denzongpa, R...          India   \n",
       "4  Mike Judge, Bruce Willis, Demi Moore, Cloris L...  United States   \n",
       "\n",
       "          date_added  release_year rating duration  \\\n",
       "0  December 31, 2019          1977  TV-14  172 min   \n",
       "1    October 1, 2019          1995      R  119 min   \n",
       "2    January 1, 2020          1987  PG-13  109 min   \n",
       "3      April 1, 2018          1995  TV-PG  166 min   \n",
       "4  November 20, 2019          1996  PG-13   81 min   \n",
       "\n",
       "                                           listed_in  \\\n",
       "0       Action & Adventure, Classic Movies, Comedies   \n",
       "1                       Action & Adventure, Comedies   \n",
       "2           Classic Movies, Dramas, Music & Musicals   \n",
       "3  Action & Adventure, International Movies, Musi...   \n",
       "4                              Comedies, Cult Movies   \n",
       "\n",
       "                                         description  \n",
       "0  Abandoned in a park by their father, Amar, Akb...  \n",
       "1  In this fast-paced actioner, two Miami narcoti...  \n",
       "2  The plane crash that killed Buddy Holly also t...  \n",
       "3  A naïve young man and a rich city girl fall in...  \n",
       "4  After realizing that their boob tube is gone, ...  "
      ]
     },
     "execution_count": 26,
     "metadata": {},
     "output_type": "execute_result"
    }
   ],
   "source": [
    "titles_df.head()"
   ]
  },
  {
   "cell_type": "code",
   "execution_count": 27,
   "metadata": {},
   "outputs": [
    {
     "data": {
      "text/html": [
       "<div>\n",
       "<style scoped>\n",
       "    .dataframe tbody tr th:only-of-type {\n",
       "        vertical-align: middle;\n",
       "    }\n",
       "\n",
       "    .dataframe tbody tr th {\n",
       "        vertical-align: top;\n",
       "    }\n",
       "\n",
       "    .dataframe thead th {\n",
       "        text-align: right;\n",
       "    }\n",
       "</style>\n",
       "<table border=\"1\" class=\"dataframe\">\n",
       "  <thead>\n",
       "    <tr style=\"text-align: right;\">\n",
       "      <th></th>\n",
       "      <th>show_id</th>\n",
       "      <th>type</th>\n",
       "      <th>title</th>\n",
       "      <th>director</th>\n",
       "      <th>cast</th>\n",
       "      <th>country</th>\n",
       "      <th>date_added</th>\n",
       "      <th>release_year</th>\n",
       "      <th>rating</th>\n",
       "      <th>duration</th>\n",
       "      <th>listed_in</th>\n",
       "      <th>description</th>\n",
       "    </tr>\n",
       "  </thead>\n",
       "  <tbody>\n",
       "    <tr>\n",
       "      <th>6232</th>\n",
       "      <td>81235603</td>\n",
       "      <td>TV Show</td>\n",
       "      <td>Sym-Bionic Titan</td>\n",
       "      <td>None</td>\n",
       "      <td>Tara Strong, Kevin Thoms, Brian Posehn, John D...</td>\n",
       "      <td>United States</td>\n",
       "      <td>December 15, 2019</td>\n",
       "      <td>2010</td>\n",
       "      <td>TV-PG</td>\n",
       "      <td>1 Season</td>\n",
       "      <td>Kids' TV</td>\n",
       "      <td>Aliens fleeing their planet land on Earth, pos...</td>\n",
       "    </tr>\n",
       "    <tr>\n",
       "      <th>6233</th>\n",
       "      <td>81235729</td>\n",
       "      <td>Movie</td>\n",
       "      <td>Jezebel</td>\n",
       "      <td>Numa Perrier</td>\n",
       "      <td>Tiffany Tenille, Numa Perrier, Stephen Barring...</td>\n",
       "      <td>United States</td>\n",
       "      <td>January 16, 2020</td>\n",
       "      <td>2019</td>\n",
       "      <td>TV-MA</td>\n",
       "      <td>86 min</td>\n",
       "      <td>Dramas, Independent Movies</td>\n",
       "      <td>During the internet's infancy, a vulnerable wo...</td>\n",
       "    </tr>\n",
       "  </tbody>\n",
       "</table>\n",
       "</div>"
      ],
      "text/plain": [
       "       show_id     type             title      director  \\\n",
       "6232  81235603  TV Show  Sym-Bionic Titan          None   \n",
       "6233  81235729    Movie           Jezebel  Numa Perrier   \n",
       "\n",
       "                                                   cast        country  \\\n",
       "6232  Tara Strong, Kevin Thoms, Brian Posehn, John D...  United States   \n",
       "6233  Tiffany Tenille, Numa Perrier, Stephen Barring...  United States   \n",
       "\n",
       "             date_added  release_year rating  duration  \\\n",
       "6232  December 15, 2019          2010  TV-PG  1 Season   \n",
       "6233   January 16, 2020          2019  TV-MA    86 min   \n",
       "\n",
       "                       listed_in  \\\n",
       "6232                    Kids' TV   \n",
       "6233  Dramas, Independent Movies   \n",
       "\n",
       "                                            description  \n",
       "6232  Aliens fleeing their planet land on Earth, pos...  \n",
       "6233  During the internet's infancy, a vulnerable wo...  "
      ]
     },
     "execution_count": 27,
     "metadata": {},
     "output_type": "execute_result"
    }
   ],
   "source": [
    "titles_df.tail(2)"
   ]
  },
  {
   "cell_type": "markdown",
   "metadata": {},
   "source": [
    "### 3.2 Erstellen einer Kopie der Daten"
   ]
  },
  {
   "cell_type": "markdown",
   "metadata": {},
   "source": [
    "An manchen Stellen kann es sinnvoll sein, eine Kopie des DataFrames zu erstellen, um zum Beispiel die originalen Daten zu behalten bevor die Daten manipuliert werden. Dafür gibt es die Methode `copy()`. Wird die Kopie eines DataFrames bearbeitet werden ausschließlich die Daten der Kopie verändert. Der originalle DataFrame bleibt dabei unverändert."
   ]
  },
  {
   "cell_type": "code",
   "execution_count": 28,
   "metadata": {},
   "outputs": [],
   "source": [
    "titles_df = titles_df.copy()"
   ]
  },
  {
   "cell_type": "markdown",
   "metadata": {},
   "source": [
    "### 3.3 Beschreiben der Daten"
   ]
  },
  {
   "cell_type": "markdown",
   "metadata": {},
   "source": [
    "Das `shape` Attribut kann dazu genutzt werden zu schauen, wie groß der DataFrame ist. Unser DataFrame hat 6234 Zeilen und 12 Spalten"
   ]
  },
  {
   "cell_type": "code",
   "execution_count": 29,
   "metadata": {},
   "outputs": [
    {
     "data": {
      "text/plain": [
       "(6234, 12)"
      ]
     },
     "execution_count": 29,
     "metadata": {},
     "output_type": "execute_result"
    }
   ],
   "source": [
    "titles_df.shape"
   ]
  },
  {
   "cell_type": "markdown",
   "metadata": {},
   "source": [
    "Mithilfe der `describe()` Methode können die Lageparameter des DataFrames angezeigt werden. Dies macht nur Sinn für numerische Daten. Die Funktion kann auf den ganzen DataFrame angewendet werden oder auf einzelne Spalten. Im Falle unserer Daten macht es bei dem aktuellen Stand nur Sinn die Funktion auf die `release_year` Spalte anzuwenden. \n",
    "\n",
    "Bei den Lageparametern handelt es sich um folgende:\n",
    "* count: Die Anzahl der vorhandenen Datenwerte\n",
    "* mean: Durchschnittlicher Datenwert\n",
    "* std: Standardabweichung\n",
    "* min: Kleinster Wert\n",
    "* 25%: 25%-Quantil (mindestens 25% der Daten liegen unter diesem Wert)\n",
    "* 50%: 50%-Quantil, Median\n",
    "* 75%: 75%-Quantil\n",
    "* max: Größter Wert"
   ]
  },
  {
   "cell_type": "code",
   "execution_count": 30,
   "metadata": {},
   "outputs": [
    {
     "data": {
      "text/html": [
       "<div>\n",
       "<style scoped>\n",
       "    .dataframe tbody tr th:only-of-type {\n",
       "        vertical-align: middle;\n",
       "    }\n",
       "\n",
       "    .dataframe tbody tr th {\n",
       "        vertical-align: top;\n",
       "    }\n",
       "\n",
       "    .dataframe thead th {\n",
       "        text-align: right;\n",
       "    }\n",
       "</style>\n",
       "<table border=\"1\" class=\"dataframe\">\n",
       "  <thead>\n",
       "    <tr style=\"text-align: right;\">\n",
       "      <th></th>\n",
       "      <th>show_id</th>\n",
       "      <th>release_year</th>\n",
       "    </tr>\n",
       "  </thead>\n",
       "  <tbody>\n",
       "    <tr>\n",
       "      <th>count</th>\n",
       "      <td>6.234000000000000e+03</td>\n",
       "      <td>6234.000000000000000</td>\n",
       "    </tr>\n",
       "    <tr>\n",
       "      <th>mean</th>\n",
       "      <td>7.670367931985883e+07</td>\n",
       "      <td>2013.359319858838717</td>\n",
       "    </tr>\n",
       "    <tr>\n",
       "      <th>std</th>\n",
       "      <td>1.094296464988474e+07</td>\n",
       "      <td>8.811620351521556</td>\n",
       "    </tr>\n",
       "    <tr>\n",
       "      <th>min</th>\n",
       "      <td>2.477470000000000e+05</td>\n",
       "      <td>1925.000000000000000</td>\n",
       "    </tr>\n",
       "    <tr>\n",
       "      <th>25%</th>\n",
       "      <td>8.003580175000000e+07</td>\n",
       "      <td>2013.000000000000000</td>\n",
       "    </tr>\n",
       "    <tr>\n",
       "      <th>50%</th>\n",
       "      <td>8.016336700000000e+07</td>\n",
       "      <td>2016.000000000000000</td>\n",
       "    </tr>\n",
       "    <tr>\n",
       "      <th>75%</th>\n",
       "      <td>8.024488875000000e+07</td>\n",
       "      <td>2018.000000000000000</td>\n",
       "    </tr>\n",
       "    <tr>\n",
       "      <th>max</th>\n",
       "      <td>8.123572900000000e+07</td>\n",
       "      <td>2020.000000000000000</td>\n",
       "    </tr>\n",
       "  </tbody>\n",
       "</table>\n",
       "</div>"
      ],
      "text/plain": [
       "                     show_id          release_year\n",
       "count  6.234000000000000e+03  6234.000000000000000\n",
       "mean   7.670367931985883e+07  2013.359319858838717\n",
       "std    1.094296464988474e+07     8.811620351521556\n",
       "min    2.477470000000000e+05  1925.000000000000000\n",
       "25%    8.003580175000000e+07  2013.000000000000000\n",
       "50%    8.016336700000000e+07  2016.000000000000000\n",
       "75%    8.024488875000000e+07  2018.000000000000000\n",
       "max    8.123572900000000e+07  2020.000000000000000"
      ]
     },
     "execution_count": 30,
     "metadata": {},
     "output_type": "execute_result"
    }
   ],
   "source": [
    "titles_df.describe()"
   ]
  },
  {
   "cell_type": "markdown",
   "metadata": {},
   "source": [
    "**Aufgabe: Welche Erkenntnisse sind durch die `describe` Funktion ersichtlich?**"
   ]
  },
  {
   "cell_type": "code",
   "execution_count": null,
   "metadata": {},
   "outputs": [],
   "source": [
    "#hideInput\n",
    "lm.show_task(33)"
   ]
  },
  {
   "cell_type": "markdown",
   "metadata": {},
   "source": [
    "Die `describe()` Methode kann allerdings auch nützliche Informationen liefern, wenn sie auf eine Spalte mit dem Datentyp String angewandt wird: \n",
    "* count: Anzahl der vorhandenen Werte\n",
    "* unique: Einzigartige Werte\n",
    "* top: Am häufigsten vorkommender Wert\n",
    "* freq: Anzahl der Vorkommen des am häufigsten vorkommenden Wertes"
   ]
  },
  {
   "cell_type": "code",
   "execution_count": 32,
   "metadata": {},
   "outputs": [
    {
     "data": {
      "text/plain": [
       "count      6234\n",
       "unique        2\n",
       "top       Movie\n",
       "freq       4265\n",
       "Name: type, dtype: object"
      ]
     },
     "execution_count": 32,
     "metadata": {},
     "output_type": "execute_result"
    }
   ],
   "source": [
    "titles_df['type'].describe()"
   ]
  },
  {
   "cell_type": "markdown",
   "metadata": {},
   "source": [
    "Mithilfe der Methode `unique()` können diese einzigartigen Werte auch angezeigt werden."
   ]
  },
  {
   "cell_type": "code",
   "execution_count": 33,
   "metadata": {},
   "outputs": [
    {
     "data": {
      "text/plain": [
       "array(['Movie', 'TV Show'], dtype=object)"
      ]
     },
     "execution_count": 33,
     "metadata": {},
     "output_type": "execute_result"
    }
   ],
   "source": [
    "titles_df['type'].unique()"
   ]
  },
  {
   "cell_type": "markdown",
   "metadata": {},
   "source": [
    "Um zu sehen, wie oft diese einzigartigen Werte in der Spalte vorkommen kann die Methode `value_counts()` genutzt werden."
   ]
  },
  {
   "cell_type": "code",
   "execution_count": 34,
   "metadata": {},
   "outputs": [
    {
     "data": {
      "text/plain": [
       "Movie      4265\n",
       "TV Show    1969\n",
       "Name: type, dtype: int64"
      ]
     },
     "execution_count": 34,
     "metadata": {},
     "output_type": "execute_result"
    }
   ],
   "source": [
    "type_series = titles_df['type'].value_counts()\n",
    "type_series"
   ]
  },
  {
   "cell_type": "code",
   "execution_count": 35,
   "metadata": {},
   "outputs": [
    {
     "data": {
      "image/png": "[encoded data removed]",
      "text/plain": [
       "<Figure size 432x288 with 1 Axes>"
      ]
     },
     "metadata": {
      "needs_background": "light"
     },
     "output_type": "display_data"
    }
   ],
   "source": [
    "vf.create_barplot_for_series(type_series)"
   ]
  },
  {
   "cell_type": "markdown",
   "metadata": {},
   "source": [
    "### 3.4 Zugriff auf Datenwerte"
   ]
  },
  {
   "cell_type": "markdown",
   "metadata": {},
   "source": [
    "Es gibt verschiedene Möglichkeiten, um auf Datenwerte innerhalb eines DataFrames zuzugreifen. Im folgenden werden die verschiedenen Operatoren kurz vorgestellt. Dazu gehören der Indexing Operator von Python und die pandas Operatoren `iloc` und `loc`."
   ]
  },
  {
   "cell_type": "markdown",
   "metadata": {},
   "source": [
    "### 3.4.1 Python Indexing Operator"
   ]
  },
  {
   "cell_type": "markdown",
   "metadata": {},
   "source": [
    "Um auf die Spalte `title` des `titles_df` zugreifen zu können kann der Indexing Operator `[]` genutzt werden. Die Spalte des DataFrames wird dann als Series zurückgegeben."
   ]
  },
  {
   "cell_type": "code",
   "execution_count": 36,
   "metadata": {},
   "outputs": [
    {
     "data": {
      "text/plain": [
       "0                           Amar Akbar Anthony\n",
       "1                                     Bad Boys\n",
       "2                                     La Bamba\n",
       "3                                      Barsaat\n",
       "4              Beavis and Butt-head Do America\n",
       "                         ...                  \n",
       "6229                              Robot Trains\n",
       "6230    Kalushi: The Story of Solomon Mahlangu\n",
       "6231                           Blitz Patrollie\n",
       "6232                          Sym-Bionic Titan\n",
       "6233                                   Jezebel\n",
       "Name: title, Length: 6234, dtype: object"
      ]
     },
     "execution_count": 36,
     "metadata": {},
     "output_type": "execute_result"
    }
   ],
   "source": [
    "titles_df['title']"
   ]
  },
  {
   "cell_type": "markdown",
   "metadata": {},
   "source": [
    "Alternativ kann auf eine Spalte eines DataFrames wie auf ein Attribut zugegriffen werden."
   ]
  },
  {
   "cell_type": "code",
   "execution_count": 37,
   "metadata": {},
   "outputs": [
    {
     "data": {
      "text/plain": [
       "0                           Amar Akbar Anthony\n",
       "1                                     Bad Boys\n",
       "2                                     La Bamba\n",
       "3                                      Barsaat\n",
       "4              Beavis and Butt-head Do America\n",
       "                         ...                  \n",
       "6229                              Robot Trains\n",
       "6230    Kalushi: The Story of Solomon Mahlangu\n",
       "6231                           Blitz Patrollie\n",
       "6232                          Sym-Bionic Titan\n",
       "6233                                   Jezebel\n",
       "Name: title, Length: 6234, dtype: object"
      ]
     },
     "execution_count": 37,
     "metadata": {},
     "output_type": "execute_result"
    }
   ],
   "source": [
    "titles_df.title"
   ]
  },
  {
   "cell_type": "markdown",
   "metadata": {},
   "source": [
    "Um auf einen spezifischen Wert innerhalb einer Spalte zuzugreifen wird der Indexing Operator `[]` ein weiteres Mal verwendet. Das folgende Beispiel gibt den Title der ersten Netfilx Show im DataFrame aus. "
   ]
  },
  {
   "cell_type": "code",
   "execution_count": 38,
   "metadata": {},
   "outputs": [
    {
     "data": {
      "text/plain": [
       "'Amar Akbar Anthony'"
      ]
     },
     "execution_count": 38,
     "metadata": {},
     "output_type": "execute_result"
    }
   ],
   "source": [
    "titles_df['title'][0]"
   ]
  },
  {
   "cell_type": "markdown",
   "metadata": {},
   "source": [
    "### 3.4.2 pandas Operatoren iloc und loc"
   ]
  },
  {
   "cell_type": "markdown",
   "metadata": {},
   "source": [
    "Der Indexing Operator `[]` aus den vorherigen Beispielen wird von Python bereitgestellt, um die Attribute eines Objektes auszulesen. Wie gezeigt, funktioniert dieser auch mit DataFrames. pandas stellt allerdings auch eigene Operatoren zur Verfügung, mit denen auf die Daten in einem DataFrame zugegriffen werden kann. Diese Operatoren sind `loc` und `iloc`. **Hinweis:** Bei der Verwendung ist zu beachten, dass bei den pandas Operatoren zuerst die Zeilen kommen und dann die Spalten. Beim Python Operator ist es genau anders herum.\n",
    "\n",
    "Bei dem Operator `iloc` basiert die Auswahl der Daten auf ihrer numerischen Position in den Daten. Mit dem Index 0 erhalten wir die Informationen zu dem ersten Titel in den Daten. Hier sprechen wir von einer index-basierten Auswahl."
   ]
  },
  {
   "cell_type": "code",
   "execution_count": 39,
   "metadata": {},
   "outputs": [
    {
     "data": {
      "text/plain": [
       "show_id                                                    247747\n",
       "type                                                        Movie\n",
       "title                                          Amar Akbar Anthony\n",
       "director                                           Manmohan Desai\n",
       "cast            Vinod Khanna, Rishi Kapoor, Amitabh Bachchan, ...\n",
       "country                                                     India\n",
       "date_added                                      December 31, 2019\n",
       "release_year                                                 1977\n",
       "rating                                                      TV-14\n",
       "duration                                                  172 min\n",
       "listed_in            Action & Adventure, Classic Movies, Comedies\n",
       "description     Abandoned in a park by their father, Amar, Akb...\n",
       "Name: 0, dtype: object"
      ]
     },
     "execution_count": 39,
     "metadata": {},
     "output_type": "execute_result"
    }
   ],
   "source": [
    "titles_df.iloc[0]"
   ]
  },
  {
   "cell_type": "markdown",
   "metadata": {},
   "source": [
    "Wie bereits erwähnt werden bei dem pandas Operator `iloc` zunächst die Zeilen betrachtet. Mithilfe eines `:` werden alle Zeilen ausgegeben. Eine bestimmte Spalte kann mithilfe ihres Spaltenindexes ausgegeben werden. In dem folgenden Beispiel werden also alle Zeilen (`:`) der ersten Spalte (`0`) ausgegeben."
   ]
  },
  {
   "cell_type": "code",
   "execution_count": 40,
   "metadata": {},
   "outputs": [
    {
     "data": {
      "text/plain": [
       "0         247747\n",
       "1         269880\n",
       "2         281550\n",
       "3         284890\n",
       "4         292118\n",
       "          ...   \n",
       "6229    81224868\n",
       "6230    81227195\n",
       "6231    81228864\n",
       "6232    81235603\n",
       "6233    81235729\n",
       "Name: show_id, Length: 6234, dtype: int64"
      ]
     },
     "execution_count": 40,
     "metadata": {},
     "output_type": "execute_result"
    }
   ],
   "source": [
    "titles_df.iloc[:,0]"
   ]
  },
  {
   "cell_type": "markdown",
   "metadata": {},
   "source": [
    "Um die ersten 5 Zeilen der Spalte `titles` auszugeben muss der Spaltenindex `2` verwendet werden, da dies der Position dieser Spalte in dem DataFrame entspricht. Wird `:` in Kombination mit Zahlen verwendet stellt dies immer eine Wertebereich dar. Um die ersten 5 Zeilen auszugeben muss also `:5` eingetragen werden. Was so viel bedeutet wie: Gib mir alle Zeilen bis zu dem Zeilenindex 5 aus. Wobei die Zeile mit dem Index 5 nicht mehr ausgegeben wird."
   ]
  },
  {
   "cell_type": "code",
   "execution_count": 41,
   "metadata": {},
   "outputs": [
    {
     "data": {
      "text/plain": [
       "0                 Amar Akbar Anthony\n",
       "1                           Bad Boys\n",
       "2                           La Bamba\n",
       "3                            Barsaat\n",
       "4    Beavis and Butt-head Do America\n",
       "Name: title, dtype: object"
      ]
     },
     "execution_count": 41,
     "metadata": {},
     "output_type": "execute_result"
    }
   ],
   "source": [
    "titles_df.iloc[:5,2]"
   ]
  },
  {
   "cell_type": "markdown",
   "metadata": {},
   "source": [
    "Mit negativen Zahlen kann auf die Zeilen am Ende des DataFrames zugegriffen werden. Mit dem Index `-1` wird also die letzte Zeile des DataFrames ausgegeben. "
   ]
  },
  {
   "cell_type": "code",
   "execution_count": 42,
   "metadata": {},
   "outputs": [
    {
     "data": {
      "text/plain": [
       "show_id                                                  81235729\n",
       "type                                                        Movie\n",
       "title                                                     Jezebel\n",
       "director                                             Numa Perrier\n",
       "cast            Tiffany Tenille, Numa Perrier, Stephen Barring...\n",
       "country                                             United States\n",
       "date_added                                       January 16, 2020\n",
       "release_year                                                 2019\n",
       "rating                                                      TV-MA\n",
       "duration                                                   86 min\n",
       "listed_in                              Dramas, Independent Movies\n",
       "description     During the internet's infancy, a vulnerable wo...\n",
       "Name: 6233, dtype: object"
      ]
     },
     "execution_count": 42,
     "metadata": {},
     "output_type": "execute_result"
    }
   ],
   "source": [
    "titles_df.iloc[-1]"
   ]
  },
  {
   "cell_type": "markdown",
   "metadata": {},
   "source": [
    "Bei dem pandas Operator `loc` basiert die Auswahl der Daten auf den Beschriftungen der Spalten, nicht der Position bzw. des Spaltenindexes in den Daten. Hier sprechen wir von einer label-basierten Auswahl. Die Spalten werden in diesem Fall also nicht über einen Index ausgewählt, sondern indem der Name der Spalte eingefügt wird. "
   ]
  },
  {
   "cell_type": "code",
   "execution_count": 43,
   "metadata": {},
   "outputs": [
    {
     "data": {
      "text/plain": [
       "0                           Amar Akbar Anthony\n",
       "1                                     Bad Boys\n",
       "2                                     La Bamba\n",
       "3                                      Barsaat\n",
       "4              Beavis and Butt-head Do America\n",
       "                         ...                  \n",
       "6229                              Robot Trains\n",
       "6230    Kalushi: The Story of Solomon Mahlangu\n",
       "6231                           Blitz Patrollie\n",
       "6232                          Sym-Bionic Titan\n",
       "6233                                   Jezebel\n",
       "Name: title, Length: 6234, dtype: object"
      ]
     },
     "execution_count": 43,
     "metadata": {},
     "output_type": "execute_result"
    }
   ],
   "source": [
    "titles_df.loc[:,'title']"
   ]
  },
  {
   "cell_type": "markdown",
   "metadata": {},
   "source": [
    "Zudem ist bei der Verwendung von `iloc` und `loc` zu beachten, dass `iloc` bei der Angabe eines Indexbereiches den letzte Index nicht inkludiert. Bei `loc` wird dieser allerdings mit zurückgegeben. Um die ersten drei Zeilen eines DataFrames auszugeben muss also entweder `iloc[:3]` oder `loc[:2]` verwendet werden. Zu diesem Unterschied kommt es, da bei `loc` Spalten durch deren Namen ausgewähhlt werden können. Hierbei möchte man genau den Bereich der angegebenen Spalten zurück bekommen. "
   ]
  },
  {
   "cell_type": "markdown",
   "metadata": {},
   "source": [
    "**Aufgabe: Welche der folgenden Ausagen sind wahr?**"
   ]
  },
  {
   "cell_type": "code",
   "execution_count": null,
   "metadata": {},
   "outputs": [],
   "source": [
    "#hideInput\n",
    "lm.show_task(34)"
   ]
  },
  {
   "cell_type": "code",
   "execution_count": 45,
   "metadata": {},
   "outputs": [
    {
     "data": {
      "text/html": [
       "<div>\n",
       "<style scoped>\n",
       "    .dataframe tbody tr th:only-of-type {\n",
       "        vertical-align: middle;\n",
       "    }\n",
       "\n",
       "    .dataframe tbody tr th {\n",
       "        vertical-align: top;\n",
       "    }\n",
       "\n",
       "    .dataframe thead th {\n",
       "        text-align: right;\n",
       "    }\n",
       "</style>\n",
       "<table border=\"1\" class=\"dataframe\">\n",
       "  <thead>\n",
       "    <tr style=\"text-align: right;\">\n",
       "      <th></th>\n",
       "      <th>show_id</th>\n",
       "      <th>type</th>\n",
       "      <th>title</th>\n",
       "      <th>director</th>\n",
       "      <th>cast</th>\n",
       "      <th>country</th>\n",
       "      <th>date_added</th>\n",
       "      <th>release_year</th>\n",
       "      <th>rating</th>\n",
       "      <th>duration</th>\n",
       "      <th>listed_in</th>\n",
       "      <th>description</th>\n",
       "    </tr>\n",
       "  </thead>\n",
       "  <tbody>\n",
       "    <tr>\n",
       "      <th>2</th>\n",
       "      <td>281550</td>\n",
       "      <td>Movie</td>\n",
       "      <td>La Bamba</td>\n",
       "      <td>Luis Valdez</td>\n",
       "      <td>Lou Diamond Phillips, Esai Morales, Rosanna De...</td>\n",
       "      <td>United States</td>\n",
       "      <td>January 1, 2020</td>\n",
       "      <td>1987</td>\n",
       "      <td>PG-13</td>\n",
       "      <td>109 min</td>\n",
       "      <td>Classic Movies, Dramas, Music &amp; Musicals</td>\n",
       "      <td>The plane crash that killed Buddy Holly also t...</td>\n",
       "    </tr>\n",
       "    <tr>\n",
       "      <th>3</th>\n",
       "      <td>284890</td>\n",
       "      <td>Movie</td>\n",
       "      <td>Barsaat</td>\n",
       "      <td>Rajkumar Santoshi</td>\n",
       "      <td>Twinkle Khanna, Bobby Deol, Danny Denzongpa, R...</td>\n",
       "      <td>India</td>\n",
       "      <td>April 1, 2018</td>\n",
       "      <td>1995</td>\n",
       "      <td>TV-PG</td>\n",
       "      <td>166 min</td>\n",
       "      <td>Action &amp; Adventure, International Movies, Musi...</td>\n",
       "      <td>A naïve young man and a rich city girl fall in...</td>\n",
       "    </tr>\n",
       "    <tr>\n",
       "      <th>4</th>\n",
       "      <td>292118</td>\n",
       "      <td>Movie</td>\n",
       "      <td>Beavis and Butt-head Do America</td>\n",
       "      <td>Mike Judge</td>\n",
       "      <td>Mike Judge, Bruce Willis, Demi Moore, Cloris L...</td>\n",
       "      <td>United States</td>\n",
       "      <td>November 20, 2019</td>\n",
       "      <td>1996</td>\n",
       "      <td>PG-13</td>\n",
       "      <td>81 min</td>\n",
       "      <td>Comedies, Cult Movies</td>\n",
       "      <td>After realizing that their boob tube is gone, ...</td>\n",
       "    </tr>\n",
       "  </tbody>\n",
       "</table>\n",
       "</div>"
      ],
      "text/plain": [
       "   show_id   type                            title           director  \\\n",
       "2   281550  Movie                         La Bamba        Luis Valdez   \n",
       "3   284890  Movie                          Barsaat  Rajkumar Santoshi   \n",
       "4   292118  Movie  Beavis and Butt-head Do America         Mike Judge   \n",
       "\n",
       "                                                cast        country  \\\n",
       "2  Lou Diamond Phillips, Esai Morales, Rosanna De...  United States   \n",
       "3  Twinkle Khanna, Bobby Deol, Danny Denzongpa, R...          India   \n",
       "4  Mike Judge, Bruce Willis, Demi Moore, Cloris L...  United States   \n",
       "\n",
       "          date_added  release_year rating duration  \\\n",
       "2    January 1, 2020          1987  PG-13  109 min   \n",
       "3      April 1, 2018          1995  TV-PG  166 min   \n",
       "4  November 20, 2019          1996  PG-13   81 min   \n",
       "\n",
       "                                           listed_in  \\\n",
       "2           Classic Movies, Dramas, Music & Musicals   \n",
       "3  Action & Adventure, International Movies, Musi...   \n",
       "4                              Comedies, Cult Movies   \n",
       "\n",
       "                                         description  \n",
       "2  The plane crash that killed Buddy Holly also t...  \n",
       "3  A naïve young man and a rich city girl fall in...  \n",
       "4  After realizing that their boob tube is gone, ...  "
      ]
     },
     "execution_count": 45,
     "metadata": {},
     "output_type": "execute_result"
    }
   ],
   "source": [
    "titles_df.iloc[2:5]"
   ]
  },
  {
   "cell_type": "markdown",
   "metadata": {},
   "source": [
    "### 3.4.3 Zusammenfassung Operatoren zum Zugriff auf Datenwerte"
   ]
  },
  {
   "cell_type": "markdown",
   "metadata": {},
   "source": [
    "<img src='img/indexing_operatoren.jpg' alt=\"Übersicht Indexing Operatoren\">"
   ]
  },
  {
   "cell_type": "markdown",
   "metadata": {},
   "source": [
    "### 3.5 Bedingte Auswahl von Daten"
   ]
  },
  {
   "cell_type": "markdown",
   "metadata": {},
   "source": [
    "Im voherigen Abschnitt haben wir gelernt, wie auf einzelne Spalten, Zeilen oder Zellwerte zugegriffen werden kann. In einige Fällen sollen Daten aufgrund von bestimmten Bedingungen ausgewählt werden. Zum Beispiel wollen wir alle Titel selektieren, die vom `type` ein `Movie` sind. Mithilfe `titles_df['type'] == 'Movie'` wird eine Series ausgegeben, die für jede Zeile angibt, ob es sich um einen `Movie` handelt oder nicht."
   ]
  },
  {
   "cell_type": "code",
   "execution_count": 46,
   "metadata": {},
   "outputs": [
    {
     "data": {
      "text/plain": [
       "0        True\n",
       "1        True\n",
       "2        True\n",
       "3        True\n",
       "4        True\n",
       "        ...  \n",
       "6229    False\n",
       "6230     True\n",
       "6231     True\n",
       "6232    False\n",
       "6233     True\n",
       "Name: type, Length: 6234, dtype: bool"
      ]
     },
     "execution_count": 46,
     "metadata": {},
     "output_type": "execute_result"
    }
   ],
   "source": [
    "titles_df['type'] == 'Movie'"
   ]
  },
  {
   "cell_type": "markdown",
   "metadata": {},
   "source": [
    "Dies kann nun mithilfe des Indexing Operators `loc` genutzt werden, um die entsprechenden Zeilen auszugeben, für die die Bedingung zutrifft."
   ]
  },
  {
   "cell_type": "code",
   "execution_count": 47,
   "metadata": {},
   "outputs": [
    {
     "data": {
      "text/html": [
       "<div>\n",
       "<style scoped>\n",
       "    .dataframe tbody tr th:only-of-type {\n",
       "        vertical-align: middle;\n",
       "    }\n",
       "\n",
       "    .dataframe tbody tr th {\n",
       "        vertical-align: top;\n",
       "    }\n",
       "\n",
       "    .dataframe thead th {\n",
       "        text-align: right;\n",
       "    }\n",
       "</style>\n",
       "<table border=\"1\" class=\"dataframe\">\n",
       "  <thead>\n",
       "    <tr style=\"text-align: right;\">\n",
       "      <th></th>\n",
       "      <th>show_id</th>\n",
       "      <th>type</th>\n",
       "      <th>title</th>\n",
       "      <th>director</th>\n",
       "      <th>cast</th>\n",
       "      <th>country</th>\n",
       "      <th>date_added</th>\n",
       "      <th>release_year</th>\n",
       "      <th>rating</th>\n",
       "      <th>duration</th>\n",
       "      <th>listed_in</th>\n",
       "      <th>description</th>\n",
       "    </tr>\n",
       "  </thead>\n",
       "  <tbody>\n",
       "    <tr>\n",
       "      <th>0</th>\n",
       "      <td>247747</td>\n",
       "      <td>Movie</td>\n",
       "      <td>Amar Akbar Anthony</td>\n",
       "      <td>Manmohan Desai</td>\n",
       "      <td>Vinod Khanna, Rishi Kapoor, Amitabh Bachchan, ...</td>\n",
       "      <td>India</td>\n",
       "      <td>December 31, 2019</td>\n",
       "      <td>1977</td>\n",
       "      <td>TV-14</td>\n",
       "      <td>172 min</td>\n",
       "      <td>Action &amp; Adventure, Classic Movies, Comedies</td>\n",
       "      <td>Abandoned in a park by their father, Amar, Akb...</td>\n",
       "    </tr>\n",
       "    <tr>\n",
       "      <th>1</th>\n",
       "      <td>269880</td>\n",
       "      <td>Movie</td>\n",
       "      <td>Bad Boys</td>\n",
       "      <td>Michael Bay</td>\n",
       "      <td>Will Smith, Martin Lawrence, Téa Leoni, Tchéky...</td>\n",
       "      <td>United States</td>\n",
       "      <td>October 1, 2019</td>\n",
       "      <td>1995</td>\n",
       "      <td>R</td>\n",
       "      <td>119 min</td>\n",
       "      <td>Action &amp; Adventure, Comedies</td>\n",
       "      <td>In this fast-paced actioner, two Miami narcoti...</td>\n",
       "    </tr>\n",
       "    <tr>\n",
       "      <th>2</th>\n",
       "      <td>281550</td>\n",
       "      <td>Movie</td>\n",
       "      <td>La Bamba</td>\n",
       "      <td>Luis Valdez</td>\n",
       "      <td>Lou Diamond Phillips, Esai Morales, Rosanna De...</td>\n",
       "      <td>United States</td>\n",
       "      <td>January 1, 2020</td>\n",
       "      <td>1987</td>\n",
       "      <td>PG-13</td>\n",
       "      <td>109 min</td>\n",
       "      <td>Classic Movies, Dramas, Music &amp; Musicals</td>\n",
       "      <td>The plane crash that killed Buddy Holly also t...</td>\n",
       "    </tr>\n",
       "    <tr>\n",
       "      <th>3</th>\n",
       "      <td>284890</td>\n",
       "      <td>Movie</td>\n",
       "      <td>Barsaat</td>\n",
       "      <td>Rajkumar Santoshi</td>\n",
       "      <td>Twinkle Khanna, Bobby Deol, Danny Denzongpa, R...</td>\n",
       "      <td>India</td>\n",
       "      <td>April 1, 2018</td>\n",
       "      <td>1995</td>\n",
       "      <td>TV-PG</td>\n",
       "      <td>166 min</td>\n",
       "      <td>Action &amp; Adventure, International Movies, Musi...</td>\n",
       "      <td>A naïve young man and a rich city girl fall in...</td>\n",
       "    </tr>\n",
       "    <tr>\n",
       "      <th>4</th>\n",
       "      <td>292118</td>\n",
       "      <td>Movie</td>\n",
       "      <td>Beavis and Butt-head Do America</td>\n",
       "      <td>Mike Judge</td>\n",
       "      <td>Mike Judge, Bruce Willis, Demi Moore, Cloris L...</td>\n",
       "      <td>United States</td>\n",
       "      <td>November 20, 2019</td>\n",
       "      <td>1996</td>\n",
       "      <td>PG-13</td>\n",
       "      <td>81 min</td>\n",
       "      <td>Comedies, Cult Movies</td>\n",
       "      <td>After realizing that their boob tube is gone, ...</td>\n",
       "    </tr>\n",
       "  </tbody>\n",
       "</table>\n",
       "</div>"
      ],
      "text/plain": [
       "   show_id   type                            title           director  \\\n",
       "0   247747  Movie               Amar Akbar Anthony     Manmohan Desai   \n",
       "1   269880  Movie                         Bad Boys        Michael Bay   \n",
       "2   281550  Movie                         La Bamba        Luis Valdez   \n",
       "3   284890  Movie                          Barsaat  Rajkumar Santoshi   \n",
       "4   292118  Movie  Beavis and Butt-head Do America         Mike Judge   \n",
       "\n",
       "                                                cast        country  \\\n",
       "0  Vinod Khanna, Rishi Kapoor, Amitabh Bachchan, ...          India   \n",
       "1  Will Smith, Martin Lawrence, Téa Leoni, Tchéky...  United States   \n",
       "2  Lou Diamond Phillips, Esai Morales, Rosanna De...  United States   \n",
       "3  Twinkle Khanna, Bobby Deol, Danny Denzongpa, R...          India   \n",
       "4  Mike Judge, Bruce Willis, Demi Moore, Cloris L...  United States   \n",
       "\n",
       "          date_added  release_year rating duration  \\\n",
       "0  December 31, 2019          1977  TV-14  172 min   \n",
       "1    October 1, 2019          1995      R  119 min   \n",
       "2    January 1, 2020          1987  PG-13  109 min   \n",
       "3      April 1, 2018          1995  TV-PG  166 min   \n",
       "4  November 20, 2019          1996  PG-13   81 min   \n",
       "\n",
       "                                           listed_in  \\\n",
       "0       Action & Adventure, Classic Movies, Comedies   \n",
       "1                       Action & Adventure, Comedies   \n",
       "2           Classic Movies, Dramas, Music & Musicals   \n",
       "3  Action & Adventure, International Movies, Musi...   \n",
       "4                              Comedies, Cult Movies   \n",
       "\n",
       "                                         description  \n",
       "0  Abandoned in a park by their father, Amar, Akb...  \n",
       "1  In this fast-paced actioner, two Miami narcoti...  \n",
       "2  The plane crash that killed Buddy Holly also t...  \n",
       "3  A naïve young man and a rich city girl fall in...  \n",
       "4  After realizing that their boob tube is gone, ...  "
      ]
     },
     "execution_count": 47,
     "metadata": {},
     "output_type": "execute_result"
    }
   ],
   "source": [
    "titles_df.loc[titles_df['type'] == 'Movie'].head()"
   ]
  },
  {
   "cell_type": "markdown",
   "metadata": {},
   "source": [
    "Mit den Operatoren `&` und `|` können so verschiedene Bedingungen zusammen verwendet werden. Im folgenden Beispiel sollen alle Filme ausgewählt werden, die nach 2018 veröffentlicht wurden."
   ]
  },
  {
   "cell_type": "code",
   "execution_count": 48,
   "metadata": {},
   "outputs": [
    {
     "data": {
      "text/html": [
       "<div>\n",
       "<style scoped>\n",
       "    .dataframe tbody tr th:only-of-type {\n",
       "        vertical-align: middle;\n",
       "    }\n",
       "\n",
       "    .dataframe tbody tr th {\n",
       "        vertical-align: top;\n",
       "    }\n",
       "\n",
       "    .dataframe thead th {\n",
       "        text-align: right;\n",
       "    }\n",
       "</style>\n",
       "<table border=\"1\" class=\"dataframe\">\n",
       "  <thead>\n",
       "    <tr style=\"text-align: right;\">\n",
       "      <th></th>\n",
       "      <th>show_id</th>\n",
       "      <th>type</th>\n",
       "      <th>title</th>\n",
       "      <th>director</th>\n",
       "      <th>cast</th>\n",
       "      <th>country</th>\n",
       "      <th>date_added</th>\n",
       "      <th>release_year</th>\n",
       "      <th>rating</th>\n",
       "      <th>duration</th>\n",
       "      <th>listed_in</th>\n",
       "      <th>description</th>\n",
       "    </tr>\n",
       "  </thead>\n",
       "  <tbody>\n",
       "    <tr>\n",
       "      <th>1892</th>\n",
       "      <td>80082969</td>\n",
       "      <td>Movie</td>\n",
       "      <td>Delirium</td>\n",
       "      <td>Dennis Iliadis</td>\n",
       "      <td>Topher Grace, Genesis Rodriguez, Patricia Clar...</td>\n",
       "      <td>United States</td>\n",
       "      <td>September 1, 2018</td>\n",
       "      <td>2018</td>\n",
       "      <td>R</td>\n",
       "      <td>96 min</td>\n",
       "      <td>Horror Movies, Thrillers</td>\n",
       "      <td>A man with a history of mental issues moves in...</td>\n",
       "    </tr>\n",
       "    <tr>\n",
       "      <th>1914</th>\n",
       "      <td>80085566</td>\n",
       "      <td>Movie</td>\n",
       "      <td>The Other Side of the Wind</td>\n",
       "      <td>Orson Welles</td>\n",
       "      <td>John Huston, Oja Kodar, Peter Bogdanovich, Sus...</td>\n",
       "      <td>France, Iran, United States</td>\n",
       "      <td>November 2, 2018</td>\n",
       "      <td>2018</td>\n",
       "      <td>R</td>\n",
       "      <td>122 min</td>\n",
       "      <td>Dramas, Independent Movies</td>\n",
       "      <td>On the last day of his life, a legendary direc...</td>\n",
       "    </tr>\n",
       "    <tr>\n",
       "      <th>2026</th>\n",
       "      <td>80096984</td>\n",
       "      <td>Movie</td>\n",
       "      <td>Amateur</td>\n",
       "      <td>Ryan Koo</td>\n",
       "      <td>Michael Rainey Jr., Josh Charles, Brian White,...</td>\n",
       "      <td>United States</td>\n",
       "      <td>April 6, 2018</td>\n",
       "      <td>2018</td>\n",
       "      <td>TV-MA</td>\n",
       "      <td>96 min</td>\n",
       "      <td>Dramas, Independent Movies, Sports Movies</td>\n",
       "      <td>After he's recruited to an elite prep school, ...</td>\n",
       "    </tr>\n",
       "    <tr>\n",
       "      <th>2117</th>\n",
       "      <td>80102952</td>\n",
       "      <td>Movie</td>\n",
       "      <td>Quincy</td>\n",
       "      <td>Rashida Jones, Alan Hicks</td>\n",
       "      <td>Quincy Jones</td>\n",
       "      <td>United States</td>\n",
       "      <td>September 21, 2018</td>\n",
       "      <td>2018</td>\n",
       "      <td>TV-MA</td>\n",
       "      <td>124 min</td>\n",
       "      <td>Documentaries, Music &amp; Musicals</td>\n",
       "      <td>This documentary profiles music and culture ic...</td>\n",
       "    </tr>\n",
       "    <tr>\n",
       "      <th>2210</th>\n",
       "      <td>80107084</td>\n",
       "      <td>Movie</td>\n",
       "      <td>A Futile and Stupid Gesture</td>\n",
       "      <td>David Wain</td>\n",
       "      <td>Will Forte, Domhnall Gleeson, Martin Mull, Joe...</td>\n",
       "      <td>United States</td>\n",
       "      <td>January 26, 2018</td>\n",
       "      <td>2018</td>\n",
       "      <td>TV-MA</td>\n",
       "      <td>102 min</td>\n",
       "      <td>Comedies</td>\n",
       "      <td>In a brief life full of triumph and failure, \"...</td>\n",
       "    </tr>\n",
       "  </tbody>\n",
       "</table>\n",
       "</div>"
      ],
      "text/plain": [
       "       show_id   type                        title                   director  \\\n",
       "1892  80082969  Movie                     Delirium             Dennis Iliadis   \n",
       "1914  80085566  Movie   The Other Side of the Wind               Orson Welles   \n",
       "2026  80096984  Movie                      Amateur                   Ryan Koo   \n",
       "2117  80102952  Movie                       Quincy  Rashida Jones, Alan Hicks   \n",
       "2210  80107084  Movie  A Futile and Stupid Gesture                 David Wain   \n",
       "\n",
       "                                                   cast  \\\n",
       "1892  Topher Grace, Genesis Rodriguez, Patricia Clar...   \n",
       "1914  John Huston, Oja Kodar, Peter Bogdanovich, Sus...   \n",
       "2026  Michael Rainey Jr., Josh Charles, Brian White,...   \n",
       "2117                                       Quincy Jones   \n",
       "2210  Will Forte, Domhnall Gleeson, Martin Mull, Joe...   \n",
       "\n",
       "                          country          date_added  release_year rating  \\\n",
       "1892                United States   September 1, 2018          2018      R   \n",
       "1914  France, Iran, United States    November 2, 2018          2018      R   \n",
       "2026                United States       April 6, 2018          2018  TV-MA   \n",
       "2117                United States  September 21, 2018          2018  TV-MA   \n",
       "2210                United States    January 26, 2018          2018  TV-MA   \n",
       "\n",
       "     duration                                  listed_in  \\\n",
       "1892   96 min                   Horror Movies, Thrillers   \n",
       "1914  122 min                 Dramas, Independent Movies   \n",
       "2026   96 min  Dramas, Independent Movies, Sports Movies   \n",
       "2117  124 min            Documentaries, Music & Musicals   \n",
       "2210  102 min                                   Comedies   \n",
       "\n",
       "                                            description  \n",
       "1892  A man with a history of mental issues moves in...  \n",
       "1914  On the last day of his life, a legendary direc...  \n",
       "2026  After he's recruited to an elite prep school, ...  \n",
       "2117  This documentary profiles music and culture ic...  \n",
       "2210  In a brief life full of triumph and failure, \"...  "
      ]
     },
     "execution_count": 48,
     "metadata": {},
     "output_type": "execute_result"
    }
   ],
   "source": [
    "titles_df.loc[(titles_df['type'] == 'Movie') & (titles_df['release_year'] > 2017)].head()"
   ]
  },
  {
   "cell_type": "markdown",
   "metadata": {},
   "source": [
    "### 3.6 Umbenennen von Spaltennamen"
   ]
  },
  {
   "cell_type": "markdown",
   "metadata": {},
   "source": [
    "Spaltennamen können mit der Methode `rename()` geändert werden. Dieser wir ein Dictonary übergeben, in dem für die zu ändernden Spaltennamen neue Namen angegeben werden. Mithilfe von `inplace = True` werden die Änderungen direkt in den DataFrame übernommen. Die Änderungen müssen also nicht mehr durch `titles_df = ....` in die jeweilige Variable geschrieben werden."
   ]
  },
  {
   "cell_type": "code",
   "execution_count": 49,
   "metadata": {},
   "outputs": [],
   "source": [
    "titles_df.rename(columns = {'show_id':'id'}, inplace = True) "
   ]
  },
  {
   "cell_type": "code",
   "execution_count": 50,
   "metadata": {},
   "outputs": [
    {
     "data": {
      "text/html": [
       "<div>\n",
       "<style scoped>\n",
       "    .dataframe tbody tr th:only-of-type {\n",
       "        vertical-align: middle;\n",
       "    }\n",
       "\n",
       "    .dataframe tbody tr th {\n",
       "        vertical-align: top;\n",
       "    }\n",
       "\n",
       "    .dataframe thead th {\n",
       "        text-align: right;\n",
       "    }\n",
       "</style>\n",
       "<table border=\"1\" class=\"dataframe\">\n",
       "  <thead>\n",
       "    <tr style=\"text-align: right;\">\n",
       "      <th></th>\n",
       "      <th>id</th>\n",
       "      <th>type</th>\n",
       "      <th>title</th>\n",
       "      <th>director</th>\n",
       "      <th>cast</th>\n",
       "      <th>country</th>\n",
       "      <th>date_added</th>\n",
       "      <th>release_year</th>\n",
       "      <th>rating</th>\n",
       "      <th>duration</th>\n",
       "      <th>listed_in</th>\n",
       "      <th>description</th>\n",
       "    </tr>\n",
       "  </thead>\n",
       "  <tbody>\n",
       "    <tr>\n",
       "      <th>0</th>\n",
       "      <td>247747</td>\n",
       "      <td>Movie</td>\n",
       "      <td>Amar Akbar Anthony</td>\n",
       "      <td>Manmohan Desai</td>\n",
       "      <td>Vinod Khanna, Rishi Kapoor, Amitabh Bachchan, ...</td>\n",
       "      <td>India</td>\n",
       "      <td>December 31, 2019</td>\n",
       "      <td>1977</td>\n",
       "      <td>TV-14</td>\n",
       "      <td>172 min</td>\n",
       "      <td>Action &amp; Adventure, Classic Movies, Comedies</td>\n",
       "      <td>Abandoned in a park by their father, Amar, Akb...</td>\n",
       "    </tr>\n",
       "    <tr>\n",
       "      <th>1</th>\n",
       "      <td>269880</td>\n",
       "      <td>Movie</td>\n",
       "      <td>Bad Boys</td>\n",
       "      <td>Michael Bay</td>\n",
       "      <td>Will Smith, Martin Lawrence, Téa Leoni, Tchéky...</td>\n",
       "      <td>United States</td>\n",
       "      <td>October 1, 2019</td>\n",
       "      <td>1995</td>\n",
       "      <td>R</td>\n",
       "      <td>119 min</td>\n",
       "      <td>Action &amp; Adventure, Comedies</td>\n",
       "      <td>In this fast-paced actioner, two Miami narcoti...</td>\n",
       "    </tr>\n",
       "    <tr>\n",
       "      <th>2</th>\n",
       "      <td>281550</td>\n",
       "      <td>Movie</td>\n",
       "      <td>La Bamba</td>\n",
       "      <td>Luis Valdez</td>\n",
       "      <td>Lou Diamond Phillips, Esai Morales, Rosanna De...</td>\n",
       "      <td>United States</td>\n",
       "      <td>January 1, 2020</td>\n",
       "      <td>1987</td>\n",
       "      <td>PG-13</td>\n",
       "      <td>109 min</td>\n",
       "      <td>Classic Movies, Dramas, Music &amp; Musicals</td>\n",
       "      <td>The plane crash that killed Buddy Holly also t...</td>\n",
       "    </tr>\n",
       "    <tr>\n",
       "      <th>3</th>\n",
       "      <td>284890</td>\n",
       "      <td>Movie</td>\n",
       "      <td>Barsaat</td>\n",
       "      <td>Rajkumar Santoshi</td>\n",
       "      <td>Twinkle Khanna, Bobby Deol, Danny Denzongpa, R...</td>\n",
       "      <td>India</td>\n",
       "      <td>April 1, 2018</td>\n",
       "      <td>1995</td>\n",
       "      <td>TV-PG</td>\n",
       "      <td>166 min</td>\n",
       "      <td>Action &amp; Adventure, International Movies, Musi...</td>\n",
       "      <td>A naïve young man and a rich city girl fall in...</td>\n",
       "    </tr>\n",
       "    <tr>\n",
       "      <th>4</th>\n",
       "      <td>292118</td>\n",
       "      <td>Movie</td>\n",
       "      <td>Beavis and Butt-head Do America</td>\n",
       "      <td>Mike Judge</td>\n",
       "      <td>Mike Judge, Bruce Willis, Demi Moore, Cloris L...</td>\n",
       "      <td>United States</td>\n",
       "      <td>November 20, 2019</td>\n",
       "      <td>1996</td>\n",
       "      <td>PG-13</td>\n",
       "      <td>81 min</td>\n",
       "      <td>Comedies, Cult Movies</td>\n",
       "      <td>After realizing that their boob tube is gone, ...</td>\n",
       "    </tr>\n",
       "  </tbody>\n",
       "</table>\n",
       "</div>"
      ],
      "text/plain": [
       "       id   type                            title           director  \\\n",
       "0  247747  Movie               Amar Akbar Anthony     Manmohan Desai   \n",
       "1  269880  Movie                         Bad Boys        Michael Bay   \n",
       "2  281550  Movie                         La Bamba        Luis Valdez   \n",
       "3  284890  Movie                          Barsaat  Rajkumar Santoshi   \n",
       "4  292118  Movie  Beavis and Butt-head Do America         Mike Judge   \n",
       "\n",
       "                                                cast        country  \\\n",
       "0  Vinod Khanna, Rishi Kapoor, Amitabh Bachchan, ...          India   \n",
       "1  Will Smith, Martin Lawrence, Téa Leoni, Tchéky...  United States   \n",
       "2  Lou Diamond Phillips, Esai Morales, Rosanna De...  United States   \n",
       "3  Twinkle Khanna, Bobby Deol, Danny Denzongpa, R...          India   \n",
       "4  Mike Judge, Bruce Willis, Demi Moore, Cloris L...  United States   \n",
       "\n",
       "          date_added  release_year rating duration  \\\n",
       "0  December 31, 2019          1977  TV-14  172 min   \n",
       "1    October 1, 2019          1995      R  119 min   \n",
       "2    January 1, 2020          1987  PG-13  109 min   \n",
       "3      April 1, 2018          1995  TV-PG  166 min   \n",
       "4  November 20, 2019          1996  PG-13   81 min   \n",
       "\n",
       "                                           listed_in  \\\n",
       "0       Action & Adventure, Classic Movies, Comedies   \n",
       "1                       Action & Adventure, Comedies   \n",
       "2           Classic Movies, Dramas, Music & Musicals   \n",
       "3  Action & Adventure, International Movies, Musi...   \n",
       "4                              Comedies, Cult Movies   \n",
       "\n",
       "                                         description  \n",
       "0  Abandoned in a park by their father, Amar, Akb...  \n",
       "1  In this fast-paced actioner, two Miami narcoti...  \n",
       "2  The plane crash that killed Buddy Holly also t...  \n",
       "3  A naïve young man and a rich city girl fall in...  \n",
       "4  After realizing that their boob tube is gone, ...  "
      ]
     },
     "execution_count": 50,
     "metadata": {},
     "output_type": "execute_result"
    }
   ],
   "source": [
    "titles_df.head()"
   ]
  },
  {
   "cell_type": "markdown",
   "metadata": {},
   "source": [
    "### 3.7 Datentypen der Spalten"
   ]
  },
  {
   "cell_type": "markdown",
   "metadata": {},
   "source": [
    "Um den Datentyp einer Spalte anzuzeigen wird das Attribut `dtype` verwendet. Durch das Attribut `dtypes` werden die Datentypen jeder Spalte des DataFrames angezeigt."
   ]
  },
  {
   "cell_type": "code",
   "execution_count": 51,
   "metadata": {},
   "outputs": [
    {
     "data": {
      "text/plain": [
       "dtype('O')"
      ]
     },
     "execution_count": 51,
     "metadata": {},
     "output_type": "execute_result"
    }
   ],
   "source": [
    "titles_df.title.dtype"
   ]
  },
  {
   "cell_type": "code",
   "execution_count": 52,
   "metadata": {},
   "outputs": [
    {
     "data": {
      "text/plain": [
       "id               int64\n",
       "type            object\n",
       "title           object\n",
       "director        object\n",
       "cast            object\n",
       "country         object\n",
       "date_added      object\n",
       "release_year     int64\n",
       "rating          object\n",
       "duration        object\n",
       "listed_in       object\n",
       "description     object\n",
       "dtype: object"
      ]
     },
     "execution_count": 52,
     "metadata": {},
     "output_type": "execute_result"
    }
   ],
   "source": [
    "titles_df.dtypes"
   ]
  },
  {
   "cell_type": "markdown",
   "metadata": {},
   "source": [
    "**Hinweis:** Strings haben in DataFrames nicht ihren eigenen Datentyp, sondern erhalten stattdessen den Datentyp `object`. \n",
    "\n",
    "Mit der Methode `astype()` können die Datentypen der einzelnen Spalten geändert werden. Datumsangaben können mithilfe der pandas Funktion `to_datetime()` in Datetime Objekte konvertiert werden."
   ]
  },
  {
   "cell_type": "code",
   "execution_count": 53,
   "metadata": {},
   "outputs": [],
   "source": [
    "titles_df['date_added'] = pd.to_datetime(titles_df['date_added'])"
   ]
  },
  {
   "cell_type": "code",
   "execution_count": 54,
   "metadata": {},
   "outputs": [
    {
     "data": {
      "text/plain": [
       "id                       int64\n",
       "type                    object\n",
       "title                   object\n",
       "director                object\n",
       "cast                    object\n",
       "country                 object\n",
       "date_added      datetime64[ns]\n",
       "release_year             int64\n",
       "rating                  object\n",
       "duration                object\n",
       "listed_in               object\n",
       "description             object\n",
       "dtype: object"
      ]
     },
     "execution_count": 54,
     "metadata": {},
     "output_type": "execute_result"
    }
   ],
   "source": [
    "titles_df.dtypes"
   ]
  },
  {
   "cell_type": "markdown",
   "metadata": {},
   "source": [
    "### 3.8 Sortieren der Daten"
   ]
  },
  {
   "cell_type": "markdown",
   "metadata": {},
   "source": [
    "Um die Daten in einer bestimmten Reihenfolge ausgeben zu können kann die Methode `sort_values()` genutzt werden. In diese wird der Spaltenname hereingegeben, nach der die Daten sortiert werden sollen. Es können auch mehrere Spalten angegeben werden, nach denen sortiert werden soll (`['release_year', 'country']`). Defaultmäßig werden die Daten aufsteigend sortiert. Durch `ascending=False` kann eine absteigende Reihenfolge erreicht werden. "
   ]
  },
  {
   "cell_type": "code",
   "execution_count": 55,
   "metadata": {},
   "outputs": [
    {
     "data": {
      "text/html": [
       "<div>\n",
       "<style scoped>\n",
       "    .dataframe tbody tr th:only-of-type {\n",
       "        vertical-align: middle;\n",
       "    }\n",
       "\n",
       "    .dataframe tbody tr th {\n",
       "        vertical-align: top;\n",
       "    }\n",
       "\n",
       "    .dataframe thead th {\n",
       "        text-align: right;\n",
       "    }\n",
       "</style>\n",
       "<table border=\"1\" class=\"dataframe\">\n",
       "  <thead>\n",
       "    <tr style=\"text-align: right;\">\n",
       "      <th></th>\n",
       "      <th>id</th>\n",
       "      <th>type</th>\n",
       "      <th>title</th>\n",
       "      <th>director</th>\n",
       "      <th>cast</th>\n",
       "      <th>country</th>\n",
       "      <th>date_added</th>\n",
       "      <th>release_year</th>\n",
       "      <th>rating</th>\n",
       "      <th>duration</th>\n",
       "      <th>listed_in</th>\n",
       "      <th>description</th>\n",
       "    </tr>\n",
       "  </thead>\n",
       "  <tbody>\n",
       "    <tr>\n",
       "      <th>5519</th>\n",
       "      <td>81044551</td>\n",
       "      <td>TV Show</td>\n",
       "      <td>The Circle</td>\n",
       "      <td>None</td>\n",
       "      <td>Michelle Buteau</td>\n",
       "      <td>None</td>\n",
       "      <td>2020-01-01</td>\n",
       "      <td>2020</td>\n",
       "      <td>TV-MA</td>\n",
       "      <td>1 Season</td>\n",
       "      <td>Reality TV</td>\n",
       "      <td>Status and strategy collide in this social exp...</td>\n",
       "    </tr>\n",
       "    <tr>\n",
       "      <th>3850</th>\n",
       "      <td>80201590</td>\n",
       "      <td>TV Show</td>\n",
       "      <td>Spinning Out</td>\n",
       "      <td>None</td>\n",
       "      <td>Kaya Scodelario, January Jones, Will Kemp, Wil...</td>\n",
       "      <td>None</td>\n",
       "      <td>2020-01-01</td>\n",
       "      <td>2020</td>\n",
       "      <td>TV-MA</td>\n",
       "      <td>1 Season</td>\n",
       "      <td>TV Dramas</td>\n",
       "      <td>A figure skating Olympic hopeful struggles to ...</td>\n",
       "    </tr>\n",
       "    <tr>\n",
       "      <th>5663</th>\n",
       "      <td>81062828</td>\n",
       "      <td>TV Show</td>\n",
       "      <td>Killer Inside: The Mind of Aaron Hernandez</td>\n",
       "      <td>None</td>\n",
       "      <td>Aaron Hernandez</td>\n",
       "      <td>United States</td>\n",
       "      <td>2020-01-15</td>\n",
       "      <td>2020</td>\n",
       "      <td>TV-MA</td>\n",
       "      <td>1 Season</td>\n",
       "      <td>Crime TV Shows, Docuseries</td>\n",
       "      <td>Via interviews with friends, players and insid...</td>\n",
       "    </tr>\n",
       "    <tr>\n",
       "      <th>4465</th>\n",
       "      <td>80233408</td>\n",
       "      <td>Movie</td>\n",
       "      <td>Live Twice, Love Once</td>\n",
       "      <td>Maria Ripoll</td>\n",
       "      <td>Oscar Martínez, Inma Cuesta, Mafalda Carbonell...</td>\n",
       "      <td>Spain</td>\n",
       "      <td>2020-01-07</td>\n",
       "      <td>2020</td>\n",
       "      <td>TV-MA</td>\n",
       "      <td>102 min</td>\n",
       "      <td>Comedies, Dramas, International Movies</td>\n",
       "      <td>When Emilio (Oscar Martínez) is diagnosed with...</td>\n",
       "    </tr>\n",
       "    <tr>\n",
       "      <th>4523</th>\n",
       "      <td>80237329</td>\n",
       "      <td>TV Show</td>\n",
       "      <td>AJ and the Queen</td>\n",
       "      <td>None</td>\n",
       "      <td>RuPaul Charles, Izzy G., Michael-Leon Wooley, ...</td>\n",
       "      <td>United States</td>\n",
       "      <td>2020-01-10</td>\n",
       "      <td>2020</td>\n",
       "      <td>TV-14</td>\n",
       "      <td>1 Season</td>\n",
       "      <td>TV Comedies, TV Dramas</td>\n",
       "      <td>While traveling across the country in a run-do...</td>\n",
       "    </tr>\n",
       "  </tbody>\n",
       "</table>\n",
       "</div>"
      ],
      "text/plain": [
       "            id     type                                       title  \\\n",
       "5519  81044551  TV Show                                  The Circle   \n",
       "3850  80201590  TV Show                                Spinning Out   \n",
       "5663  81062828  TV Show  Killer Inside: The Mind of Aaron Hernandez   \n",
       "4465  80233408    Movie                       Live Twice, Love Once   \n",
       "4523  80237329  TV Show                            AJ and the Queen   \n",
       "\n",
       "          director                                               cast  \\\n",
       "5519          None                                    Michelle Buteau   \n",
       "3850          None  Kaya Scodelario, January Jones, Will Kemp, Wil...   \n",
       "5663          None                                    Aaron Hernandez   \n",
       "4465  Maria Ripoll  Oscar Martínez, Inma Cuesta, Mafalda Carbonell...   \n",
       "4523          None  RuPaul Charles, Izzy G., Michael-Leon Wooley, ...   \n",
       "\n",
       "            country date_added  release_year rating  duration  \\\n",
       "5519           None 2020-01-01          2020  TV-MA  1 Season   \n",
       "3850           None 2020-01-01          2020  TV-MA  1 Season   \n",
       "5663  United States 2020-01-15          2020  TV-MA  1 Season   \n",
       "4465          Spain 2020-01-07          2020  TV-MA   102 min   \n",
       "4523  United States 2020-01-10          2020  TV-14  1 Season   \n",
       "\n",
       "                                   listed_in  \\\n",
       "5519                              Reality TV   \n",
       "3850                               TV Dramas   \n",
       "5663              Crime TV Shows, Docuseries   \n",
       "4465  Comedies, Dramas, International Movies   \n",
       "4523                  TV Comedies, TV Dramas   \n",
       "\n",
       "                                            description  \n",
       "5519  Status and strategy collide in this social exp...  \n",
       "3850  A figure skating Olympic hopeful struggles to ...  \n",
       "5663  Via interviews with friends, players and insid...  \n",
       "4465  When Emilio (Oscar Martínez) is diagnosed with...  \n",
       "4523  While traveling across the country in a run-do...  "
      ]
     },
     "execution_count": 55,
     "metadata": {},
     "output_type": "execute_result"
    }
   ],
   "source": [
    "titles_df.sort_values('release_year').tail()"
   ]
  },
  {
   "cell_type": "markdown",
   "metadata": {},
   "source": [
    "Mit der Methode `sort_index` kann der DataFrame wieder nach dem Indexwert sortiert werden."
   ]
  },
  {
   "cell_type": "code",
   "execution_count": 56,
   "metadata": {},
   "outputs": [
    {
     "data": {
      "text/html": [
       "<div>\n",
       "<style scoped>\n",
       "    .dataframe tbody tr th:only-of-type {\n",
       "        vertical-align: middle;\n",
       "    }\n",
       "\n",
       "    .dataframe tbody tr th {\n",
       "        vertical-align: top;\n",
       "    }\n",
       "\n",
       "    .dataframe thead th {\n",
       "        text-align: right;\n",
       "    }\n",
       "</style>\n",
       "<table border=\"1\" class=\"dataframe\">\n",
       "  <thead>\n",
       "    <tr style=\"text-align: right;\">\n",
       "      <th></th>\n",
       "      <th>id</th>\n",
       "      <th>type</th>\n",
       "      <th>title</th>\n",
       "      <th>director</th>\n",
       "      <th>cast</th>\n",
       "      <th>country</th>\n",
       "      <th>date_added</th>\n",
       "      <th>release_year</th>\n",
       "      <th>rating</th>\n",
       "      <th>duration</th>\n",
       "      <th>listed_in</th>\n",
       "      <th>description</th>\n",
       "    </tr>\n",
       "  </thead>\n",
       "  <tbody>\n",
       "    <tr>\n",
       "      <th>0</th>\n",
       "      <td>247747</td>\n",
       "      <td>Movie</td>\n",
       "      <td>Amar Akbar Anthony</td>\n",
       "      <td>Manmohan Desai</td>\n",
       "      <td>Vinod Khanna, Rishi Kapoor, Amitabh Bachchan, ...</td>\n",
       "      <td>India</td>\n",
       "      <td>2019-12-31</td>\n",
       "      <td>1977</td>\n",
       "      <td>TV-14</td>\n",
       "      <td>172 min</td>\n",
       "      <td>Action &amp; Adventure, Classic Movies, Comedies</td>\n",
       "      <td>Abandoned in a park by their father, Amar, Akb...</td>\n",
       "    </tr>\n",
       "    <tr>\n",
       "      <th>1</th>\n",
       "      <td>269880</td>\n",
       "      <td>Movie</td>\n",
       "      <td>Bad Boys</td>\n",
       "      <td>Michael Bay</td>\n",
       "      <td>Will Smith, Martin Lawrence, Téa Leoni, Tchéky...</td>\n",
       "      <td>United States</td>\n",
       "      <td>2019-10-01</td>\n",
       "      <td>1995</td>\n",
       "      <td>R</td>\n",
       "      <td>119 min</td>\n",
       "      <td>Action &amp; Adventure, Comedies</td>\n",
       "      <td>In this fast-paced actioner, two Miami narcoti...</td>\n",
       "    </tr>\n",
       "    <tr>\n",
       "      <th>2</th>\n",
       "      <td>281550</td>\n",
       "      <td>Movie</td>\n",
       "      <td>La Bamba</td>\n",
       "      <td>Luis Valdez</td>\n",
       "      <td>Lou Diamond Phillips, Esai Morales, Rosanna De...</td>\n",
       "      <td>United States</td>\n",
       "      <td>2020-01-01</td>\n",
       "      <td>1987</td>\n",
       "      <td>PG-13</td>\n",
       "      <td>109 min</td>\n",
       "      <td>Classic Movies, Dramas, Music &amp; Musicals</td>\n",
       "      <td>The plane crash that killed Buddy Holly also t...</td>\n",
       "    </tr>\n",
       "    <tr>\n",
       "      <th>3</th>\n",
       "      <td>284890</td>\n",
       "      <td>Movie</td>\n",
       "      <td>Barsaat</td>\n",
       "      <td>Rajkumar Santoshi</td>\n",
       "      <td>Twinkle Khanna, Bobby Deol, Danny Denzongpa, R...</td>\n",
       "      <td>India</td>\n",
       "      <td>2018-04-01</td>\n",
       "      <td>1995</td>\n",
       "      <td>TV-PG</td>\n",
       "      <td>166 min</td>\n",
       "      <td>Action &amp; Adventure, International Movies, Musi...</td>\n",
       "      <td>A naïve young man and a rich city girl fall in...</td>\n",
       "    </tr>\n",
       "    <tr>\n",
       "      <th>4</th>\n",
       "      <td>292118</td>\n",
       "      <td>Movie</td>\n",
       "      <td>Beavis and Butt-head Do America</td>\n",
       "      <td>Mike Judge</td>\n",
       "      <td>Mike Judge, Bruce Willis, Demi Moore, Cloris L...</td>\n",
       "      <td>United States</td>\n",
       "      <td>2019-11-20</td>\n",
       "      <td>1996</td>\n",
       "      <td>PG-13</td>\n",
       "      <td>81 min</td>\n",
       "      <td>Comedies, Cult Movies</td>\n",
       "      <td>After realizing that their boob tube is gone, ...</td>\n",
       "    </tr>\n",
       "  </tbody>\n",
       "</table>\n",
       "</div>"
      ],
      "text/plain": [
       "       id   type                            title           director  \\\n",
       "0  247747  Movie               Amar Akbar Anthony     Manmohan Desai   \n",
       "1  269880  Movie                         Bad Boys        Michael Bay   \n",
       "2  281550  Movie                         La Bamba        Luis Valdez   \n",
       "3  284890  Movie                          Barsaat  Rajkumar Santoshi   \n",
       "4  292118  Movie  Beavis and Butt-head Do America         Mike Judge   \n",
       "\n",
       "                                                cast        country  \\\n",
       "0  Vinod Khanna, Rishi Kapoor, Amitabh Bachchan, ...          India   \n",
       "1  Will Smith, Martin Lawrence, Téa Leoni, Tchéky...  United States   \n",
       "2  Lou Diamond Phillips, Esai Morales, Rosanna De...  United States   \n",
       "3  Twinkle Khanna, Bobby Deol, Danny Denzongpa, R...          India   \n",
       "4  Mike Judge, Bruce Willis, Demi Moore, Cloris L...  United States   \n",
       "\n",
       "  date_added  release_year rating duration  \\\n",
       "0 2019-12-31          1977  TV-14  172 min   \n",
       "1 2019-10-01          1995      R  119 min   \n",
       "2 2020-01-01          1987  PG-13  109 min   \n",
       "3 2018-04-01          1995  TV-PG  166 min   \n",
       "4 2019-11-20          1996  PG-13   81 min   \n",
       "\n",
       "                                           listed_in  \\\n",
       "0       Action & Adventure, Classic Movies, Comedies   \n",
       "1                       Action & Adventure, Comedies   \n",
       "2           Classic Movies, Dramas, Music & Musicals   \n",
       "3  Action & Adventure, International Movies, Musi...   \n",
       "4                              Comedies, Cult Movies   \n",
       "\n",
       "                                         description  \n",
       "0  Abandoned in a park by their father, Amar, Akb...  \n",
       "1  In this fast-paced actioner, two Miami narcoti...  \n",
       "2  The plane crash that killed Buddy Holly also t...  \n",
       "3  A naïve young man and a rich city girl fall in...  \n",
       "4  After realizing that their boob tube is gone, ...  "
      ]
     },
     "execution_count": 56,
     "metadata": {},
     "output_type": "execute_result"
    }
   ],
   "source": [
    "titles_df.sort_index().head()"
   ]
  },
  {
   "cell_type": "markdown",
   "metadata": {},
   "source": [
    "### 3.9 Zusammenfassung Datenanalyse"
   ]
  },
  {
   "cell_type": "markdown",
   "metadata": {},
   "source": [
    "<img src='img/datenanalyse.jpg' alt=\"Übersicht Zusammenfassung Datenanalyse\">"
   ]
  },
  {
   "cell_type": "markdown",
   "metadata": {},
   "source": [
    "<div style=\"background-color: #FFCA00 ; padding: 5px; \"></div>\n",
    "\n",
    "### 3.10 Übungsteil"
   ]
  },
  {
   "cell_type": "markdown",
   "metadata": {},
   "source": [
    "**3.10.1 Gebe in einer Series an, wie oft die einzelnen Ratings bei den Filmen und TV Shows insgesamt vorkommen. Die Ratings sollen dabei absteigend nach der Anzahl der Vorkommen sortiert werden (Default bei `value_counts()`). Null Werte sollen dabei in der Aufstellung inkludiert sein. Nutze dafür den Parameter `dropna=False` der Methode `value_counts()`. Speichere das Ergebnis in einer Variable mit dem Namen `rating_series` ab.**"
   ]
  },
  {
   "cell_type": "code",
   "execution_count": 57,
   "metadata": {},
   "outputs": [
    {
     "data": {
      "text/plain": [
       "TV-MA       2027\n",
       "TV-14       1698\n",
       "TV-PG        701\n",
       "R            508\n",
       "PG-13        286\n",
       "NR           218\n",
       "PG           184\n",
       "TV-Y7        169\n",
       "TV-G         149\n",
       "TV-Y         143\n",
       "TV-Y7-FV      95\n",
       "G             37\n",
       "NaN           10\n",
       "UR             7\n",
       "NC-17          2\n",
       "Name: rating, dtype: int64"
      ]
     },
     "metadata": {},
     "output_type": "display_data"
    },
    {
     "data": {
      "application/vnd.jupyter.widget-view+json": {
       "model_id": "d950da4d94d2413d866a11538347e9bf",
       "version_major": 2,
       "version_minor": 0
      },
      "text/plain": [
       "Output()"
      ]
     },
     "metadata": {},
     "output_type": "display_data"
    },
    {
     "data": {
      "application/vnd.jupyter.widget-view+json": {
       "model_id": "a22065ac0aa6411bb738fce2bddb38a2",
       "version_major": 2,
       "version_minor": 0
      },
      "text/plain": [
       "Output()"
      ]
     },
     "metadata": {},
     "output_type": "display_data"
    }
   ],
   "source": [
    "rating_series = titles_df['rating'].value_counts(dropna=False)\n",
    "\n",
    "lm.show_task(3101, rating_series)"
   ]
  },
  {
   "cell_type": "code",
   "execution_count": 58,
   "metadata": {},
   "outputs": [
    {
     "data": {
      "image/png": "[encoded data removed]",
      "text/plain": [
       "<Figure size 1440x576 with 1 Axes>"
      ]
     },
     "metadata": {
      "needs_background": "light"
     },
     "output_type": "display_data"
    }
   ],
   "source": [
    "vf.create_barplot_for_series(rating_series)"
   ]
  },
  {
   "cell_type": "markdown",
   "metadata": {},
   "source": [
    "**3.10.2 Gebe die Zeilen 5 bis 8 der Spalten `id`, `title` und `release_year` des DataFrames `titles_df` aus. Speichere die selektierten Zeilen in der Variablen `row_selection`.**"
   ]
  },
  {
   "cell_type": "code",
   "execution_count": 59,
   "metadata": {},
   "outputs": [
    {
     "data": {
      "text/html": [
       "<div>\n",
       "<style scoped>\n",
       "    .dataframe tbody tr th:only-of-type {\n",
       "        vertical-align: middle;\n",
       "    }\n",
       "\n",
       "    .dataframe tbody tr th {\n",
       "        vertical-align: top;\n",
       "    }\n",
       "\n",
       "    .dataframe thead th {\n",
       "        text-align: right;\n",
       "    }\n",
       "</style>\n",
       "<table border=\"1\" class=\"dataframe\">\n",
       "  <thead>\n",
       "    <tr style=\"text-align: right;\">\n",
       "      <th></th>\n",
       "      <th>id</th>\n",
       "      <th>title</th>\n",
       "      <th>release_year</th>\n",
       "    </tr>\n",
       "  </thead>\n",
       "  <tbody>\n",
       "    <tr>\n",
       "      <th>5</th>\n",
       "      <td>296682</td>\n",
       "      <td>Benji</td>\n",
       "      <td>1974</td>\n",
       "    </tr>\n",
       "    <tr>\n",
       "      <th>6</th>\n",
       "      <td>347365</td>\n",
       "      <td>Candyman</td>\n",
       "      <td>1992</td>\n",
       "    </tr>\n",
       "    <tr>\n",
       "      <th>7</th>\n",
       "      <td>352989</td>\n",
       "      <td>Carrie</td>\n",
       "      <td>1976</td>\n",
       "    </tr>\n",
       "    <tr>\n",
       "      <th>8</th>\n",
       "      <td>372195</td>\n",
       "      <td>Child's Play</td>\n",
       "      <td>1988</td>\n",
       "    </tr>\n",
       "  </tbody>\n",
       "</table>\n",
       "</div>"
      ],
      "text/plain": [
       "       id         title  release_year\n",
       "5  296682         Benji          1974\n",
       "6  347365      Candyman          1992\n",
       "7  352989        Carrie          1976\n",
       "8  372195  Child's Play          1988"
      ]
     },
     "metadata": {},
     "output_type": "display_data"
    },
    {
     "data": {
      "application/vnd.jupyter.widget-view+json": {
       "model_id": "a50390948e2b46e68a28d7a000c02b25",
       "version_major": 2,
       "version_minor": 0
      },
      "text/plain": [
       "Output()"
      ]
     },
     "metadata": {},
     "output_type": "display_data"
    },
    {
     "data": {
      "application/vnd.jupyter.widget-view+json": {
       "model_id": "4c21420d7bbb4bb5928e44b941965578",
       "version_major": 2,
       "version_minor": 0
      },
      "text/plain": [
       "Output()"
      ]
     },
     "metadata": {},
     "output_type": "display_data"
    }
   ],
   "source": [
    "row_selection = titles_df.loc[5:8,['id','title', 'release_year']]\n",
    "\n",
    "lm.show_task(3102, row_selection)"
   ]
  },
  {
   "cell_type": "markdown",
   "metadata": {},
   "source": [
    "**3.10.3 Gebe in einer Series für jede Jahreszahl aus, wie viele Titel in diesem Jahr veröffentlich wurden (`release_year`). Speichere in der Variablen `release_year_series` nur die Top 5 dieser Series (5 Jahreszahlen, mit den meisten hinzugefügten Titeln).**"
   ]
  },
  {
   "cell_type": "code",
   "execution_count": 60,
   "metadata": {},
   "outputs": [
    {
     "data": {
      "text/plain": [
       "2018    1063\n",
       "2017     959\n",
       "2019     843\n",
       "2016     830\n",
       "2015     517\n",
       "Name: release_year, dtype: int64"
      ]
     },
     "metadata": {},
     "output_type": "display_data"
    },
    {
     "data": {
      "application/vnd.jupyter.widget-view+json": {
       "model_id": "c9957d44008643888a97fd1b4ba8ecbb",
       "version_major": 2,
       "version_minor": 0
      },
      "text/plain": [
       "Output()"
      ]
     },
     "metadata": {},
     "output_type": "display_data"
    },
    {
     "data": {
      "application/vnd.jupyter.widget-view+json": {
       "model_id": "14c92aa786d843a3b4a065166ad71c45",
       "version_major": 2,
       "version_minor": 0
      },
      "text/plain": [
       "Output()"
      ]
     },
     "metadata": {},
     "output_type": "display_data"
    }
   ],
   "source": [
    "release_year_series = titles_df['release_year'].value_counts()[:5]\n",
    "lm.show_task(3103, release_year_series)"
   ]
  },
  {
   "cell_type": "code",
   "execution_count": 61,
   "metadata": {},
   "outputs": [
    {
     "data": {
      "image/png": "[encoded data removed]",
      "text/plain": [
       "<Figure size 432x288 with 1 Axes>"
      ]
     },
     "metadata": {
      "needs_background": "light"
     },
     "output_type": "display_data"
    }
   ],
   "source": [
    "vf.create_barplot_for_series(release_year_series)"
   ]
  },
  {
   "cell_type": "markdown",
   "metadata": {},
   "source": [
    "**3.10.4 Ein Kind im Alter von 6 Jahre darf nur Filme mit den Ratings `TV-Y` (Für Kinder zwischen 2 und 6 Jahren) und `G` (Allgemeines Publikum) schauen. Welche der Filme in den Daten dürfte sie schauen? Gebe die Filme in einem DataFrame namens `kinder_filme_df` aus. Der erzeugte DataFrame soll dabei die folgenden Spalten enthalten: `id`, `title`, `date_added`, `release_year`, `rating`, `listed_in`.**"
   ]
  },
  {
   "cell_type": "code",
   "execution_count": 62,
   "metadata": {},
   "outputs": [
    {
     "data": {
      "text/html": [
       "<div>\n",
       "<style scoped>\n",
       "    .dataframe tbody tr th:only-of-type {\n",
       "        vertical-align: middle;\n",
       "    }\n",
       "\n",
       "    .dataframe tbody tr th {\n",
       "        vertical-align: top;\n",
       "    }\n",
       "\n",
       "    .dataframe thead th {\n",
       "        text-align: right;\n",
       "    }\n",
       "</style>\n",
       "<table border=\"1\" class=\"dataframe\">\n",
       "  <thead>\n",
       "    <tr style=\"text-align: right;\">\n",
       "      <th></th>\n",
       "      <th>id</th>\n",
       "      <th>title</th>\n",
       "      <th>date_added</th>\n",
       "      <th>release_year</th>\n",
       "      <th>rating</th>\n",
       "      <th>listed_in</th>\n",
       "    </tr>\n",
       "  </thead>\n",
       "  <tbody>\n",
       "    <tr>\n",
       "      <th>5</th>\n",
       "      <td>296682</td>\n",
       "      <td>Benji</td>\n",
       "      <td>2018-03-06</td>\n",
       "      <td>1974</td>\n",
       "      <td>G</td>\n",
       "      <td>Children &amp; Family Movies, Classic Movies</td>\n",
       "    </tr>\n",
       "    <tr>\n",
       "      <th>9</th>\n",
       "      <td>374651</td>\n",
       "      <td>Chitty Chitty Bang Bang</td>\n",
       "      <td>2020-01-01</td>\n",
       "      <td>1968</td>\n",
       "      <td>G</td>\n",
       "      <td>Children &amp; Family Movies, Classic Movies, Come...</td>\n",
       "    </tr>\n",
       "    <tr>\n",
       "      <th>20</th>\n",
       "      <td>516154</td>\n",
       "      <td>For the Love of Benji</td>\n",
       "      <td>2018-03-06</td>\n",
       "      <td>1977</td>\n",
       "      <td>G</td>\n",
       "      <td>Children &amp; Family Movies</td>\n",
       "    </tr>\n",
       "    <tr>\n",
       "      <th>21</th>\n",
       "      <td>516788</td>\n",
       "      <td>Forbidden Planet</td>\n",
       "      <td>2019-11-01</td>\n",
       "      <td>1956</td>\n",
       "      <td>G</td>\n",
       "      <td>Action &amp; Adventure, Classic Movies, Sci-Fi &amp; F...</td>\n",
       "    </tr>\n",
       "    <tr>\n",
       "      <th>24</th>\n",
       "      <td>542137</td>\n",
       "      <td>Gigi</td>\n",
       "      <td>2019-11-01</td>\n",
       "      <td>1958</td>\n",
       "      <td>G</td>\n",
       "      <td>Classic Movies, Comedies, Music &amp; Musicals</td>\n",
       "    </tr>\n",
       "    <tr>\n",
       "      <th>...</th>\n",
       "      <td>...</td>\n",
       "      <td>...</td>\n",
       "      <td>...</td>\n",
       "      <td>...</td>\n",
       "      <td>...</td>\n",
       "      <td>...</td>\n",
       "    </tr>\n",
       "    <tr>\n",
       "      <th>5382</th>\n",
       "      <td>81035120</td>\n",
       "      <td>True: Grabbleapple Harvest</td>\n",
       "      <td>2019-11-01</td>\n",
       "      <td>2019</td>\n",
       "      <td>TV-Y</td>\n",
       "      <td>Movies</td>\n",
       "    </tr>\n",
       "    <tr>\n",
       "      <th>5383</th>\n",
       "      <td>81035121</td>\n",
       "      <td>True: Winter Wishes</td>\n",
       "      <td>2019-11-26</td>\n",
       "      <td>2019</td>\n",
       "      <td>TV-Y</td>\n",
       "      <td>Movies</td>\n",
       "    </tr>\n",
       "    <tr>\n",
       "      <th>5384</th>\n",
       "      <td>81035127</td>\n",
       "      <td>True: Happy Hearts Day</td>\n",
       "      <td>2019-02-01</td>\n",
       "      <td>2019</td>\n",
       "      <td>TV-Y</td>\n",
       "      <td>Children &amp; Family Movies</td>\n",
       "    </tr>\n",
       "    <tr>\n",
       "      <th>5967</th>\n",
       "      <td>81141689</td>\n",
       "      <td>Spookley the Square Pumpkin</td>\n",
       "      <td>2019-09-01</td>\n",
       "      <td>2004</td>\n",
       "      <td>G</td>\n",
       "      <td>Children &amp; Family Movies</td>\n",
       "    </tr>\n",
       "    <tr>\n",
       "      <th>6123</th>\n",
       "      <td>81179400</td>\n",
       "      <td>Little Baby Bum: Go Buster</td>\n",
       "      <td>2019-10-01</td>\n",
       "      <td>2019</td>\n",
       "      <td>TV-Y</td>\n",
       "      <td>Children &amp; Family Movies</td>\n",
       "    </tr>\n",
       "  </tbody>\n",
       "</table>\n",
       "<p>77 rows × 6 columns</p>\n",
       "</div>"
      ],
      "text/plain": [
       "            id                        title date_added  release_year rating  \\\n",
       "5       296682                        Benji 2018-03-06          1974      G   \n",
       "9       374651      Chitty Chitty Bang Bang 2020-01-01          1968      G   \n",
       "20      516154        For the Love of Benji 2018-03-06          1977      G   \n",
       "21      516788             Forbidden Planet 2019-11-01          1956      G   \n",
       "24      542137                         Gigi 2019-11-01          1958      G   \n",
       "...        ...                          ...        ...           ...    ...   \n",
       "5382  81035120   True: Grabbleapple Harvest 2019-11-01          2019   TV-Y   \n",
       "5383  81035121          True: Winter Wishes 2019-11-26          2019   TV-Y   \n",
       "5384  81035127       True: Happy Hearts Day 2019-02-01          2019   TV-Y   \n",
       "5967  81141689  Spookley the Square Pumpkin 2019-09-01          2004      G   \n",
       "6123  81179400   Little Baby Bum: Go Buster 2019-10-01          2019   TV-Y   \n",
       "\n",
       "                                              listed_in  \n",
       "5              Children & Family Movies, Classic Movies  \n",
       "9     Children & Family Movies, Classic Movies, Come...  \n",
       "20                             Children & Family Movies  \n",
       "21    Action & Adventure, Classic Movies, Sci-Fi & F...  \n",
       "24           Classic Movies, Comedies, Music & Musicals  \n",
       "...                                                 ...  \n",
       "5382                                             Movies  \n",
       "5383                                             Movies  \n",
       "5384                           Children & Family Movies  \n",
       "5967                           Children & Family Movies  \n",
       "6123                           Children & Family Movies  \n",
       "\n",
       "[77 rows x 6 columns]"
      ]
     },
     "metadata": {},
     "output_type": "display_data"
    },
    {
     "data": {
      "application/vnd.jupyter.widget-view+json": {
       "model_id": "262e8b946dc741c78888c1070df05a3d",
       "version_major": 2,
       "version_minor": 0
      },
      "text/plain": [
       "Output()"
      ]
     },
     "metadata": {},
     "output_type": "display_data"
    },
    {
     "data": {
      "application/vnd.jupyter.widget-view+json": {
       "model_id": "d316b55dd34043a09a0ce31ede15895a",
       "version_major": 2,
       "version_minor": 0
      },
      "text/plain": [
       "Output()"
      ]
     },
     "metadata": {},
     "output_type": "display_data"
    }
   ],
   "source": [
    "kinder_filme_df = titles_df.loc[(titles_df['type'] == 'Movie') & ((titles_df['rating'] == 'TV-Y') | (titles_df['rating'] == 'G'))]\n",
    "kinder_filme_df = kinder_filme_df.loc[:,['id','title', 'date_added', 'release_year', 'rating', 'listed_in']]\n",
    "lm.show_task(3104, kinder_filme_df)"
   ]
  },
  {
   "cell_type": "markdown",
   "metadata": {},
   "source": [
    "**3.10.5 Sortiere die Kinderfilme im DataFrame `kinder_filme_df` absteigend zuerst nach dem Datum, an dem sie hinzugefügt wurden (`date_added`) und danach nach dem Jahr in dem sie erschienen sind (`release_year`).**"
   ]
  },
  {
   "cell_type": "code",
   "execution_count": 63,
   "metadata": {},
   "outputs": [
    {
     "data": {
      "text/html": [
       "<div>\n",
       "<style scoped>\n",
       "    .dataframe tbody tr th:only-of-type {\n",
       "        vertical-align: middle;\n",
       "    }\n",
       "\n",
       "    .dataframe tbody tr th {\n",
       "        vertical-align: top;\n",
       "    }\n",
       "\n",
       "    .dataframe thead th {\n",
       "        text-align: right;\n",
       "    }\n",
       "</style>\n",
       "<table border=\"1\" class=\"dataframe\">\n",
       "  <thead>\n",
       "    <tr style=\"text-align: right;\">\n",
       "      <th></th>\n",
       "      <th>id</th>\n",
       "      <th>title</th>\n",
       "      <th>date_added</th>\n",
       "      <th>release_year</th>\n",
       "      <th>rating</th>\n",
       "      <th>listed_in</th>\n",
       "    </tr>\n",
       "  </thead>\n",
       "  <tbody>\n",
       "    <tr>\n",
       "      <th>646</th>\n",
       "      <td>70118155</td>\n",
       "      <td>Garfield's Pet Force</td>\n",
       "      <td>2020-01-01</td>\n",
       "      <td>2009</td>\n",
       "      <td>G</td>\n",
       "      <td>Children &amp; Family Movies, Comedies</td>\n",
       "    </tr>\n",
       "    <tr>\n",
       "      <th>204</th>\n",
       "      <td>60021788</td>\n",
       "      <td>Jimmy Neutron: Boy Genius</td>\n",
       "      <td>2020-01-01</td>\n",
       "      <td>2001</td>\n",
       "      <td>G</td>\n",
       "      <td>Children &amp; Family Movies, Comedies, Sci-Fi &amp; F...</td>\n",
       "    </tr>\n",
       "    <tr>\n",
       "      <th>196</th>\n",
       "      <td>60020949</td>\n",
       "      <td>Willy Wonka &amp; the Chocolate Factory</td>\n",
       "      <td>2020-01-01</td>\n",
       "      <td>1971</td>\n",
       "      <td>G</td>\n",
       "      <td>Children &amp; Family Movies, Classic Movies, Come...</td>\n",
       "    </tr>\n",
       "    <tr>\n",
       "      <th>54</th>\n",
       "      <td>1067876</td>\n",
       "      <td>True Grit</td>\n",
       "      <td>2020-01-01</td>\n",
       "      <td>1969</td>\n",
       "      <td>G</td>\n",
       "      <td>Classic Movies, Dramas</td>\n",
       "    </tr>\n",
       "    <tr>\n",
       "      <th>9</th>\n",
       "      <td>374651</td>\n",
       "      <td>Chitty Chitty Bang Bang</td>\n",
       "      <td>2020-01-01</td>\n",
       "      <td>1968</td>\n",
       "      <td>G</td>\n",
       "      <td>Children &amp; Family Movies, Classic Movies, Come...</td>\n",
       "    </tr>\n",
       "    <tr>\n",
       "      <th>...</th>\n",
       "      <td>...</td>\n",
       "      <td>...</td>\n",
       "      <td>...</td>\n",
       "      <td>...</td>\n",
       "      <td>...</td>\n",
       "      <td>...</td>\n",
       "    </tr>\n",
       "    <tr>\n",
       "      <th>1658</th>\n",
       "      <td>80046144</td>\n",
       "      <td>Magic Snowflake</td>\n",
       "      <td>2015-12-20</td>\n",
       "      <td>2013</td>\n",
       "      <td>TV-Y</td>\n",
       "      <td>Children &amp; Family Movies</td>\n",
       "    </tr>\n",
       "    <tr>\n",
       "      <th>1819</th>\n",
       "      <td>80073100</td>\n",
       "      <td>My Little Pony Equestria Girls: Friendship Games</td>\n",
       "      <td>2015-12-01</td>\n",
       "      <td>2015</td>\n",
       "      <td>TV-Y</td>\n",
       "      <td>Children &amp; Family Movies, Comedies</td>\n",
       "    </tr>\n",
       "    <tr>\n",
       "      <th>1525</th>\n",
       "      <td>80028529</td>\n",
       "      <td>Tinker Bell and the Legend of the NeverBeast</td>\n",
       "      <td>2015-05-17</td>\n",
       "      <td>2014</td>\n",
       "      <td>G</td>\n",
       "      <td>Children &amp; Family Movies</td>\n",
       "    </tr>\n",
       "    <tr>\n",
       "      <th>1409</th>\n",
       "      <td>80012535</td>\n",
       "      <td>My Little Pony Equestria Girls: Rainbow Rocks</td>\n",
       "      <td>2014-12-17</td>\n",
       "      <td>2014</td>\n",
       "      <td>TV-Y</td>\n",
       "      <td>Children &amp; Family Movies, Comedies</td>\n",
       "    </tr>\n",
       "    <tr>\n",
       "      <th>1293</th>\n",
       "      <td>70302844</td>\n",
       "      <td>The Pirate Fairy</td>\n",
       "      <td>2014-06-15</td>\n",
       "      <td>2014</td>\n",
       "      <td>G</td>\n",
       "      <td>Children &amp; Family Movies</td>\n",
       "    </tr>\n",
       "  </tbody>\n",
       "</table>\n",
       "<p>77 rows × 6 columns</p>\n",
       "</div>"
      ],
      "text/plain": [
       "            id                                             title date_added  \\\n",
       "646   70118155                              Garfield's Pet Force 2020-01-01   \n",
       "204   60021788                         Jimmy Neutron: Boy Genius 2020-01-01   \n",
       "196   60020949               Willy Wonka & the Chocolate Factory 2020-01-01   \n",
       "54     1067876                                         True Grit 2020-01-01   \n",
       "9       374651                           Chitty Chitty Bang Bang 2020-01-01   \n",
       "...        ...                                               ...        ...   \n",
       "1658  80046144                                   Magic Snowflake 2015-12-20   \n",
       "1819  80073100  My Little Pony Equestria Girls: Friendship Games 2015-12-01   \n",
       "1525  80028529      Tinker Bell and the Legend of the NeverBeast 2015-05-17   \n",
       "1409  80012535     My Little Pony Equestria Girls: Rainbow Rocks 2014-12-17   \n",
       "1293  70302844                                  The Pirate Fairy 2014-06-15   \n",
       "\n",
       "      release_year rating                                          listed_in  \n",
       "646           2009      G                 Children & Family Movies, Comedies  \n",
       "204           2001      G  Children & Family Movies, Comedies, Sci-Fi & F...  \n",
       "196           1971      G  Children & Family Movies, Classic Movies, Come...  \n",
       "54            1969      G                             Classic Movies, Dramas  \n",
       "9             1968      G  Children & Family Movies, Classic Movies, Come...  \n",
       "...            ...    ...                                                ...  \n",
       "1658          2013   TV-Y                           Children & Family Movies  \n",
       "1819          2015   TV-Y                 Children & Family Movies, Comedies  \n",
       "1525          2014      G                           Children & Family Movies  \n",
       "1409          2014   TV-Y                 Children & Family Movies, Comedies  \n",
       "1293          2014      G                           Children & Family Movies  \n",
       "\n",
       "[77 rows x 6 columns]"
      ]
     },
     "metadata": {},
     "output_type": "display_data"
    },
    {
     "data": {
      "application/vnd.jupyter.widget-view+json": {
       "model_id": "0d3da0d986bc4afe9b8c54b10ca49dd0",
       "version_major": 2,
       "version_minor": 0
      },
      "text/plain": [
       "Output()"
      ]
     },
     "metadata": {},
     "output_type": "display_data"
    },
    {
     "data": {
      "application/vnd.jupyter.widget-view+json": {
       "model_id": "ad806bb6da174cbf8ec62bd28ee0caa8",
       "version_major": 2,
       "version_minor": 0
      },
      "text/plain": [
       "Output()"
      ]
     },
     "metadata": {},
     "output_type": "display_data"
    }
   ],
   "source": [
    "kinder_filme_sort_df = kinder_filme_df.sort_values(['date_added','release_year'], ascending=False)\n",
    "lm.show_task(3105, kinder_filme_sort_df)"
   ]
  },
  {
   "cell_type": "markdown",
   "metadata": {},
   "source": [
    "<div style=\"background-color: #150458 ; padding: 5px; \"></div>\n",
    "\n",
    "## 4 Datenbereinigung"
   ]
  },
  {
   "cell_type": "markdown",
   "metadata": {},
   "source": [
    "Nachdem die Daten einer ersten Analyse unterzogen wurden, wird nun beschrieben wie mit fehlenden Werten und Duplikaten in den Daten umgegangen werden kann. Dieser Schritt ist wichtig, um eine gute Qualität der Daten zu gewährleisten."
   ]
  },
  {
   "cell_type": "markdown",
   "metadata": {},
   "source": [
    "### 4.1 Umgang mit fehlenden Werten"
   ]
  },
  {
   "cell_type": "markdown",
   "metadata": {},
   "source": [
    "Zellen in denen Datenwerte fehlen erhalten immer den Wert `NaN` (Not a Number). Aus technischen  Gründen sind diese `NaN` Werte immer vom Datentyp `float64`. Um die fehlenden Werte eines DataFrames anzuzeigen, wird `pd.isnull()` genutzt. Mit dieser Funktion kann entweder für jede Zelle des gesamten DataFrames oder für jede Zelle einer Spalte angezeigt werden, ob es sich bei dem jeweiligen Zellinhalt um einen `NaN` Wert handelt."
   ]
  },
  {
   "cell_type": "code",
   "execution_count": 64,
   "metadata": {},
   "outputs": [
    {
     "data": {
      "text/plain": [
       "0       False\n",
       "1       False\n",
       "2       False\n",
       "3       False\n",
       "4       False\n",
       "        ...  \n",
       "6229     True\n",
       "6230    False\n",
       "6231    False\n",
       "6232     True\n",
       "6233    False\n",
       "Name: director, Length: 6234, dtype: bool"
      ]
     },
     "execution_count": 64,
     "metadata": {},
     "output_type": "execute_result"
    }
   ],
   "source": [
    "pd.isnull(titles_df.director)"
   ]
  },
  {
   "cell_type": "markdown",
   "metadata": {},
   "source": [
    "Dies kann dazu genutzt werden, nur die Zeilen anzuzeigen, die in einer bestimmten Spalte `NaN` Werte stehen haben:"
   ]
  },
  {
   "cell_type": "code",
   "execution_count": 65,
   "metadata": {},
   "outputs": [
    {
     "data": {
      "text/html": [
       "<div>\n",
       "<style scoped>\n",
       "    .dataframe tbody tr th:only-of-type {\n",
       "        vertical-align: middle;\n",
       "    }\n",
       "\n",
       "    .dataframe tbody tr th {\n",
       "        vertical-align: top;\n",
       "    }\n",
       "\n",
       "    .dataframe thead th {\n",
       "        text-align: right;\n",
       "    }\n",
       "</style>\n",
       "<table border=\"1\" class=\"dataframe\">\n",
       "  <thead>\n",
       "    <tr style=\"text-align: right;\">\n",
       "      <th></th>\n",
       "      <th>id</th>\n",
       "      <th>type</th>\n",
       "      <th>title</th>\n",
       "      <th>director</th>\n",
       "      <th>cast</th>\n",
       "      <th>country</th>\n",
       "      <th>date_added</th>\n",
       "      <th>release_year</th>\n",
       "      <th>rating</th>\n",
       "      <th>duration</th>\n",
       "      <th>listed_in</th>\n",
       "      <th>description</th>\n",
       "    </tr>\n",
       "  </thead>\n",
       "  <tbody>\n",
       "    <tr>\n",
       "      <th>306</th>\n",
       "      <td>60036794</td>\n",
       "      <td>TV Show</td>\n",
       "      <td>Sonic X</td>\n",
       "      <td>None</td>\n",
       "      <td>Suzanne Goldish, Dan Green, Jason Anthony Grif...</td>\n",
       "      <td>Japan</td>\n",
       "      <td>2019-12-01</td>\n",
       "      <td>2004</td>\n",
       "      <td>TV-Y7</td>\n",
       "      <td>4 Seasons</td>\n",
       "      <td>Anime Series, Kids' TV</td>\n",
       "      <td>While battling the evil Dr. Eggman, Sonic gets...</td>\n",
       "    </tr>\n",
       "    <tr>\n",
       "      <th>387</th>\n",
       "      <td>70039241</td>\n",
       "      <td>Movie</td>\n",
       "      <td>Harlem Globetrotters: The Team That Changed th...</td>\n",
       "      <td>None</td>\n",
       "      <td>Chuck D., Harlem Globetrotters</td>\n",
       "      <td>None</td>\n",
       "      <td>2019-11-01</td>\n",
       "      <td>2005</td>\n",
       "      <td>TV-14</td>\n",
       "      <td>55 min</td>\n",
       "      <td>Documentaries, Sports Movies</td>\n",
       "      <td>Relive the greatest moments of the Harlem Glob...</td>\n",
       "    </tr>\n",
       "    <tr>\n",
       "      <th>532</th>\n",
       "      <td>70091304</td>\n",
       "      <td>Movie</td>\n",
       "      <td>Mike Birbiglia: What I Should Have Said Was No...</td>\n",
       "      <td>None</td>\n",
       "      <td>Mike Birbiglia</td>\n",
       "      <td>United States</td>\n",
       "      <td>2019-11-22</td>\n",
       "      <td>2008</td>\n",
       "      <td>TV-14</td>\n",
       "      <td>56 min</td>\n",
       "      <td>Stand-Up Comedy</td>\n",
       "      <td>Mike Birbiglia performs in this live concert s...</td>\n",
       "    </tr>\n",
       "    <tr>\n",
       "      <th>722</th>\n",
       "      <td>70136114</td>\n",
       "      <td>TV Show</td>\n",
       "      <td>The L Word</td>\n",
       "      <td>None</td>\n",
       "      <td>Jennifer Beals, Leisha Hailey, Laurel Holloman...</td>\n",
       "      <td>Canada, United States</td>\n",
       "      <td>2018-03-20</td>\n",
       "      <td>2009</td>\n",
       "      <td>TV-MA</td>\n",
       "      <td>6 Seasons</td>\n",
       "      <td>Romantic TV Shows, TV Dramas</td>\n",
       "      <td>This trailblazing series follows the tangled l...</td>\n",
       "    </tr>\n",
       "    <tr>\n",
       "      <th>723</th>\n",
       "      <td>70136120</td>\n",
       "      <td>TV Show</td>\n",
       "      <td>The Office (U.S.)</td>\n",
       "      <td>None</td>\n",
       "      <td>Steve Carell, John Krasinski, Jenna Fischer, R...</td>\n",
       "      <td>United States</td>\n",
       "      <td>2016-01-01</td>\n",
       "      <td>2012</td>\n",
       "      <td>TV-14</td>\n",
       "      <td>9 Seasons</td>\n",
       "      <td>TV Comedies</td>\n",
       "      <td>This hit comedy chronicles the foibles of disg...</td>\n",
       "    </tr>\n",
       "  </tbody>\n",
       "</table>\n",
       "</div>"
      ],
      "text/plain": [
       "           id     type                                              title  \\\n",
       "306  60036794  TV Show                                            Sonic X   \n",
       "387  70039241    Movie  Harlem Globetrotters: The Team That Changed th...   \n",
       "532  70091304    Movie  Mike Birbiglia: What I Should Have Said Was No...   \n",
       "722  70136114  TV Show                                         The L Word   \n",
       "723  70136120  TV Show                                  The Office (U.S.)   \n",
       "\n",
       "    director                                               cast  \\\n",
       "306     None  Suzanne Goldish, Dan Green, Jason Anthony Grif...   \n",
       "387     None                     Chuck D., Harlem Globetrotters   \n",
       "532     None                                     Mike Birbiglia   \n",
       "722     None  Jennifer Beals, Leisha Hailey, Laurel Holloman...   \n",
       "723     None  Steve Carell, John Krasinski, Jenna Fischer, R...   \n",
       "\n",
       "                   country date_added  release_year rating   duration  \\\n",
       "306                  Japan 2019-12-01          2004  TV-Y7  4 Seasons   \n",
       "387                   None 2019-11-01          2005  TV-14     55 min   \n",
       "532          United States 2019-11-22          2008  TV-14     56 min   \n",
       "722  Canada, United States 2018-03-20          2009  TV-MA  6 Seasons   \n",
       "723          United States 2016-01-01          2012  TV-14  9 Seasons   \n",
       "\n",
       "                        listed_in  \\\n",
       "306        Anime Series, Kids' TV   \n",
       "387  Documentaries, Sports Movies   \n",
       "532               Stand-Up Comedy   \n",
       "722  Romantic TV Shows, TV Dramas   \n",
       "723                   TV Comedies   \n",
       "\n",
       "                                           description  \n",
       "306  While battling the evil Dr. Eggman, Sonic gets...  \n",
       "387  Relive the greatest moments of the Harlem Glob...  \n",
       "532  Mike Birbiglia performs in this live concert s...  \n",
       "722  This trailblazing series follows the tangled l...  \n",
       "723  This hit comedy chronicles the foibles of disg...  "
      ]
     },
     "execution_count": 65,
     "metadata": {},
     "output_type": "execute_result"
    }
   ],
   "source": [
    "titles_df[pd.isnull(titles_df.director)].head()"
   ]
  },
  {
   "cell_type": "markdown",
   "metadata": {},
   "source": [
    "Einen Überblick über die Anzahl der fehlenden Werte je Spalte kann mit `isnull().sum()` angezeigt werden."
   ]
  },
  {
   "cell_type": "code",
   "execution_count": 66,
   "metadata": {},
   "outputs": [
    {
     "data": {
      "text/plain": [
       "id                 0\n",
       "type               0\n",
       "title              0\n",
       "director        1969\n",
       "cast             570\n",
       "country          476\n",
       "date_added        11\n",
       "release_year       0\n",
       "rating            10\n",
       "duration           0\n",
       "listed_in          0\n",
       "description        0\n",
       "dtype: int64"
      ]
     },
     "execution_count": 66,
     "metadata": {},
     "output_type": "execute_result"
    }
   ],
   "source": [
    "titles_df.isnull().sum()"
   ]
  },
  {
   "cell_type": "markdown",
   "metadata": {},
   "source": [
    "Fehlende Werte können zum Beispiel durch andere ersetzt werden. Hierfür kann die Methode `fillna()` genutzt werden. Dabei können die fehlenden Werte durch einen einzigen Wert ersetzt werden, zum Beispiel wie in diesem Fall durch `Unknown`."
   ]
  },
  {
   "cell_type": "code",
   "execution_count": 67,
   "metadata": {},
   "outputs": [],
   "source": [
    "titles_df.director.fillna('Unknown', inplace=True)"
   ]
  },
  {
   "cell_type": "markdown",
   "metadata": {},
   "source": [
    "Nun ist für jeden fehlenden Wert der Spalte `director` `Unknown` eingetragen und nicht mehr `NaN`."
   ]
  },
  {
   "cell_type": "code",
   "execution_count": 68,
   "metadata": {},
   "outputs": [
    {
     "data": {
      "text/html": [
       "<div>\n",
       "<style scoped>\n",
       "    .dataframe tbody tr th:only-of-type {\n",
       "        vertical-align: middle;\n",
       "    }\n",
       "\n",
       "    .dataframe tbody tr th {\n",
       "        vertical-align: top;\n",
       "    }\n",
       "\n",
       "    .dataframe thead th {\n",
       "        text-align: right;\n",
       "    }\n",
       "</style>\n",
       "<table border=\"1\" class=\"dataframe\">\n",
       "  <thead>\n",
       "    <tr style=\"text-align: right;\">\n",
       "      <th></th>\n",
       "      <th>id</th>\n",
       "      <th>type</th>\n",
       "      <th>title</th>\n",
       "      <th>director</th>\n",
       "      <th>cast</th>\n",
       "      <th>country</th>\n",
       "      <th>date_added</th>\n",
       "      <th>release_year</th>\n",
       "      <th>rating</th>\n",
       "      <th>duration</th>\n",
       "      <th>listed_in</th>\n",
       "      <th>description</th>\n",
       "    </tr>\n",
       "  </thead>\n",
       "  <tbody>\n",
       "    <tr>\n",
       "      <th>306</th>\n",
       "      <td>60036794</td>\n",
       "      <td>TV Show</td>\n",
       "      <td>Sonic X</td>\n",
       "      <td>Unknown</td>\n",
       "      <td>Suzanne Goldish, Dan Green, Jason Anthony Grif...</td>\n",
       "      <td>Japan</td>\n",
       "      <td>2019-12-01</td>\n",
       "      <td>2004</td>\n",
       "      <td>TV-Y7</td>\n",
       "      <td>4 Seasons</td>\n",
       "      <td>Anime Series, Kids' TV</td>\n",
       "      <td>While battling the evil Dr. Eggman, Sonic gets...</td>\n",
       "    </tr>\n",
       "    <tr>\n",
       "      <th>387</th>\n",
       "      <td>70039241</td>\n",
       "      <td>Movie</td>\n",
       "      <td>Harlem Globetrotters: The Team That Changed th...</td>\n",
       "      <td>Unknown</td>\n",
       "      <td>Chuck D., Harlem Globetrotters</td>\n",
       "      <td>None</td>\n",
       "      <td>2019-11-01</td>\n",
       "      <td>2005</td>\n",
       "      <td>TV-14</td>\n",
       "      <td>55 min</td>\n",
       "      <td>Documentaries, Sports Movies</td>\n",
       "      <td>Relive the greatest moments of the Harlem Glob...</td>\n",
       "    </tr>\n",
       "    <tr>\n",
       "      <th>532</th>\n",
       "      <td>70091304</td>\n",
       "      <td>Movie</td>\n",
       "      <td>Mike Birbiglia: What I Should Have Said Was No...</td>\n",
       "      <td>Unknown</td>\n",
       "      <td>Mike Birbiglia</td>\n",
       "      <td>United States</td>\n",
       "      <td>2019-11-22</td>\n",
       "      <td>2008</td>\n",
       "      <td>TV-14</td>\n",
       "      <td>56 min</td>\n",
       "      <td>Stand-Up Comedy</td>\n",
       "      <td>Mike Birbiglia performs in this live concert s...</td>\n",
       "    </tr>\n",
       "    <tr>\n",
       "      <th>722</th>\n",
       "      <td>70136114</td>\n",
       "      <td>TV Show</td>\n",
       "      <td>The L Word</td>\n",
       "      <td>Unknown</td>\n",
       "      <td>Jennifer Beals, Leisha Hailey, Laurel Holloman...</td>\n",
       "      <td>Canada, United States</td>\n",
       "      <td>2018-03-20</td>\n",
       "      <td>2009</td>\n",
       "      <td>TV-MA</td>\n",
       "      <td>6 Seasons</td>\n",
       "      <td>Romantic TV Shows, TV Dramas</td>\n",
       "      <td>This trailblazing series follows the tangled l...</td>\n",
       "    </tr>\n",
       "    <tr>\n",
       "      <th>723</th>\n",
       "      <td>70136120</td>\n",
       "      <td>TV Show</td>\n",
       "      <td>The Office (U.S.)</td>\n",
       "      <td>Unknown</td>\n",
       "      <td>Steve Carell, John Krasinski, Jenna Fischer, R...</td>\n",
       "      <td>United States</td>\n",
       "      <td>2016-01-01</td>\n",
       "      <td>2012</td>\n",
       "      <td>TV-14</td>\n",
       "      <td>9 Seasons</td>\n",
       "      <td>TV Comedies</td>\n",
       "      <td>This hit comedy chronicles the foibles of disg...</td>\n",
       "    </tr>\n",
       "  </tbody>\n",
       "</table>\n",
       "</div>"
      ],
      "text/plain": [
       "           id     type                                              title  \\\n",
       "306  60036794  TV Show                                            Sonic X   \n",
       "387  70039241    Movie  Harlem Globetrotters: The Team That Changed th...   \n",
       "532  70091304    Movie  Mike Birbiglia: What I Should Have Said Was No...   \n",
       "722  70136114  TV Show                                         The L Word   \n",
       "723  70136120  TV Show                                  The Office (U.S.)   \n",
       "\n",
       "    director                                               cast  \\\n",
       "306  Unknown  Suzanne Goldish, Dan Green, Jason Anthony Grif...   \n",
       "387  Unknown                     Chuck D., Harlem Globetrotters   \n",
       "532  Unknown                                     Mike Birbiglia   \n",
       "722  Unknown  Jennifer Beals, Leisha Hailey, Laurel Holloman...   \n",
       "723  Unknown  Steve Carell, John Krasinski, Jenna Fischer, R...   \n",
       "\n",
       "                   country date_added  release_year rating   duration  \\\n",
       "306                  Japan 2019-12-01          2004  TV-Y7  4 Seasons   \n",
       "387                   None 2019-11-01          2005  TV-14     55 min   \n",
       "532          United States 2019-11-22          2008  TV-14     56 min   \n",
       "722  Canada, United States 2018-03-20          2009  TV-MA  6 Seasons   \n",
       "723          United States 2016-01-01          2012  TV-14  9 Seasons   \n",
       "\n",
       "                        listed_in  \\\n",
       "306        Anime Series, Kids' TV   \n",
       "387  Documentaries, Sports Movies   \n",
       "532               Stand-Up Comedy   \n",
       "722  Romantic TV Shows, TV Dramas   \n",
       "723                   TV Comedies   \n",
       "\n",
       "                                           description  \n",
       "306  While battling the evil Dr. Eggman, Sonic gets...  \n",
       "387  Relive the greatest moments of the Harlem Glob...  \n",
       "532  Mike Birbiglia performs in this live concert s...  \n",
       "722  This trailblazing series follows the tangled l...  \n",
       "723  This hit comedy chronicles the foibles of disg...  "
      ]
     },
     "execution_count": 68,
     "metadata": {},
     "output_type": "execute_result"
    }
   ],
   "source": [
    "titles_df.loc[titles_df['director'] == 'Unknown'].head()"
   ]
  },
  {
   "cell_type": "markdown",
   "metadata": {},
   "source": [
    "Mithilfe von eigenen Funktionen können fehlende Werte auch durch spezifische Werte für jede Zeile ersetzt werden. Das Anwenden von Funktionen wird in [5.3 Datenwerte mappen](#5.3-Datenwerte-mappen) erläutert. \n",
    "\n",
    "Wenn die fehlenden Werte nicht durch sinnvolle Werte ersetzt werden können, sollten die Zeilen mit fehlenden Werten entfernt werden. In unseren Daten ist dies bei der Spalte `date_added` sinnvoll. Dazu kann die Methode `dropna()` genutzt werden. Mithilfe des Parameters `subset` kann das Entfernen der Zeilen auf die `NaN` Werte bestimmter Spalten begrenzt werden. Das heißt, ohne den Parameter würde jede Zeile entfernt werden, die einen NaN Werte beinhaltet (egal in welcher Spalte). Mit dem Parameter werden nur die Zeilen entfernt, die in der angegebenen Spalte (im folgenden Beispiel in der Spalte `date_added`) ein `NaN` Wert stehen haben."
   ]
  },
  {
   "cell_type": "code",
   "execution_count": 69,
   "metadata": {},
   "outputs": [],
   "source": [
    "titles_df = titles_df.dropna(subset=['date_added'])"
   ]
  },
  {
   "cell_type": "markdown",
   "metadata": {},
   "source": [
    "Nun sind die Zeilen mit den `NaN` Werten entfernt, wie das erneute anzeigen der `NaN` Werte pro Spalte zeigt."
   ]
  },
  {
   "cell_type": "code",
   "execution_count": 70,
   "metadata": {},
   "outputs": [
    {
     "data": {
      "text/plain": [
       "id                0\n",
       "type              0\n",
       "title             0\n",
       "director          0\n",
       "cast            569\n",
       "country         474\n",
       "date_added        0\n",
       "release_year      0\n",
       "rating            9\n",
       "duration          0\n",
       "listed_in         0\n",
       "description       0\n",
       "dtype: int64"
      ]
     },
     "execution_count": 70,
     "metadata": {},
     "output_type": "execute_result"
    }
   ],
   "source": [
    "titles_df.isnull().sum()"
   ]
  },
  {
   "cell_type": "markdown",
   "metadata": {},
   "source": [
    "In manchen Fällen befinden sich `NaN` Werte auch in einer Spalte, die für die weitere Verarbeitung oder Analyse nicht benötigt wird. Dies muss allerdings im Einzelfall betrachtet und entschieden werden. Dies kann zum Beispiel der Fall sein, wenn die Daten in der Spalte in keinem Zusammenhang zu den restlichen Daten stehen oder ein zufällig fälschlicher Zusammenhang erzeugt wird. Im Abschnitt [5.1 Manipulation der Datenstruktur](#5.1-Manipulation-der-Datenstruktur) wird gezeigt, wie eine Spalte entfernt werden kann. In unserem Fall behalten wir die Spalten `cast` und `country` allerdings in den Daten."
   ]
  },
  {
   "cell_type": "markdown",
   "metadata": {},
   "source": [
    "### 4.2 Umgang mit Duplikaten"
   ]
  },
  {
   "cell_type": "markdown",
   "metadata": {},
   "source": [
    "Da sich in dem originalen Datensatz keine Duplikate befinden, wird zu Demonstrationszwecken an dieser Stelle ein Duplikat in den Daten erzeugt."
   ]
  },
  {
   "cell_type": "code",
   "execution_count": 71,
   "metadata": {},
   "outputs": [],
   "source": [
    "last_row = titles_df.iloc[-1]\n",
    "\n",
    "movie_tv_duplicat_df = titles_df.append(last_row)"
   ]
  },
  {
   "cell_type": "markdown",
   "metadata": {},
   "source": [
    "Um Duplikate in den Daten zu finden kann die Methode `duplicated()` genutzt werden. Diese zeigt für jede Zeile an, ob sie noch einmal in den Daten vorkommt. Mithilfe der `sum()` Methode kann dann die Anzahl der doppelten Zeilen angezeigt werden. Das erste Vorkommen einer Zeile wird dabei nicht als Duplikat gekennzeichnet, sondern nur alle darauffolgenden weiteren Vorkommen der gleichen Zeile."
   ]
  },
  {
   "cell_type": "code",
   "execution_count": 72,
   "metadata": {},
   "outputs": [
    {
     "data": {
      "text/plain": [
       "1"
      ]
     },
     "execution_count": 72,
     "metadata": {},
     "output_type": "execute_result"
    }
   ],
   "source": [
    "movie_tv_duplicat_df.duplicated().sum()"
   ]
  },
  {
   "cell_type": "markdown",
   "metadata": {},
   "source": [
    "Da in den Daten ein Duplikat erkannt wurde, sollte dieses auch entfernt werden. Bevor das Dulikat in den Daten entfernt wurde befinden sich 6224 Zeilen in den Daten."
   ]
  },
  {
   "cell_type": "code",
   "execution_count": 73,
   "metadata": {},
   "outputs": [
    {
     "data": {
      "text/plain": [
       "(6224, 12)"
      ]
     },
     "execution_count": 73,
     "metadata": {},
     "output_type": "execute_result"
    }
   ],
   "source": [
    "movie_tv_duplicat_df.shape"
   ]
  },
  {
   "cell_type": "markdown",
   "metadata": {},
   "source": [
    "Zum Entfernen von Duplikaten wird die Methode `drop_duplicates()` benötigt. Mit `inplace=True` kann auch hier angegeben werden, dass die Änderungen in den originalen DataFrame überschrieben werden sollen. Ansonsten werden die Änderungen nicht direkt übernommen."
   ]
  },
  {
   "cell_type": "code",
   "execution_count": 74,
   "metadata": {},
   "outputs": [],
   "source": [
    "movie_tv_duplicat_df.drop_duplicates(inplace=True)"
   ]
  },
  {
   "cell_type": "markdown",
   "metadata": {},
   "source": [
    "Nachdem das Duplikat entfernt wurde, befinden sich nur noch 6223 Zeilen in den Daten."
   ]
  },
  {
   "cell_type": "code",
   "execution_count": 75,
   "metadata": {},
   "outputs": [
    {
     "data": {
      "text/plain": [
       "(6223, 12)"
      ]
     },
     "execution_count": 75,
     "metadata": {},
     "output_type": "execute_result"
    }
   ],
   "source": [
    "movie_tv_duplicat_df.shape"
   ]
  },
  {
   "cell_type": "markdown",
   "metadata": {},
   "source": [
    "Durch den Parameter `subset = 'columnName'` kann der Methode `duplicated()` auch eine Spalte übergeben werden, in der nach Duplikaten gesucht werden soll. Im Folgenden werden zum Beispiel alle Shows ausgegeben, deren Titel mindestens doppelt in den Daten vorkommt.   "
   ]
  },
  {
   "cell_type": "code",
   "execution_count": 76,
   "metadata": {},
   "outputs": [
    {
     "data": {
      "text/html": [
       "<div>\n",
       "<style scoped>\n",
       "    .dataframe tbody tr th:only-of-type {\n",
       "        vertical-align: middle;\n",
       "    }\n",
       "\n",
       "    .dataframe tbody tr th {\n",
       "        vertical-align: top;\n",
       "    }\n",
       "\n",
       "    .dataframe thead th {\n",
       "        text-align: right;\n",
       "    }\n",
       "</style>\n",
       "<table border=\"1\" class=\"dataframe\">\n",
       "  <thead>\n",
       "    <tr style=\"text-align: right;\">\n",
       "      <th></th>\n",
       "      <th>id</th>\n",
       "      <th>type</th>\n",
       "      <th>title</th>\n",
       "      <th>director</th>\n",
       "      <th>cast</th>\n",
       "      <th>country</th>\n",
       "      <th>date_added</th>\n",
       "      <th>release_year</th>\n",
       "      <th>rating</th>\n",
       "      <th>duration</th>\n",
       "      <th>listed_in</th>\n",
       "      <th>description</th>\n",
       "    </tr>\n",
       "  </thead>\n",
       "  <tbody>\n",
       "    <tr>\n",
       "      <th>264</th>\n",
       "      <td>60029461</td>\n",
       "      <td>Movie</td>\n",
       "      <td>Carrie</td>\n",
       "      <td>David Carson</td>\n",
       "      <td>Angela Bettis, Patricia Clarkson, Rena Sofer, ...</td>\n",
       "      <td>United States, Canada</td>\n",
       "      <td>2019-12-31</td>\n",
       "      <td>2002</td>\n",
       "      <td>TV-14</td>\n",
       "      <td>132 min</td>\n",
       "      <td>Horror Movies</td>\n",
       "      <td>This remake of the classic 1976 horror flick f...</td>\n",
       "    </tr>\n",
       "    <tr>\n",
       "      <th>462</th>\n",
       "      <td>70059026</td>\n",
       "      <td>Movie</td>\n",
       "      <td>Don</td>\n",
       "      <td>Farhan Akhtar</td>\n",
       "      <td>Shah Rukh Khan, Priyanka Chopra, Arjun Rampal,...</td>\n",
       "      <td>India</td>\n",
       "      <td>2019-12-15</td>\n",
       "      <td>2006</td>\n",
       "      <td>TV-MA</td>\n",
       "      <td>169 min</td>\n",
       "      <td>Action &amp; Adventure, International Movies</td>\n",
       "      <td>A ruthless crime boss and drug lord is nabbed ...</td>\n",
       "    </tr>\n",
       "    <tr>\n",
       "      <th>1616</th>\n",
       "      <td>80039813</td>\n",
       "      <td>TV Show</td>\n",
       "      <td>Wet Hot American Summer</td>\n",
       "      <td>Unknown</td>\n",
       "      <td>Elizabeth Banks, Lake Bell, H. Jon Benjamin, M...</td>\n",
       "      <td>United States</td>\n",
       "      <td>2015-07-31</td>\n",
       "      <td>2015</td>\n",
       "      <td>TV-MA</td>\n",
       "      <td>1 Season</td>\n",
       "      <td>TV Comedies</td>\n",
       "      <td>It's the first day of camp in this outrageous ...</td>\n",
       "    </tr>\n",
       "    <tr>\n",
       "      <th>1734</th>\n",
       "      <td>80057969</td>\n",
       "      <td>Movie</td>\n",
       "      <td>Love</td>\n",
       "      <td>Gaspar Noé</td>\n",
       "      <td>Karl Glusman, Klara Kristin, Aomi Muyock, Ugo ...</td>\n",
       "      <td>France, Belgium</td>\n",
       "      <td>2017-09-08</td>\n",
       "      <td>2015</td>\n",
       "      <td>NR</td>\n",
       "      <td>135 min</td>\n",
       "      <td>Cult Movies, Dramas, Independent Movies</td>\n",
       "      <td>A man in an unsatisfying marriage recalls the ...</td>\n",
       "    </tr>\n",
       "    <tr>\n",
       "      <th>1774</th>\n",
       "      <td>80063658</td>\n",
       "      <td>TV Show</td>\n",
       "      <td>The Code</td>\n",
       "      <td>Unknown</td>\n",
       "      <td>Marcus du Sautoy</td>\n",
       "      <td>United Kingdom</td>\n",
       "      <td>2018-02-01</td>\n",
       "      <td>2011</td>\n",
       "      <td>TV-PG</td>\n",
       "      <td>1 Season</td>\n",
       "      <td>British TV Shows, Docuseries, International TV...</td>\n",
       "      <td>In this three-part documentary series, host Ma...</td>\n",
       "    </tr>\n",
       "  </tbody>\n",
       "</table>\n",
       "</div>"
      ],
      "text/plain": [
       "            id     type                    title       director  \\\n",
       "264   60029461    Movie                   Carrie   David Carson   \n",
       "462   70059026    Movie                      Don  Farhan Akhtar   \n",
       "1616  80039813  TV Show  Wet Hot American Summer        Unknown   \n",
       "1734  80057969    Movie                     Love     Gaspar Noé   \n",
       "1774  80063658  TV Show                 The Code        Unknown   \n",
       "\n",
       "                                                   cast  \\\n",
       "264   Angela Bettis, Patricia Clarkson, Rena Sofer, ...   \n",
       "462   Shah Rukh Khan, Priyanka Chopra, Arjun Rampal,...   \n",
       "1616  Elizabeth Banks, Lake Bell, H. Jon Benjamin, M...   \n",
       "1734  Karl Glusman, Klara Kristin, Aomi Muyock, Ugo ...   \n",
       "1774                                   Marcus du Sautoy   \n",
       "\n",
       "                    country date_added  release_year rating  duration  \\\n",
       "264   United States, Canada 2019-12-31          2002  TV-14   132 min   \n",
       "462                   India 2019-12-15          2006  TV-MA   169 min   \n",
       "1616          United States 2015-07-31          2015  TV-MA  1 Season   \n",
       "1734        France, Belgium 2017-09-08          2015     NR   135 min   \n",
       "1774         United Kingdom 2018-02-01          2011  TV-PG  1 Season   \n",
       "\n",
       "                                              listed_in  \\\n",
       "264                                       Horror Movies   \n",
       "462            Action & Adventure, International Movies   \n",
       "1616                                        TV Comedies   \n",
       "1734            Cult Movies, Dramas, Independent Movies   \n",
       "1774  British TV Shows, Docuseries, International TV...   \n",
       "\n",
       "                                            description  \n",
       "264   This remake of the classic 1976 horror flick f...  \n",
       "462   A ruthless crime boss and drug lord is nabbed ...  \n",
       "1616  It's the first day of camp in this outrageous ...  \n",
       "1734  A man in an unsatisfying marriage recalls the ...  \n",
       "1774  In this three-part documentary series, host Ma...  "
      ]
     },
     "execution_count": 76,
     "metadata": {},
     "output_type": "execute_result"
    }
   ],
   "source": [
    "movie_tv_duplicat_df[movie_tv_duplicat_df.duplicated(subset ='title')].head()"
   ]
  },
  {
   "cell_type": "markdown",
   "metadata": {},
   "source": [
    "### 4.3 Zusammenfassung Datenbereinigung"
   ]
  },
  {
   "cell_type": "markdown",
   "metadata": {},
   "source": [
    "<img src='img/datenbereinigung.jpg' alt=\"Übersicht Zusammenfassung Datenbereinigung\">"
   ]
  },
  {
   "cell_type": "markdown",
   "metadata": {},
   "source": [
    "<div style=\"background-color: #FFCA00 ; padding: 5px; \"></div>\n",
    "\n",
    "### 4.4 Übungsteil"
   ]
  },
  {
   "cell_type": "markdown",
   "metadata": {},
   "source": [
    "**4.4.1 Zeige alle Filme und TV Shows an, bei denen das `rating` fehlt. Speichere das Ergebnis in der Variablen `missing_ratings`.**"
   ]
  },
  {
   "cell_type": "code",
   "execution_count": 77,
   "metadata": {},
   "outputs": [
    {
     "data": {
      "text/html": [
       "<div>\n",
       "<style scoped>\n",
       "    .dataframe tbody tr th:only-of-type {\n",
       "        vertical-align: middle;\n",
       "    }\n",
       "\n",
       "    .dataframe tbody tr th {\n",
       "        vertical-align: top;\n",
       "    }\n",
       "\n",
       "    .dataframe thead th {\n",
       "        text-align: right;\n",
       "    }\n",
       "</style>\n",
       "<table border=\"1\" class=\"dataframe\">\n",
       "  <thead>\n",
       "    <tr style=\"text-align: right;\">\n",
       "      <th></th>\n",
       "      <th>id</th>\n",
       "      <th>type</th>\n",
       "      <th>title</th>\n",
       "      <th>director</th>\n",
       "      <th>cast</th>\n",
       "      <th>country</th>\n",
       "      <th>date_added</th>\n",
       "      <th>release_year</th>\n",
       "      <th>rating</th>\n",
       "      <th>duration</th>\n",
       "      <th>listed_in</th>\n",
       "      <th>description</th>\n",
       "    </tr>\n",
       "  </thead>\n",
       "  <tbody>\n",
       "    <tr>\n",
       "      <th>705</th>\n",
       "      <td>70129452</td>\n",
       "      <td>Movie</td>\n",
       "      <td>Louis C.K.: Hilarious</td>\n",
       "      <td>Louis C.K.</td>\n",
       "      <td>Louis C.K.</td>\n",
       "      <td>United States</td>\n",
       "      <td>2016-09-16</td>\n",
       "      <td>2010</td>\n",
       "      <td>None</td>\n",
       "      <td>84 min</td>\n",
       "      <td>Movies</td>\n",
       "      <td>Emmy-winning comedy writer Louis C.K. brings h...</td>\n",
       "    </tr>\n",
       "    <tr>\n",
       "      <th>1615</th>\n",
       "      <td>80039789</td>\n",
       "      <td>TV Show</td>\n",
       "      <td>Gargantia on the Verdurous Planet</td>\n",
       "      <td>Unknown</td>\n",
       "      <td>Kaito Ishikawa, Hisako Kanemoto, Ai Kayano, Ka...</td>\n",
       "      <td>Japan</td>\n",
       "      <td>2016-12-01</td>\n",
       "      <td>2013</td>\n",
       "      <td>None</td>\n",
       "      <td>1 Season</td>\n",
       "      <td>Anime Series, International TV Shows</td>\n",
       "      <td>After falling through a wormhole, a space-dwel...</td>\n",
       "    </tr>\n",
       "    <tr>\n",
       "      <th>1846</th>\n",
       "      <td>80078037</td>\n",
       "      <td>TV Show</td>\n",
       "      <td>Little Lunch</td>\n",
       "      <td>Unknown</td>\n",
       "      <td>Flynn Curry, Olivia Deeble, Madison Lu, Oisín ...</td>\n",
       "      <td>Australia</td>\n",
       "      <td>2018-02-01</td>\n",
       "      <td>2015</td>\n",
       "      <td>None</td>\n",
       "      <td>1 Season</td>\n",
       "      <td>Kids' TV, TV Comedies</td>\n",
       "      <td>Adopting a child's perspective, this show take...</td>\n",
       "    </tr>\n",
       "    <tr>\n",
       "      <th>1956</th>\n",
       "      <td>80092835</td>\n",
       "      <td>Movie</td>\n",
       "      <td>Fireplace 4K: Crackling Birchwood from Firepla...</td>\n",
       "      <td>George Ford</td>\n",
       "      <td>None</td>\n",
       "      <td>None</td>\n",
       "      <td>2015-12-21</td>\n",
       "      <td>2015</td>\n",
       "      <td>None</td>\n",
       "      <td>60 min</td>\n",
       "      <td>Movies</td>\n",
       "      <td>For the first time in 4K Ultra-HD, everyone's ...</td>\n",
       "    </tr>\n",
       "    <tr>\n",
       "      <th>1958</th>\n",
       "      <td>80092839</td>\n",
       "      <td>Movie</td>\n",
       "      <td>Fireplace 4K: Classic Crackling Fireplace from...</td>\n",
       "      <td>George Ford</td>\n",
       "      <td>None</td>\n",
       "      <td>None</td>\n",
       "      <td>2015-12-21</td>\n",
       "      <td>2015</td>\n",
       "      <td>None</td>\n",
       "      <td>60 min</td>\n",
       "      <td>Movies</td>\n",
       "      <td>The first of its kind in UHD 4K, with the clea...</td>\n",
       "    </tr>\n",
       "    <tr>\n",
       "      <th>2312</th>\n",
       "      <td>80114111</td>\n",
       "      <td>Movie</td>\n",
       "      <td>Louis C.K.: Live at the Comedy Store</td>\n",
       "      <td>Louis C.K.</td>\n",
       "      <td>Louis C.K.</td>\n",
       "      <td>United States</td>\n",
       "      <td>2016-08-15</td>\n",
       "      <td>2015</td>\n",
       "      <td>None</td>\n",
       "      <td>66 min</td>\n",
       "      <td>Movies</td>\n",
       "      <td>The comic puts his trademark hilarious/thought...</td>\n",
       "    </tr>\n",
       "    <tr>\n",
       "      <th>2776</th>\n",
       "      <td>80144119</td>\n",
       "      <td>Movie</td>\n",
       "      <td>My Honor Was Loyalty</td>\n",
       "      <td>Alessandro Pepe</td>\n",
       "      <td>Leone Frisa, Paolo Vaccarino, Francesco Miglio...</td>\n",
       "      <td>Italy</td>\n",
       "      <td>2017-03-01</td>\n",
       "      <td>2015</td>\n",
       "      <td>None</td>\n",
       "      <td>115 min</td>\n",
       "      <td>Dramas</td>\n",
       "      <td>Amid the chaos and horror of World War II, a c...</td>\n",
       "    </tr>\n",
       "    <tr>\n",
       "      <th>3067</th>\n",
       "      <td>80161109</td>\n",
       "      <td>Movie</td>\n",
       "      <td>Louis C.K. 2017</td>\n",
       "      <td>Louis C.K.</td>\n",
       "      <td>Louis C.K.</td>\n",
       "      <td>United States</td>\n",
       "      <td>2017-04-04</td>\n",
       "      <td>2017</td>\n",
       "      <td>None</td>\n",
       "      <td>74 min</td>\n",
       "      <td>Movies</td>\n",
       "      <td>Louis C.K. muses on religion, eternal love, gi...</td>\n",
       "    </tr>\n",
       "    <tr>\n",
       "      <th>3222</th>\n",
       "      <td>80169801</td>\n",
       "      <td>Movie</td>\n",
       "      <td>13TH: A Conversation with Oprah Winfrey &amp; Ava ...</td>\n",
       "      <td>Unknown</td>\n",
       "      <td>Oprah Winfrey, Ava DuVernay</td>\n",
       "      <td>None</td>\n",
       "      <td>2017-01-26</td>\n",
       "      <td>2017</td>\n",
       "      <td>None</td>\n",
       "      <td>37 min</td>\n",
       "      <td>Movies</td>\n",
       "      <td>Oprah Winfrey sits down with director Ava DuVe...</td>\n",
       "    </tr>\n",
       "  </tbody>\n",
       "</table>\n",
       "</div>"
      ],
      "text/plain": [
       "            id     type                                              title  \\\n",
       "705   70129452    Movie                              Louis C.K.: Hilarious   \n",
       "1615  80039789  TV Show                  Gargantia on the Verdurous Planet   \n",
       "1846  80078037  TV Show                                       Little Lunch   \n",
       "1956  80092835    Movie  Fireplace 4K: Crackling Birchwood from Firepla...   \n",
       "1958  80092839    Movie  Fireplace 4K: Classic Crackling Fireplace from...   \n",
       "2312  80114111    Movie               Louis C.K.: Live at the Comedy Store   \n",
       "2776  80144119    Movie                               My Honor Was Loyalty   \n",
       "3067  80161109    Movie                                    Louis C.K. 2017   \n",
       "3222  80169801    Movie  13TH: A Conversation with Oprah Winfrey & Ava ...   \n",
       "\n",
       "             director                                               cast  \\\n",
       "705        Louis C.K.                                         Louis C.K.   \n",
       "1615          Unknown  Kaito Ishikawa, Hisako Kanemoto, Ai Kayano, Ka...   \n",
       "1846          Unknown  Flynn Curry, Olivia Deeble, Madison Lu, Oisín ...   \n",
       "1956      George Ford                                               None   \n",
       "1958      George Ford                                               None   \n",
       "2312       Louis C.K.                                         Louis C.K.   \n",
       "2776  Alessandro Pepe  Leone Frisa, Paolo Vaccarino, Francesco Miglio...   \n",
       "3067       Louis C.K.                                         Louis C.K.   \n",
       "3222          Unknown                        Oprah Winfrey, Ava DuVernay   \n",
       "\n",
       "            country date_added  release_year rating  duration  \\\n",
       "705   United States 2016-09-16          2010   None    84 min   \n",
       "1615          Japan 2016-12-01          2013   None  1 Season   \n",
       "1846      Australia 2018-02-01          2015   None  1 Season   \n",
       "1956           None 2015-12-21          2015   None    60 min   \n",
       "1958           None 2015-12-21          2015   None    60 min   \n",
       "2312  United States 2016-08-15          2015   None    66 min   \n",
       "2776          Italy 2017-03-01          2015   None   115 min   \n",
       "3067  United States 2017-04-04          2017   None    74 min   \n",
       "3222           None 2017-01-26          2017   None    37 min   \n",
       "\n",
       "                                 listed_in  \\\n",
       "705                                 Movies   \n",
       "1615  Anime Series, International TV Shows   \n",
       "1846                 Kids' TV, TV Comedies   \n",
       "1956                                Movies   \n",
       "1958                                Movies   \n",
       "2312                                Movies   \n",
       "2776                                Dramas   \n",
       "3067                                Movies   \n",
       "3222                                Movies   \n",
       "\n",
       "                                            description  \n",
       "705   Emmy-winning comedy writer Louis C.K. brings h...  \n",
       "1615  After falling through a wormhole, a space-dwel...  \n",
       "1846  Adopting a child's perspective, this show take...  \n",
       "1956  For the first time in 4K Ultra-HD, everyone's ...  \n",
       "1958  The first of its kind in UHD 4K, with the clea...  \n",
       "2312  The comic puts his trademark hilarious/thought...  \n",
       "2776  Amid the chaos and horror of World War II, a c...  \n",
       "3067  Louis C.K. muses on religion, eternal love, gi...  \n",
       "3222  Oprah Winfrey sits down with director Ava DuVe...  "
      ]
     },
     "metadata": {},
     "output_type": "display_data"
    },
    {
     "data": {
      "application/vnd.jupyter.widget-view+json": {
       "model_id": "91a0d363c2a64914bb694d466c2be04b",
       "version_major": 2,
       "version_minor": 0
      },
      "text/plain": [
       "Output()"
      ]
     },
     "metadata": {},
     "output_type": "display_data"
    },
    {
     "data": {
      "application/vnd.jupyter.widget-view+json": {
       "model_id": "f39b50e73c5d4ec487eb132546e85a98",
       "version_major": 2,
       "version_minor": 0
      },
      "text/plain": [
       "Output()"
      ]
     },
     "metadata": {},
     "output_type": "display_data"
    }
   ],
   "source": [
    "missing_ratings = titles_df[titles_df['rating'].isnull()]\n",
    "\n",
    "lm.show_task(441, missing_ratings)"
   ]
  },
  {
   "cell_type": "markdown",
   "metadata": {},
   "source": [
    "**4.4.2 Für Filme und TV Shows die nicht bewertet wurden gibt es zwei Kategorien `NR` für \"Not Rated\" und `UR` für \"Unrated\". In diesem Fall kann es daher sinnvoll sein, diese beiden Kategorien zu einer zusammenzufassen. Außerdem können die Filme und TV Shows, bei denen das Rating fehlt, in die gleiche Kategorie aufgenommen werden. Die Kategorien sollen zu der Kategorie `NR` zusammengefasst werden. Trage nun zunächst für die fehlenden Werte die Kategorie `NR` in der Spalte `ratings` ein.**"
   ]
  },
  {
   "cell_type": "code",
   "execution_count": 78,
   "metadata": {},
   "outputs": [
    {
     "data": {
      "text/html": [
       "<div>\n",
       "<style scoped>\n",
       "    .dataframe tbody tr th:only-of-type {\n",
       "        vertical-align: middle;\n",
       "    }\n",
       "\n",
       "    .dataframe tbody tr th {\n",
       "        vertical-align: top;\n",
       "    }\n",
       "\n",
       "    .dataframe thead th {\n",
       "        text-align: right;\n",
       "    }\n",
       "</style>\n",
       "<table border=\"1\" class=\"dataframe\">\n",
       "  <thead>\n",
       "    <tr style=\"text-align: right;\">\n",
       "      <th></th>\n",
       "      <th>id</th>\n",
       "      <th>type</th>\n",
       "      <th>title</th>\n",
       "      <th>director</th>\n",
       "      <th>cast</th>\n",
       "      <th>country</th>\n",
       "      <th>date_added</th>\n",
       "      <th>release_year</th>\n",
       "      <th>rating</th>\n",
       "      <th>duration</th>\n",
       "      <th>listed_in</th>\n",
       "      <th>description</th>\n",
       "    </tr>\n",
       "  </thead>\n",
       "  <tbody>\n",
       "    <tr>\n",
       "      <th>0</th>\n",
       "      <td>247747</td>\n",
       "      <td>Movie</td>\n",
       "      <td>Amar Akbar Anthony</td>\n",
       "      <td>Manmohan Desai</td>\n",
       "      <td>Vinod Khanna, Rishi Kapoor, Amitabh Bachchan, ...</td>\n",
       "      <td>India</td>\n",
       "      <td>2019-12-31</td>\n",
       "      <td>1977</td>\n",
       "      <td>TV-14</td>\n",
       "      <td>172 min</td>\n",
       "      <td>Action &amp; Adventure, Classic Movies, Comedies</td>\n",
       "      <td>Abandoned in a park by their father, Amar, Akb...</td>\n",
       "    </tr>\n",
       "    <tr>\n",
       "      <th>1</th>\n",
       "      <td>269880</td>\n",
       "      <td>Movie</td>\n",
       "      <td>Bad Boys</td>\n",
       "      <td>Michael Bay</td>\n",
       "      <td>Will Smith, Martin Lawrence, Téa Leoni, Tchéky...</td>\n",
       "      <td>United States</td>\n",
       "      <td>2019-10-01</td>\n",
       "      <td>1995</td>\n",
       "      <td>R</td>\n",
       "      <td>119 min</td>\n",
       "      <td>Action &amp; Adventure, Comedies</td>\n",
       "      <td>In this fast-paced actioner, two Miami narcoti...</td>\n",
       "    </tr>\n",
       "    <tr>\n",
       "      <th>2</th>\n",
       "      <td>281550</td>\n",
       "      <td>Movie</td>\n",
       "      <td>La Bamba</td>\n",
       "      <td>Luis Valdez</td>\n",
       "      <td>Lou Diamond Phillips, Esai Morales, Rosanna De...</td>\n",
       "      <td>United States</td>\n",
       "      <td>2020-01-01</td>\n",
       "      <td>1987</td>\n",
       "      <td>PG-13</td>\n",
       "      <td>109 min</td>\n",
       "      <td>Classic Movies, Dramas, Music &amp; Musicals</td>\n",
       "      <td>The plane crash that killed Buddy Holly also t...</td>\n",
       "    </tr>\n",
       "    <tr>\n",
       "      <th>3</th>\n",
       "      <td>284890</td>\n",
       "      <td>Movie</td>\n",
       "      <td>Barsaat</td>\n",
       "      <td>Rajkumar Santoshi</td>\n",
       "      <td>Twinkle Khanna, Bobby Deol, Danny Denzongpa, R...</td>\n",
       "      <td>India</td>\n",
       "      <td>2018-04-01</td>\n",
       "      <td>1995</td>\n",
       "      <td>TV-PG</td>\n",
       "      <td>166 min</td>\n",
       "      <td>Action &amp; Adventure, International Movies, Musi...</td>\n",
       "      <td>A naïve young man and a rich city girl fall in...</td>\n",
       "    </tr>\n",
       "    <tr>\n",
       "      <th>4</th>\n",
       "      <td>292118</td>\n",
       "      <td>Movie</td>\n",
       "      <td>Beavis and Butt-head Do America</td>\n",
       "      <td>Mike Judge</td>\n",
       "      <td>Mike Judge, Bruce Willis, Demi Moore, Cloris L...</td>\n",
       "      <td>United States</td>\n",
       "      <td>2019-11-20</td>\n",
       "      <td>1996</td>\n",
       "      <td>PG-13</td>\n",
       "      <td>81 min</td>\n",
       "      <td>Comedies, Cult Movies</td>\n",
       "      <td>After realizing that their boob tube is gone, ...</td>\n",
       "    </tr>\n",
       "    <tr>\n",
       "      <th>...</th>\n",
       "      <td>...</td>\n",
       "      <td>...</td>\n",
       "      <td>...</td>\n",
       "      <td>...</td>\n",
       "      <td>...</td>\n",
       "      <td>...</td>\n",
       "      <td>...</td>\n",
       "      <td>...</td>\n",
       "      <td>...</td>\n",
       "      <td>...</td>\n",
       "      <td>...</td>\n",
       "      <td>...</td>\n",
       "    </tr>\n",
       "    <tr>\n",
       "      <th>6229</th>\n",
       "      <td>81224868</td>\n",
       "      <td>TV Show</td>\n",
       "      <td>Robot Trains</td>\n",
       "      <td>Unknown</td>\n",
       "      <td>Bill Rogers, Carrie Savage, Ken Spassione, Ang...</td>\n",
       "      <td>South Korea</td>\n",
       "      <td>2019-12-31</td>\n",
       "      <td>2018</td>\n",
       "      <td>TV-Y7</td>\n",
       "      <td>2 Seasons</td>\n",
       "      <td>Kids' TV, Korean TV Shows</td>\n",
       "      <td>Keeping peace and safety in Train World is no ...</td>\n",
       "    </tr>\n",
       "    <tr>\n",
       "      <th>6230</th>\n",
       "      <td>81227195</td>\n",
       "      <td>Movie</td>\n",
       "      <td>Kalushi: The Story of Solomon Mahlangu</td>\n",
       "      <td>Mandla Dube</td>\n",
       "      <td>Thabo Rametsi, Thabo Malema, Welile Nzuza, Jaf...</td>\n",
       "      <td>South Africa</td>\n",
       "      <td>2019-11-29</td>\n",
       "      <td>2016</td>\n",
       "      <td>TV-MA</td>\n",
       "      <td>107 min</td>\n",
       "      <td>Dramas, International Movies</td>\n",
       "      <td>The life and times of iconic South African lib...</td>\n",
       "    </tr>\n",
       "    <tr>\n",
       "      <th>6231</th>\n",
       "      <td>81228864</td>\n",
       "      <td>Movie</td>\n",
       "      <td>Blitz Patrollie</td>\n",
       "      <td>Andrew Wessels</td>\n",
       "      <td>Joey Rasdien, David Kau, David Kibuuka, Chris ...</td>\n",
       "      <td>South Africa</td>\n",
       "      <td>2019-12-27</td>\n",
       "      <td>2013</td>\n",
       "      <td>TV-MA</td>\n",
       "      <td>102 min</td>\n",
       "      <td>Action &amp; Adventure, Comedies, International Mo...</td>\n",
       "      <td>Caught between family pressures and small-time...</td>\n",
       "    </tr>\n",
       "    <tr>\n",
       "      <th>6232</th>\n",
       "      <td>81235603</td>\n",
       "      <td>TV Show</td>\n",
       "      <td>Sym-Bionic Titan</td>\n",
       "      <td>Unknown</td>\n",
       "      <td>Tara Strong, Kevin Thoms, Brian Posehn, John D...</td>\n",
       "      <td>United States</td>\n",
       "      <td>2019-12-15</td>\n",
       "      <td>2010</td>\n",
       "      <td>TV-PG</td>\n",
       "      <td>1 Season</td>\n",
       "      <td>Kids' TV</td>\n",
       "      <td>Aliens fleeing their planet land on Earth, pos...</td>\n",
       "    </tr>\n",
       "    <tr>\n",
       "      <th>6233</th>\n",
       "      <td>81235729</td>\n",
       "      <td>Movie</td>\n",
       "      <td>Jezebel</td>\n",
       "      <td>Numa Perrier</td>\n",
       "      <td>Tiffany Tenille, Numa Perrier, Stephen Barring...</td>\n",
       "      <td>United States</td>\n",
       "      <td>2020-01-16</td>\n",
       "      <td>2019</td>\n",
       "      <td>TV-MA</td>\n",
       "      <td>86 min</td>\n",
       "      <td>Dramas, Independent Movies</td>\n",
       "      <td>During the internet's infancy, a vulnerable wo...</td>\n",
       "    </tr>\n",
       "  </tbody>\n",
       "</table>\n",
       "<p>6223 rows × 12 columns</p>\n",
       "</div>"
      ],
      "text/plain": [
       "            id     type                                   title  \\\n",
       "0       247747    Movie                      Amar Akbar Anthony   \n",
       "1       269880    Movie                                Bad Boys   \n",
       "2       281550    Movie                                La Bamba   \n",
       "3       284890    Movie                                 Barsaat   \n",
       "4       292118    Movie         Beavis and Butt-head Do America   \n",
       "...        ...      ...                                     ...   \n",
       "6229  81224868  TV Show                            Robot Trains   \n",
       "6230  81227195    Movie  Kalushi: The Story of Solomon Mahlangu   \n",
       "6231  81228864    Movie                         Blitz Patrollie   \n",
       "6232  81235603  TV Show                        Sym-Bionic Titan   \n",
       "6233  81235729    Movie                                 Jezebel   \n",
       "\n",
       "               director                                               cast  \\\n",
       "0        Manmohan Desai  Vinod Khanna, Rishi Kapoor, Amitabh Bachchan, ...   \n",
       "1           Michael Bay  Will Smith, Martin Lawrence, Téa Leoni, Tchéky...   \n",
       "2           Luis Valdez  Lou Diamond Phillips, Esai Morales, Rosanna De...   \n",
       "3     Rajkumar Santoshi  Twinkle Khanna, Bobby Deol, Danny Denzongpa, R...   \n",
       "4            Mike Judge  Mike Judge, Bruce Willis, Demi Moore, Cloris L...   \n",
       "...                 ...                                                ...   \n",
       "6229            Unknown  Bill Rogers, Carrie Savage, Ken Spassione, Ang...   \n",
       "6230        Mandla Dube  Thabo Rametsi, Thabo Malema, Welile Nzuza, Jaf...   \n",
       "6231     Andrew Wessels  Joey Rasdien, David Kau, David Kibuuka, Chris ...   \n",
       "6232            Unknown  Tara Strong, Kevin Thoms, Brian Posehn, John D...   \n",
       "6233       Numa Perrier  Tiffany Tenille, Numa Perrier, Stephen Barring...   \n",
       "\n",
       "            country date_added  release_year rating   duration  \\\n",
       "0             India 2019-12-31          1977  TV-14    172 min   \n",
       "1     United States 2019-10-01          1995      R    119 min   \n",
       "2     United States 2020-01-01          1987  PG-13    109 min   \n",
       "3             India 2018-04-01          1995  TV-PG    166 min   \n",
       "4     United States 2019-11-20          1996  PG-13     81 min   \n",
       "...             ...        ...           ...    ...        ...   \n",
       "6229    South Korea 2019-12-31          2018  TV-Y7  2 Seasons   \n",
       "6230   South Africa 2019-11-29          2016  TV-MA    107 min   \n",
       "6231   South Africa 2019-12-27          2013  TV-MA    102 min   \n",
       "6232  United States 2019-12-15          2010  TV-PG   1 Season   \n",
       "6233  United States 2020-01-16          2019  TV-MA     86 min   \n",
       "\n",
       "                                              listed_in  \\\n",
       "0          Action & Adventure, Classic Movies, Comedies   \n",
       "1                          Action & Adventure, Comedies   \n",
       "2              Classic Movies, Dramas, Music & Musicals   \n",
       "3     Action & Adventure, International Movies, Musi...   \n",
       "4                                 Comedies, Cult Movies   \n",
       "...                                                 ...   \n",
       "6229                          Kids' TV, Korean TV Shows   \n",
       "6230                       Dramas, International Movies   \n",
       "6231  Action & Adventure, Comedies, International Mo...   \n",
       "6232                                           Kids' TV   \n",
       "6233                         Dramas, Independent Movies   \n",
       "\n",
       "                                            description  \n",
       "0     Abandoned in a park by their father, Amar, Akb...  \n",
       "1     In this fast-paced actioner, two Miami narcoti...  \n",
       "2     The plane crash that killed Buddy Holly also t...  \n",
       "3     A naïve young man and a rich city girl fall in...  \n",
       "4     After realizing that their boob tube is gone, ...  \n",
       "...                                                 ...  \n",
       "6229  Keeping peace and safety in Train World is no ...  \n",
       "6230  The life and times of iconic South African lib...  \n",
       "6231  Caught between family pressures and small-time...  \n",
       "6232  Aliens fleeing their planet land on Earth, pos...  \n",
       "6233  During the internet's infancy, a vulnerable wo...  \n",
       "\n",
       "[6223 rows x 12 columns]"
      ]
     },
     "metadata": {},
     "output_type": "display_data"
    },
    {
     "data": {
      "application/vnd.jupyter.widget-view+json": {
       "model_id": "1bc9637966e74f34827b79ccf1ea5f5c",
       "version_major": 2,
       "version_minor": 0
      },
      "text/plain": [
       "Output()"
      ]
     },
     "metadata": {},
     "output_type": "display_data"
    },
    {
     "data": {
      "application/vnd.jupyter.widget-view+json": {
       "model_id": "6535a1fe88ac43bfb2c8295bead4ca37",
       "version_major": 2,
       "version_minor": 0
      },
      "text/plain": [
       "Output()"
      ]
     },
     "metadata": {},
     "output_type": "display_data"
    }
   ],
   "source": [
    "titles_copy = titles_df.copy()\n",
    "\n",
    "titles_df['rating'].fillna('NR', inplace=True)\n",
    "lm.show_task(442, titles_df)"
   ]
  },
  {
   "cell_type": "markdown",
   "metadata": {},
   "source": [
    "Das Ersetzen der Kategorie `UR` wird im Abschnitt [5.2 Manipulation von Daten](#manipulationDaten) durchgeführt."
   ]
  },
  {
   "cell_type": "markdown",
   "metadata": {},
   "source": [
    "**4.4.3 In den Daten sind nun immer noch Null Werte in den Spalten `cast` und `country` enthalten. Da diese Spalten für die spätere Analyse noch wichtig sein könnten, sollten nicht die kompletten Spalten entfernt werden. Entferne nur die Zeilen des DataFrames `titles_df`, die noch `NaN` Werte enthalten.** "
   ]
  },
  {
   "cell_type": "code",
   "execution_count": 79,
   "metadata": {},
   "outputs": [
    {
     "data": {
      "text/html": [
       "<div>\n",
       "<style scoped>\n",
       "    .dataframe tbody tr th:only-of-type {\n",
       "        vertical-align: middle;\n",
       "    }\n",
       "\n",
       "    .dataframe tbody tr th {\n",
       "        vertical-align: top;\n",
       "    }\n",
       "\n",
       "    .dataframe thead th {\n",
       "        text-align: right;\n",
       "    }\n",
       "</style>\n",
       "<table border=\"1\" class=\"dataframe\">\n",
       "  <thead>\n",
       "    <tr style=\"text-align: right;\">\n",
       "      <th></th>\n",
       "      <th>id</th>\n",
       "      <th>type</th>\n",
       "      <th>title</th>\n",
       "      <th>director</th>\n",
       "      <th>cast</th>\n",
       "      <th>country</th>\n",
       "      <th>date_added</th>\n",
       "      <th>release_year</th>\n",
       "      <th>rating</th>\n",
       "      <th>duration</th>\n",
       "      <th>listed_in</th>\n",
       "      <th>description</th>\n",
       "    </tr>\n",
       "  </thead>\n",
       "  <tbody>\n",
       "    <tr>\n",
       "      <th>0</th>\n",
       "      <td>247747</td>\n",
       "      <td>Movie</td>\n",
       "      <td>Amar Akbar Anthony</td>\n",
       "      <td>Manmohan Desai</td>\n",
       "      <td>Vinod Khanna, Rishi Kapoor, Amitabh Bachchan, ...</td>\n",
       "      <td>India</td>\n",
       "      <td>2019-12-31</td>\n",
       "      <td>1977</td>\n",
       "      <td>TV-14</td>\n",
       "      <td>172 min</td>\n",
       "      <td>Action &amp; Adventure, Classic Movies, Comedies</td>\n",
       "      <td>Abandoned in a park by their father, Amar, Akb...</td>\n",
       "    </tr>\n",
       "    <tr>\n",
       "      <th>1</th>\n",
       "      <td>269880</td>\n",
       "      <td>Movie</td>\n",
       "      <td>Bad Boys</td>\n",
       "      <td>Michael Bay</td>\n",
       "      <td>Will Smith, Martin Lawrence, Téa Leoni, Tchéky...</td>\n",
       "      <td>United States</td>\n",
       "      <td>2019-10-01</td>\n",
       "      <td>1995</td>\n",
       "      <td>R</td>\n",
       "      <td>119 min</td>\n",
       "      <td>Action &amp; Adventure, Comedies</td>\n",
       "      <td>In this fast-paced actioner, two Miami narcoti...</td>\n",
       "    </tr>\n",
       "    <tr>\n",
       "      <th>2</th>\n",
       "      <td>281550</td>\n",
       "      <td>Movie</td>\n",
       "      <td>La Bamba</td>\n",
       "      <td>Luis Valdez</td>\n",
       "      <td>Lou Diamond Phillips, Esai Morales, Rosanna De...</td>\n",
       "      <td>United States</td>\n",
       "      <td>2020-01-01</td>\n",
       "      <td>1987</td>\n",
       "      <td>PG-13</td>\n",
       "      <td>109 min</td>\n",
       "      <td>Classic Movies, Dramas, Music &amp; Musicals</td>\n",
       "      <td>The plane crash that killed Buddy Holly also t...</td>\n",
       "    </tr>\n",
       "    <tr>\n",
       "      <th>3</th>\n",
       "      <td>284890</td>\n",
       "      <td>Movie</td>\n",
       "      <td>Barsaat</td>\n",
       "      <td>Rajkumar Santoshi</td>\n",
       "      <td>Twinkle Khanna, Bobby Deol, Danny Denzongpa, R...</td>\n",
       "      <td>India</td>\n",
       "      <td>2018-04-01</td>\n",
       "      <td>1995</td>\n",
       "      <td>TV-PG</td>\n",
       "      <td>166 min</td>\n",
       "      <td>Action &amp; Adventure, International Movies, Musi...</td>\n",
       "      <td>A naïve young man and a rich city girl fall in...</td>\n",
       "    </tr>\n",
       "    <tr>\n",
       "      <th>4</th>\n",
       "      <td>292118</td>\n",
       "      <td>Movie</td>\n",
       "      <td>Beavis and Butt-head Do America</td>\n",
       "      <td>Mike Judge</td>\n",
       "      <td>Mike Judge, Bruce Willis, Demi Moore, Cloris L...</td>\n",
       "      <td>United States</td>\n",
       "      <td>2019-11-20</td>\n",
       "      <td>1996</td>\n",
       "      <td>PG-13</td>\n",
       "      <td>81 min</td>\n",
       "      <td>Comedies, Cult Movies</td>\n",
       "      <td>After realizing that their boob tube is gone, ...</td>\n",
       "    </tr>\n",
       "    <tr>\n",
       "      <th>...</th>\n",
       "      <td>...</td>\n",
       "      <td>...</td>\n",
       "      <td>...</td>\n",
       "      <td>...</td>\n",
       "      <td>...</td>\n",
       "      <td>...</td>\n",
       "      <td>...</td>\n",
       "      <td>...</td>\n",
       "      <td>...</td>\n",
       "      <td>...</td>\n",
       "      <td>...</td>\n",
       "      <td>...</td>\n",
       "    </tr>\n",
       "    <tr>\n",
       "      <th>6229</th>\n",
       "      <td>81224868</td>\n",
       "      <td>TV Show</td>\n",
       "      <td>Robot Trains</td>\n",
       "      <td>Unknown</td>\n",
       "      <td>Bill Rogers, Carrie Savage, Ken Spassione, Ang...</td>\n",
       "      <td>South Korea</td>\n",
       "      <td>2019-12-31</td>\n",
       "      <td>2018</td>\n",
       "      <td>TV-Y7</td>\n",
       "      <td>2 Seasons</td>\n",
       "      <td>Kids' TV, Korean TV Shows</td>\n",
       "      <td>Keeping peace and safety in Train World is no ...</td>\n",
       "    </tr>\n",
       "    <tr>\n",
       "      <th>6230</th>\n",
       "      <td>81227195</td>\n",
       "      <td>Movie</td>\n",
       "      <td>Kalushi: The Story of Solomon Mahlangu</td>\n",
       "      <td>Mandla Dube</td>\n",
       "      <td>Thabo Rametsi, Thabo Malema, Welile Nzuza, Jaf...</td>\n",
       "      <td>South Africa</td>\n",
       "      <td>2019-11-29</td>\n",
       "      <td>2016</td>\n",
       "      <td>TV-MA</td>\n",
       "      <td>107 min</td>\n",
       "      <td>Dramas, International Movies</td>\n",
       "      <td>The life and times of iconic South African lib...</td>\n",
       "    </tr>\n",
       "    <tr>\n",
       "      <th>6231</th>\n",
       "      <td>81228864</td>\n",
       "      <td>Movie</td>\n",
       "      <td>Blitz Patrollie</td>\n",
       "      <td>Andrew Wessels</td>\n",
       "      <td>Joey Rasdien, David Kau, David Kibuuka, Chris ...</td>\n",
       "      <td>South Africa</td>\n",
       "      <td>2019-12-27</td>\n",
       "      <td>2013</td>\n",
       "      <td>TV-MA</td>\n",
       "      <td>102 min</td>\n",
       "      <td>Action &amp; Adventure, Comedies, International Mo...</td>\n",
       "      <td>Caught between family pressures and small-time...</td>\n",
       "    </tr>\n",
       "    <tr>\n",
       "      <th>6232</th>\n",
       "      <td>81235603</td>\n",
       "      <td>TV Show</td>\n",
       "      <td>Sym-Bionic Titan</td>\n",
       "      <td>Unknown</td>\n",
       "      <td>Tara Strong, Kevin Thoms, Brian Posehn, John D...</td>\n",
       "      <td>United States</td>\n",
       "      <td>2019-12-15</td>\n",
       "      <td>2010</td>\n",
       "      <td>TV-PG</td>\n",
       "      <td>1 Season</td>\n",
       "      <td>Kids' TV</td>\n",
       "      <td>Aliens fleeing their planet land on Earth, pos...</td>\n",
       "    </tr>\n",
       "    <tr>\n",
       "      <th>6233</th>\n",
       "      <td>81235729</td>\n",
       "      <td>Movie</td>\n",
       "      <td>Jezebel</td>\n",
       "      <td>Numa Perrier</td>\n",
       "      <td>Tiffany Tenille, Numa Perrier, Stephen Barring...</td>\n",
       "      <td>United States</td>\n",
       "      <td>2020-01-16</td>\n",
       "      <td>2019</td>\n",
       "      <td>TV-MA</td>\n",
       "      <td>86 min</td>\n",
       "      <td>Dramas, Independent Movies</td>\n",
       "      <td>During the internet's infancy, a vulnerable wo...</td>\n",
       "    </tr>\n",
       "  </tbody>\n",
       "</table>\n",
       "<p>5262 rows × 12 columns</p>\n",
       "</div>"
      ],
      "text/plain": [
       "            id     type                                   title  \\\n",
       "0       247747    Movie                      Amar Akbar Anthony   \n",
       "1       269880    Movie                                Bad Boys   \n",
       "2       281550    Movie                                La Bamba   \n",
       "3       284890    Movie                                 Barsaat   \n",
       "4       292118    Movie         Beavis and Butt-head Do America   \n",
       "...        ...      ...                                     ...   \n",
       "6229  81224868  TV Show                            Robot Trains   \n",
       "6230  81227195    Movie  Kalushi: The Story of Solomon Mahlangu   \n",
       "6231  81228864    Movie                         Blitz Patrollie   \n",
       "6232  81235603  TV Show                        Sym-Bionic Titan   \n",
       "6233  81235729    Movie                                 Jezebel   \n",
       "\n",
       "               director                                               cast  \\\n",
       "0        Manmohan Desai  Vinod Khanna, Rishi Kapoor, Amitabh Bachchan, ...   \n",
       "1           Michael Bay  Will Smith, Martin Lawrence, Téa Leoni, Tchéky...   \n",
       "2           Luis Valdez  Lou Diamond Phillips, Esai Morales, Rosanna De...   \n",
       "3     Rajkumar Santoshi  Twinkle Khanna, Bobby Deol, Danny Denzongpa, R...   \n",
       "4            Mike Judge  Mike Judge, Bruce Willis, Demi Moore, Cloris L...   \n",
       "...                 ...                                                ...   \n",
       "6229            Unknown  Bill Rogers, Carrie Savage, Ken Spassione, Ang...   \n",
       "6230        Mandla Dube  Thabo Rametsi, Thabo Malema, Welile Nzuza, Jaf...   \n",
       "6231     Andrew Wessels  Joey Rasdien, David Kau, David Kibuuka, Chris ...   \n",
       "6232            Unknown  Tara Strong, Kevin Thoms, Brian Posehn, John D...   \n",
       "6233       Numa Perrier  Tiffany Tenille, Numa Perrier, Stephen Barring...   \n",
       "\n",
       "            country date_added  release_year rating   duration  \\\n",
       "0             India 2019-12-31          1977  TV-14    172 min   \n",
       "1     United States 2019-10-01          1995      R    119 min   \n",
       "2     United States 2020-01-01          1987  PG-13    109 min   \n",
       "3             India 2018-04-01          1995  TV-PG    166 min   \n",
       "4     United States 2019-11-20          1996  PG-13     81 min   \n",
       "...             ...        ...           ...    ...        ...   \n",
       "6229    South Korea 2019-12-31          2018  TV-Y7  2 Seasons   \n",
       "6230   South Africa 2019-11-29          2016  TV-MA    107 min   \n",
       "6231   South Africa 2019-12-27          2013  TV-MA    102 min   \n",
       "6232  United States 2019-12-15          2010  TV-PG   1 Season   \n",
       "6233  United States 2020-01-16          2019  TV-MA     86 min   \n",
       "\n",
       "                                              listed_in  \\\n",
       "0          Action & Adventure, Classic Movies, Comedies   \n",
       "1                          Action & Adventure, Comedies   \n",
       "2              Classic Movies, Dramas, Music & Musicals   \n",
       "3     Action & Adventure, International Movies, Musi...   \n",
       "4                                 Comedies, Cult Movies   \n",
       "...                                                 ...   \n",
       "6229                          Kids' TV, Korean TV Shows   \n",
       "6230                       Dramas, International Movies   \n",
       "6231  Action & Adventure, Comedies, International Mo...   \n",
       "6232                                           Kids' TV   \n",
       "6233                         Dramas, Independent Movies   \n",
       "\n",
       "                                            description  \n",
       "0     Abandoned in a park by their father, Amar, Akb...  \n",
       "1     In this fast-paced actioner, two Miami narcoti...  \n",
       "2     The plane crash that killed Buddy Holly also t...  \n",
       "3     A naïve young man and a rich city girl fall in...  \n",
       "4     After realizing that their boob tube is gone, ...  \n",
       "...                                                 ...  \n",
       "6229  Keeping peace and safety in Train World is no ...  \n",
       "6230  The life and times of iconic South African lib...  \n",
       "6231  Caught between family pressures and small-time...  \n",
       "6232  Aliens fleeing their planet land on Earth, pos...  \n",
       "6233  During the internet's infancy, a vulnerable wo...  \n",
       "\n",
       "[5262 rows x 12 columns]"
      ]
     },
     "metadata": {},
     "output_type": "display_data"
    },
    {
     "data": {
      "application/vnd.jupyter.widget-view+json": {
       "model_id": "085120ea698a49379d50a893bb769510",
       "version_major": 2,
       "version_minor": 0
      },
      "text/plain": [
       "Output()"
      ]
     },
     "metadata": {},
     "output_type": "display_data"
    },
    {
     "data": {
      "application/vnd.jupyter.widget-view+json": {
       "model_id": "ca46f4bc07f14b6d914359caae5f0383",
       "version_major": 2,
       "version_minor": 0
      },
      "text/plain": [
       "Output()"
      ]
     },
     "metadata": {},
     "output_type": "display_data"
    }
   ],
   "source": [
    "titles_df = titles_df.dropna()\n",
    "lm.show_task(443, titles_df)"
   ]
  },
  {
   "cell_type": "markdown",
   "metadata": {},
   "source": [
    "<div style=\"background-color: #150458 ; padding: 5px; \"></div>\n",
    "\n",
    "## 5 Datenmanipulation"
   ]
  },
  {
   "cell_type": "markdown",
   "metadata": {},
   "source": [
    "Manchmal sind die Daten nicht direkt in der Form vorhanden, in der wir sie zur weiteren Verarbeitung benötigen. Aus diesem Grund müssen die Daten so angepasst werden, dass später Erkenntnisse aus ihnen gewonnen werden können. Dafür muss eventuell die Datenstruktur des DatFrames angepasst werden. Zum Beispiel werden neue Informationen aus vorhandenen Spalten generiert und in eigenen Spalten dargestellt. Die alten Spalten können in diesem Fall ggf. entfernt werden. Um die Daten später in einem Machine Learning Modell zu verwenden können Techniken wie zum Beispiel One-hot Encoding und Binning hilfreich sein. \n",
    "\n",
    "Für den folgenden Abschnitt werden teilweise zwei zusätzliche DataFrames benötigt. Einen DataFrame, der nur die Filme enthält (`movies_df`) und einen DataFrame, der nur die Serien enthält (`tv_df`). Diese müssen an dieser Stelle zunächst generiert werden. In Abschnitt [3.5 Bedingte Auswahl von Daten](#3.5-Bedingte-Auswahl-von-Daten) wurde bereits erläutert, wie dies funktioniert."
   ]
  },
  {
   "cell_type": "code",
   "execution_count": 80,
   "metadata": {},
   "outputs": [],
   "source": [
    "movies_df = titles_df.loc[titles_df['type'] == 'Movie']\n",
    "tv_df = titles_df.loc[titles_df['type'] == 'TV Show']"
   ]
  },
  {
   "cell_type": "markdown",
   "metadata": {},
   "source": [
    "### 5.1 Manipulation der Datenstruktur"
   ]
  },
  {
   "cell_type": "markdown",
   "metadata": {},
   "source": [
    "Einem DataFrame können beliebig viele Zeilen oder Spalten hinzugefügt werden. Zum Hinzufügen einer Zeile kann die Methode `append()` genutzt werden. Wenn mehrere Zeilen hinzugefügt werden sollen, kann in die Methode ein DataFrame mit den zusätzlichen Zeilen hereingegeben werden. Alternativ können Dictonaries und Listen genutzt werden. Für einzelne Zeilen kann auch ein Series Objekt übergeben werden. Durch den Parameter `ignore_index=True` wird die Zeile einfach an die bestehenden Daten angehängt und erhält den nächsten Indexwert in der Reihe. Die Indexbeschriftung wird dabei bei der Verkettung der Inhalte ignoriert.\n",
    "\n",
    "Wird eine neue Zeile hinzugefügt müssen nicht alle Informationen für diese Zeile bereitgestellt werden. Alle Zellen für die kein Wert vorhanden ist erhalten den Wert `NaN`. Im folgenden Beispiel soll ein neuer Film `new_movie` zu dem bestehenden DataFrame `titles_df` hinzugefügt werden. Für den neuen Film sind allerdings nicht alle Informationen vorhanden, zum Beispiel fehlen die Inhalte für die Spalten `description` und `listed_in`."
   ]
  },
  {
   "cell_type": "code",
   "execution_count": 81,
   "metadata": {},
   "outputs": [
    {
     "data": {
      "text/html": [
       "<div>\n",
       "<style scoped>\n",
       "    .dataframe tbody tr th:only-of-type {\n",
       "        vertical-align: middle;\n",
       "    }\n",
       "\n",
       "    .dataframe tbody tr th {\n",
       "        vertical-align: top;\n",
       "    }\n",
       "\n",
       "    .dataframe thead th {\n",
       "        text-align: right;\n",
       "    }\n",
       "</style>\n",
       "<table border=\"1\" class=\"dataframe\">\n",
       "  <thead>\n",
       "    <tr style=\"text-align: right;\">\n",
       "      <th></th>\n",
       "      <th>id</th>\n",
       "      <th>type</th>\n",
       "      <th>title</th>\n",
       "      <th>director</th>\n",
       "      <th>cast</th>\n",
       "      <th>country</th>\n",
       "      <th>date_added</th>\n",
       "      <th>release_year</th>\n",
       "      <th>rating</th>\n",
       "      <th>duration</th>\n",
       "      <th>listed_in</th>\n",
       "      <th>description</th>\n",
       "    </tr>\n",
       "  </thead>\n",
       "  <tbody>\n",
       "    <tr>\n",
       "      <th>5258</th>\n",
       "      <td>81227195</td>\n",
       "      <td>Movie</td>\n",
       "      <td>Kalushi: The Story of Solomon Mahlangu</td>\n",
       "      <td>Mandla Dube</td>\n",
       "      <td>Thabo Rametsi, Thabo Malema, Welile Nzuza, Jaf...</td>\n",
       "      <td>South Africa</td>\n",
       "      <td>2019-11-29</td>\n",
       "      <td>2016</td>\n",
       "      <td>TV-MA</td>\n",
       "      <td>107 min</td>\n",
       "      <td>Dramas, International Movies</td>\n",
       "      <td>The life and times of iconic South African lib...</td>\n",
       "    </tr>\n",
       "    <tr>\n",
       "      <th>5259</th>\n",
       "      <td>81228864</td>\n",
       "      <td>Movie</td>\n",
       "      <td>Blitz Patrollie</td>\n",
       "      <td>Andrew Wessels</td>\n",
       "      <td>Joey Rasdien, David Kau, David Kibuuka, Chris ...</td>\n",
       "      <td>South Africa</td>\n",
       "      <td>2019-12-27</td>\n",
       "      <td>2013</td>\n",
       "      <td>TV-MA</td>\n",
       "      <td>102 min</td>\n",
       "      <td>Action &amp; Adventure, Comedies, International Mo...</td>\n",
       "      <td>Caught between family pressures and small-time...</td>\n",
       "    </tr>\n",
       "    <tr>\n",
       "      <th>5260</th>\n",
       "      <td>81235603</td>\n",
       "      <td>TV Show</td>\n",
       "      <td>Sym-Bionic Titan</td>\n",
       "      <td>Unknown</td>\n",
       "      <td>Tara Strong, Kevin Thoms, Brian Posehn, John D...</td>\n",
       "      <td>United States</td>\n",
       "      <td>2019-12-15</td>\n",
       "      <td>2010</td>\n",
       "      <td>TV-PG</td>\n",
       "      <td>1 Season</td>\n",
       "      <td>Kids' TV</td>\n",
       "      <td>Aliens fleeing their planet land on Earth, pos...</td>\n",
       "    </tr>\n",
       "    <tr>\n",
       "      <th>5261</th>\n",
       "      <td>81235729</td>\n",
       "      <td>Movie</td>\n",
       "      <td>Jezebel</td>\n",
       "      <td>Numa Perrier</td>\n",
       "      <td>Tiffany Tenille, Numa Perrier, Stephen Barring...</td>\n",
       "      <td>United States</td>\n",
       "      <td>2020-01-16</td>\n",
       "      <td>2019</td>\n",
       "      <td>TV-MA</td>\n",
       "      <td>86 min</td>\n",
       "      <td>Dramas, Independent Movies</td>\n",
       "      <td>During the internet's infancy, a vulnerable wo...</td>\n",
       "    </tr>\n",
       "    <tr>\n",
       "      <th>5262</th>\n",
       "      <td>99999999</td>\n",
       "      <td>Movie</td>\n",
       "      <td>The White Tiger</td>\n",
       "      <td>NaN</td>\n",
       "      <td>NaN</td>\n",
       "      <td>NaN</td>\n",
       "      <td>NaT</td>\n",
       "      <td>2021</td>\n",
       "      <td>NaN</td>\n",
       "      <td>125 min</td>\n",
       "      <td>NaN</td>\n",
       "      <td>NaN</td>\n",
       "    </tr>\n",
       "  </tbody>\n",
       "</table>\n",
       "</div>"
      ],
      "text/plain": [
       "            id     type                                   title  \\\n",
       "5258  81227195    Movie  Kalushi: The Story of Solomon Mahlangu   \n",
       "5259  81228864    Movie                         Blitz Patrollie   \n",
       "5260  81235603  TV Show                        Sym-Bionic Titan   \n",
       "5261  81235729    Movie                                 Jezebel   \n",
       "5262  99999999    Movie                         The White Tiger   \n",
       "\n",
       "            director                                               cast  \\\n",
       "5258     Mandla Dube  Thabo Rametsi, Thabo Malema, Welile Nzuza, Jaf...   \n",
       "5259  Andrew Wessels  Joey Rasdien, David Kau, David Kibuuka, Chris ...   \n",
       "5260         Unknown  Tara Strong, Kevin Thoms, Brian Posehn, John D...   \n",
       "5261    Numa Perrier  Tiffany Tenille, Numa Perrier, Stephen Barring...   \n",
       "5262             NaN                                                NaN   \n",
       "\n",
       "            country date_added  release_year rating  duration  \\\n",
       "5258   South Africa 2019-11-29          2016  TV-MA   107 min   \n",
       "5259   South Africa 2019-12-27          2013  TV-MA   102 min   \n",
       "5260  United States 2019-12-15          2010  TV-PG  1 Season   \n",
       "5261  United States 2020-01-16          2019  TV-MA    86 min   \n",
       "5262            NaN        NaT          2021    NaN   125 min   \n",
       "\n",
       "                                              listed_in  \\\n",
       "5258                       Dramas, International Movies   \n",
       "5259  Action & Adventure, Comedies, International Mo...   \n",
       "5260                                           Kids' TV   \n",
       "5261                         Dramas, Independent Movies   \n",
       "5262                                                NaN   \n",
       "\n",
       "                                            description  \n",
       "5258  The life and times of iconic South African lib...  \n",
       "5259  Caught between family pressures and small-time...  \n",
       "5260  Aliens fleeing their planet land on Earth, pos...  \n",
       "5261  During the internet's infancy, a vulnerable wo...  \n",
       "5262                                                NaN  "
      ]
     },
     "execution_count": 81,
     "metadata": {},
     "output_type": "execute_result"
    }
   ],
   "source": [
    "new_movie = pd.DataFrame({'id': [99999999], 'type': ['Movie'], 'title': ['The White Tiger'], 'release_year': [2021], 'duration': ['125 min']})\n",
    "\n",
    "titles_df = titles_df.append(new_movie, ignore_index=True)\n",
    "\n",
    "titles_df.tail()"
   ]
  },
  {
   "cell_type": "markdown",
   "metadata": {},
   "source": [
    "Der neue Film wurde dem DataFrame `titles_df` nun hinzugefügt, wie der Aufruf von `titles_df.tail()` zeigt.\n",
    "\n",
    "Um eine Zeile aus dem DataFrame zu entfernen wird die Methode `drop()` genutzt. Hierfür muss der Parameter `axis=0` gesetzt werden. Dies bedeutet, dass Zeilen gelöscht werden sollen. **Hinweis:** Bei `axis=1` werden Spalten gelöscht.\n",
    "\n",
    "Der Methode `drop()` wird dann der zu löschende Indexwert hereingegeben. Sollen mehrere Zeilen gelöscht werden können die entsprechenden Indexwerte in Form einer Liste hereingegeben werden. Defaultmäßig wird nach dem Löschen ein neuer DataFrame zurückgegeben. Um den ursprünglichen DataFrame zu ändern muss wieder `inplace=True` hinzugefügt werden."
   ]
  },
  {
   "cell_type": "code",
   "execution_count": 82,
   "metadata": {},
   "outputs": [
    {
     "data": {
      "text/html": [
       "<div>\n",
       "<style scoped>\n",
       "    .dataframe tbody tr th:only-of-type {\n",
       "        vertical-align: middle;\n",
       "    }\n",
       "\n",
       "    .dataframe tbody tr th {\n",
       "        vertical-align: top;\n",
       "    }\n",
       "\n",
       "    .dataframe thead th {\n",
       "        text-align: right;\n",
       "    }\n",
       "</style>\n",
       "<table border=\"1\" class=\"dataframe\">\n",
       "  <thead>\n",
       "    <tr style=\"text-align: right;\">\n",
       "      <th></th>\n",
       "      <th>id</th>\n",
       "      <th>type</th>\n",
       "      <th>title</th>\n",
       "      <th>director</th>\n",
       "      <th>cast</th>\n",
       "      <th>country</th>\n",
       "      <th>date_added</th>\n",
       "      <th>release_year</th>\n",
       "      <th>rating</th>\n",
       "      <th>duration</th>\n",
       "      <th>listed_in</th>\n",
       "      <th>description</th>\n",
       "    </tr>\n",
       "  </thead>\n",
       "  <tbody>\n",
       "    <tr>\n",
       "      <th>5257</th>\n",
       "      <td>81224868</td>\n",
       "      <td>TV Show</td>\n",
       "      <td>Robot Trains</td>\n",
       "      <td>Unknown</td>\n",
       "      <td>Bill Rogers, Carrie Savage, Ken Spassione, Ang...</td>\n",
       "      <td>South Korea</td>\n",
       "      <td>2019-12-31</td>\n",
       "      <td>2018</td>\n",
       "      <td>TV-Y7</td>\n",
       "      <td>2 Seasons</td>\n",
       "      <td>Kids' TV, Korean TV Shows</td>\n",
       "      <td>Keeping peace and safety in Train World is no ...</td>\n",
       "    </tr>\n",
       "    <tr>\n",
       "      <th>5258</th>\n",
       "      <td>81227195</td>\n",
       "      <td>Movie</td>\n",
       "      <td>Kalushi: The Story of Solomon Mahlangu</td>\n",
       "      <td>Mandla Dube</td>\n",
       "      <td>Thabo Rametsi, Thabo Malema, Welile Nzuza, Jaf...</td>\n",
       "      <td>South Africa</td>\n",
       "      <td>2019-11-29</td>\n",
       "      <td>2016</td>\n",
       "      <td>TV-MA</td>\n",
       "      <td>107 min</td>\n",
       "      <td>Dramas, International Movies</td>\n",
       "      <td>The life and times of iconic South African lib...</td>\n",
       "    </tr>\n",
       "    <tr>\n",
       "      <th>5259</th>\n",
       "      <td>81228864</td>\n",
       "      <td>Movie</td>\n",
       "      <td>Blitz Patrollie</td>\n",
       "      <td>Andrew Wessels</td>\n",
       "      <td>Joey Rasdien, David Kau, David Kibuuka, Chris ...</td>\n",
       "      <td>South Africa</td>\n",
       "      <td>2019-12-27</td>\n",
       "      <td>2013</td>\n",
       "      <td>TV-MA</td>\n",
       "      <td>102 min</td>\n",
       "      <td>Action &amp; Adventure, Comedies, International Mo...</td>\n",
       "      <td>Caught between family pressures and small-time...</td>\n",
       "    </tr>\n",
       "    <tr>\n",
       "      <th>5260</th>\n",
       "      <td>81235603</td>\n",
       "      <td>TV Show</td>\n",
       "      <td>Sym-Bionic Titan</td>\n",
       "      <td>Unknown</td>\n",
       "      <td>Tara Strong, Kevin Thoms, Brian Posehn, John D...</td>\n",
       "      <td>United States</td>\n",
       "      <td>2019-12-15</td>\n",
       "      <td>2010</td>\n",
       "      <td>TV-PG</td>\n",
       "      <td>1 Season</td>\n",
       "      <td>Kids' TV</td>\n",
       "      <td>Aliens fleeing their planet land on Earth, pos...</td>\n",
       "    </tr>\n",
       "    <tr>\n",
       "      <th>5261</th>\n",
       "      <td>81235729</td>\n",
       "      <td>Movie</td>\n",
       "      <td>Jezebel</td>\n",
       "      <td>Numa Perrier</td>\n",
       "      <td>Tiffany Tenille, Numa Perrier, Stephen Barring...</td>\n",
       "      <td>United States</td>\n",
       "      <td>2020-01-16</td>\n",
       "      <td>2019</td>\n",
       "      <td>TV-MA</td>\n",
       "      <td>86 min</td>\n",
       "      <td>Dramas, Independent Movies</td>\n",
       "      <td>During the internet's infancy, a vulnerable wo...</td>\n",
       "    </tr>\n",
       "  </tbody>\n",
       "</table>\n",
       "</div>"
      ],
      "text/plain": [
       "            id     type                                   title  \\\n",
       "5257  81224868  TV Show                            Robot Trains   \n",
       "5258  81227195    Movie  Kalushi: The Story of Solomon Mahlangu   \n",
       "5259  81228864    Movie                         Blitz Patrollie   \n",
       "5260  81235603  TV Show                        Sym-Bionic Titan   \n",
       "5261  81235729    Movie                                 Jezebel   \n",
       "\n",
       "            director                                               cast  \\\n",
       "5257         Unknown  Bill Rogers, Carrie Savage, Ken Spassione, Ang...   \n",
       "5258     Mandla Dube  Thabo Rametsi, Thabo Malema, Welile Nzuza, Jaf...   \n",
       "5259  Andrew Wessels  Joey Rasdien, David Kau, David Kibuuka, Chris ...   \n",
       "5260         Unknown  Tara Strong, Kevin Thoms, Brian Posehn, John D...   \n",
       "5261    Numa Perrier  Tiffany Tenille, Numa Perrier, Stephen Barring...   \n",
       "\n",
       "            country date_added  release_year rating   duration  \\\n",
       "5257    South Korea 2019-12-31          2018  TV-Y7  2 Seasons   \n",
       "5258   South Africa 2019-11-29          2016  TV-MA    107 min   \n",
       "5259   South Africa 2019-12-27          2013  TV-MA    102 min   \n",
       "5260  United States 2019-12-15          2010  TV-PG   1 Season   \n",
       "5261  United States 2020-01-16          2019  TV-MA     86 min   \n",
       "\n",
       "                                              listed_in  \\\n",
       "5257                          Kids' TV, Korean TV Shows   \n",
       "5258                       Dramas, International Movies   \n",
       "5259  Action & Adventure, Comedies, International Mo...   \n",
       "5260                                           Kids' TV   \n",
       "5261                         Dramas, Independent Movies   \n",
       "\n",
       "                                            description  \n",
       "5257  Keeping peace and safety in Train World is no ...  \n",
       "5258  The life and times of iconic South African lib...  \n",
       "5259  Caught between family pressures and small-time...  \n",
       "5260  Aliens fleeing their planet land on Earth, pos...  \n",
       "5261  During the internet's infancy, a vulnerable wo...  "
      ]
     },
     "execution_count": 82,
     "metadata": {},
     "output_type": "execute_result"
    }
   ],
   "source": [
    "titles_df.drop(5262, axis=0, inplace=True)\n",
    "\n",
    "titles_df.tail()"
   ]
  },
  {
   "cell_type": "markdown",
   "metadata": {},
   "source": [
    "Der vorher hinzugefügte Film wurde nun wieder aus dem DataFrame `titles_df` entfernt.\n",
    "\n",
    "Eine neue Spalte kann wie folgt erzeugt werden: `titles_df['neuerSpaltenname']`. Wobei für `neuerSpaltenname` der Name der neuen Spalte eingetragen werden sollte. Dieser neuen Spalte müssen allerdings noch Werte zugewiesen werden. Diese können in unterschiedlichster Art und Weise bereitgestellt oder erzeugt werden. Zum Beispiel durch die Methoden `map()` oder `apply()`, die im Abschnitt [5.5 Datenwerte mappen](#5.3-Datenwerte-mappen) vorgestellt werden. Alternativ können die neuen Werte natürlich auch über zum Beispiel Listen zur Verfügung gestellt werden.\n",
    "\n",
    "Im folgenden Beispiel wird eine neue Spalte `years_since_release` erzeugt. Diese soll für jeden Titel das Alter angeben, also die vergangenen Jahre seit dem der Film veröffentlich wurde."
   ]
  },
  {
   "cell_type": "code",
   "execution_count": 83,
   "metadata": {},
   "outputs": [
    {
     "data": {
      "text/html": [
       "<div>\n",
       "<style scoped>\n",
       "    .dataframe tbody tr th:only-of-type {\n",
       "        vertical-align: middle;\n",
       "    }\n",
       "\n",
       "    .dataframe tbody tr th {\n",
       "        vertical-align: top;\n",
       "    }\n",
       "\n",
       "    .dataframe thead th {\n",
       "        text-align: right;\n",
       "    }\n",
       "</style>\n",
       "<table border=\"1\" class=\"dataframe\">\n",
       "  <thead>\n",
       "    <tr style=\"text-align: right;\">\n",
       "      <th></th>\n",
       "      <th>id</th>\n",
       "      <th>type</th>\n",
       "      <th>title</th>\n",
       "      <th>director</th>\n",
       "      <th>cast</th>\n",
       "      <th>country</th>\n",
       "      <th>date_added</th>\n",
       "      <th>release_year</th>\n",
       "      <th>rating</th>\n",
       "      <th>duration</th>\n",
       "      <th>listed_in</th>\n",
       "      <th>description</th>\n",
       "      <th>years_since_release</th>\n",
       "    </tr>\n",
       "  </thead>\n",
       "  <tbody>\n",
       "    <tr>\n",
       "      <th>0</th>\n",
       "      <td>247747</td>\n",
       "      <td>Movie</td>\n",
       "      <td>Amar Akbar Anthony</td>\n",
       "      <td>Manmohan Desai</td>\n",
       "      <td>Vinod Khanna, Rishi Kapoor, Amitabh Bachchan, ...</td>\n",
       "      <td>India</td>\n",
       "      <td>2019-12-31</td>\n",
       "      <td>1977</td>\n",
       "      <td>TV-14</td>\n",
       "      <td>172 min</td>\n",
       "      <td>Action &amp; Adventure, Classic Movies, Comedies</td>\n",
       "      <td>Abandoned in a park by their father, Amar, Akb...</td>\n",
       "      <td>44</td>\n",
       "    </tr>\n",
       "    <tr>\n",
       "      <th>1</th>\n",
       "      <td>269880</td>\n",
       "      <td>Movie</td>\n",
       "      <td>Bad Boys</td>\n",
       "      <td>Michael Bay</td>\n",
       "      <td>Will Smith, Martin Lawrence, Téa Leoni, Tchéky...</td>\n",
       "      <td>United States</td>\n",
       "      <td>2019-10-01</td>\n",
       "      <td>1995</td>\n",
       "      <td>R</td>\n",
       "      <td>119 min</td>\n",
       "      <td>Action &amp; Adventure, Comedies</td>\n",
       "      <td>In this fast-paced actioner, two Miami narcoti...</td>\n",
       "      <td>26</td>\n",
       "    </tr>\n",
       "    <tr>\n",
       "      <th>2</th>\n",
       "      <td>281550</td>\n",
       "      <td>Movie</td>\n",
       "      <td>La Bamba</td>\n",
       "      <td>Luis Valdez</td>\n",
       "      <td>Lou Diamond Phillips, Esai Morales, Rosanna De...</td>\n",
       "      <td>United States</td>\n",
       "      <td>2020-01-01</td>\n",
       "      <td>1987</td>\n",
       "      <td>PG-13</td>\n",
       "      <td>109 min</td>\n",
       "      <td>Classic Movies, Dramas, Music &amp; Musicals</td>\n",
       "      <td>The plane crash that killed Buddy Holly also t...</td>\n",
       "      <td>34</td>\n",
       "    </tr>\n",
       "    <tr>\n",
       "      <th>3</th>\n",
       "      <td>284890</td>\n",
       "      <td>Movie</td>\n",
       "      <td>Barsaat</td>\n",
       "      <td>Rajkumar Santoshi</td>\n",
       "      <td>Twinkle Khanna, Bobby Deol, Danny Denzongpa, R...</td>\n",
       "      <td>India</td>\n",
       "      <td>2018-04-01</td>\n",
       "      <td>1995</td>\n",
       "      <td>TV-PG</td>\n",
       "      <td>166 min</td>\n",
       "      <td>Action &amp; Adventure, International Movies, Musi...</td>\n",
       "      <td>A naïve young man and a rich city girl fall in...</td>\n",
       "      <td>26</td>\n",
       "    </tr>\n",
       "    <tr>\n",
       "      <th>4</th>\n",
       "      <td>292118</td>\n",
       "      <td>Movie</td>\n",
       "      <td>Beavis and Butt-head Do America</td>\n",
       "      <td>Mike Judge</td>\n",
       "      <td>Mike Judge, Bruce Willis, Demi Moore, Cloris L...</td>\n",
       "      <td>United States</td>\n",
       "      <td>2019-11-20</td>\n",
       "      <td>1996</td>\n",
       "      <td>PG-13</td>\n",
       "      <td>81 min</td>\n",
       "      <td>Comedies, Cult Movies</td>\n",
       "      <td>After realizing that their boob tube is gone, ...</td>\n",
       "      <td>25</td>\n",
       "    </tr>\n",
       "  </tbody>\n",
       "</table>\n",
       "</div>"
      ],
      "text/plain": [
       "       id   type                            title           director  \\\n",
       "0  247747  Movie               Amar Akbar Anthony     Manmohan Desai   \n",
       "1  269880  Movie                         Bad Boys        Michael Bay   \n",
       "2  281550  Movie                         La Bamba        Luis Valdez   \n",
       "3  284890  Movie                          Barsaat  Rajkumar Santoshi   \n",
       "4  292118  Movie  Beavis and Butt-head Do America         Mike Judge   \n",
       "\n",
       "                                                cast        country  \\\n",
       "0  Vinod Khanna, Rishi Kapoor, Amitabh Bachchan, ...          India   \n",
       "1  Will Smith, Martin Lawrence, Téa Leoni, Tchéky...  United States   \n",
       "2  Lou Diamond Phillips, Esai Morales, Rosanna De...  United States   \n",
       "3  Twinkle Khanna, Bobby Deol, Danny Denzongpa, R...          India   \n",
       "4  Mike Judge, Bruce Willis, Demi Moore, Cloris L...  United States   \n",
       "\n",
       "  date_added  release_year rating duration  \\\n",
       "0 2019-12-31          1977  TV-14  172 min   \n",
       "1 2019-10-01          1995      R  119 min   \n",
       "2 2020-01-01          1987  PG-13  109 min   \n",
       "3 2018-04-01          1995  TV-PG  166 min   \n",
       "4 2019-11-20          1996  PG-13   81 min   \n",
       "\n",
       "                                           listed_in  \\\n",
       "0       Action & Adventure, Classic Movies, Comedies   \n",
       "1                       Action & Adventure, Comedies   \n",
       "2           Classic Movies, Dramas, Music & Musicals   \n",
       "3  Action & Adventure, International Movies, Musi...   \n",
       "4                              Comedies, Cult Movies   \n",
       "\n",
       "                                         description  years_since_release  \n",
       "0  Abandoned in a park by their father, Amar, Akb...                   44  \n",
       "1  In this fast-paced actioner, two Miami narcoti...                   26  \n",
       "2  The plane crash that killed Buddy Holly also t...                   34  \n",
       "3  A naïve young man and a rich city girl fall in...                   26  \n",
       "4  After realizing that their boob tube is gone, ...                   25  "
      ]
     },
     "execution_count": 83,
     "metadata": {},
     "output_type": "execute_result"
    }
   ],
   "source": [
    "aktuelles_Jahr = 2021\n",
    "\n",
    "titles_df['years_since_release'] = titles_df['release_year'].map(lambda y: aktuelles_Jahr -y)\n",
    "\n",
    "titles_df.head()"
   ]
  },
  {
   "cell_type": "markdown",
   "metadata": {},
   "source": [
    "Um eine Spalte zu entfernen wird erneut die `drop()` Methode genutzt. Nun muss `axis=1` als Parameter hinzugefügt werden. Der Name der zu löschenden Spalte muss auch als Parameter übergeben werden. Alternativ kann auch auch eine Liste mit Spaltennamen übergeben werden, wenn mehrere Spalten gleichzeitig gelöscht werden sollen. "
   ]
  },
  {
   "cell_type": "code",
   "execution_count": 84,
   "metadata": {},
   "outputs": [
    {
     "data": {
      "text/html": [
       "<div>\n",
       "<style scoped>\n",
       "    .dataframe tbody tr th:only-of-type {\n",
       "        vertical-align: middle;\n",
       "    }\n",
       "\n",
       "    .dataframe tbody tr th {\n",
       "        vertical-align: top;\n",
       "    }\n",
       "\n",
       "    .dataframe thead th {\n",
       "        text-align: right;\n",
       "    }\n",
       "</style>\n",
       "<table border=\"1\" class=\"dataframe\">\n",
       "  <thead>\n",
       "    <tr style=\"text-align: right;\">\n",
       "      <th></th>\n",
       "      <th>id</th>\n",
       "      <th>type</th>\n",
       "      <th>title</th>\n",
       "      <th>director</th>\n",
       "      <th>cast</th>\n",
       "      <th>country</th>\n",
       "      <th>date_added</th>\n",
       "      <th>release_year</th>\n",
       "      <th>rating</th>\n",
       "      <th>duration</th>\n",
       "      <th>listed_in</th>\n",
       "      <th>description</th>\n",
       "    </tr>\n",
       "  </thead>\n",
       "  <tbody>\n",
       "    <tr>\n",
       "      <th>0</th>\n",
       "      <td>247747</td>\n",
       "      <td>Movie</td>\n",
       "      <td>Amar Akbar Anthony</td>\n",
       "      <td>Manmohan Desai</td>\n",
       "      <td>Vinod Khanna, Rishi Kapoor, Amitabh Bachchan, ...</td>\n",
       "      <td>India</td>\n",
       "      <td>2019-12-31</td>\n",
       "      <td>1977</td>\n",
       "      <td>TV-14</td>\n",
       "      <td>172 min</td>\n",
       "      <td>Action &amp; Adventure, Classic Movies, Comedies</td>\n",
       "      <td>Abandoned in a park by their father, Amar, Akb...</td>\n",
       "    </tr>\n",
       "    <tr>\n",
       "      <th>1</th>\n",
       "      <td>269880</td>\n",
       "      <td>Movie</td>\n",
       "      <td>Bad Boys</td>\n",
       "      <td>Michael Bay</td>\n",
       "      <td>Will Smith, Martin Lawrence, Téa Leoni, Tchéky...</td>\n",
       "      <td>United States</td>\n",
       "      <td>2019-10-01</td>\n",
       "      <td>1995</td>\n",
       "      <td>R</td>\n",
       "      <td>119 min</td>\n",
       "      <td>Action &amp; Adventure, Comedies</td>\n",
       "      <td>In this fast-paced actioner, two Miami narcoti...</td>\n",
       "    </tr>\n",
       "    <tr>\n",
       "      <th>2</th>\n",
       "      <td>281550</td>\n",
       "      <td>Movie</td>\n",
       "      <td>La Bamba</td>\n",
       "      <td>Luis Valdez</td>\n",
       "      <td>Lou Diamond Phillips, Esai Morales, Rosanna De...</td>\n",
       "      <td>United States</td>\n",
       "      <td>2020-01-01</td>\n",
       "      <td>1987</td>\n",
       "      <td>PG-13</td>\n",
       "      <td>109 min</td>\n",
       "      <td>Classic Movies, Dramas, Music &amp; Musicals</td>\n",
       "      <td>The plane crash that killed Buddy Holly also t...</td>\n",
       "    </tr>\n",
       "    <tr>\n",
       "      <th>3</th>\n",
       "      <td>284890</td>\n",
       "      <td>Movie</td>\n",
       "      <td>Barsaat</td>\n",
       "      <td>Rajkumar Santoshi</td>\n",
       "      <td>Twinkle Khanna, Bobby Deol, Danny Denzongpa, R...</td>\n",
       "      <td>India</td>\n",
       "      <td>2018-04-01</td>\n",
       "      <td>1995</td>\n",
       "      <td>TV-PG</td>\n",
       "      <td>166 min</td>\n",
       "      <td>Action &amp; Adventure, International Movies, Musi...</td>\n",
       "      <td>A naïve young man and a rich city girl fall in...</td>\n",
       "    </tr>\n",
       "    <tr>\n",
       "      <th>4</th>\n",
       "      <td>292118</td>\n",
       "      <td>Movie</td>\n",
       "      <td>Beavis and Butt-head Do America</td>\n",
       "      <td>Mike Judge</td>\n",
       "      <td>Mike Judge, Bruce Willis, Demi Moore, Cloris L...</td>\n",
       "      <td>United States</td>\n",
       "      <td>2019-11-20</td>\n",
       "      <td>1996</td>\n",
       "      <td>PG-13</td>\n",
       "      <td>81 min</td>\n",
       "      <td>Comedies, Cult Movies</td>\n",
       "      <td>After realizing that their boob tube is gone, ...</td>\n",
       "    </tr>\n",
       "  </tbody>\n",
       "</table>\n",
       "</div>"
      ],
      "text/plain": [
       "       id   type                            title           director  \\\n",
       "0  247747  Movie               Amar Akbar Anthony     Manmohan Desai   \n",
       "1  269880  Movie                         Bad Boys        Michael Bay   \n",
       "2  281550  Movie                         La Bamba        Luis Valdez   \n",
       "3  284890  Movie                          Barsaat  Rajkumar Santoshi   \n",
       "4  292118  Movie  Beavis and Butt-head Do America         Mike Judge   \n",
       "\n",
       "                                                cast        country  \\\n",
       "0  Vinod Khanna, Rishi Kapoor, Amitabh Bachchan, ...          India   \n",
       "1  Will Smith, Martin Lawrence, Téa Leoni, Tchéky...  United States   \n",
       "2  Lou Diamond Phillips, Esai Morales, Rosanna De...  United States   \n",
       "3  Twinkle Khanna, Bobby Deol, Danny Denzongpa, R...          India   \n",
       "4  Mike Judge, Bruce Willis, Demi Moore, Cloris L...  United States   \n",
       "\n",
       "  date_added  release_year rating duration  \\\n",
       "0 2019-12-31          1977  TV-14  172 min   \n",
       "1 2019-10-01          1995      R  119 min   \n",
       "2 2020-01-01          1987  PG-13  109 min   \n",
       "3 2018-04-01          1995  TV-PG  166 min   \n",
       "4 2019-11-20          1996  PG-13   81 min   \n",
       "\n",
       "                                           listed_in  \\\n",
       "0       Action & Adventure, Classic Movies, Comedies   \n",
       "1                       Action & Adventure, Comedies   \n",
       "2           Classic Movies, Dramas, Music & Musicals   \n",
       "3  Action & Adventure, International Movies, Musi...   \n",
       "4                              Comedies, Cult Movies   \n",
       "\n",
       "                                         description  \n",
       "0  Abandoned in a park by their father, Amar, Akb...  \n",
       "1  In this fast-paced actioner, two Miami narcoti...  \n",
       "2  The plane crash that killed Buddy Holly also t...  \n",
       "3  A naïve young man and a rich city girl fall in...  \n",
       "4  After realizing that their boob tube is gone, ...  "
      ]
     },
     "execution_count": 84,
     "metadata": {},
     "output_type": "execute_result"
    }
   ],
   "source": [
    "titles_df.drop('years_since_release', axis=1, inplace=True)\n",
    "titles_df.head()"
   ]
  },
  {
   "cell_type": "markdown",
   "metadata": {},
   "source": [
    "### 5.2 Manipulation von Daten"
   ]
  },
  {
   "cell_type": "markdown",
   "metadata": {},
   "source": [
    "In den Abschnitten [3.4 Zugriff auf Datenwerte](#3.4-Zugriff-auf-Datenwerte) und [3.5 Bedingte Auswahl von Daten](#3.5-Bedingte-Auswahl-von-Daten) wurde bereits beschrieben, wie auf verschiedene Datenwerte in einem DataFrame zugegriffen werden kann. Nun sollen Werte geändert werden. Dafür können entweder einzelne Werte oder mehrere gleichzeitg geändert werden. Um mehrere Datenwerte zu ändern sollte auf die Methoden `map()` und `apply()` zurückgegriffen werden. Diese werden im Abschnitt [5.3 Datenwerte mappen](#5.3-Datenwerte-mappen) erläutert. Um einzelne Werte zu verändern kann zunächst eine Zelle ausgewählt werden. Dieser ausgewählten Zelle kann dann ein neuer Wert zugewiesen werden.\n",
    "\n",
    "Im folgenden Beispiel soll der `director` für den Film mit `id = 70234439` gesetzt werden, da dieser in den Daten fehlt. "
   ]
  },
  {
   "cell_type": "code",
   "execution_count": 85,
   "metadata": {},
   "outputs": [],
   "source": [
    "# Informationen zu dem zu verändernden Film\n",
    "director_transformers_prime = 'David Hartman, Shaunt Nigoghossian, Vinton Heuck, Todd Waterman, Scooter Tidwell, Kirk Van Wormer, Kevin Altieri'\n",
    "show_id_transformers_prime = 70234439\n",
    "\n",
    "# Setzen des Wertes für die Spalte director für den entsprechenden Film\n",
    "titles_df.loc[(titles_df['id'] == show_id_transformers_prime), 'director'] = director_transformers_prime"
   ]
  },
  {
   "cell_type": "code",
   "execution_count": 86,
   "metadata": {},
   "outputs": [
    {
     "data": {
      "text/html": [
       "<div>\n",
       "<style scoped>\n",
       "    .dataframe tbody tr th:only-of-type {\n",
       "        vertical-align: middle;\n",
       "    }\n",
       "\n",
       "    .dataframe tbody tr th {\n",
       "        vertical-align: top;\n",
       "    }\n",
       "\n",
       "    .dataframe thead th {\n",
       "        text-align: right;\n",
       "    }\n",
       "</style>\n",
       "<table border=\"1\" class=\"dataframe\">\n",
       "  <thead>\n",
       "    <tr style=\"text-align: right;\">\n",
       "      <th></th>\n",
       "      <th>id</th>\n",
       "      <th>type</th>\n",
       "      <th>title</th>\n",
       "      <th>director</th>\n",
       "      <th>cast</th>\n",
       "      <th>country</th>\n",
       "      <th>date_added</th>\n",
       "      <th>release_year</th>\n",
       "      <th>rating</th>\n",
       "      <th>duration</th>\n",
       "      <th>listed_in</th>\n",
       "      <th>description</th>\n",
       "    </tr>\n",
       "  </thead>\n",
       "  <tbody>\n",
       "    <tr>\n",
       "      <th>0</th>\n",
       "      <td>247747</td>\n",
       "      <td>Movie</td>\n",
       "      <td>Amar Akbar Anthony</td>\n",
       "      <td>Manmohan Desai</td>\n",
       "      <td>Vinod Khanna, Rishi Kapoor, Amitabh Bachchan, ...</td>\n",
       "      <td>India</td>\n",
       "      <td>2019-12-31</td>\n",
       "      <td>1977</td>\n",
       "      <td>TV-14</td>\n",
       "      <td>172 min</td>\n",
       "      <td>Action &amp; Adventure, Classic Movies, Comedies</td>\n",
       "      <td>Abandoned in a park by their father, Amar, Akb...</td>\n",
       "    </tr>\n",
       "    <tr>\n",
       "      <th>1</th>\n",
       "      <td>269880</td>\n",
       "      <td>Movie</td>\n",
       "      <td>Bad Boys</td>\n",
       "      <td>Michael Bay</td>\n",
       "      <td>Will Smith, Martin Lawrence, Téa Leoni, Tchéky...</td>\n",
       "      <td>United States</td>\n",
       "      <td>2019-10-01</td>\n",
       "      <td>1995</td>\n",
       "      <td>R</td>\n",
       "      <td>119 min</td>\n",
       "      <td>Action &amp; Adventure, Comedies</td>\n",
       "      <td>In this fast-paced actioner, two Miami narcoti...</td>\n",
       "    </tr>\n",
       "    <tr>\n",
       "      <th>2</th>\n",
       "      <td>281550</td>\n",
       "      <td>Movie</td>\n",
       "      <td>La Bamba</td>\n",
       "      <td>Luis Valdez</td>\n",
       "      <td>Lou Diamond Phillips, Esai Morales, Rosanna De...</td>\n",
       "      <td>United States</td>\n",
       "      <td>2020-01-01</td>\n",
       "      <td>1987</td>\n",
       "      <td>PG-13</td>\n",
       "      <td>109 min</td>\n",
       "      <td>Classic Movies, Dramas, Music &amp; Musicals</td>\n",
       "      <td>The plane crash that killed Buddy Holly also t...</td>\n",
       "    </tr>\n",
       "    <tr>\n",
       "      <th>3</th>\n",
       "      <td>284890</td>\n",
       "      <td>Movie</td>\n",
       "      <td>Barsaat</td>\n",
       "      <td>Rajkumar Santoshi</td>\n",
       "      <td>Twinkle Khanna, Bobby Deol, Danny Denzongpa, R...</td>\n",
       "      <td>India</td>\n",
       "      <td>2018-04-01</td>\n",
       "      <td>1995</td>\n",
       "      <td>TV-PG</td>\n",
       "      <td>166 min</td>\n",
       "      <td>Action &amp; Adventure, International Movies, Musi...</td>\n",
       "      <td>A naïve young man and a rich city girl fall in...</td>\n",
       "    </tr>\n",
       "    <tr>\n",
       "      <th>4</th>\n",
       "      <td>292118</td>\n",
       "      <td>Movie</td>\n",
       "      <td>Beavis and Butt-head Do America</td>\n",
       "      <td>Mike Judge</td>\n",
       "      <td>Mike Judge, Bruce Willis, Demi Moore, Cloris L...</td>\n",
       "      <td>United States</td>\n",
       "      <td>2019-11-20</td>\n",
       "      <td>1996</td>\n",
       "      <td>PG-13</td>\n",
       "      <td>81 min</td>\n",
       "      <td>Comedies, Cult Movies</td>\n",
       "      <td>After realizing that their boob tube is gone, ...</td>\n",
       "    </tr>\n",
       "  </tbody>\n",
       "</table>\n",
       "</div>"
      ],
      "text/plain": [
       "       id   type                            title           director  \\\n",
       "0  247747  Movie               Amar Akbar Anthony     Manmohan Desai   \n",
       "1  269880  Movie                         Bad Boys        Michael Bay   \n",
       "2  281550  Movie                         La Bamba        Luis Valdez   \n",
       "3  284890  Movie                          Barsaat  Rajkumar Santoshi   \n",
       "4  292118  Movie  Beavis and Butt-head Do America         Mike Judge   \n",
       "\n",
       "                                                cast        country  \\\n",
       "0  Vinod Khanna, Rishi Kapoor, Amitabh Bachchan, ...          India   \n",
       "1  Will Smith, Martin Lawrence, Téa Leoni, Tchéky...  United States   \n",
       "2  Lou Diamond Phillips, Esai Morales, Rosanna De...  United States   \n",
       "3  Twinkle Khanna, Bobby Deol, Danny Denzongpa, R...          India   \n",
       "4  Mike Judge, Bruce Willis, Demi Moore, Cloris L...  United States   \n",
       "\n",
       "  date_added  release_year rating duration  \\\n",
       "0 2019-12-31          1977  TV-14  172 min   \n",
       "1 2019-10-01          1995      R  119 min   \n",
       "2 2020-01-01          1987  PG-13  109 min   \n",
       "3 2018-04-01          1995  TV-PG  166 min   \n",
       "4 2019-11-20          1996  PG-13   81 min   \n",
       "\n",
       "                                           listed_in  \\\n",
       "0       Action & Adventure, Classic Movies, Comedies   \n",
       "1                       Action & Adventure, Comedies   \n",
       "2           Classic Movies, Dramas, Music & Musicals   \n",
       "3  Action & Adventure, International Movies, Musi...   \n",
       "4                              Comedies, Cult Movies   \n",
       "\n",
       "                                         description  \n",
       "0  Abandoned in a park by their father, Amar, Akb...  \n",
       "1  In this fast-paced actioner, two Miami narcoti...  \n",
       "2  The plane crash that killed Buddy Holly also t...  \n",
       "3  A naïve young man and a rich city girl fall in...  \n",
       "4  After realizing that their boob tube is gone, ...  "
      ]
     },
     "execution_count": 86,
     "metadata": {},
     "output_type": "execute_result"
    }
   ],
   "source": [
    "titles_df.head()"
   ]
  },
  {
   "cell_type": "markdown",
   "metadata": {},
   "source": [
    "Ein Datenwert in einem DataFrame kann auch durch einen anderen ersetzt werden. Diese Funktionalität wird durch die Methode `replace()` bereitgestellt. Als erster Parameter wird der Wert benötigt, der ersetzt werden soll und als zweiter Parameter der neue Wert, mit dem der alte Wert ersetzt werden soll.\n",
    "\n",
    "Im Abschnitt [4.4 Übungsteil](#4-4-Übungsteil) wurden bereits die `NaN` Werte der Spalte `rating` durch `NR` ersetzt. Um nun noch die Kategorien `UR` und `NR` zu vereinigen ersetzen wir im folgenden alle Vorkommen des Ratings `UR` durch das Rating `NR`. Dadurch haben wir nur noch eine Kategorie in der `rating` Spalte die besagt, dass ein Film kein Rating besitzt."
   ]
  },
  {
   "cell_type": "code",
   "execution_count": 87,
   "metadata": {},
   "outputs": [
    {
     "data": {
      "text/plain": [
       "0       TV-14\n",
       "1           R\n",
       "2       PG-13\n",
       "3       TV-PG\n",
       "4       PG-13\n",
       "        ...  \n",
       "5257    TV-Y7\n",
       "5258    TV-MA\n",
       "5259    TV-MA\n",
       "5260    TV-PG\n",
       "5261    TV-MA\n",
       "Name: rating, Length: 5262, dtype: object"
      ]
     },
     "execution_count": 87,
     "metadata": {},
     "output_type": "execute_result"
    }
   ],
   "source": [
    "titles_df.rating.replace('UR', 'NR')"
   ]
  },
  {
   "cell_type": "markdown",
   "metadata": {},
   "source": [
    "### 5.3 Datenwerte mappen"
   ]
  },
  {
   "cell_type": "markdown",
   "metadata": {},
   "source": [
    "Manchmal müssen Datenwerte in ein anderes Format gebracht werden oder es soll eine neue Spalte mittels Berechnungen erzeugt werden. Hierbei unterstützen die Methoden `map()` und `apply()`. Im Folgenden soll in dem DataFrame `movies_df` eine Spalte erzeugt werden, die die Länge des Films in Minuten angibt und zwar als Integerwert. In dem DataFrame `tv_df` soll die Anzahl der Staffeln als Integerwert vorhanden sein. Dafür kann in beiden Fällen die Spalte `duration` verwendet werden.\n",
    "\n",
    "**Hinweis:** Die beiden Methoden verändern nicht den ursprünglichen DataFrame. Die Änderungen müssen also noch in den entsprechenden DataFrame geschrieben werden.\n",
    "\n",
    "Die Funktion, die an die `map()` Methode übergeben wird, erwartet einen einzelnen Wert und gibt für diesen einen transformierten Wert zurück. Am Ende gibt die `map()` Methode eine Series zurück, in der sich alle transformierten Werte befinden. Mit dieser Series kann eine bestehende Spalte überschrieben oder eine neue Spalte erzeugt werden. Da die `map()` Methode auf einer Spalte des DataFrames `movies_df` aufgerufen wird, wird die lambda Funktion für jede Zelle dieser Spalte ausgeführt."
   ]
  },
  {
   "cell_type": "code",
   "execution_count": 88,
   "metadata": {},
   "outputs": [],
   "source": [
    "movies_df = movies_df.copy()\n",
    "movies_df['duration'] = movies_df['duration'].map(lambda d: int(d.split()[0]))"
   ]
  },
  {
   "cell_type": "markdown",
   "metadata": {},
   "source": [
    "Nun können auch die Lageparameter für die Spalte `duration` betrachtet werden:"
   ]
  },
  {
   "cell_type": "code",
   "execution_count": 89,
   "metadata": {},
   "outputs": [
    {
     "data": {
      "text/html": [
       "<div>\n",
       "<style scoped>\n",
       "    .dataframe tbody tr th:only-of-type {\n",
       "        vertical-align: middle;\n",
       "    }\n",
       "\n",
       "    .dataframe tbody tr th {\n",
       "        vertical-align: top;\n",
       "    }\n",
       "\n",
       "    .dataframe thead th {\n",
       "        text-align: right;\n",
       "    }\n",
       "</style>\n",
       "<table border=\"1\" class=\"dataframe\">\n",
       "  <thead>\n",
       "    <tr style=\"text-align: right;\">\n",
       "      <th></th>\n",
       "      <th>id</th>\n",
       "      <th>release_year</th>\n",
       "      <th>duration</th>\n",
       "    </tr>\n",
       "  </thead>\n",
       "  <tbody>\n",
       "    <tr>\n",
       "      <th>count</th>\n",
       "      <td>3.754000000000000e+03</td>\n",
       "      <td>3754.000000000000000</td>\n",
       "      <td>3754.000000000000000</td>\n",
       "    </tr>\n",
       "    <tr>\n",
       "      <th>mean</th>\n",
       "      <td>7.511254614704315e+07</td>\n",
       "      <td>2012.038891848694675</td>\n",
       "      <td>101.892914224826853</td>\n",
       "    </tr>\n",
       "    <tr>\n",
       "      <th>std</th>\n",
       "      <td>1.344353154071218e+07</td>\n",
       "      <td>9.612618297473958</td>\n",
       "      <td>27.055325930568038</td>\n",
       "    </tr>\n",
       "    <tr>\n",
       "      <th>min</th>\n",
       "      <td>2.477470000000000e+05</td>\n",
       "      <td>1942.000000000000000</td>\n",
       "      <td>12.000000000000000</td>\n",
       "    </tr>\n",
       "    <tr>\n",
       "      <th>25%</th>\n",
       "      <td>7.027889025000000e+07</td>\n",
       "      <td>2011.000000000000000</td>\n",
       "      <td>88.000000000000000</td>\n",
       "    </tr>\n",
       "    <tr>\n",
       "      <th>50%</th>\n",
       "      <td>8.014927050000000e+07</td>\n",
       "      <td>2016.000000000000000</td>\n",
       "      <td>99.000000000000000</td>\n",
       "    </tr>\n",
       "    <tr>\n",
       "      <th>75%</th>\n",
       "      <td>8.024406325000000e+07</td>\n",
       "      <td>2017.000000000000000</td>\n",
       "      <td>117.000000000000000</td>\n",
       "    </tr>\n",
       "    <tr>\n",
       "      <th>max</th>\n",
       "      <td>8.123572900000000e+07</td>\n",
       "      <td>2020.000000000000000</td>\n",
       "      <td>312.000000000000000</td>\n",
       "    </tr>\n",
       "  </tbody>\n",
       "</table>\n",
       "</div>"
      ],
      "text/plain": [
       "                          id          release_year              duration\n",
       "count  3.754000000000000e+03  3754.000000000000000  3754.000000000000000\n",
       "mean   7.511254614704315e+07  2012.038891848694675   101.892914224826853\n",
       "std    1.344353154071218e+07     9.612618297473958    27.055325930568038\n",
       "min    2.477470000000000e+05  1942.000000000000000    12.000000000000000\n",
       "25%    7.027889025000000e+07  2011.000000000000000    88.000000000000000\n",
       "50%    8.014927050000000e+07  2016.000000000000000    99.000000000000000\n",
       "75%    8.024406325000000e+07  2017.000000000000000   117.000000000000000\n",
       "max    8.123572900000000e+07  2020.000000000000000   312.000000000000000"
      ]
     },
     "execution_count": 89,
     "metadata": {},
     "output_type": "execute_result"
    }
   ],
   "source": [
    "movies_df.describe()"
   ]
  },
  {
   "cell_type": "markdown",
   "metadata": {},
   "source": [
    "Die `apply()` Methode kann genauso genutzt werden, wie die `map()` Methode. Anstelle von Lambda Funktionen können auch eigene Funktionen übergeben werden.\n",
    "\n",
    "Im folgenden wird für den DataFrame `tv_df` auch die Spalte`duration` überarbeitet. Diese soll die Anzahl der Staffeln nur noch als Integerwert beinhalten."
   ]
  },
  {
   "cell_type": "code",
   "execution_count": 90,
   "metadata": {},
   "outputs": [],
   "source": [
    "def get_season_count(value):\n",
    "    return int(value.split()[0])\n",
    "\n",
    "tv_df = tv_df.copy()\n",
    "tv_df['duration'] = tv_df['duration'].apply(get_season_count)"
   ]
  },
  {
   "cell_type": "code",
   "execution_count": 91,
   "metadata": {},
   "outputs": [
    {
     "data": {
      "text/html": [
       "<div>\n",
       "<style scoped>\n",
       "    .dataframe tbody tr th:only-of-type {\n",
       "        vertical-align: middle;\n",
       "    }\n",
       "\n",
       "    .dataframe tbody tr th {\n",
       "        vertical-align: top;\n",
       "    }\n",
       "\n",
       "    .dataframe thead th {\n",
       "        text-align: right;\n",
       "    }\n",
       "</style>\n",
       "<table border=\"1\" class=\"dataframe\">\n",
       "  <thead>\n",
       "    <tr style=\"text-align: right;\">\n",
       "      <th></th>\n",
       "      <th>id</th>\n",
       "      <th>type</th>\n",
       "      <th>title</th>\n",
       "      <th>director</th>\n",
       "      <th>cast</th>\n",
       "      <th>country</th>\n",
       "      <th>date_added</th>\n",
       "      <th>release_year</th>\n",
       "      <th>rating</th>\n",
       "      <th>duration</th>\n",
       "      <th>listed_in</th>\n",
       "      <th>description</th>\n",
       "    </tr>\n",
       "  </thead>\n",
       "  <tbody>\n",
       "    <tr>\n",
       "      <th>306</th>\n",
       "      <td>60036794</td>\n",
       "      <td>TV Show</td>\n",
       "      <td>Sonic X</td>\n",
       "      <td>Unknown</td>\n",
       "      <td>Suzanne Goldish, Dan Green, Jason Anthony Grif...</td>\n",
       "      <td>Japan</td>\n",
       "      <td>2019-12-01</td>\n",
       "      <td>2004</td>\n",
       "      <td>TV-Y7</td>\n",
       "      <td>4</td>\n",
       "      <td>Anime Series, Kids' TV</td>\n",
       "      <td>While battling the evil Dr. Eggman, Sonic gets...</td>\n",
       "    </tr>\n",
       "    <tr>\n",
       "      <th>722</th>\n",
       "      <td>70136114</td>\n",
       "      <td>TV Show</td>\n",
       "      <td>The L Word</td>\n",
       "      <td>Unknown</td>\n",
       "      <td>Jennifer Beals, Leisha Hailey, Laurel Holloman...</td>\n",
       "      <td>Canada, United States</td>\n",
       "      <td>2018-03-20</td>\n",
       "      <td>2009</td>\n",
       "      <td>TV-MA</td>\n",
       "      <td>6</td>\n",
       "      <td>Romantic TV Shows, TV Dramas</td>\n",
       "      <td>This trailblazing series follows the tangled l...</td>\n",
       "    </tr>\n",
       "    <tr>\n",
       "      <th>723</th>\n",
       "      <td>70136120</td>\n",
       "      <td>TV Show</td>\n",
       "      <td>The Office (U.S.)</td>\n",
       "      <td>Unknown</td>\n",
       "      <td>Steve Carell, John Krasinski, Jenna Fischer, R...</td>\n",
       "      <td>United States</td>\n",
       "      <td>2016-01-01</td>\n",
       "      <td>2012</td>\n",
       "      <td>TV-14</td>\n",
       "      <td>9</td>\n",
       "      <td>TV Comedies</td>\n",
       "      <td>This hit comedy chronicles the foibles of disg...</td>\n",
       "    </tr>\n",
       "    <tr>\n",
       "      <th>724</th>\n",
       "      <td>70136122</td>\n",
       "      <td>TV Show</td>\n",
       "      <td>Weeds</td>\n",
       "      <td>Unknown</td>\n",
       "      <td>Mary-Louise Parker, Hunter Parrish, Alexander ...</td>\n",
       "      <td>United States</td>\n",
       "      <td>2014-04-01</td>\n",
       "      <td>2012</td>\n",
       "      <td>TV-MA</td>\n",
       "      <td>8</td>\n",
       "      <td>TV Comedies, TV Dramas</td>\n",
       "      <td>A suburban mother starts selling marijuana to ...</td>\n",
       "    </tr>\n",
       "    <tr>\n",
       "      <th>725</th>\n",
       "      <td>70136126</td>\n",
       "      <td>TV Show</td>\n",
       "      <td>Dexter</td>\n",
       "      <td>Unknown</td>\n",
       "      <td>Michael C. Hall, Jennifer Carpenter, David Zay...</td>\n",
       "      <td>United States</td>\n",
       "      <td>2018-01-01</td>\n",
       "      <td>2013</td>\n",
       "      <td>TV-MA</td>\n",
       "      <td>8</td>\n",
       "      <td>Crime TV Shows, TV Dramas, TV Mysteries</td>\n",
       "      <td>By day, mild-mannered Dexter is a blood-spatte...</td>\n",
       "    </tr>\n",
       "  </tbody>\n",
       "</table>\n",
       "</div>"
      ],
      "text/plain": [
       "           id     type              title director  \\\n",
       "306  60036794  TV Show            Sonic X  Unknown   \n",
       "722  70136114  TV Show         The L Word  Unknown   \n",
       "723  70136120  TV Show  The Office (U.S.)  Unknown   \n",
       "724  70136122  TV Show              Weeds  Unknown   \n",
       "725  70136126  TV Show             Dexter  Unknown   \n",
       "\n",
       "                                                  cast                country  \\\n",
       "306  Suzanne Goldish, Dan Green, Jason Anthony Grif...                  Japan   \n",
       "722  Jennifer Beals, Leisha Hailey, Laurel Holloman...  Canada, United States   \n",
       "723  Steve Carell, John Krasinski, Jenna Fischer, R...          United States   \n",
       "724  Mary-Louise Parker, Hunter Parrish, Alexander ...          United States   \n",
       "725  Michael C. Hall, Jennifer Carpenter, David Zay...          United States   \n",
       "\n",
       "    date_added  release_year rating  duration  \\\n",
       "306 2019-12-01          2004  TV-Y7         4   \n",
       "722 2018-03-20          2009  TV-MA         6   \n",
       "723 2016-01-01          2012  TV-14         9   \n",
       "724 2014-04-01          2012  TV-MA         8   \n",
       "725 2018-01-01          2013  TV-MA         8   \n",
       "\n",
       "                                   listed_in  \\\n",
       "306                   Anime Series, Kids' TV   \n",
       "722             Romantic TV Shows, TV Dramas   \n",
       "723                              TV Comedies   \n",
       "724                   TV Comedies, TV Dramas   \n",
       "725  Crime TV Shows, TV Dramas, TV Mysteries   \n",
       "\n",
       "                                           description  \n",
       "306  While battling the evil Dr. Eggman, Sonic gets...  \n",
       "722  This trailblazing series follows the tangled l...  \n",
       "723  This hit comedy chronicles the foibles of disg...  \n",
       "724  A suburban mother starts selling marijuana to ...  \n",
       "725  By day, mild-mannered Dexter is a blood-spatte...  "
      ]
     },
     "execution_count": 91,
     "metadata": {},
     "output_type": "execute_result"
    }
   ],
   "source": [
    "tv_df.head()"
   ]
  },
  {
   "cell_type": "markdown",
   "metadata": {},
   "source": [
    "In der folgenden Grafik sind die vorherig erarbeiteten Ergebnisse nochmal aufbereitet. Das Diagramm zeigt, wie viele TV Shows wie viele Staffeln haben."
   ]
  },
  {
   "cell_type": "code",
   "execution_count": 92,
   "metadata": {},
   "outputs": [
    {
     "data": {
      "image/png": "[encoded data removed]",
      "text/plain": [
       "<Figure size 1440x576 with 1 Axes>"
      ]
     },
     "metadata": {
      "needs_background": "light"
     },
     "output_type": "display_data"
    }
   ],
   "source": [
    "duration_series = tv_df['duration'].value_counts()\n",
    "vf.create_barplot_for_series(duration_series)"
   ]
  },
  {
   "cell_type": "markdown",
   "metadata": {},
   "source": [
    "Im vorherigen Beispiel wurde die `apply()` Funktion direkt auf einer Spalte aufgerufen, d. h. das die einzelnen Werte der Spalte an die eigene Funktion hereingegeben werden. Wenn für die Berechnungen allerdings mehrere Werte aus verschiedenen Spalten benötigt werden macht es Sinn, die gesamte Zeile an die eigene Funktion zu übergeben. Um dies zu erreichen, wird die `apply()` Methode auf dem gesamten DataFrame aufgerufen und der Parameter `axis=1` wird gesetzt. \n",
    "\n",
    "Im folgenden Beispiel wird eine Spalte `years_between_add_and_release` erstellt. In dieser Spalte soll die Anzahl der Jahres stehen, die zwischen der Veröffentlichung und des Hinzufügen des Filmes zu Netflix lagen."
   ]
  },
  {
   "cell_type": "code",
   "execution_count": 93,
   "metadata": {},
   "outputs": [
    {
     "data": {
      "text/html": [
       "<div>\n",
       "<style scoped>\n",
       "    .dataframe tbody tr th:only-of-type {\n",
       "        vertical-align: middle;\n",
       "    }\n",
       "\n",
       "    .dataframe tbody tr th {\n",
       "        vertical-align: top;\n",
       "    }\n",
       "\n",
       "    .dataframe thead th {\n",
       "        text-align: right;\n",
       "    }\n",
       "</style>\n",
       "<table border=\"1\" class=\"dataframe\">\n",
       "  <thead>\n",
       "    <tr style=\"text-align: right;\">\n",
       "      <th></th>\n",
       "      <th>id</th>\n",
       "      <th>type</th>\n",
       "      <th>title</th>\n",
       "      <th>director</th>\n",
       "      <th>cast</th>\n",
       "      <th>country</th>\n",
       "      <th>date_added</th>\n",
       "      <th>release_year</th>\n",
       "      <th>rating</th>\n",
       "      <th>duration</th>\n",
       "      <th>listed_in</th>\n",
       "      <th>description</th>\n",
       "      <th>years_between_add_and_release</th>\n",
       "    </tr>\n",
       "  </thead>\n",
       "  <tbody>\n",
       "    <tr>\n",
       "      <th>0</th>\n",
       "      <td>247747</td>\n",
       "      <td>Movie</td>\n",
       "      <td>Amar Akbar Anthony</td>\n",
       "      <td>Manmohan Desai</td>\n",
       "      <td>Vinod Khanna, Rishi Kapoor, Amitabh Bachchan, ...</td>\n",
       "      <td>India</td>\n",
       "      <td>2019-12-31</td>\n",
       "      <td>1977</td>\n",
       "      <td>TV-14</td>\n",
       "      <td>172</td>\n",
       "      <td>Action &amp; Adventure, Classic Movies, Comedies</td>\n",
       "      <td>Abandoned in a park by their father, Amar, Akb...</td>\n",
       "      <td>42</td>\n",
       "    </tr>\n",
       "    <tr>\n",
       "      <th>1</th>\n",
       "      <td>269880</td>\n",
       "      <td>Movie</td>\n",
       "      <td>Bad Boys</td>\n",
       "      <td>Michael Bay</td>\n",
       "      <td>Will Smith, Martin Lawrence, Téa Leoni, Tchéky...</td>\n",
       "      <td>United States</td>\n",
       "      <td>2019-10-01</td>\n",
       "      <td>1995</td>\n",
       "      <td>R</td>\n",
       "      <td>119</td>\n",
       "      <td>Action &amp; Adventure, Comedies</td>\n",
       "      <td>In this fast-paced actioner, two Miami narcoti...</td>\n",
       "      <td>24</td>\n",
       "    </tr>\n",
       "    <tr>\n",
       "      <th>2</th>\n",
       "      <td>281550</td>\n",
       "      <td>Movie</td>\n",
       "      <td>La Bamba</td>\n",
       "      <td>Luis Valdez</td>\n",
       "      <td>Lou Diamond Phillips, Esai Morales, Rosanna De...</td>\n",
       "      <td>United States</td>\n",
       "      <td>2020-01-01</td>\n",
       "      <td>1987</td>\n",
       "      <td>PG-13</td>\n",
       "      <td>109</td>\n",
       "      <td>Classic Movies, Dramas, Music &amp; Musicals</td>\n",
       "      <td>The plane crash that killed Buddy Holly also t...</td>\n",
       "      <td>33</td>\n",
       "    </tr>\n",
       "    <tr>\n",
       "      <th>3</th>\n",
       "      <td>284890</td>\n",
       "      <td>Movie</td>\n",
       "      <td>Barsaat</td>\n",
       "      <td>Rajkumar Santoshi</td>\n",
       "      <td>Twinkle Khanna, Bobby Deol, Danny Denzongpa, R...</td>\n",
       "      <td>India</td>\n",
       "      <td>2018-04-01</td>\n",
       "      <td>1995</td>\n",
       "      <td>TV-PG</td>\n",
       "      <td>166</td>\n",
       "      <td>Action &amp; Adventure, International Movies, Musi...</td>\n",
       "      <td>A naïve young man and a rich city girl fall in...</td>\n",
       "      <td>23</td>\n",
       "    </tr>\n",
       "    <tr>\n",
       "      <th>4</th>\n",
       "      <td>292118</td>\n",
       "      <td>Movie</td>\n",
       "      <td>Beavis and Butt-head Do America</td>\n",
       "      <td>Mike Judge</td>\n",
       "      <td>Mike Judge, Bruce Willis, Demi Moore, Cloris L...</td>\n",
       "      <td>United States</td>\n",
       "      <td>2019-11-20</td>\n",
       "      <td>1996</td>\n",
       "      <td>PG-13</td>\n",
       "      <td>81</td>\n",
       "      <td>Comedies, Cult Movies</td>\n",
       "      <td>After realizing that their boob tube is gone, ...</td>\n",
       "      <td>23</td>\n",
       "    </tr>\n",
       "  </tbody>\n",
       "</table>\n",
       "</div>"
      ],
      "text/plain": [
       "       id   type                            title           director  \\\n",
       "0  247747  Movie               Amar Akbar Anthony     Manmohan Desai   \n",
       "1  269880  Movie                         Bad Boys        Michael Bay   \n",
       "2  281550  Movie                         La Bamba        Luis Valdez   \n",
       "3  284890  Movie                          Barsaat  Rajkumar Santoshi   \n",
       "4  292118  Movie  Beavis and Butt-head Do America         Mike Judge   \n",
       "\n",
       "                                                cast        country  \\\n",
       "0  Vinod Khanna, Rishi Kapoor, Amitabh Bachchan, ...          India   \n",
       "1  Will Smith, Martin Lawrence, Téa Leoni, Tchéky...  United States   \n",
       "2  Lou Diamond Phillips, Esai Morales, Rosanna De...  United States   \n",
       "3  Twinkle Khanna, Bobby Deol, Danny Denzongpa, R...          India   \n",
       "4  Mike Judge, Bruce Willis, Demi Moore, Cloris L...  United States   \n",
       "\n",
       "  date_added  release_year rating  duration  \\\n",
       "0 2019-12-31          1977  TV-14       172   \n",
       "1 2019-10-01          1995      R       119   \n",
       "2 2020-01-01          1987  PG-13       109   \n",
       "3 2018-04-01          1995  TV-PG       166   \n",
       "4 2019-11-20          1996  PG-13        81   \n",
       "\n",
       "                                           listed_in  \\\n",
       "0       Action & Adventure, Classic Movies, Comedies   \n",
       "1                       Action & Adventure, Comedies   \n",
       "2           Classic Movies, Dramas, Music & Musicals   \n",
       "3  Action & Adventure, International Movies, Musi...   \n",
       "4                              Comedies, Cult Movies   \n",
       "\n",
       "                                         description  \\\n",
       "0  Abandoned in a park by their father, Amar, Akb...   \n",
       "1  In this fast-paced actioner, two Miami narcoti...   \n",
       "2  The plane crash that killed Buddy Holly also t...   \n",
       "3  A naïve young man and a rich city girl fall in...   \n",
       "4  After realizing that their boob tube is gone, ...   \n",
       "\n",
       "   years_between_add_and_release  \n",
       "0                             42  \n",
       "1                             24  \n",
       "2                             33  \n",
       "3                             23  \n",
       "4                             23  "
      ]
     },
     "execution_count": 93,
     "metadata": {},
     "output_type": "execute_result"
    }
   ],
   "source": [
    "def get_years_between_added_and_release (row):\n",
    "    year_added = row['date_added'].year\n",
    "    return year_added - row['release_year']\n",
    "\n",
    "movies_df['years_between_add_and_release'] = movies_df.apply(get_years_between_added_and_release, axis=1)\n",
    "movies_df.head()"
   ]
  },
  {
   "cell_type": "code",
   "execution_count": 94,
   "metadata": {},
   "outputs": [
    {
     "data": {
      "image/png": "[encoded data removed]",
      "text/plain": [
       "<Figure size 1440x576 with 1 Axes>"
      ]
     },
     "metadata": {
      "needs_background": "light"
     },
     "output_type": "display_data"
    }
   ],
   "source": [
    "vf.create_barplot_for_series(movies_df['years_between_add_and_release'].value_counts())"
   ]
  },
  {
   "cell_type": "markdown",
   "metadata": {},
   "source": [
    "Die Grafik zeigt nochmal übersichtlich, wie viele Jahre zwischen der Veröffentlichung und der Verfügbarkeit auf Netflix lagen. In einer ausführlichen Analyse würde man sich die Filme mit einer -1 als Wert in der Spalte `years_between_add_and_release` einmal genauer anschauen. Darauf wird in diesem Lernmodul allerdings nicht weiter eingegangen."
   ]
  },
  {
   "cell_type": "markdown",
   "metadata": {},
   "source": [
    "### 5.4 Gruppieren von Daten"
   ]
  },
  {
   "cell_type": "markdown",
   "metadata": {},
   "source": [
    "In einigen Fällen sollen Daten zunächst gruppiert werden, bevor Operationen auf ihnen ausgeführt werden. In Abschnitt [3.3 Beschreiben der Daten](#3.3-Beschreiben-der-Daten) hatten wir uns mit der Methode `unique()` die einzigartigen Werte der Spalte `type` ausgeben lassen. Die Methode `value_counts()` hatte angezeigt, wie oft diese einzigartigen Werte vorkommen. Im Grunde wurden die Daten hier auch zunächst gruppiert und dann die Anzahl der Vorkommen gezählt. Die folgende Zeile führt zu dem gleichen Ergebnis, wie die Methode `value_counts()`:"
   ]
  },
  {
   "cell_type": "code",
   "execution_count": 95,
   "metadata": {},
   "outputs": [
    {
     "data": {
      "text/plain": [
       "type\n",
       "Movie      3754\n",
       "TV Show    1508\n",
       "Name: type, dtype: int64"
      ]
     },
     "execution_count": 95,
     "metadata": {},
     "output_type": "execute_result"
    }
   ],
   "source": [
    "titles_df.groupby('type')['type'].count()"
   ]
  },
  {
   "cell_type": "markdown",
   "metadata": {},
   "source": [
    "Die Methode `groupby()` gruppiert die Daten nach den Werten der Spalte `type`, also `Movie` und `TV Show`. Aus den gruppierten Daten wird dann die `type` Spalte ausgewählt und gezählt, wie viele Vorkommen dort zu finden sind. \n",
    "\n",
    "Zudem kann nicht nur nach einer Spalte gruppiert werden, sondern nach beliebig vielen Spalten. Dafür werden die Spalten in einem Array an die `groupby` Funktion übergeben. In dem nachfolgenden Beispiel werden die Daten erst nach der Spalte `country` und dann nach der Spalte `type` gruppiert. Für jede Gruppierung wird dann die höchste Jahreszahl ausgewählt, zu der ein Film bzw. eine TV Show veröffentlich wurde. "
   ]
  },
  {
   "cell_type": "code",
   "execution_count": 96,
   "metadata": {},
   "outputs": [
    {
     "data": {
      "text/plain": [
       "country                                              type   \n",
       "Argentina                                            Movie      2019\n",
       "                                                     TV Show    2019\n",
       "Argentina, Brazil, France, Poland, Germany, Denmark  Movie      2017\n",
       "Argentina, Chile                                     Movie      2017\n",
       "Argentina, Chile, Peru                               Movie      2015\n",
       "                                                                ... \n",
       "United States, United Kingdom, Spain, South Korea    Movie      2015\n",
       "Uruguay, Argentina, Spain                            Movie      2018\n",
       "Uruguay, Spain, Mexico                               Movie      2018\n",
       "Venezuela                                            Movie      2017\n",
       "Vietnam                                              Movie      2019\n",
       "Name: release_year, Length: 579, dtype: int64"
      ]
     },
     "execution_count": 96,
     "metadata": {},
     "output_type": "execute_result"
    }
   ],
   "source": [
    "titles_df.groupby(['country','type']).release_year.max()"
   ]
  },
  {
   "cell_type": "markdown",
   "metadata": {},
   "source": [
    "### 5.5 Binning von Daten"
   ]
  },
  {
   "cell_type": "markdown",
   "metadata": {},
   "source": [
    "Beim Binning werden die Daten in Klassen eingeteilt. Das bedeutet, dass die vorhandenen Daten in sogenannte 'bins' eingeteilt werden. Dies passiert typischerweise auf der Basis eines Wertebereiches. Im Beispiel von unseren Daten könnte zum Beispiel das Attribut `duration` in Klassen eingeteilt werden. Klassen könnten dabei zum Beispiel sein: 'bis 90 Minuten', 'bis 120 Minuten', 'Überlänge'. Die genaue Anzahl der Minuten wird dann durch die jeweilige Kennung ersetzt. Der Vorteil von Binning ist, dass es dadurch weniger Merkmalsausprägungen gibt. Dadurch kann ein Machine Learning Algorithmus eventuell mit weniger Beispielen trainiert werden, da er weniger Merkmalsauprägungen unterscheiden muss. Ein sehr beliebtes Anwendungsfeld von Binning ist unter anderem die Gruppierung zu Altersgruppen.\n",
    "\n",
    "Zunächst müssen in einer Variablen die Klassen voneinander abgegrenzt werden, d. h. es werden Bins erstellt. Jeder Bin wird durch einen Wertebereich repräsentiert. Diese Wertebereiche werden in der Variablen `bins` gespeichert. Zum Beispiel ist der erste Bin durch den Wertebereich von 0 bis 60 definiert. Das bedeutet, dass alle Filme die in der `duration` Spalte einen Wert bis zu 60 stehen haben in diesen Bin fallen. In einer zweiten Variablen namens `labels` wird für jeden Bin ein Name hinterlegt. Für die ersten Bin wäre das der Name `0-60 Min`. Wenn keine Namen zur Verfügung gestellt werden, wird in der Spalte der Start- und Endwert der jeweiligen Klassen dargestellt. Also zum Beispiel (0,60) für die Klasse, die alle Filme enthält, die eine Länge von 0 bis 60 Minuten haben."
   ]
  },
  {
   "cell_type": "code",
   "execution_count": 97,
   "metadata": {},
   "outputs": [],
   "source": [
    "# Benötigte Variablen fürs Binning\n",
    "bins = [ 0, 60, 90, 120, 150, 180, 210, 240 ]\n",
    "labels = [ '0-60 Min', '61-90 Min', '91-120 Min','121-150 Min', '151-180 Min', '181-210 Min', '211-240 Min']\n",
    "\n",
    "# Durchfürhung des Binning\n",
    "movies_df['duration_category'] = pd.cut(movies_df['duration'], bins, labels = labels)"
   ]
  },
  {
   "cell_type": "code",
   "execution_count": 98,
   "metadata": {},
   "outputs": [
    {
     "data": {
      "text/html": [
       "<div>\n",
       "<style scoped>\n",
       "    .dataframe tbody tr th:only-of-type {\n",
       "        vertical-align: middle;\n",
       "    }\n",
       "\n",
       "    .dataframe tbody tr th {\n",
       "        vertical-align: top;\n",
       "    }\n",
       "\n",
       "    .dataframe thead th {\n",
       "        text-align: right;\n",
       "    }\n",
       "</style>\n",
       "<table border=\"1\" class=\"dataframe\">\n",
       "  <thead>\n",
       "    <tr style=\"text-align: right;\">\n",
       "      <th></th>\n",
       "      <th>id</th>\n",
       "      <th>type</th>\n",
       "      <th>title</th>\n",
       "      <th>director</th>\n",
       "      <th>cast</th>\n",
       "      <th>country</th>\n",
       "      <th>date_added</th>\n",
       "      <th>release_year</th>\n",
       "      <th>rating</th>\n",
       "      <th>duration</th>\n",
       "      <th>listed_in</th>\n",
       "      <th>description</th>\n",
       "      <th>years_between_add_and_release</th>\n",
       "      <th>duration_category</th>\n",
       "    </tr>\n",
       "  </thead>\n",
       "  <tbody>\n",
       "    <tr>\n",
       "      <th>0</th>\n",
       "      <td>247747</td>\n",
       "      <td>Movie</td>\n",
       "      <td>Amar Akbar Anthony</td>\n",
       "      <td>Manmohan Desai</td>\n",
       "      <td>Vinod Khanna, Rishi Kapoor, Amitabh Bachchan, ...</td>\n",
       "      <td>India</td>\n",
       "      <td>2019-12-31</td>\n",
       "      <td>1977</td>\n",
       "      <td>TV-14</td>\n",
       "      <td>172</td>\n",
       "      <td>Action &amp; Adventure, Classic Movies, Comedies</td>\n",
       "      <td>Abandoned in a park by their father, Amar, Akb...</td>\n",
       "      <td>42</td>\n",
       "      <td>151-180 Min</td>\n",
       "    </tr>\n",
       "    <tr>\n",
       "      <th>1</th>\n",
       "      <td>269880</td>\n",
       "      <td>Movie</td>\n",
       "      <td>Bad Boys</td>\n",
       "      <td>Michael Bay</td>\n",
       "      <td>Will Smith, Martin Lawrence, Téa Leoni, Tchéky...</td>\n",
       "      <td>United States</td>\n",
       "      <td>2019-10-01</td>\n",
       "      <td>1995</td>\n",
       "      <td>R</td>\n",
       "      <td>119</td>\n",
       "      <td>Action &amp; Adventure, Comedies</td>\n",
       "      <td>In this fast-paced actioner, two Miami narcoti...</td>\n",
       "      <td>24</td>\n",
       "      <td>91-120 Min</td>\n",
       "    </tr>\n",
       "    <tr>\n",
       "      <th>2</th>\n",
       "      <td>281550</td>\n",
       "      <td>Movie</td>\n",
       "      <td>La Bamba</td>\n",
       "      <td>Luis Valdez</td>\n",
       "      <td>Lou Diamond Phillips, Esai Morales, Rosanna De...</td>\n",
       "      <td>United States</td>\n",
       "      <td>2020-01-01</td>\n",
       "      <td>1987</td>\n",
       "      <td>PG-13</td>\n",
       "      <td>109</td>\n",
       "      <td>Classic Movies, Dramas, Music &amp; Musicals</td>\n",
       "      <td>The plane crash that killed Buddy Holly also t...</td>\n",
       "      <td>33</td>\n",
       "      <td>91-120 Min</td>\n",
       "    </tr>\n",
       "    <tr>\n",
       "      <th>3</th>\n",
       "      <td>284890</td>\n",
       "      <td>Movie</td>\n",
       "      <td>Barsaat</td>\n",
       "      <td>Rajkumar Santoshi</td>\n",
       "      <td>Twinkle Khanna, Bobby Deol, Danny Denzongpa, R...</td>\n",
       "      <td>India</td>\n",
       "      <td>2018-04-01</td>\n",
       "      <td>1995</td>\n",
       "      <td>TV-PG</td>\n",
       "      <td>166</td>\n",
       "      <td>Action &amp; Adventure, International Movies, Musi...</td>\n",
       "      <td>A naïve young man and a rich city girl fall in...</td>\n",
       "      <td>23</td>\n",
       "      <td>151-180 Min</td>\n",
       "    </tr>\n",
       "    <tr>\n",
       "      <th>4</th>\n",
       "      <td>292118</td>\n",
       "      <td>Movie</td>\n",
       "      <td>Beavis and Butt-head Do America</td>\n",
       "      <td>Mike Judge</td>\n",
       "      <td>Mike Judge, Bruce Willis, Demi Moore, Cloris L...</td>\n",
       "      <td>United States</td>\n",
       "      <td>2019-11-20</td>\n",
       "      <td>1996</td>\n",
       "      <td>PG-13</td>\n",
       "      <td>81</td>\n",
       "      <td>Comedies, Cult Movies</td>\n",
       "      <td>After realizing that their boob tube is gone, ...</td>\n",
       "      <td>23</td>\n",
       "      <td>61-90 Min</td>\n",
       "    </tr>\n",
       "  </tbody>\n",
       "</table>\n",
       "</div>"
      ],
      "text/plain": [
       "       id   type                            title           director  \\\n",
       "0  247747  Movie               Amar Akbar Anthony     Manmohan Desai   \n",
       "1  269880  Movie                         Bad Boys        Michael Bay   \n",
       "2  281550  Movie                         La Bamba        Luis Valdez   \n",
       "3  284890  Movie                          Barsaat  Rajkumar Santoshi   \n",
       "4  292118  Movie  Beavis and Butt-head Do America         Mike Judge   \n",
       "\n",
       "                                                cast        country  \\\n",
       "0  Vinod Khanna, Rishi Kapoor, Amitabh Bachchan, ...          India   \n",
       "1  Will Smith, Martin Lawrence, Téa Leoni, Tchéky...  United States   \n",
       "2  Lou Diamond Phillips, Esai Morales, Rosanna De...  United States   \n",
       "3  Twinkle Khanna, Bobby Deol, Danny Denzongpa, R...          India   \n",
       "4  Mike Judge, Bruce Willis, Demi Moore, Cloris L...  United States   \n",
       "\n",
       "  date_added  release_year rating  duration  \\\n",
       "0 2019-12-31          1977  TV-14       172   \n",
       "1 2019-10-01          1995      R       119   \n",
       "2 2020-01-01          1987  PG-13       109   \n",
       "3 2018-04-01          1995  TV-PG       166   \n",
       "4 2019-11-20          1996  PG-13        81   \n",
       "\n",
       "                                           listed_in  \\\n",
       "0       Action & Adventure, Classic Movies, Comedies   \n",
       "1                       Action & Adventure, Comedies   \n",
       "2           Classic Movies, Dramas, Music & Musicals   \n",
       "3  Action & Adventure, International Movies, Musi...   \n",
       "4                              Comedies, Cult Movies   \n",
       "\n",
       "                                         description  \\\n",
       "0  Abandoned in a park by their father, Amar, Akb...   \n",
       "1  In this fast-paced actioner, two Miami narcoti...   \n",
       "2  The plane crash that killed Buddy Holly also t...   \n",
       "3  A naïve young man and a rich city girl fall in...   \n",
       "4  After realizing that their boob tube is gone, ...   \n",
       "\n",
       "   years_between_add_and_release duration_category  \n",
       "0                             42       151-180 Min  \n",
       "1                             24        91-120 Min  \n",
       "2                             33        91-120 Min  \n",
       "3                             23       151-180 Min  \n",
       "4                             23         61-90 Min  "
      ]
     },
     "execution_count": 98,
     "metadata": {},
     "output_type": "execute_result"
    }
   ],
   "source": [
    "movies_df.head()"
   ]
  },
  {
   "cell_type": "markdown",
   "metadata": {},
   "source": [
    "Nun können die Daten anhand der neu erstellten Spalte `duration_category` gruppiert werden, um die Anzahl der Filme in der jeweiligen Kategorie anzuzeigen."
   ]
  },
  {
   "cell_type": "code",
   "execution_count": 99,
   "metadata": {},
   "outputs": [
    {
     "data": {
      "image/png": "[encoded data removed]",
      "text/plain": [
       "<Figure size 720x360 with 1 Axes>"
      ]
     },
     "metadata": {
      "needs_background": "light"
     },
     "output_type": "display_data"
    }
   ],
   "source": [
    "duration_category_series = movies_df['duration_category'].value_counts()\n",
    "vf.create_barplot_for_series(duration_category_series)"
   ]
  },
  {
   "cell_type": "markdown",
   "metadata": {},
   "source": [
    "### 5.6 One-hot Encoding"
   ]
  },
  {
   "cell_type": "markdown",
   "metadata": {},
   "source": [
    "Beim One-hot Encoding sollen nicht numerische Daten in numerische Daten umgewandelt werden. Im DataFrame `titles_df` kann das Merkmal `type` die Werte `Movie` oder `TV Show` annehmen. Zur weiteren Verarbeitung der Daten in Machine Learning Modellen kann es allerdings sinnvoll sein, diese Repräsentationen durch 0 und 1 zu ersetzen. Das hat den Grund, dass die meisten Algorithmen mit numerischen Daten besser umgehen können.\n",
    "\n",
    "Mit `pd.get_dummies()` erzeugen wir die One-hot Encoding Variablen. Dabei wird für jeden möglichen Wert (in diesem Fall `Movie` und `TV Show`) eine eigene Spalte erzeugt. In der Spalte werden dann die Zeilen mit einer 1 markiert, für die das Merkmal vorhanden ist. Alle anderen erhalten eine 0.\n",
    "\n",
    "Mithilfe `pd.concat()` werden die neu erstellten One-hot Encoding Spalten mit dem bestehenden DataFrame zusammengeführt. Der Parameter `axis=1` zeigt an, dass die beiden Spalten horizontal hinzugefügt werden sollen. Defaultmäßig fügt `pd-concat()` die DataFrames bzw. Series vertikal hinzu. "
   ]
  },
  {
   "cell_type": "code",
   "execution_count": 100,
   "metadata": {},
   "outputs": [],
   "source": [
    "titles_df = pd.concat([titles_df, pd.get_dummies(titles_df['type'])], axis=1)"
   ]
  },
  {
   "cell_type": "markdown",
   "metadata": {},
   "source": [
    "Durch One-hot-Encoding wird allerdings auch Redundanz erzeugt, wie in dem Beispiel ersichtlich ist. Wenn eine Titel kein Film ist, dann kann es sich in diesem Fall nur um eine TV Show handelt, da es nur zwei Merkmalsausprägungen gibt. Deswegen macht es in diesem Fall Sinn, eine der beiden entstandenen Spalten zu löschen. Alternativ kann dies auch bei der Erzeugung der One-hot Encoding Variablen mit angegeben werden. Wird der Methode `pd.get_dummies()` der Paramter `drop_first=True` hinzugefügt, wird die erste Variable gelöscht. "
   ]
  },
  {
   "cell_type": "code",
   "execution_count": 101,
   "metadata": {},
   "outputs": [
    {
     "data": {
      "text/html": [
       "<div>\n",
       "<style scoped>\n",
       "    .dataframe tbody tr th:only-of-type {\n",
       "        vertical-align: middle;\n",
       "    }\n",
       "\n",
       "    .dataframe tbody tr th {\n",
       "        vertical-align: top;\n",
       "    }\n",
       "\n",
       "    .dataframe thead th {\n",
       "        text-align: right;\n",
       "    }\n",
       "</style>\n",
       "<table border=\"1\" class=\"dataframe\">\n",
       "  <thead>\n",
       "    <tr style=\"text-align: right;\">\n",
       "      <th></th>\n",
       "      <th>id</th>\n",
       "      <th>type</th>\n",
       "      <th>title</th>\n",
       "      <th>director</th>\n",
       "      <th>cast</th>\n",
       "      <th>country</th>\n",
       "      <th>date_added</th>\n",
       "      <th>release_year</th>\n",
       "      <th>rating</th>\n",
       "      <th>duration</th>\n",
       "      <th>listed_in</th>\n",
       "      <th>description</th>\n",
       "      <th>Movie</th>\n",
       "      <th>TV Show</th>\n",
       "    </tr>\n",
       "  </thead>\n",
       "  <tbody>\n",
       "    <tr>\n",
       "      <th>0</th>\n",
       "      <td>247747</td>\n",
       "      <td>Movie</td>\n",
       "      <td>Amar Akbar Anthony</td>\n",
       "      <td>Manmohan Desai</td>\n",
       "      <td>Vinod Khanna, Rishi Kapoor, Amitabh Bachchan, ...</td>\n",
       "      <td>India</td>\n",
       "      <td>2019-12-31</td>\n",
       "      <td>1977</td>\n",
       "      <td>TV-14</td>\n",
       "      <td>172 min</td>\n",
       "      <td>Action &amp; Adventure, Classic Movies, Comedies</td>\n",
       "      <td>Abandoned in a park by their father, Amar, Akb...</td>\n",
       "      <td>1</td>\n",
       "      <td>0</td>\n",
       "    </tr>\n",
       "    <tr>\n",
       "      <th>1</th>\n",
       "      <td>269880</td>\n",
       "      <td>Movie</td>\n",
       "      <td>Bad Boys</td>\n",
       "      <td>Michael Bay</td>\n",
       "      <td>Will Smith, Martin Lawrence, Téa Leoni, Tchéky...</td>\n",
       "      <td>United States</td>\n",
       "      <td>2019-10-01</td>\n",
       "      <td>1995</td>\n",
       "      <td>R</td>\n",
       "      <td>119 min</td>\n",
       "      <td>Action &amp; Adventure, Comedies</td>\n",
       "      <td>In this fast-paced actioner, two Miami narcoti...</td>\n",
       "      <td>1</td>\n",
       "      <td>0</td>\n",
       "    </tr>\n",
       "    <tr>\n",
       "      <th>2</th>\n",
       "      <td>281550</td>\n",
       "      <td>Movie</td>\n",
       "      <td>La Bamba</td>\n",
       "      <td>Luis Valdez</td>\n",
       "      <td>Lou Diamond Phillips, Esai Morales, Rosanna De...</td>\n",
       "      <td>United States</td>\n",
       "      <td>2020-01-01</td>\n",
       "      <td>1987</td>\n",
       "      <td>PG-13</td>\n",
       "      <td>109 min</td>\n",
       "      <td>Classic Movies, Dramas, Music &amp; Musicals</td>\n",
       "      <td>The plane crash that killed Buddy Holly also t...</td>\n",
       "      <td>1</td>\n",
       "      <td>0</td>\n",
       "    </tr>\n",
       "    <tr>\n",
       "      <th>3</th>\n",
       "      <td>284890</td>\n",
       "      <td>Movie</td>\n",
       "      <td>Barsaat</td>\n",
       "      <td>Rajkumar Santoshi</td>\n",
       "      <td>Twinkle Khanna, Bobby Deol, Danny Denzongpa, R...</td>\n",
       "      <td>India</td>\n",
       "      <td>2018-04-01</td>\n",
       "      <td>1995</td>\n",
       "      <td>TV-PG</td>\n",
       "      <td>166 min</td>\n",
       "      <td>Action &amp; Adventure, International Movies, Musi...</td>\n",
       "      <td>A naïve young man and a rich city girl fall in...</td>\n",
       "      <td>1</td>\n",
       "      <td>0</td>\n",
       "    </tr>\n",
       "    <tr>\n",
       "      <th>4</th>\n",
       "      <td>292118</td>\n",
       "      <td>Movie</td>\n",
       "      <td>Beavis and Butt-head Do America</td>\n",
       "      <td>Mike Judge</td>\n",
       "      <td>Mike Judge, Bruce Willis, Demi Moore, Cloris L...</td>\n",
       "      <td>United States</td>\n",
       "      <td>2019-11-20</td>\n",
       "      <td>1996</td>\n",
       "      <td>PG-13</td>\n",
       "      <td>81 min</td>\n",
       "      <td>Comedies, Cult Movies</td>\n",
       "      <td>After realizing that their boob tube is gone, ...</td>\n",
       "      <td>1</td>\n",
       "      <td>0</td>\n",
       "    </tr>\n",
       "  </tbody>\n",
       "</table>\n",
       "</div>"
      ],
      "text/plain": [
       "       id   type                            title           director  \\\n",
       "0  247747  Movie               Amar Akbar Anthony     Manmohan Desai   \n",
       "1  269880  Movie                         Bad Boys        Michael Bay   \n",
       "2  281550  Movie                         La Bamba        Luis Valdez   \n",
       "3  284890  Movie                          Barsaat  Rajkumar Santoshi   \n",
       "4  292118  Movie  Beavis and Butt-head Do America         Mike Judge   \n",
       "\n",
       "                                                cast        country  \\\n",
       "0  Vinod Khanna, Rishi Kapoor, Amitabh Bachchan, ...          India   \n",
       "1  Will Smith, Martin Lawrence, Téa Leoni, Tchéky...  United States   \n",
       "2  Lou Diamond Phillips, Esai Morales, Rosanna De...  United States   \n",
       "3  Twinkle Khanna, Bobby Deol, Danny Denzongpa, R...          India   \n",
       "4  Mike Judge, Bruce Willis, Demi Moore, Cloris L...  United States   \n",
       "\n",
       "  date_added  release_year rating duration  \\\n",
       "0 2019-12-31          1977  TV-14  172 min   \n",
       "1 2019-10-01          1995      R  119 min   \n",
       "2 2020-01-01          1987  PG-13  109 min   \n",
       "3 2018-04-01          1995  TV-PG  166 min   \n",
       "4 2019-11-20          1996  PG-13   81 min   \n",
       "\n",
       "                                           listed_in  \\\n",
       "0       Action & Adventure, Classic Movies, Comedies   \n",
       "1                       Action & Adventure, Comedies   \n",
       "2           Classic Movies, Dramas, Music & Musicals   \n",
       "3  Action & Adventure, International Movies, Musi...   \n",
       "4                              Comedies, Cult Movies   \n",
       "\n",
       "                                         description  Movie  TV Show  \n",
       "0  Abandoned in a park by their father, Amar, Akb...      1        0  \n",
       "1  In this fast-paced actioner, two Miami narcoti...      1        0  \n",
       "2  The plane crash that killed Buddy Holly also t...      1        0  \n",
       "3  A naïve young man and a rich city girl fall in...      1        0  \n",
       "4  After realizing that their boob tube is gone, ...      1        0  "
      ]
     },
     "execution_count": 101,
     "metadata": {},
     "output_type": "execute_result"
    }
   ],
   "source": [
    "titles_df.head()"
   ]
  },
  {
   "cell_type": "markdown",
   "metadata": {},
   "source": [
    "Wie in Abschnitt [5.1 Manipulation der Datenstruktur](#5.1-Manipulation-der-Datenstruktur) bereits beschrieben kann eine Spalte mithilfe der Methode `drop()` gelöscht werden. Eine der erzeugten One-hot-Encoding Spalten sollte wieder gelöscht werden. Das gleich gilt für die Spalte `type` da diese nun auch redundant ist."
   ]
  },
  {
   "cell_type": "code",
   "execution_count": 102,
   "metadata": {},
   "outputs": [],
   "source": [
    "titles_df.drop('TV Show', axis=1, inplace=True)\n",
    "titles_df.drop('type', axis=1, inplace=True)"
   ]
  },
  {
   "cell_type": "code",
   "execution_count": 103,
   "metadata": {},
   "outputs": [
    {
     "data": {
      "text/html": [
       "<div>\n",
       "<style scoped>\n",
       "    .dataframe tbody tr th:only-of-type {\n",
       "        vertical-align: middle;\n",
       "    }\n",
       "\n",
       "    .dataframe tbody tr th {\n",
       "        vertical-align: top;\n",
       "    }\n",
       "\n",
       "    .dataframe thead th {\n",
       "        text-align: right;\n",
       "    }\n",
       "</style>\n",
       "<table border=\"1\" class=\"dataframe\">\n",
       "  <thead>\n",
       "    <tr style=\"text-align: right;\">\n",
       "      <th></th>\n",
       "      <th>id</th>\n",
       "      <th>title</th>\n",
       "      <th>director</th>\n",
       "      <th>cast</th>\n",
       "      <th>country</th>\n",
       "      <th>date_added</th>\n",
       "      <th>release_year</th>\n",
       "      <th>rating</th>\n",
       "      <th>duration</th>\n",
       "      <th>listed_in</th>\n",
       "      <th>description</th>\n",
       "      <th>Movie</th>\n",
       "    </tr>\n",
       "  </thead>\n",
       "  <tbody>\n",
       "    <tr>\n",
       "      <th>0</th>\n",
       "      <td>247747</td>\n",
       "      <td>Amar Akbar Anthony</td>\n",
       "      <td>Manmohan Desai</td>\n",
       "      <td>Vinod Khanna, Rishi Kapoor, Amitabh Bachchan, ...</td>\n",
       "      <td>India</td>\n",
       "      <td>2019-12-31</td>\n",
       "      <td>1977</td>\n",
       "      <td>TV-14</td>\n",
       "      <td>172 min</td>\n",
       "      <td>Action &amp; Adventure, Classic Movies, Comedies</td>\n",
       "      <td>Abandoned in a park by their father, Amar, Akb...</td>\n",
       "      <td>1</td>\n",
       "    </tr>\n",
       "    <tr>\n",
       "      <th>1</th>\n",
       "      <td>269880</td>\n",
       "      <td>Bad Boys</td>\n",
       "      <td>Michael Bay</td>\n",
       "      <td>Will Smith, Martin Lawrence, Téa Leoni, Tchéky...</td>\n",
       "      <td>United States</td>\n",
       "      <td>2019-10-01</td>\n",
       "      <td>1995</td>\n",
       "      <td>R</td>\n",
       "      <td>119 min</td>\n",
       "      <td>Action &amp; Adventure, Comedies</td>\n",
       "      <td>In this fast-paced actioner, two Miami narcoti...</td>\n",
       "      <td>1</td>\n",
       "    </tr>\n",
       "    <tr>\n",
       "      <th>2</th>\n",
       "      <td>281550</td>\n",
       "      <td>La Bamba</td>\n",
       "      <td>Luis Valdez</td>\n",
       "      <td>Lou Diamond Phillips, Esai Morales, Rosanna De...</td>\n",
       "      <td>United States</td>\n",
       "      <td>2020-01-01</td>\n",
       "      <td>1987</td>\n",
       "      <td>PG-13</td>\n",
       "      <td>109 min</td>\n",
       "      <td>Classic Movies, Dramas, Music &amp; Musicals</td>\n",
       "      <td>The plane crash that killed Buddy Holly also t...</td>\n",
       "      <td>1</td>\n",
       "    </tr>\n",
       "    <tr>\n",
       "      <th>3</th>\n",
       "      <td>284890</td>\n",
       "      <td>Barsaat</td>\n",
       "      <td>Rajkumar Santoshi</td>\n",
       "      <td>Twinkle Khanna, Bobby Deol, Danny Denzongpa, R...</td>\n",
       "      <td>India</td>\n",
       "      <td>2018-04-01</td>\n",
       "      <td>1995</td>\n",
       "      <td>TV-PG</td>\n",
       "      <td>166 min</td>\n",
       "      <td>Action &amp; Adventure, International Movies, Musi...</td>\n",
       "      <td>A naïve young man and a rich city girl fall in...</td>\n",
       "      <td>1</td>\n",
       "    </tr>\n",
       "    <tr>\n",
       "      <th>4</th>\n",
       "      <td>292118</td>\n",
       "      <td>Beavis and Butt-head Do America</td>\n",
       "      <td>Mike Judge</td>\n",
       "      <td>Mike Judge, Bruce Willis, Demi Moore, Cloris L...</td>\n",
       "      <td>United States</td>\n",
       "      <td>2019-11-20</td>\n",
       "      <td>1996</td>\n",
       "      <td>PG-13</td>\n",
       "      <td>81 min</td>\n",
       "      <td>Comedies, Cult Movies</td>\n",
       "      <td>After realizing that their boob tube is gone, ...</td>\n",
       "      <td>1</td>\n",
       "    </tr>\n",
       "    <tr>\n",
       "      <th>...</th>\n",
       "      <td>...</td>\n",
       "      <td>...</td>\n",
       "      <td>...</td>\n",
       "      <td>...</td>\n",
       "      <td>...</td>\n",
       "      <td>...</td>\n",
       "      <td>...</td>\n",
       "      <td>...</td>\n",
       "      <td>...</td>\n",
       "      <td>...</td>\n",
       "      <td>...</td>\n",
       "      <td>...</td>\n",
       "    </tr>\n",
       "    <tr>\n",
       "      <th>5257</th>\n",
       "      <td>81224868</td>\n",
       "      <td>Robot Trains</td>\n",
       "      <td>Unknown</td>\n",
       "      <td>Bill Rogers, Carrie Savage, Ken Spassione, Ang...</td>\n",
       "      <td>South Korea</td>\n",
       "      <td>2019-12-31</td>\n",
       "      <td>2018</td>\n",
       "      <td>TV-Y7</td>\n",
       "      <td>2 Seasons</td>\n",
       "      <td>Kids' TV, Korean TV Shows</td>\n",
       "      <td>Keeping peace and safety in Train World is no ...</td>\n",
       "      <td>0</td>\n",
       "    </tr>\n",
       "    <tr>\n",
       "      <th>5258</th>\n",
       "      <td>81227195</td>\n",
       "      <td>Kalushi: The Story of Solomon Mahlangu</td>\n",
       "      <td>Mandla Dube</td>\n",
       "      <td>Thabo Rametsi, Thabo Malema, Welile Nzuza, Jaf...</td>\n",
       "      <td>South Africa</td>\n",
       "      <td>2019-11-29</td>\n",
       "      <td>2016</td>\n",
       "      <td>TV-MA</td>\n",
       "      <td>107 min</td>\n",
       "      <td>Dramas, International Movies</td>\n",
       "      <td>The life and times of iconic South African lib...</td>\n",
       "      <td>1</td>\n",
       "    </tr>\n",
       "    <tr>\n",
       "      <th>5259</th>\n",
       "      <td>81228864</td>\n",
       "      <td>Blitz Patrollie</td>\n",
       "      <td>Andrew Wessels</td>\n",
       "      <td>Joey Rasdien, David Kau, David Kibuuka, Chris ...</td>\n",
       "      <td>South Africa</td>\n",
       "      <td>2019-12-27</td>\n",
       "      <td>2013</td>\n",
       "      <td>TV-MA</td>\n",
       "      <td>102 min</td>\n",
       "      <td>Action &amp; Adventure, Comedies, International Mo...</td>\n",
       "      <td>Caught between family pressures and small-time...</td>\n",
       "      <td>1</td>\n",
       "    </tr>\n",
       "    <tr>\n",
       "      <th>5260</th>\n",
       "      <td>81235603</td>\n",
       "      <td>Sym-Bionic Titan</td>\n",
       "      <td>Unknown</td>\n",
       "      <td>Tara Strong, Kevin Thoms, Brian Posehn, John D...</td>\n",
       "      <td>United States</td>\n",
       "      <td>2019-12-15</td>\n",
       "      <td>2010</td>\n",
       "      <td>TV-PG</td>\n",
       "      <td>1 Season</td>\n",
       "      <td>Kids' TV</td>\n",
       "      <td>Aliens fleeing their planet land on Earth, pos...</td>\n",
       "      <td>0</td>\n",
       "    </tr>\n",
       "    <tr>\n",
       "      <th>5261</th>\n",
       "      <td>81235729</td>\n",
       "      <td>Jezebel</td>\n",
       "      <td>Numa Perrier</td>\n",
       "      <td>Tiffany Tenille, Numa Perrier, Stephen Barring...</td>\n",
       "      <td>United States</td>\n",
       "      <td>2020-01-16</td>\n",
       "      <td>2019</td>\n",
       "      <td>TV-MA</td>\n",
       "      <td>86 min</td>\n",
       "      <td>Dramas, Independent Movies</td>\n",
       "      <td>During the internet's infancy, a vulnerable wo...</td>\n",
       "      <td>1</td>\n",
       "    </tr>\n",
       "  </tbody>\n",
       "</table>\n",
       "<p>5262 rows × 12 columns</p>\n",
       "</div>"
      ],
      "text/plain": [
       "            id                                   title           director  \\\n",
       "0       247747                      Amar Akbar Anthony     Manmohan Desai   \n",
       "1       269880                                Bad Boys        Michael Bay   \n",
       "2       281550                                La Bamba        Luis Valdez   \n",
       "3       284890                                 Barsaat  Rajkumar Santoshi   \n",
       "4       292118         Beavis and Butt-head Do America         Mike Judge   \n",
       "...        ...                                     ...                ...   \n",
       "5257  81224868                            Robot Trains            Unknown   \n",
       "5258  81227195  Kalushi: The Story of Solomon Mahlangu        Mandla Dube   \n",
       "5259  81228864                         Blitz Patrollie     Andrew Wessels   \n",
       "5260  81235603                        Sym-Bionic Titan            Unknown   \n",
       "5261  81235729                                 Jezebel       Numa Perrier   \n",
       "\n",
       "                                                   cast        country  \\\n",
       "0     Vinod Khanna, Rishi Kapoor, Amitabh Bachchan, ...          India   \n",
       "1     Will Smith, Martin Lawrence, Téa Leoni, Tchéky...  United States   \n",
       "2     Lou Diamond Phillips, Esai Morales, Rosanna De...  United States   \n",
       "3     Twinkle Khanna, Bobby Deol, Danny Denzongpa, R...          India   \n",
       "4     Mike Judge, Bruce Willis, Demi Moore, Cloris L...  United States   \n",
       "...                                                 ...            ...   \n",
       "5257  Bill Rogers, Carrie Savage, Ken Spassione, Ang...    South Korea   \n",
       "5258  Thabo Rametsi, Thabo Malema, Welile Nzuza, Jaf...   South Africa   \n",
       "5259  Joey Rasdien, David Kau, David Kibuuka, Chris ...   South Africa   \n",
       "5260  Tara Strong, Kevin Thoms, Brian Posehn, John D...  United States   \n",
       "5261  Tiffany Tenille, Numa Perrier, Stephen Barring...  United States   \n",
       "\n",
       "     date_added  release_year rating   duration  \\\n",
       "0    2019-12-31          1977  TV-14    172 min   \n",
       "1    2019-10-01          1995      R    119 min   \n",
       "2    2020-01-01          1987  PG-13    109 min   \n",
       "3    2018-04-01          1995  TV-PG    166 min   \n",
       "4    2019-11-20          1996  PG-13     81 min   \n",
       "...         ...           ...    ...        ...   \n",
       "5257 2019-12-31          2018  TV-Y7  2 Seasons   \n",
       "5258 2019-11-29          2016  TV-MA    107 min   \n",
       "5259 2019-12-27          2013  TV-MA    102 min   \n",
       "5260 2019-12-15          2010  TV-PG   1 Season   \n",
       "5261 2020-01-16          2019  TV-MA     86 min   \n",
       "\n",
       "                                              listed_in  \\\n",
       "0          Action & Adventure, Classic Movies, Comedies   \n",
       "1                          Action & Adventure, Comedies   \n",
       "2              Classic Movies, Dramas, Music & Musicals   \n",
       "3     Action & Adventure, International Movies, Musi...   \n",
       "4                                 Comedies, Cult Movies   \n",
       "...                                                 ...   \n",
       "5257                          Kids' TV, Korean TV Shows   \n",
       "5258                       Dramas, International Movies   \n",
       "5259  Action & Adventure, Comedies, International Mo...   \n",
       "5260                                           Kids' TV   \n",
       "5261                         Dramas, Independent Movies   \n",
       "\n",
       "                                            description  Movie  \n",
       "0     Abandoned in a park by their father, Amar, Akb...      1  \n",
       "1     In this fast-paced actioner, two Miami narcoti...      1  \n",
       "2     The plane crash that killed Buddy Holly also t...      1  \n",
       "3     A naïve young man and a rich city girl fall in...      1  \n",
       "4     After realizing that their boob tube is gone, ...      1  \n",
       "...                                                 ...    ...  \n",
       "5257  Keeping peace and safety in Train World is no ...      0  \n",
       "5258  The life and times of iconic South African lib...      1  \n",
       "5259  Caught between family pressures and small-time...      1  \n",
       "5260  Aliens fleeing their planet land on Earth, pos...      0  \n",
       "5261  During the internet's infancy, a vulnerable wo...      1  \n",
       "\n",
       "[5262 rows x 12 columns]"
      ]
     },
     "execution_count": 103,
     "metadata": {},
     "output_type": "execute_result"
    }
   ],
   "source": [
    "titles_df"
   ]
  },
  {
   "cell_type": "markdown",
   "metadata": {},
   "source": [
    "### 5.7 Zusammenfassung Datenmanipulation"
   ]
  },
  {
   "cell_type": "markdown",
   "metadata": {},
   "source": [
    "<img src='img/datenmanipulation.jpg' alt=\"Übersicht Zusammenfassung Datenmanipulation\">"
   ]
  },
  {
   "cell_type": "markdown",
   "metadata": {},
   "source": [
    "<div style=\"background-color: #FFCA00 ; padding: 5px; \"></div>\n",
    "\n",
    "### 5.8 Übungsteil"
   ]
  },
  {
   "cell_type": "markdown",
   "metadata": {},
   "source": [
    "**5.8.1 Berechne das Alter der jeweiligen Filme (`movies_df`) ausgehend vom Jahr 2021. Hierfür muss die Spalte `release_year` betrachtet werden. Erstelle für das Alter der jeweiligen Filme eine neue Spalte namens `age`. In einer weiteren Spalte namens `age_group` sollen die Filme nun nach ihrem Alter kategorisiert werden. Dabei sollen folgende Altersklassen mittels Binning gebildet werden:**\n",
    "\n",
    "- 0-5 Jahre\n",
    "- 6-10 Jahre\n",
    "- 11-20 Jahre\n",
    "- 21-30 Jahre\n",
    "- 31-40 Jahre\n",
    "- 41-60 Jahre\n",
    "\n",
    "**Wichtig:** Nutze dafür die folgenden Labels: `labels = [ '0-5', '6-10', '11-20','21-30', '31-40', '41-60', '61-80']`\n",
    "\n",
    "**Am Ende soll in einer Series ausgegeben werden, wie viele Filme sich in den einzelnen Altersklassen befinden (Tipp: Nutze die Methode `value_counts()`). Die Series soll in einer Variablen mit dem Namen `movie_age_series` gespeichert werden.**"
   ]
  },
  {
   "cell_type": "code",
   "execution_count": 104,
   "metadata": {},
   "outputs": [
    {
     "data": {
      "text/plain": [
       "0-5      2272\n",
       "6-10      663\n",
       "11-20     501\n",
       "21-30     156\n",
       "31-40      82\n",
       "41-60      68\n",
       "61-80      12\n",
       "Name: age_group, dtype: int64"
      ]
     },
     "metadata": {},
     "output_type": "display_data"
    },
    {
     "data": {
      "application/vnd.jupyter.widget-view+json": {
       "model_id": "7c9d30ec7a524da1857e6fee27ed9e7e",
       "version_major": 2,
       "version_minor": 0
      },
      "text/plain": [
       "Output()"
      ]
     },
     "metadata": {},
     "output_type": "display_data"
    },
    {
     "data": {
      "application/vnd.jupyter.widget-view+json": {
       "model_id": "0ef053c2588c4f089cd14576e6e2c24e",
       "version_major": 2,
       "version_minor": 0
      },
      "text/plain": [
       "Output()"
      ]
     },
     "metadata": {},
     "output_type": "display_data"
    }
   ],
   "source": [
    "current_year = 2021\n",
    "movies_df['age'] = movies_df['release_year'].map(lambda year: current_year - year)\n",
    "\n",
    "bins = [ 0, 6, 11, 21, 31, 41, 61, 81]\n",
    "labels = [ '0-5', '6-10', '11-20','21-30', '31-40', '41-60', '61-80']\n",
    "\n",
    "movies_df['age_group'] = pd.cut(movies_df['age'], bins, labels = labels)\n",
    "\n",
    "movie_age_series = movies_df['age_group'].value_counts()\n",
    "\n",
    "lm.show_task(581, movie_age_series)"
   ]
  },
  {
   "cell_type": "markdown",
   "metadata": {},
   "source": [
    "Nun kann die erstellte Series nochmal als Diagramm angesehen werden."
   ]
  },
  {
   "cell_type": "code",
   "execution_count": 105,
   "metadata": {},
   "outputs": [
    {
     "data": {
      "image/png": "[encoded data removed]",
      "text/plain": [
       "<Figure size 720x360 with 1 Axes>"
      ]
     },
     "metadata": {
      "needs_background": "light"
     },
     "output_type": "display_data"
    }
   ],
   "source": [
    "vf.create_barplot_for_series(movie_age_series)"
   ]
  },
  {
   "cell_type": "markdown",
   "metadata": {},
   "source": [
    "**5.8.2 Erzeuge eine neue Spalte `depp_and_over_120Min` die angibt, ob Johnny Depp in einem Film mitgespielt hat und ob der Film mindestens 120 Minuten dauert. Nutze dafür den DataFrame `movies_df`. Speichere mithilfe dieser neuen Spalte alle Filme, die diese Bedingungen erfüllen, in einem DataFrame `depp_df`. In diesem DataFrame sollen nur die Spalten `id`, `title` und `cast` vorhanden sein.**"
   ]
  },
  {
   "cell_type": "code",
   "execution_count": 106,
   "metadata": {},
   "outputs": [],
   "source": [
    "def deppAnd120min(row):\n",
    "    if row['cast'].find('Johnny Depp') != -1:\n",
    "        if row['duration'] >= 120:\n",
    "            return True\n",
    "    return False\n",
    "\n",
    "movies_df['depp_and_over_120Min'] = movies_df.apply(deppAnd120min, axis='columns')"
   ]
  },
  {
   "cell_type": "code",
   "execution_count": 107,
   "metadata": {},
   "outputs": [
    {
     "data": {
      "text/html": [
       "<div>\n",
       "<style scoped>\n",
       "    .dataframe tbody tr th:only-of-type {\n",
       "        vertical-align: middle;\n",
       "    }\n",
       "\n",
       "    .dataframe tbody tr th {\n",
       "        vertical-align: top;\n",
       "    }\n",
       "\n",
       "    .dataframe thead th {\n",
       "        text-align: right;\n",
       "    }\n",
       "</style>\n",
       "<table border=\"1\" class=\"dataframe\">\n",
       "  <thead>\n",
       "    <tr style=\"text-align: right;\">\n",
       "      <th></th>\n",
       "      <th>id</th>\n",
       "      <th>title</th>\n",
       "      <th>cast</th>\n",
       "    </tr>\n",
       "  </thead>\n",
       "  <tbody>\n",
       "    <tr>\n",
       "      <th>59</th>\n",
       "      <td>1151721</td>\n",
       "      <td>Donnie Brasco</td>\n",
       "      <td>Al Pacino, Johnny Depp, Michael Madsen, Bruno ...</td>\n",
       "    </tr>\n",
       "    <tr>\n",
       "      <th>191</th>\n",
       "      <td>60020891</td>\n",
       "      <td>Blow</td>\n",
       "      <td>Johnny Depp, Penélope Cruz, Franka Potente, Ra...</td>\n",
       "    </tr>\n",
       "    <tr>\n",
       "      <th>613</th>\n",
       "      <td>70113532</td>\n",
       "      <td>The Imaginarium of Doctor Parnassus</td>\n",
       "      <td>Heath Ledger, Christopher Plummer, Andrew Garf...</td>\n",
       "    </tr>\n",
       "    <tr>\n",
       "      <th>658</th>\n",
       "      <td>70120340</td>\n",
       "      <td>THE RUM DIARY</td>\n",
       "      <td>Johnny Depp, Aaron Eckhart, Michael Rispoli, A...</td>\n",
       "    </tr>\n",
       "  </tbody>\n",
       "</table>\n",
       "</div>"
      ],
      "text/plain": [
       "           id                                title  \\\n",
       "59    1151721                        Donnie Brasco   \n",
       "191  60020891                                 Blow   \n",
       "613  70113532  The Imaginarium of Doctor Parnassus   \n",
       "658  70120340                        THE RUM DIARY   \n",
       "\n",
       "                                                  cast  \n",
       "59   Al Pacino, Johnny Depp, Michael Madsen, Bruno ...  \n",
       "191  Johnny Depp, Penélope Cruz, Franka Potente, Ra...  \n",
       "613  Heath Ledger, Christopher Plummer, Andrew Garf...  \n",
       "658  Johnny Depp, Aaron Eckhart, Michael Rispoli, A...  "
      ]
     },
     "metadata": {},
     "output_type": "display_data"
    },
    {
     "data": {
      "application/vnd.jupyter.widget-view+json": {
       "model_id": "cf1faa30908f429387695070c2dc9ebb",
       "version_major": 2,
       "version_minor": 0
      },
      "text/plain": [
       "Output()"
      ]
     },
     "metadata": {},
     "output_type": "display_data"
    },
    {
     "data": {
      "application/vnd.jupyter.widget-view+json": {
       "model_id": "393a72d25ee043c9896b15de64c98a32",
       "version_major": 2,
       "version_minor": 0
      },
      "text/plain": [
       "Output()"
      ]
     },
     "metadata": {},
     "output_type": "display_data"
    }
   ],
   "source": [
    "depp_df = movies_df[movies_df['depp_and_over_120Min'] == True][['id', 'title', 'cast']]\n",
    "lm.show_task(582, depp_df)"
   ]
  },
  {
   "cell_type": "markdown",
   "metadata": {},
   "source": [
    "**5.8.3 Was sind die beliebtesten Kategorien? Nutze die Spalte `listed_in` des DataFrames `movies_df`, um dies herauszufinden. Erstelle ein Dictonary, dass für jede Kategorie die Anzahl der Filme in dieser Kategorie anzeigt. Beachte dabei, dass in der Spalte `listed_in` immer mehrere Kategorien für einen Film stehen. Die einzelnen Kategorien werden hier durch ein Komma getrennt. Erstelle aus dem generierten Dictonary eine Series in der Variablen `category_series` und gebe der Series den Namen `categoryCount` (`series.name = \"categoryCount\"`).**"
   ]
  },
  {
   "cell_type": "code",
   "execution_count": 108,
   "metadata": {},
   "outputs": [],
   "source": [
    "categoryCount = {}\n",
    "\n",
    "def countCategories(list):\n",
    "    categories = list.split(\", \")\n",
    "    for category in categories:\n",
    "        if category in categoryCount:\n",
    "            categoryCount[category] = categoryCount.get(category) + 1\n",
    "        else:\n",
    "            categoryCount[category] = 1\n",
    "\n",
    "movies_df['listed_in'].apply(countCategories)\n",
    "category_series = pd.Series(categoryCount)"
   ]
  },
  {
   "cell_type": "code",
   "execution_count": 109,
   "metadata": {},
   "outputs": [
    {
     "data": {
      "text/plain": [
       "Action & Adventure           587\n",
       "Classic Movies                76\n",
       "Comedies                    1072\n",
       "Dramas                      1586\n",
       "Music & Musicals             198\n",
       "International Movies        1742\n",
       "Cult Movies                   54\n",
       "Children & Family Movies     334\n",
       "Horror Movies                256\n",
       "Thrillers                    384\n",
       "Sci-Fi & Fantasy             188\n",
       "Romantic Movies              367\n",
       "Documentaries                317\n",
       "Sports Movies                117\n",
       "LGBTQ Movies                  52\n",
       "Stand-Up Comedy              255\n",
       "Independent Movies           548\n",
       "Faith & Spirituality          41\n",
       "Anime Features                43\n",
       "Movies                        33\n",
       "Name: categoryCount, dtype: int64"
      ]
     },
     "metadata": {},
     "output_type": "display_data"
    },
    {
     "data": {
      "application/vnd.jupyter.widget-view+json": {
       "model_id": "83a40c5acd694827932563224d845001",
       "version_major": 2,
       "version_minor": 0
      },
      "text/plain": [
       "Output()"
      ]
     },
     "metadata": {},
     "output_type": "display_data"
    },
    {
     "data": {
      "application/vnd.jupyter.widget-view+json": {
       "model_id": "5f25160a6a06478ba88d959054ea1d2c",
       "version_major": 2,
       "version_minor": 0
      },
      "text/plain": [
       "Output()"
      ]
     },
     "metadata": {},
     "output_type": "display_data"
    }
   ],
   "source": [
    "category_series.name = \"categoryCount\" # needed for task review\n",
    "lm.show_task(583, category_series)"
   ]
  },
  {
   "cell_type": "markdown",
   "metadata": {},
   "source": [
    "Um die erarbeiteten Ergebnisse nochmal besser zu veranschaulichen ist ein Diagramm immer hilfreich:"
   ]
  },
  {
   "cell_type": "code",
   "execution_count": 110,
   "metadata": {},
   "outputs": [
    {
     "data": {
      "image/png": "[encoded data removed]",
      "text/plain": [
       "<Figure size 1440x576 with 1 Axes>"
      ]
     },
     "metadata": {
      "needs_background": "light"
     },
     "output_type": "display_data"
    }
   ],
   "source": [
    "vf.create_barplot_for_series(category_series)"
   ]
  },
  {
   "cell_type": "markdown",
   "metadata": {},
   "source": [
    "**5.8.4 Gebe in einer Series mit dem Namen `series_date_added` für jedes Jahr an, wie viele der vorhandenen Titel in diesem Jahr hinzugefügt wurde (`date_added`). Sortiere die Ergebnisse in der entstandenen Series absteigend (Tipp: `sort_values(ascending=False)`)**"
   ]
  },
  {
   "cell_type": "code",
   "execution_count": 111,
   "metadata": {},
   "outputs": [
    {
     "data": {
      "text/plain": [
       "2019    1983\n",
       "2018    1507\n",
       "2017    1087\n",
       "2016     389\n",
       "2020     163\n",
       "2015      77\n",
       "2014      21\n",
       "2011      13\n",
       "2013      12\n",
       "2012       6\n",
       "2009       2\n",
       "2008       1\n",
       "2010       1\n",
       "Name: date_added, dtype: int64"
      ]
     },
     "metadata": {},
     "output_type": "display_data"
    },
    {
     "data": {
      "application/vnd.jupyter.widget-view+json": {
       "model_id": "a3b053fb4b9e4499bb6c7145c34a97fd",
       "version_major": 2,
       "version_minor": 0
      },
      "text/plain": [
       "Output()"
      ]
     },
     "metadata": {},
     "output_type": "display_data"
    },
    {
     "data": {
      "application/vnd.jupyter.widget-view+json": {
       "model_id": "41279f002f8b4f22b17a640dfbce4ab6",
       "version_major": 2,
       "version_minor": 0
      },
      "text/plain": [
       "Output()"
      ]
     },
     "metadata": {},
     "output_type": "display_data"
    }
   ],
   "source": [
    "series_date_added = titles_df['date_added'].map(lambda d: d.year).value_counts()\n",
    "series_date_added = series_date_added.sort_values(ascending=False)\n",
    "lm.show_task(584, series_date_added)"
   ]
  },
  {
   "cell_type": "markdown",
   "metadata": {},
   "source": [
    "Und auch hier nochmal eine grafische Sicht auf die erstellte Series."
   ]
  },
  {
   "cell_type": "code",
   "execution_count": 112,
   "metadata": {},
   "outputs": [
    {
     "data": {
      "image/png": "[encoded data removed]",
      "text/plain": [
       "<Figure size 1440x576 with 1 Axes>"
      ]
     },
     "metadata": {
      "needs_background": "light"
     },
     "output_type": "display_data"
    }
   ],
   "source": [
    "\n",
    "vf.create_barplot_for_series(series_date_added)"
   ]
  },
  {
   "cell_type": "markdown",
   "metadata": {},
   "source": [
    "**5.8.5 Gebe für jeden Monat eines jeden Jahres an, wie viele Titel hinzugefügt wurden. Hierfür sollten zunächst zwei neue Spalten erzeugt werden (`year` und `month`) in denen das jeweilige Jahr und der jeweilige Monat aus dem Datum der Spalte `date_added` extrahiert werden sollten. Mithilfe der neu erstellten Spalten kann mittels Gruppierung eine Series erzeugt werden, die für die vorhandenen Monate und Jahre angibt, wie viele Title hinzugefügt wurden.**"
   ]
  },
  {
   "cell_type": "code",
   "execution_count": 113,
   "metadata": {},
   "outputs": [],
   "source": [
    "titles_df['year'] = titles_df['date_added'].apply(lambda x : x.year)\n",
    "titles_df['month'] = titles_df['date_added'].apply(lambda x : x.month)"
   ]
  },
  {
   "cell_type": "code",
   "execution_count": 114,
   "metadata": {},
   "outputs": [
    {
     "data": {
      "text/plain": [
       "year  month\n",
       "2008  1          1\n",
       "2009  5          1\n",
       "      11         1\n",
       "2010  11         1\n",
       "2011  10        11\n",
       "              ... \n",
       "2019  5        142\n",
       "      1        140\n",
       "      8        139\n",
       "      9        138\n",
       "2020  1        163\n",
       "Name: month, Length: 88, dtype: int64"
      ]
     },
     "execution_count": 114,
     "metadata": {},
     "output_type": "execute_result"
    }
   ],
   "source": [
    "year_month_group = titles_df.groupby('year')['month'].value_counts()\n",
    "year_month_group"
   ]
  },
  {
   "cell_type": "markdown",
   "metadata": {},
   "source": [
    "**Mithilfe der Methode `to_frame()` können Series in DataFrames umgewandelt werden. Dies ist an dieser Stelle zur Überprüfung der erstellten Series nötig. Bitte erzeuge einen DataFrame aus der generierten Series. Die Spaltennamen des DataFrames sollten `year`, `month` und `count` lauten. Benenne ggf. die Spalten um. Danach wird die Methode `reset_index()` auf dem DataFrame aufgerufen, um den Index aus den Spalten `year` und `month` aufzulösen.**\n",
    "\n",
    "**Hinweis: An dieser Stelle ist es wichtig, die Spalten zuerst umzubenennen, bevor die Methode `reset_index()` auf dem DataFrame aufgerufen wird. Mit der Methode `reset_index()` wird der Index bestehend aus den Spalten `year` und `month` aufgelöst und in einfache Spalten konvertiert. Vor der Umbennenung der Spalte `month` ist dies nicht möglich, da es sonst zwei Spalten mit gleicher Beschriftung geben würde.**"
   ]
  },
  {
   "cell_type": "code",
   "execution_count": 115,
   "metadata": {},
   "outputs": [
    {
     "data": {
      "text/html": [
       "<div>\n",
       "<style scoped>\n",
       "    .dataframe tbody tr th:only-of-type {\n",
       "        vertical-align: middle;\n",
       "    }\n",
       "\n",
       "    .dataframe tbody tr th {\n",
       "        vertical-align: top;\n",
       "    }\n",
       "\n",
       "    .dataframe thead th {\n",
       "        text-align: right;\n",
       "    }\n",
       "</style>\n",
       "<table border=\"1\" class=\"dataframe\">\n",
       "  <thead>\n",
       "    <tr style=\"text-align: right;\">\n",
       "      <th></th>\n",
       "      <th>year</th>\n",
       "      <th>month</th>\n",
       "      <th>count</th>\n",
       "    </tr>\n",
       "  </thead>\n",
       "  <tbody>\n",
       "    <tr>\n",
       "      <th>0</th>\n",
       "      <td>2008</td>\n",
       "      <td>1</td>\n",
       "      <td>1</td>\n",
       "    </tr>\n",
       "    <tr>\n",
       "      <th>1</th>\n",
       "      <td>2009</td>\n",
       "      <td>5</td>\n",
       "      <td>1</td>\n",
       "    </tr>\n",
       "    <tr>\n",
       "      <th>2</th>\n",
       "      <td>2009</td>\n",
       "      <td>11</td>\n",
       "      <td>1</td>\n",
       "    </tr>\n",
       "    <tr>\n",
       "      <th>3</th>\n",
       "      <td>2010</td>\n",
       "      <td>11</td>\n",
       "      <td>1</td>\n",
       "    </tr>\n",
       "    <tr>\n",
       "      <th>4</th>\n",
       "      <td>2011</td>\n",
       "      <td>10</td>\n",
       "      <td>11</td>\n",
       "    </tr>\n",
       "    <tr>\n",
       "      <th>...</th>\n",
       "      <td>...</td>\n",
       "      <td>...</td>\n",
       "      <td>...</td>\n",
       "    </tr>\n",
       "    <tr>\n",
       "      <th>83</th>\n",
       "      <td>2019</td>\n",
       "      <td>5</td>\n",
       "      <td>142</td>\n",
       "    </tr>\n",
       "    <tr>\n",
       "      <th>84</th>\n",
       "      <td>2019</td>\n",
       "      <td>1</td>\n",
       "      <td>140</td>\n",
       "    </tr>\n",
       "    <tr>\n",
       "      <th>85</th>\n",
       "      <td>2019</td>\n",
       "      <td>8</td>\n",
       "      <td>139</td>\n",
       "    </tr>\n",
       "    <tr>\n",
       "      <th>86</th>\n",
       "      <td>2019</td>\n",
       "      <td>9</td>\n",
       "      <td>138</td>\n",
       "    </tr>\n",
       "    <tr>\n",
       "      <th>87</th>\n",
       "      <td>2020</td>\n",
       "      <td>1</td>\n",
       "      <td>163</td>\n",
       "    </tr>\n",
       "  </tbody>\n",
       "</table>\n",
       "<p>88 rows × 3 columns</p>\n",
       "</div>"
      ],
      "text/plain": [
       "    year  month  count\n",
       "0   2008      1      1\n",
       "1   2009      5      1\n",
       "2   2009     11      1\n",
       "3   2010     11      1\n",
       "4   2011     10     11\n",
       "..   ...    ...    ...\n",
       "83  2019      5    142\n",
       "84  2019      1    140\n",
       "85  2019      8    139\n",
       "86  2019      9    138\n",
       "87  2020      1    163\n",
       "\n",
       "[88 rows x 3 columns]"
      ]
     },
     "metadata": {},
     "output_type": "display_data"
    },
    {
     "data": {
      "application/vnd.jupyter.widget-view+json": {
       "model_id": "91265340ecc54fcca6c242a77365a427",
       "version_major": 2,
       "version_minor": 0
      },
      "text/plain": [
       "Output()"
      ]
     },
     "metadata": {},
     "output_type": "display_data"
    },
    {
     "data": {
      "application/vnd.jupyter.widget-view+json": {
       "model_id": "fd9235defd954ff58883bd1eb71215c4",
       "version_major": 2,
       "version_minor": 0
      },
      "text/plain": [
       "Output()"
      ]
     },
     "metadata": {},
     "output_type": "display_data"
    }
   ],
   "source": [
    "year_month_df = year_month_group.to_frame()\n",
    "year_month_df.rename(columns = {'month':'count'}, inplace = True) \n",
    "lm.show_task(585, year_month_df.reset_index())"
   ]
  },
  {
   "cell_type": "markdown",
   "metadata": {},
   "source": [
    "Die so erstellte Series kann in einer schicken Heatmap aufbereitet werden."
   ]
  },
  {
   "cell_type": "code",
   "execution_count": 116,
   "metadata": {},
   "outputs": [
    {
     "data": {
      "image/png": "[encoded data removed]",
      "text/plain": [
       "<Figure size 720x576 with 2 Axes>"
      ]
     },
     "metadata": {
      "needs_background": "light"
     },
     "output_type": "display_data"
    }
   ],
   "source": [
    "vf.create_heatmap(year_month_group)"
   ]
  },
  {
   "cell_type": "markdown",
   "metadata": {},
   "source": [
    "## 6 Zusammenfassung"
   ]
  },
  {
   "cell_type": "markdown",
   "metadata": {},
   "source": [
    "In diesem Lernmodul wurde der Umgang mit der Bibliothek pandas erläutert. Dafür wurde zunächst im Abschnitt [2 Daten importieren und extrahieren](#2-Datenimport-und--export) der Import von Daten aus einer Datenbank und einer csv Datei besprochen sowie der Export in eine Datenbank und eine csv Datei. Zudem wurde in Abschnitt [3 Daten analysieren](#3-Datenanalyse) gezeigt, wie die auf diese Weise importierten Daten angesehen, analysiert und angepasst (z. B. die Datentypen der Spalten) werden können. Auf den Umgang mit Null Werten und Duplikaten wurden im Abschnitt [4 Daten bereinigen](#4-Datenbereinigung) eingegangen. Zum Schluss wurde im Abschnitt [5 Daten manipulieren](#5-Datenmanipulation) noch die Manipulation der Daten betrachtet, zum Beispiel der Datenstruktur oder Zellwerte. Binning und One-hot-Encoding wurden als sinnvolle Vorbereitung der Daten zur Nutzung in einem Maschine Learning Modell vorgestellt. \n",
    "\n",
    "Die Zusammenfassungen der einzelnen Abschnitte können hier nochmal als pdf runtergeladen werden:\n",
    "<a href=\"data/Zusammenfassung_pandas.pdf\">PDF Zusammenfassung öffnen</a> (funktioniert nicht in Chrome)"
   ]
  },
  {
   "cell_type": "markdown",
   "metadata": {},
   "source": [
    "Nun hast du einen ersten Überblick über die Funktionalitäten erhalten, die pandas zur Datenanalyse und -manipulation bereitstellt und kannst deine neu erworbenen Kenntnisse in pandas bald in der Praxis anwenden und weiter ausbauen.\n",
    "\n",
    "Nach der Arbeit aber erstmal eine wohlverdiente Pause ..."
   ]
  },
  {
   "cell_type": "markdown",
   "metadata": {},
   "source": [
    "<img src=\"img/panda.jpg\" width=500px alt=\"panda\">\n",
    "<span>Photo by <a href=\"https://unsplash.com/@zuoanyixi?utm_source=unsplash&amp;utm_medium=referral&amp;utm_content=creditCopyText\">Jeremy C</a> on <a href=\"https://unsplash.com/?utm_source=unsplash&amp;utm_medium=referral&amp;utm_content=creditCopyText\">Unsplash</a></span>"
   ]
  },
  {
   "cell_type": "markdown",
   "metadata": {},
   "source": [
    "## 7 Referenzen"
   ]
  },
  {
   "cell_type": "markdown",
   "metadata": {},
   "source": [
    "* https://pandas.pydata.org/pandas-docs/stable/reference/index.html\n",
    "* https://www.kaggle.com/learn/pandas\n"
   ]
  }
 ],
 "metadata": {
  "kernelspec": {
   "display_name": "Python 3",
   "language": "python",
   "name": "python3"
  },
  "language_info": {
   "codemirror_mode": {
    "name": "ipython",
    "version": 3
   },
   "file_extension": ".py",
   "mimetype": "text/x-python",
   "name": "python",
   "nbconvert_exporter": "python",
   "pygments_lexer": "ipython3",
   "version": "3.6.12"
  }
 },
 "nbformat": 4,
 "nbformat_minor": 4
}
