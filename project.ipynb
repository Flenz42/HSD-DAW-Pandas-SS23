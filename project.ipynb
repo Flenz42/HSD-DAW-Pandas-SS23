{
 "cells": [
  {
   "cell_type": "code",
   "execution_count": null,
   "metadata": {
    "ExecuteTime": {
     "end_time": "2023-05-30T07:15:05.957968200Z",
     "start_time": "2023-05-30T07:15:05.027470800Z"
    },
    "collapsed": false
   },
   "outputs": [],
   "source": [
    "import pandas as pd\n",
    "import ipcalc\n",
    "import parse_functions as pf\n",
    "import matplotlib.pyplot as plt\n",
    "import seaborn as sns\n",
    "import numpy as np\n",
    "import re\n",
    "import user_agents as ua\n",
    "from helpers import filter_other, autopct_format\n",
    "import calendar"
   ]
  },
  {
   "attachments": {},
   "cell_type": "markdown",
   "metadata": {},
   "source": [
    "# Vorbereitung: Einlesen der Daten\n",
    "\n",
    "_Vorstellung: Flo_\n",
    "\n",
    "- Für die Analsyse müssen die Daten der `acces.log`-Datei eingelesen werden!\n",
    "\n",
    "## Schwierigkeit\n",
    "\n",
    "- Größe des Datensatzes: 10.365.152 Log Einträge (über 10 Milionen)\n",
    "- keine eindeutiges Trennzeichen in den Daten vorhanden\n",
    "- kein von Pandas vorgefertigter Import für Log Dateien\n",
    "\n",
    "**So sehen die Anfragen aus:**\n",
    "```\n",
    "31.56.96.51 - - [22/Jan/2019:03:56:16 +0330] \"GET /image/60844/productModel/200x200 HTTP/1.1\" 200 5667 \"https://www.zanbil.ir/m/filter/b113\" \"Mozilla/5.0 (Linux; Android 6.0; ALE-L21 Build/HuaweiALE-L21) AppleWebKit/537.36 (KHTML, like Gecko) Chrome/66.0.3359.158 Mobile Safari/537.36\" \"-\"\n",
    "\n",
    "31.56.96.51 - - [22/Jan/2019:03:56:16 +0330] \"GET /image/61474/productModel/200x200 HTTP/1.1\" 200 5379 \"https://www.zanbil.ir/m/filter/b113\" \"Mozilla/5.0 (Linux; Android 6.0; ALE-L21 Build/HuaweiALE-L21) AppleWebKit/537.36 (KHTML, like Gecko) Chrome/66.0.3359.158 Mobile Safari/537.36\" \"-\"\n",
    "```\n",
    "\n",
    "## Lösung\n",
    "\n",
    "- Nutzung des Read_CSV Befehls angewandt auf die `acces.log`-Datei\n",
    "- Anwendung möglich durch die Angabe des Seperators mitthilfe einer Regular Expression ```sep=r'\\s(?=(?:[^\"]*\"[^\"]*\")*[^\"]*$)(?![^\\[]*\\]\\s)'```\n",
    "- Nach eindeutiger zuordnung des Trennzeichens können Daten eingelesen werden!\n",
    "\n",
    "**Nachteil:** Die Ladezeit ist aufgrund der Größe des Datensatzes relativ lang (ca. 10-15 Minuten)"
   ]
  },
  {
   "cell_type": "code",
   "execution_count": null,
   "metadata": {
    "ExecuteTime": {
     "start_time": "2023-05-30T07:15:05.394469100Z"
    },
    "collapsed": false,
    "is_executing": true
   },
   "outputs": [],
   "source": [
    "# Source: https://mmas.github.io/read-apache-access-log-pandas\n",
    "access_log = pd.read_csv(\n",
    "    'data/access.log',\n",
    "    sep=r'\\s(?=(?:[^\"]*\"[^\"]*\")*[^\"]*$)(?![^\\[]*\\]\\s)',\n",
    "    engine='python',\n",
    "    na_values='-',\n",
    "    header=None,\n",
    "    usecols=[0, 3, 4, 5, 6, 7, 8],\n",
    "    names=['ip', 'time', 'request', 'status', 'size', 'referer', 'user_agent'],\n",
    "    converters={'time': pf.parse_datetime,\n",
    "                'request': pf.parse_str,\n",
    "                'status': int,\n",
    "                'size': int,\n",
    "                'referer': pf.parse_str,\n",
    "                'user_agent': pf.parse_str},\n",
    "    on_bad_lines='warn')\n",
    "\n",
    "access_log.head()\n"
   ]
  },
  {
   "attachments": {},
   "cell_type": "markdown",
   "metadata": {},
   "source": [
    "## Umwandlung in CSV Datei\n",
    "\n",
    "Nachdem Daten eingelesen wurden diese direkt als CSV-Datei \"zwischenspeichern\"\n",
    "\n",
    "**Vorteil:** Verkürzt die Ladezeit auf ca. 3-4 Minuten\n",
    "\n",
    "- CSV Datei kann genutzt werden um die Daten erneut einzulesen\n",
    "- Das Einladen über die strukturierte CSV Datei geht deutlich schneller als laden der Daten aus der `acces.log`-Datei"
   ]
  },
  {
   "cell_type": "code",
   "execution_count": null,
   "metadata": {},
   "outputs": [],
   "source": [
    "# Daten in einer CSV Datei speichern\n",
    "filename = \"data/acces_log.csv\"\n",
    "access_log.to_csv(filename, index=False)"
   ]
  },
  {
   "attachments": {},
   "cell_type": "markdown",
   "metadata": {},
   "source": [
    "## Daten aus CSV laden\n",
    "- Die Daten aus der zuvor genrierten CSV Datei laden. \n",
    "\n",
    "**Wichtig:** Es muss zuvor die CSV Datei generiert werden, indem mindestens einmal die Daten aus der `acces.log`-Datei eingelesen wurden!\n",
    "- dieser Schritt wird also erst bei der mehrfachen Ausführung des Notebooks sinnvoll! "
   ]
  },
  {
   "cell_type": "code",
   "execution_count": null,
   "metadata": {},
   "outputs": [],
   "source": [
    "# Daten aus CSV laden\n",
    "filename = \"data/acces_log.csv\"\n",
    "access_log = pd.read_csv(filename)\n",
    "\n",
    "access_log.head()"
   ]
  },
  {
   "cell_type": "code",
   "execution_count": null,
   "metadata": {},
   "outputs": [],
   "source": [
    "# Erzeuge eine Kopie der Daten als \"Backup\" \n",
    "access_log_backup = access_log.copy()\n",
    "len(access_log_backup)"
   ]
  },
  {
   "attachments": {},
   "cell_type": "markdown",
   "metadata": {},
   "source": [
    "## Daten konvertieren & normalisieren\n",
    "Die in der CSV hinterlegten Daten in die benötigten Datentypen überführen\n",
    "\n",
    "- time: soll als Datum im Pandas Dataframe hinterlegt und entsprechend Normalisiert werden!"
   ]
  },
  {
   "cell_type": "code",
   "execution_count": null,
   "metadata": {},
   "outputs": [],
   "source": [
    "# Typen konvertieren\n",
    "access_log['time'] = pd.to_datetime(access_log['time'])\n",
    "\n",
    "# Daten normalisieren\n",
    "access_log['time'] = access_log['time'].dt.tz_convert('UTC')"
   ]
  },
  {
   "attachments": {},
   "cell_type": "markdown",
   "metadata": {},
   "source": [
    "# Aufgabe 1: Beliebtestes Produkt\n",
    "\n",
    "_Vorstellung: Tom_\n",
    "\n",
    "> Analysieren Sie welche Produkte beliebt sind. Entwickeln Sie dazu eine Definition eines beliebten Produktes. Stellen Sie die Ergebnisse anschaulich da.\n",
    "\n",
    "## Definition\n",
    "\n",
    "> Das Produkt mit dein meisten Aufrufen auf dem Webserver\n"
   ]
  },
  {
   "attachments": {},
   "cell_type": "markdown",
   "metadata": {},
   "source": [
    "## Lösungsweg"
   ]
  },
  {
   "cell_type": "code",
   "execution_count": null,
   "metadata": {},
   "outputs": [],
   "source": [
    "access_log.loc[access_log['request'].str.contains('/product/') == True].value_counts(access_log['request']).head()"
   ]
  },
  {
   "attachments": {},
   "cell_type": "markdown",
   "metadata": {},
   "source": [
    "### Ergebnis\n",
    "\n",
    "> Das Produkt _55XTU625-Ultra-HD_ mit der ID _33309_ wurde am häufigsten aufgerufen.\n",
    "\n",
    "**Oder?**"
   ]
  },
  {
   "attachments": {},
   "cell_type": "markdown",
   "metadata": {},
   "source": [
    "## Lösungsweg II\n",
    "\n",
    "Es gibt mehrere URLs pro Produkt"
   ]
  },
  {
   "cell_type": "code",
   "execution_count": null,
   "metadata": {},
   "outputs": [],
   "source": [
    "def extract_product_id(request):\n",
    "  m = re.search(r\"\\/product\\/(\\d+)\\/\", str(request))\n",
    "  if m:\n",
    "    return m.group(1)\n",
    "  return None\n",
    "\n",
    "access_log['product_id'] = access_log['request'].map(extract_product_id)\n",
    "access_log.head()"
   ]
  },
  {
   "cell_type": "code",
   "execution_count": null,
   "metadata": {},
   "outputs": [],
   "source": [
    "most_viewed_products = access_log.loc[access_log['product_id'] != None].value_counts(access_log['product_id'])\n",
    "most_viewed_products = most_viewed_products[0:10]\n",
    "most_viewed_products.plot(kind='barh')\n",
    "most_viewed_product_id = most_viewed_products.keys()[0]\n",
    "print(most_viewed_products[0], 'x', 'ID:', most_viewed_product_id)\n",
    "\n",
    "access_log.loc[access_log['product_id'] == most_viewed_product_id].value_counts(access_log['request'])"
   ]
  },
  {
   "attachments": {},
   "cell_type": "markdown",
   "metadata": {},
   "source": [
    "### Ergebnis II\n",
    "\n",
    "> Das beliebteste Produkt ist #33953, das _Galaxy A7 Dual 128GB_"
   ]
  },
  {
   "attachments": {},
   "cell_type": "markdown",
   "metadata": {},
   "source": [
    "# Aufgabe 2\n",
    "\n",
    "> Untersuchen Sie den Datensatz auf weitere Auffälligkeiten.\n"
   ]
  },
  {
   "attachments": {},
   "cell_type": "markdown",
   "metadata": {},
   "source": [
    "## Basisinformationen durch Pandas-Befehle\n",
    "- Pandas bietet bereits vordefinierte Befehle um einfache Informationen über die Daten zu ermitteln\n",
    "- Mit den Befehlen zu beginnen, hilft dabei die Daten ein erstes mal zu erkunden!\n",
    "- Speziell bei numerrischen Daten erhält man bereits eine Reihe an spannenden statistischen Informationen\n",
    "- Auch für Daten wie die des Logs, lohnt es sich kurz beide Befehle anzugucken!\n",
    "\n",
    "### Befehl `.info()`\n",
    "- Übersicht über die Spalten\n",
    "- Angabe zu den Datentypen der Spalten"
   ]
  },
  {
   "cell_type": "code",
   "execution_count": null,
   "metadata": {
    "collapsed": false,
    "is_executing": true
   },
   "outputs": [],
   "source": [
    "access_log.info()"
   ]
  },
  {
   "attachments": {},
   "cell_type": "markdown",
   "metadata": {},
   "source": [
    "### Befehl `.describe()`\n",
    "- Anzahl der Einträge\n",
    "- wie viele einzigartige Einträge\n",
    "- höchste Zahl\n",
    "- Durchschintt\n",
    "- weitere statistische Angaben!\n",
    "\n",
    "--> Statistische Basisinformationen <br>\n",
    "--> Parameter `include = 'all'` notwendig, dass auch nicht numerische Daten in die Übersicht mit übernommen werden\n",
    "\n"
   ]
  },
  {
   "cell_type": "code",
   "execution_count": null,
   "metadata": {},
   "outputs": [],
   "source": [
    "access_log.describe(include = 'all')"
   ]
  },
  {
   "attachments": {},
   "cell_type": "markdown",
   "metadata": {},
   "source": [
    "## Daten anzeigen\n",
    "\n",
    "- Zum Anzeigen der Daten können unterschiedliche Methoden genutzt werden\n",
    "- Anzeigen durch Methoden: ` .head(x) | .tail(x) ` gibt die ersten / letzten x Zeilen aus\n",
    "- indizierter Zugriff wie aus Python bekannt `acces_log[10000:10200]`"
   ]
  },
  {
   "cell_type": "code",
   "execution_count": null,
   "metadata": {},
   "outputs": [],
   "source": [
    "access_log.head(5)"
   ]
  },
  {
   "cell_type": "code",
   "execution_count": null,
   "metadata": {},
   "outputs": [],
   "source": [
    "access_log[10000:10200]"
   ]
  },
  {
   "attachments": {},
   "cell_type": "markdown",
   "metadata": {},
   "source": [
    "## Einfache Analyse der Anzahl einzelner Features\n",
    "\n",
    "- Zählen der Features durch `.value_counts(\"feature\")`\n",
    "  - ermitteln welche IP Adresse die meisten Anfragen stellt\n",
    "  - Verwendung auch in Aufgabe 1 (Welches Produkt wurde am meisten angefragt)\n",
    "  - Von welchen Seiten kamen die Leute zuvor hauptsächlich?"
   ]
  },
  {
   "cell_type": "code",
   "execution_count": null,
   "metadata": {},
   "outputs": [],
   "source": [
    "# IP-Adressen mit den meisten Aufrufen \n",
    "access_log.value_counts(\"ip\").head()"
   ]
  },
  {
   "attachments": {},
   "cell_type": "markdown",
   "metadata": {},
   "source": [
    "### Referer\n",
    "- Analyse von welchen Seiten die Nutzer gekommen sind (Wo war der Nutzer zuvor?)\n",
    "- Einfache Anzahlen können direkt visualisiert und als Plot dargestellt werden (Unterschiedliche Darstellungsmöglichkeiten (Bar, Pie...))\n"
   ]
  },
  {
   "cell_type": "code",
   "execution_count": null,
   "metadata": {},
   "outputs": [],
   "source": [
    "referer_counts = access_log.loc[access_log['referer'] != None]['referer'].value_counts()\n",
    "referer_counts.head(10).plot(kind=\"barh\")"
   ]
  },
  {
   "cell_type": "code",
   "execution_count": null,
   "metadata": {},
   "outputs": [],
   "source": [
    "# Pie Plot mit allen weiteren Links\n",
    "referer_counts = access_log.loc[access_log['referer'] != None]['referer'].value_counts()\n",
    "referer_counts = filter_other(referer_counts, 0.01)\n",
    "referer_counts.plot(kind='pie', title='Request Methods', ylabel='Method', autopct=autopct_format(referer_counts))"
   ]
  },
  {
   "attachments": {},
   "cell_type": "markdown",
   "metadata": {},
   "source": [
    "# Auswertung Referer\n",
    "\n",
    "1. Sehr viele der Referer Eintäge haben was mit `Zanbil` zu tun (Platz 1-4 % 6-10)\n",
    "   - **Unsere Schlussfolgerung:** Der Webserver-Log wird von der Seite Zanbil.ir stammen, da sehre viele der Aufrufe von der gleichen Website stammen  \n",
    "   - Dies passiert wenn die Nutzer zwischen der Seite hin und her springen\n",
    "2. Nur `Google.com` hat es noch in die Top 10 der Referer einträge geschafft! Vermutlich, da es die Meist genutzte Suchmaschine ist, über die die Website entsprechend gefunden werden konnte"
   ]
  },
  {
   "attachments": {},
   "cell_type": "markdown",
   "metadata": {},
   "source": [
    "## Datenergänzung / Datenaufbereitung zur Analyse\n",
    "\n",
    "### Timestamps\n",
    "\n",
    "- Zur Analyse des Timestamps werden einzelne Spalten für Wochentag (numerisch), Stunde und Datum erstellt\n",
    "- Die neu erstellten Features können für Untersuchungen zu den Aufrufe nach Tageszeit / Tagen verwendet werden"
   ]
  },
  {
   "cell_type": "code",
   "execution_count": null,
   "metadata": {},
   "outputs": [],
   "source": [
    "access_log['date'] = access_log['time'].dt.date\n",
    "access_log['weekday_n'] = access_log['time'].dt.weekday\n",
    "access_log['weekday'] = access_log['weekday_n'].map(lambda wd: calendar.day_name[wd])\n",
    "access_log['hour'] = access_log['time'].dt.hour\n",
    "\n",
    "access_log.head()"
   ]
  },
  {
   "attachments": {},
   "cell_type": "markdown",
   "metadata": {},
   "source": [
    "## Analyse der herausgearbeiteten Timestamp Eigenschaften \n",
    "\n",
    "- Analyse der Aufrufe je Tag\n",
    "- Analyse der Aufrufe je Stunden\n",
    "\n",
    "Darstellung beider Daten als Balkendiagramm"
   ]
  },
  {
   "cell_type": "code",
   "execution_count": null,
   "metadata": {},
   "outputs": [],
   "source": [
    "# Analyse der Tage (Zugriffstage)\n",
    "days_count = access_log.value_counts('date')\n",
    "print(days_count)\n",
    "days_count.sort_index().plot(kind='bar')"
   ]
  },
  {
   "attachments": {},
   "cell_type": "markdown",
   "metadata": {},
   "source": [
    "## Auswertung Tagesanzahl\n",
    "\n",
    "- Die Log-Datei enthält Informationen zu 5 Tagen\n",
    "- Die ersten beiden Tage haben eine leicht höhere Anzahl an Anfragen, ansonsten aber eine relativ gleiche Verteilung der Last über alle Tage"
   ]
  },
  {
   "cell_type": "code",
   "execution_count": null,
   "metadata": {},
   "outputs": [],
   "source": [
    "# Analyse der Stunden (Zugriffszeiten)\n",
    "hours_count = access_log.value_counts('hour')\n",
    "print(hours_count.head())\n",
    "hours_count.sort_index().plot(kind='bar')"
   ]
  },
  {
   "attachments": {},
   "cell_type": "markdown",
   "metadata": {},
   "source": [
    "## Auswertung Stundenanalyse (Zugriffszeiten)\n",
    "\n",
    "- Klares Tief in der Nacht zu erkennen\n",
    "- Morgens ab 5 Uhr steigt die Anzahl an Aufrufen rapide\n",
    "- Hochpunkt ist zwischen 8:00 und 9;00 Uhr morgens\n",
    "- Über den Nachmittag zum Abend hin sinken die Aufrufe wieder deutlich"
   ]
  },
  {
   "attachments": {},
   "cell_type": "markdown",
   "metadata": {},
   "source": [
    "### Heatmap Tageszeit\n",
    "\n",
    "_Vorstellung: Flo_\n",
    "\n",
    "- Alternative visualisierung der Tageszeiten"
   ]
  },
  {
   "cell_type": "code",
   "execution_count": null,
   "metadata": {},
   "outputs": [],
   "source": [
    "daytime_access = access_log.groupby(['hour']).size().to_frame(name = 'count').reset_index()\n",
    "\n",
    "fig, ax = plt.subplots(1, 1, figsize = (5, 3))\n",
    "df_wide = daytime_access.pivot_table(columns='hour', values='count', aggfunc=lambda x:x)\n",
    "heatmap = sns.heatmap(df_wide, linewidths=1.0,ax=ax)\n",
    "\n",
    "ax.set_xlim(0, 23)\n",
    "ax.set_ylim(0, 1)\n",
    "\n",
    "heatmap.set_title('Aufrufe nach Tageszeit')\n",
    "heatmap.set_xlabel('Uhrzeit')\n"
   ]
  },
  {
   "attachments": {},
   "cell_type": "markdown",
   "metadata": {},
   "source": [
    "Die Wochentage sind folgendermaßen ablesbar:\n",
    "\n",
    "| Nr. | Wochentag |\n",
    "| --- | --- |\n",
    "| 0 | Mo |\n",
    "| 1 | Di |\n",
    "| 2 | Mi |\n",
    "| 3 | Do |\n",
    "| 4 | Fr |\n",
    "| 5 | Sa |\n",
    "| 6 | So |"
   ]
  },
  {
   "cell_type": "code",
   "execution_count": null,
   "metadata": {},
   "outputs": [],
   "source": [
    "daytime_access = access_log.groupby(['weekday_n', 'hour']).size().to_frame(name = 'count').reset_index()\n",
    "\n",
    "fig, ax = plt.subplots(1, 1, figsize = (5, 3))\n",
    "df_wide = daytime_access.pivot_table(index='weekday_n',columns='hour',values='count', aggfunc=lambda x:x)\n",
    "heatmap = sns.heatmap(df_wide, linewidths=1.0,ax=ax)\n",
    "\n",
    "ax.set_xlim(0, 23)\n",
    "ax.set_ylim(0, 6)\n",
    "# ax.set_yticks(range(0, 7), ['Mo', 'Di', 'Mi', 'Do', 'Fr', 'Sa', 'So'])\n",
    "\n",
    "heatmap.set_title('Aufrufe nach Tag/Uhrzeit')\n",
    "heatmap.set_xlabel('Uhrzeit')\n",
    "heatmap.set_ylabel('Wochentag')"
   ]
  },
  {
   "attachments": {},
   "cell_type": "markdown",
   "metadata": {},
   "source": [
    "## Request Methods\n",
    "\n",
    "Herausarbeiten welche unterschiedlichen Requests an den Server gestellt wurden\n",
    "\n",
    "Die folgenden Request Methoden gibt es:  \n",
    "`GET`, `HEAD`, `POST`, `PUT`, `DELETE`, `CONNECT`, `OPTIONS`, `TRACE` und `PATCH`\n",
    "\n",
    "Hierzu wird auf die Spalte `request` die Methode mit der Funktion `extract_method(str)` extrahiert  \n",
    "Die Extraktion erfolgt mittels der Regular Expression `^[A-Z]+`, die alle Großbuchstabenn vom Beginn des Request ausliest."
   ]
  },
  {
   "cell_type": "code",
   "execution_count": null,
   "metadata": {},
   "outputs": [],
   "source": [
    "def extract_method(request):\n",
    "  \"Method to extract the HTTP-Method for a Request\"\n",
    "  m = re.match(r'^[A-Z]+', str(request))\n",
    "  if m:\n",
    "    return m.group()\n",
    "  return None\n",
    "\n",
    "access_log['method'] = access_log['request'].map(extract_method)\n",
    "access_log.head()"
   ]
  },
  {
   "cell_type": "code",
   "execution_count": null,
   "metadata": {},
   "outputs": [],
   "source": [
    "method_counts = access_log.loc[access_log['method'] != None]['method'].value_counts()\n",
    "\n",
    "# Ausgabe der Methods\n",
    "print(method_counts)\n",
    "\n",
    "# Plot\n",
    "method_counts_other = filter_other(method_counts, 0.005)\n",
    "method_counts_other.plot(kind='pie', title='Request Methods', ylabel='Method', autopct=autopct_format(method_counts_other))"
   ]
  },
  {
   "cell_type": "code",
   "execution_count": null,
   "metadata": {},
   "outputs": [],
   "source": [
    "method_counts_without_get = method_counts.drop(labels = 'GET')\n",
    "method_counts_without_get.plot(kind='bar', title='Request Methods (excl. GET)', ylabel='Requests')"
   ]
  },
  {
   "attachments": {},
   "cell_type": "markdown",
   "metadata": {},
   "source": [
    "## Auswertung RequestMethoden\n",
    "\n",
    "- Sehr hohe Anzahl von Get Requests 98.3%\n",
    "- Es existieren aber auch andere Reqeust\n",
    "- 1.3% Post Requests\n",
    "- Weitere Requests: HEAD; OPTIONS; CONNECT; G; E; PROPFIND"
   ]
  },
  {
   "cell_type": "code",
   "execution_count": null,
   "metadata": {},
   "outputs": [],
   "source": [
    "post_requests = access_log.loc[access_log['method'] == 'POST']\n",
    "post_requests.head()"
   ]
  },
  {
   "attachments": {},
   "cell_type": "markdown",
   "metadata": {},
   "source": [
    "## User Agents, Browser & OS\n",
    "\n",
    "- Browser senden `User-Agent` mit.\n",
    "- Beispiel:\n",
    "  - `User-Agent: Mozilla/5.0 (Windows NT 10.0; Win64; x64) AppleWebKit/537.36 (KHTML, like Gecko) Chrome/113.0.0.0 Safari/537.36`\n",
    "  - Chrome `113.0.0.0` mit Windows 10, 64-Bit\n",
    "- Diese Daten können wir analysieren!"
   ]
  },
  {
   "cell_type": "code",
   "execution_count": null,
   "metadata": {},
   "outputs": [],
   "source": [
    "# Alternativ: CSV (unten)\n",
    "agents = access_log['user_agent'].map(lambda agent: ua.parse(str(agent)))\n",
    "access_log['browser_family'] = agents.map(lambda agent: agent.browser.family)\n",
    "access_log['os_family'] = agents.map(lambda agent: agent.os.family)\n",
    "access_log['device_family'] = agents.map(lambda agent: agent.device.family)\n",
    "access_log['device_brand'] = agents.map(lambda agent: agent.device.brand)\n",
    "access_log['device_model'] = agents.map(lambda agent: agent.device.model)\n",
    "access_log['is_mobile'] = agents.map(lambda agent: agent.is_mobile)\n",
    "access_log['is_pc'] = agents.map(lambda agent: agent.is_pc)\n",
    "access_log['is_bot'] = agents.map(lambda agent: agent.is_bot)\n",
    "\n",
    "access_log.head()"
   ]
  },
  {
   "cell_type": "code",
   "execution_count": null,
   "metadata": {},
   "outputs": [],
   "source": [
    "# Zwischenstand Als CSV speichern\n",
    "filename = \"data/acces_log_user_agent.csv\"\n",
    "access_log.to_csv(filename, index=False)"
   ]
  },
  {
   "cell_type": "code",
   "execution_count": null,
   "metadata": {},
   "outputs": [],
   "source": [
    "# Laden aus CSV (dauert keine 6 Minuten)\n",
    "filename = \"data/acces_log_user_agent.csv\"\n",
    "access_log = pd.read_csv(filename)\n",
    "# access_log = access_log.drop([\"Unnamed: 0\"], axis=1)\n",
    "access_log.head()"
   ]
  },
  {
   "attachments": {},
   "cell_type": "markdown",
   "metadata": {},
   "source": [
    "### Browser-Family\n",
    "\n",
    "Der verwendete Browser wie Chrome, Firefox, ...\n",
    "\n",
    "> Viele Nutzer sind mit Chrome (oder Chrome Mobile) unterwegs (ca. 45%!)"
   ]
  },
  {
   "cell_type": "code",
   "execution_count": null,
   "metadata": {},
   "outputs": [],
   "source": [
    "browser_family_counts = access_log['browser_family'].value_counts()\n",
    "\n",
    "browser_family_counts = filter_other(browser_family_counts)\n",
    "\n",
    "browser_family_counts.plot(kind='pie', title='Browsers', ylabel='Browser', autopct=autopct_format(browser_family_counts))"
   ]
  },
  {
   "attachments": {},
   "cell_type": "markdown",
   "metadata": {},
   "source": [
    "### Betriebssysteme\n",
    "\n",
    "> Hauptsächlich Windows- und Android-Nutzer."
   ]
  },
  {
   "cell_type": "code",
   "execution_count": null,
   "metadata": {},
   "outputs": [],
   "source": [
    "os_family_counts = access_log['os_family'].value_counts()\n",
    "\n",
    "os_family_counts = filter_other(os_family_counts)\n",
    "\n",
    "os_family_counts.plot(kind='pie', title='OS', ylabel='OS', autopct=autopct_format(os_family_counts))"
   ]
  },
  {
   "attachments": {},
   "cell_type": "markdown",
   "metadata": {},
   "source": [
    "### Bots\n",
    "\n",
    "> 10,7% der Besucher sind Bots\n",
    "\n",
    "Bots könnten aber auch \"normale\" User-Agents nutzen."
   ]
  },
  {
   "cell_type": "code",
   "execution_count": null,
   "metadata": {},
   "outputs": [],
   "source": [
    "bot_counts = access_log['is_bot'].value_counts()\n",
    "\n",
    "bot_counts.plot(kind='pie', title='Bots', ylabel='Bots', autopct=autopct_format(bot_counts))"
   ]
  },
  {
   "attachments": {},
   "cell_type": "markdown",
   "metadata": {},
   "source": [
    "### Bots und IP-Adressen\n",
    "\n",
    "Wir können einzelne IP-Adressen nach Bots gruppieren"
   ]
  },
  {
   "cell_type": "code",
   "execution_count": null,
   "metadata": {},
   "outputs": [],
   "source": [
    "bot_access_log = access_log.loc[access_log['is_bot']]\n",
    "\n",
    "bot_access_log.value_counts(['ip', 'browser_family'])"
   ]
  },
  {
   "attachments": {},
   "cell_type": "markdown",
   "metadata": {},
   "source": [
    "### Reevaluation von Aufgabe 1\n",
    "\n",
    "Ändert sich das Ergebnis, wenn wir Bots ausschließen?"
   ]
  },
  {
   "cell_type": "code",
   "execution_count": null,
   "metadata": {},
   "outputs": [],
   "source": [
    "# Ergebnis von vorher\n",
    "print('Ergebnis von vorher')\n",
    "print(most_viewed_products[0], most_viewed_products.keys()[0])\n",
    "\n",
    "print()\n",
    "\n",
    "# Neues Ergebnis (ohne Bots)\n",
    "print('Neues Ergebnis')\n",
    "most_viewed_products2 = access_log.loc[access_log['is_bot'] != True].loc[access_log['product_id'] != None].value_counts(access_log['product_id'])\n",
    "most_viewed_product2_id = int(most_viewed_products2.keys()[0])\n",
    "most_viewed_product2_count = most_viewed_products2[most_viewed_product2_id]\n",
    "print(most_viewed_product2_count, most_viewed_product2_id)\n",
    "\n",
    "print()\n",
    "\n",
    "# Evaluate\n",
    "if int(most_viewed_product_id) == most_viewed_product2_id:\n",
    "    print('Gleiches Ergebnis')\n",
    "else:\n",
    "    print('Ergebnis verändert')\n",
    "print('Differenz:', most_viewed_products[0] - most_viewed_product2_count, 'Bot-Aufrufe')"
   ]
  },
  {
   "attachments": {},
   "cell_type": "markdown",
   "metadata": {},
   "source": [
    "## Statusmeldungen / Fehler im Detail\n",
    "_Vorstellung: Tom_  \n",
    "\n",
    "- Untersuchung welcher Status im Reqeust mitgesendet wurde\n",
    "- Analyse der Erfolgsrate der Requests\n",
    "- Detailliertere Betrachtung der Fehlgeschlagenen Requests (Requests die Status >= 400 haben)"
   ]
  },
  {
   "cell_type": "code",
   "execution_count": null,
   "metadata": {},
   "outputs": [],
   "source": [
    "status_counts = access_log['status'].value_counts()\n",
    "\n",
    "# Other Zusammenfassen!\n",
    "status_counts = filter_other(status_counts, 0.01)\n",
    "\n",
    "status_counts.plot(kind='pie', title='Status', ylabel='Status Code', autopct=autopct_format(status_counts))"
   ]
  },
  {
   "cell_type": "code",
   "execution_count": null,
   "metadata": {},
   "outputs": [],
   "source": [
    "error_counts = access_log['status'].map(lambda status: status >= 400).value_counts()\n",
    "\n",
    "error_counts.plot(kind='pie', title='Failed requests', ylabel='Error?', autopct=autopct_format(error_counts))"
   ]
  },
  {
   "attachments": {},
   "cell_type": "markdown",
   "metadata": {},
   "source": [
    "## Auswertung der Statuscode und Reqeust Analyse\n",
    "\n",
    "- Sehr viele Codes sind `200 OK` (92.5%)\n",
    "- Gringe Quote an fehlerhaften Requests (1.7%)\n",
    "\n",
    "## Detailliertere Betrachtung der Errors:\n",
    "- Analyse welche Fehler naufgetreten sind"
   ]
  },
  {
   "cell_type": "code",
   "execution_count": null,
   "metadata": {},
   "outputs": [],
   "source": [
    "\n",
    "error_logs = access_log.loc[access_log['status'] >= 400]\n",
    "\n",
    "error_code_counts = error_logs['status'].value_counts()\n",
    "\n",
    "error_code_counts = filter_other(error_code_counts, 0.01)\n",
    "\n",
    "error_code_counts.plot(kind='pie', title='Error', ylabel='Error Code', autopct=autopct_format(error_code_counts))"
   ]
  },
  {
   "attachments": {},
   "cell_type": "markdown",
   "metadata": {},
   "source": [
    "### Auswertung Fehlercodes\n",
    "- 404 (59.1%)   | Not Found\n",
    "- 499 (28.6%)   | Client Closed Request  \n",
    "  - nginx, wenn Client Verbindungschließt, wärhrend Anforderungen verarbeitet werden  \n",
    "  - Seite anscheintent zumindest Teilweise duch nginx umgesetzt.\n",
    "- 500 (8%)      | Internal Server Error\n",
    "- 403 (3.2% )   | Forbidden"
   ]
  },
  {
   "attachments": {},
   "cell_type": "markdown",
   "metadata": {},
   "source": [
    "## Korrelationsanalyse der Daten\n",
    "\n",
    "Im folgenden wird eine Korrelationsanalyse auf den Daten ausgeführt um zu prüfen, ob einzelne Features miteinander korrelieren.\n",
    "\n",
    "**Definition Korrelation:** Eine Korrelation beschreibt eine Beziehung zwischen zwei oder mehreren Merkmalen (Zusammenhang zweier Variablen)\n",
    "\n",
    "- **Anmerkung:** Aktuell liegen wenig Numerische Daten vor! -> Korrelation werden jedoch für numerische Daten zu berechnen\n",
    "- **Vorgehen:** Die nicht numerischen Daten die mit untersucht werden sollen in numerische Daten umwandeln.\n",
    "\n",
    "### Begründung Korrelationsanalyse\n",
    "\n",
    "- Untersuchung auf weitere Datenzusammenhänge die vorliegen könnten, aber noch nicht bekannt sind.\n",
    "- **Beispiel:** Gibt es einen Zusammenhang zwischen der Tageszeit und Post Reqeusts?"
   ]
  },
  {
   "cell_type": "code",
   "execution_count": null,
   "metadata": {},
   "outputs": [],
   "source": [
    "# Korrelationen auf den Daten ohne Ergänzung\n",
    "fig, ax = plt.subplots(figsize=(5,4))\n",
    "sns.heatmap(access_log.corr(numeric_only=True), annot=True, cmap=\"PuOr\", fmt=\".1f\", vmin=-1, vmax=1, linewidths=0.5)"
   ]
  },
  {
   "attachments": {},
   "cell_type": "markdown",
   "metadata": {},
   "source": [
    "## Ergänzung um weitere Features (Numerische Umwandlung)\n",
    "- Damit andere Features integriert werden können müssen sie entsprechend in Numerische Features umgewandelt werden können\n",
    "\n",
    "### Vorgehen\n",
    "\n",
    "- **Umwandlung des Method-Feature**\n",
    "  - ```pd.get_dummies()``` Methode um aus einem Feature entsprechend mehrere Numerische Spalten zu erzeugen\n",
    "  - Jeder Eintrag des Features erhällt eine eigene Spalte, in der das entsprechende Feature mit ```true``` und ```false``` gekennzeichnet ist.  \n",
    "<br>\n",
    "- **Umwandlung des IP Feature**\n",
    "  - IP String abbilden auf eine Numrerischen Wert durch `ip_to_int` Methode"
   ]
  },
  {
   "cell_type": "code",
   "execution_count": null,
   "metadata": {},
   "outputs": [],
   "source": [
    "# Ergänzen um die Dummies Einträge für Method\n",
    "methods_numeric = pd.get_dummies(access_log['method'])\n",
    "methods_numeric"
   ]
  },
  {
   "cell_type": "code",
   "execution_count": null,
   "metadata": {},
   "outputs": [],
   "source": [
    "# Anwendung der get_dummies() Methode auf unseren Datensatz für das Method Festrue | Kann nur einmal ausgeführt werden!\n",
    "methods_numeric = methods_numeric.drop(['CONNECT','E','G','OPTIONS','PROPFIND'], axis=1)\n",
    "\n",
    "access_log = access_log.join(methods_numeric)\n",
    "access_log.head()"
   ]
  },
  {
   "cell_type": "code",
   "execution_count": null,
   "metadata": {},
   "outputs": [],
   "source": [
    "# Umwandeln der IP Adresse in ein Numerischen Feature\n",
    "access_log['ip_n'] = pf.ip_to_int(access_log['ip'])"
   ]
  },
  {
   "cell_type": "code",
   "execution_count": null,
   "metadata": {},
   "outputs": [],
   "source": [
    "# Erneute Korrelationsanalyse\n",
    "sns.heatmap(access_log.corr(numeric_only=True), annot=True, cmap=\"PuOr\", fmt=\".1f\", vmin=-1, vmax=1, linewidths=0.5)"
   ]
  },
  {
   "attachments": {},
   "cell_type": "markdown",
   "metadata": {},
   "source": [
    "## Korrelationanalyse | Berücksichtigen der ID:\n",
    "- Da die ID nicht bei allen Requests vorliegt, kann diese Analyse nur auf einen geringeren Teil der Daten angewandt werden\n",
    "- Es werden nur die Reqeusts genommen, bei denen eine ID vorliegt\n",
    "- das ID Attribute muss hier zusätzlich noch zum Int gewandelt werden!\n",
    "\n",
    "Anschließend kann eine erneute Korrelationsanalyse durchgeführt werden, in der die Product ID berücktischtigt wird!"
   ]
  },
  {
   "cell_type": "code",
   "execution_count": null,
   "metadata": {},
   "outputs": [],
   "source": [
    "# Analyse der Korrelationen mit Product ID\n",
    "access_log_copy = access_log.copy()\n",
    "\n",
    "mask = access_log_copy[\"product_id\"].notnull()\n",
    "mask.value_counts()\n",
    "access_log_copy = access_log_copy.loc[mask]\n",
    "access_log_copy[\"product_id\"] = access_log_copy[\"product_id\"].astype(int)\n",
    "access_log_copy"
   ]
  },
  {
   "cell_type": "code",
   "execution_count": null,
   "metadata": {},
   "outputs": [],
   "source": [
    "sns.heatmap(access_log_copy.corr(numeric_only=True), annot=True, cmap=\"PuOr\", fmt=\".1f\", vmin=-1, vmax=1, linewidths=0.5)"
   ]
  },
  {
   "cell_type": "code",
   "execution_count": null,
   "metadata": {},
   "outputs": [],
   "source": [
    "sns.heatmap(access_log.corr(numeric_only=True), annot=True, cmap=\"PuOr\", fmt=\".1f\", vmin=-1, vmax=1, linewidths=0.5)"
   ]
  },
  {
   "attachments": {},
   "cell_type": "markdown",
   "metadata": {},
   "source": [
    "## Auswertung Korrelationsanalyse:\n",
    "\n",
    "**Korrelationmatrizen im Vergleich:**\n",
    "- Es gibt unterschiede zwischen den Korrelationsanalysen!  \n",
    "--> Dies lässt sich darauf zurückführen, dass bei der Analyse, die die Product ID beinhaltet eine deutlich geringere Datenmenge vorliegt!\n",
    "\n",
    "\n",
    "**Korrelationen ohne Product ID:**\n",
    "- Es konnten keine unerwarteten Korrelationen\n",
    "- Die Höchstwerte liegen vor zwischen `GET` und `POST` als auch `is_pc` und `is_mobile`  \n",
    "--> dies ist darauf zurückzuführen, da dies \"beinar\" binäre Features sind, bei denen nur sehr wenig andere Werte vorkommen.  \n",
    "--> Somit ist es häufig der der jeweils andere Wert!\n",
    "\n",
    "\n",
    "**Korrelationen mit Product ID:**\n",
    "- Auffällige Änderungen: Feature `Status` (es scheint leichte Korrelation zwischen Status und is_mobile zu geben)\n",
    "\n",
    "\n",
    "\n",
    "## Fazit:\n",
    "- Erster Grundüberblick über die Korrelationen gesammelt\n",
    "- Detailliertere Ausarbeitungen könnten folgen"
   ]
  }
 ],
 "metadata": {
  "kernelspec": {
   "display_name": "Python 3",
   "language": "python",
   "name": "python3"
  },
  "language_info": {
   "codemirror_mode": {
    "name": "ipython",
    "version": 3
   },
   "file_extension": ".py",
   "mimetype": "text/x-python",
   "name": "python",
   "nbconvert_exporter": "python",
   "pygments_lexer": "ipython3",
   "version": "3.11.3"
  },
  "vscode": {
   "interpreter": {
    "hash": "369f2c481f4da34e4445cda3fffd2e751bd1c4d706f27375911949ba6bb62e1c"
   }
  }
 },
 "nbformat": 4,
 "nbformat_minor": 0
}
