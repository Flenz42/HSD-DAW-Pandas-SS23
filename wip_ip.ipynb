{
 "cells": [
  {
   "cell_type": "code",
   "execution_count": null,
   "metadata": {},
   "outputs": [],
   "source": [
    "import pandas as pd\n",
    "import ipcalc\n",
    "import parse_functions as pf\n",
    "import matplotlib.pyplot as plt\n",
    "import seaborn as sns\n",
    "import numpy as np\n",
    "import re\n",
    "import user_agents as ua\n",
    "from helpers import filter_other, autopct_format\n",
    "import calendar\n",
    "import janitor\n",
    "import pytz"
   ]
  },
  {
   "cell_type": "code",
   "execution_count": null,
   "metadata": {},
   "outputs": [],
   "source": [
    "# Daten aus CSV laden\n",
    "filename = \"data/acces_log.csv\"\n",
    "access_log = pd.read_csv(filename)"
   ]
  },
  {
   "cell_type": "code",
   "execution_count": null,
   "metadata": {},
   "outputs": [],
   "source": [
    "city_ip4 = pd.read_csv('data/geo-city/GeoLite2-City-Blocks-IPv4.csv')\n",
    "city_ip4.head()\n",
    "locations = pd.read_csv('data/geo-city/GeoLite2-City-Locations-de.csv')\n",
    "locations.head()"
   ]
  },
  {
   "cell_type": "code",
   "execution_count": null,
   "metadata": {},
   "outputs": [],
   "source": [
    "access_log['ip_n'] = pf.ip_to_int(access_log['ip'])\n",
    "access_log.head()"
   ]
  },
  {
   "cell_type": "code",
   "execution_count": null,
   "metadata": {},
   "outputs": [],
   "source": [
    "city_ip4['ip_range'] = city_ip4['network'].map(lambda network: ipcalc.Network(network))\n",
    "city_ip4['ip_first'] = city_ip4['ip_range'].map(lambda ip: int(ip[0])).astype('int32')\n",
    "city_ip4['ip_last'] = city_ip4['ip_range'].map(lambda ip: int(ip[-1])).astype('int32')\n",
    "\n",
    "city_ip4.head()"
   ]
  },
  {
   "cell_type": "code",
   "execution_count": null,
   "metadata": {},
   "outputs": [],
   "source": [
    "ips = access_log['ip_n'].unique()\n",
    "ip_map = pd.DataFrame(ips, columns=['ip_n'])\n",
    "ip_map = ip_map.conditional_join(city_ip4, ('ip_n', 'ip_first', '>='), ('ip_n', 'ip_last', '<='))"
   ]
  },
  {
   "cell_type": "code",
   "execution_count": null,
   "metadata": {},
   "outputs": [],
   "source": [
    "# Zwischenstand Als CSV speichern\n",
    "filename = \"data/ip_mapping.csv\"\n",
    "ip_map.to_csv(filename, index=False)"
   ]
  },
  {
   "cell_type": "code",
   "execution_count": null,
   "metadata": {},
   "outputs": [],
   "source": [
    "# Laden aus CSV (dauert keine 6 Minuten)\n",
    "filename = \"data/ip_mapping.csv\"\n",
    "ip_map = pd.read_csv(filename)\n",
    "ip_map.head()"
   ]
  },
  {
   "cell_type": "code",
   "execution_count": null,
   "metadata": {},
   "outputs": [],
   "source": [
    "ip_map['geoname_id'] = ip_map['geoname_id'].astype('Int64')\n",
    "locations['geoname_id'] = locations['geoname_id'].astype('Int64')\n",
    "ip_locations = ip_map.merge(locations, how='left', on='geoname_id', suffixes=(None, '_i'))\n",
    "ip_locations.head()"
   ]
  },
  {
   "cell_type": "code",
   "execution_count": null,
   "metadata": {},
   "outputs": [],
   "source": [
    "access_log['ip_n'] = access_log['ip_n'].astype('int32')\n",
    "ip_locations['ip_n'] = ip_locations['ip_n'].astype('int32')\n",
    "log_with_locations = access_log.merge(ip_locations, how='left', on='ip_n', suffixes=(None, '_i'))\n",
    "log_with_locations.head()"
   ]
  },
  {
   "cell_type": "code",
   "execution_count": null,
   "metadata": {},
   "outputs": [],
   "source": [
    "country_counts = log_with_locations['country_name'].value_counts()\n",
    "\n",
    "country_counts_filtered = filter_other(country_counts, 0.01)\n",
    "\n",
    "country_counts_filtered.plot(kind='pie', title='Countries', ylabel='Country', autopct=autopct_format(country_counts_filtered))"
   ]
  }
 ],
 "metadata": {
  "kernelspec": {
   "display_name": ".venv",
   "language": "python",
   "name": "python3"
  },
  "language_info": {
   "codemirror_mode": {
    "name": "ipython",
    "version": 3
   },
   "file_extension": ".py",
   "mimetype": "text/x-python",
   "name": "python",
   "nbconvert_exporter": "python",
   "pygments_lexer": "ipython3",
   "version": "3.11.3"
  },
  "orig_nbformat": 4
 },
 "nbformat": 4,
 "nbformat_minor": 2
}
